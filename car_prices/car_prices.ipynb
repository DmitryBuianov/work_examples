{
 "cells": [
  {
   "cell_type": "markdown",
   "metadata": {},
   "source": [
    "# Определение стоимости автомобилей"
   ]
  },
  {
   "cell_type": "markdown",
   "metadata": {},
   "source": [
    "Сервис по продаже автомобилей разрабатывает приложение для привлечения новых клиентов, в котором можно быстро узнать рыночную стоимость своего автомобиля. Имеются исторические данные: технические характеристики, комплектации и цены автомобилей. Необходимо построить модель для определения стоимости.\n",
    "\n",
    "Заказчику важны:\n",
    "\n",
    "- качество предсказания;\n",
    "- скорость предсказания;\n",
    "- время обучения.\n",
    "\n",
    "Значение метрики RMSE для выбранной модели должно быть меньше 2500"
   ]
  },
  {
   "cell_type": "markdown",
   "metadata": {},
   "source": [
    "**План работы:**  \n",
    "1. Подготовка данных, в том числе:  \n",
    "    1.1 Загрузка и изучение файла с данными  \n",
    "    1.2 Исправление названий признаков  \n",
    "    1.3 Обработка пропущенных значений  \n",
    "    1.4 Избавление от дубликатов  \n",
    "    1.5 Избавление от не информативных признаков  \n",
    "    1.6 Избавление от выбивающихся численных значений  \n",
    "    1.7 Разбивка данных на выборки и отделение целевого признака  \n",
    "    1.8 Кодирование категориальных признаков  \n",
    "2. Обучение моделей, в том числе:  \n",
    "    2.1 Обучение и оценка качества модели градиентного бустинга  \n",
    "    2.2 Обучение и оценка качества модели случайного леса  \n",
    "    2.3 Обучение и оценка качества модели линейной регрессии  \n",
    "    2.4 Сравнение качества моделей  \n",
    "3. Анализ моделей, в том числе:  \n",
    "    3.1 Проверка качества лучшей модели на тестовой выборке  \n",
    "    3.2 Проверка лучшей модели на адекватность  \n",
    "4. Общий вывод"
   ]
  },
  {
   "cell_type": "markdown",
   "metadata": {},
   "source": [
    "**Описание данных:**  \n",
    "Целевой признак - цена автомобиля в евро `Price`.  \n",
    "\n",
    "Остальные признаки:  \n",
    "•\t`DateCrawled` — дата скачивания анкеты из базы  \n",
    "•\t`VehicleType` — тип автомобильного кузова  \n",
    "•\t`RegistrationYear` — год регистрации автомобиля  \n",
    "•\t`Gearbox` — тип коробки передач  \n",
    "•\t`Power` — мощность (л. с.)  \n",
    "•\t`Model` — модель автомобиля  \n",
    "•\t`Kilometer` — пробег (км)  \n",
    "•\t`RegistrationMonth` — месяц регистрации автомобиля  \n",
    "•\t`FuelType` — тип топлива  \n",
    "•\t`Brand` — марка автомобиля  \n",
    "•\t`Repaired` — была машина в ремонте или нет  \n",
    "•\t`DateCreated` — дата создания анкеты  \n",
    "•\t`NumberOfPictures` — количество фотографий автомобиля  \n",
    "•\t`PostalCode` — почтовый индекс владельца анкеты (пользователя)  \n",
    "•\t`LastSeen` — дата последней активности пользователя  "
   ]
  },
  {
   "cell_type": "markdown",
   "metadata": {},
   "source": [
    "## Подготовка данных"
   ]
  },
  {
   "cell_type": "code",
   "execution_count": 1,
   "metadata": {},
   "outputs": [],
   "source": [
    "import numpy as np\n",
    "import os\n",
    "import pandas as pd\n",
    "import time\n",
    "\n",
    "from lightgbm import LGBMRegressor\n",
    "\n",
    "import matplotlib.pyplot as plt\n",
    "\n",
    "import scipy.stats as st\n",
    "\n",
    "from sklearn.compose import make_column_transformer\n",
    "from sklearn.dummy import DummyRegressor\n",
    "from sklearn.ensemble import RandomForestRegressor\n",
    "from sklearn.linear_model import LinearRegression\n",
    "from sklearn.metrics import mean_squared_error\n",
    "from sklearn.model_selection import train_test_split\n",
    "from sklearn.preprocessing import OneHotEncoder\n",
    "from sklearn.preprocessing import OrdinalEncoder\n",
    "from sklearn.preprocessing import StandardScaler"
   ]
  },
  {
   "cell_type": "markdown",
   "metadata": {},
   "source": [
    "### Загрузка и изучение файла с данными"
   ]
  },
  {
   "cell_type": "markdown",
   "metadata": {},
   "source": [
    "Выведем первые 10 строк файла и изучим общую информацию"
   ]
  },
  {
   "cell_type": "code",
   "execution_count": 2,
   "metadata": {},
   "outputs": [],
   "source": [
    "pth1 = 'datasets/autos.csv'\n",
    "pth2 = '/datasets/autos.csv'\n",
    "\n",
    "if os.path.exists(pth1):\n",
    "    df = pd.read_csv(pth1, parse_dates=['DateCrawled','DateCreated','LastSeen'], dayfirst=True)\n",
    "elif os.path.exists(pth2):\n",
    "    df = pd.read_csv(pth2, parse_dates=['DateCrawled','DateCreated','LastSeen'], dayfirst=True)\n",
    "else:\n",
    "    print('Файл с данными не найден')"
   ]
  },
  {
   "cell_type": "code",
   "execution_count": 3,
   "metadata": {
    "scrolled": false
   },
   "outputs": [
    {
     "data": {
      "text/html": [
       "<div>\n",
       "<style scoped>\n",
       "    .dataframe tbody tr th:only-of-type {\n",
       "        vertical-align: middle;\n",
       "    }\n",
       "\n",
       "    .dataframe tbody tr th {\n",
       "        vertical-align: top;\n",
       "    }\n",
       "\n",
       "    .dataframe thead th {\n",
       "        text-align: right;\n",
       "    }\n",
       "</style>\n",
       "<table border=\"1\" class=\"dataframe\">\n",
       "  <thead>\n",
       "    <tr style=\"text-align: right;\">\n",
       "      <th></th>\n",
       "      <th>DateCrawled</th>\n",
       "      <th>Price</th>\n",
       "      <th>VehicleType</th>\n",
       "      <th>RegistrationYear</th>\n",
       "      <th>Gearbox</th>\n",
       "      <th>Power</th>\n",
       "      <th>Model</th>\n",
       "      <th>Kilometer</th>\n",
       "      <th>RegistrationMonth</th>\n",
       "      <th>FuelType</th>\n",
       "      <th>Brand</th>\n",
       "      <th>Repaired</th>\n",
       "      <th>DateCreated</th>\n",
       "      <th>NumberOfPictures</th>\n",
       "      <th>PostalCode</th>\n",
       "      <th>LastSeen</th>\n",
       "    </tr>\n",
       "  </thead>\n",
       "  <tbody>\n",
       "    <tr>\n",
       "      <th>0</th>\n",
       "      <td>2016-03-24 11:52:17</td>\n",
       "      <td>480</td>\n",
       "      <td>NaN</td>\n",
       "      <td>1993</td>\n",
       "      <td>manual</td>\n",
       "      <td>0</td>\n",
       "      <td>golf</td>\n",
       "      <td>150000</td>\n",
       "      <td>0</td>\n",
       "      <td>petrol</td>\n",
       "      <td>volkswagen</td>\n",
       "      <td>NaN</td>\n",
       "      <td>2016-03-24</td>\n",
       "      <td>0</td>\n",
       "      <td>70435</td>\n",
       "      <td>2016-04-07 03:16:57</td>\n",
       "    </tr>\n",
       "    <tr>\n",
       "      <th>1</th>\n",
       "      <td>2016-03-24 10:58:45</td>\n",
       "      <td>18300</td>\n",
       "      <td>coupe</td>\n",
       "      <td>2011</td>\n",
       "      <td>manual</td>\n",
       "      <td>190</td>\n",
       "      <td>NaN</td>\n",
       "      <td>125000</td>\n",
       "      <td>5</td>\n",
       "      <td>gasoline</td>\n",
       "      <td>audi</td>\n",
       "      <td>yes</td>\n",
       "      <td>2016-03-24</td>\n",
       "      <td>0</td>\n",
       "      <td>66954</td>\n",
       "      <td>2016-04-07 01:46:50</td>\n",
       "    </tr>\n",
       "    <tr>\n",
       "      <th>2</th>\n",
       "      <td>2016-03-14 12:52:21</td>\n",
       "      <td>9800</td>\n",
       "      <td>suv</td>\n",
       "      <td>2004</td>\n",
       "      <td>auto</td>\n",
       "      <td>163</td>\n",
       "      <td>grand</td>\n",
       "      <td>125000</td>\n",
       "      <td>8</td>\n",
       "      <td>gasoline</td>\n",
       "      <td>jeep</td>\n",
       "      <td>NaN</td>\n",
       "      <td>2016-03-14</td>\n",
       "      <td>0</td>\n",
       "      <td>90480</td>\n",
       "      <td>2016-04-05 12:47:46</td>\n",
       "    </tr>\n",
       "    <tr>\n",
       "      <th>3</th>\n",
       "      <td>2016-03-17 16:54:04</td>\n",
       "      <td>1500</td>\n",
       "      <td>small</td>\n",
       "      <td>2001</td>\n",
       "      <td>manual</td>\n",
       "      <td>75</td>\n",
       "      <td>golf</td>\n",
       "      <td>150000</td>\n",
       "      <td>6</td>\n",
       "      <td>petrol</td>\n",
       "      <td>volkswagen</td>\n",
       "      <td>no</td>\n",
       "      <td>2016-03-17</td>\n",
       "      <td>0</td>\n",
       "      <td>91074</td>\n",
       "      <td>2016-03-17 17:40:17</td>\n",
       "    </tr>\n",
       "    <tr>\n",
       "      <th>4</th>\n",
       "      <td>2016-03-31 17:25:20</td>\n",
       "      <td>3600</td>\n",
       "      <td>small</td>\n",
       "      <td>2008</td>\n",
       "      <td>manual</td>\n",
       "      <td>69</td>\n",
       "      <td>fabia</td>\n",
       "      <td>90000</td>\n",
       "      <td>7</td>\n",
       "      <td>gasoline</td>\n",
       "      <td>skoda</td>\n",
       "      <td>no</td>\n",
       "      <td>2016-03-31</td>\n",
       "      <td>0</td>\n",
       "      <td>60437</td>\n",
       "      <td>2016-04-06 10:17:21</td>\n",
       "    </tr>\n",
       "    <tr>\n",
       "      <th>5</th>\n",
       "      <td>2016-04-04 17:36:23</td>\n",
       "      <td>650</td>\n",
       "      <td>sedan</td>\n",
       "      <td>1995</td>\n",
       "      <td>manual</td>\n",
       "      <td>102</td>\n",
       "      <td>3er</td>\n",
       "      <td>150000</td>\n",
       "      <td>10</td>\n",
       "      <td>petrol</td>\n",
       "      <td>bmw</td>\n",
       "      <td>yes</td>\n",
       "      <td>2016-04-04</td>\n",
       "      <td>0</td>\n",
       "      <td>33775</td>\n",
       "      <td>2016-04-06 19:17:07</td>\n",
       "    </tr>\n",
       "    <tr>\n",
       "      <th>6</th>\n",
       "      <td>2016-04-01 20:48:51</td>\n",
       "      <td>2200</td>\n",
       "      <td>convertible</td>\n",
       "      <td>2004</td>\n",
       "      <td>manual</td>\n",
       "      <td>109</td>\n",
       "      <td>2_reihe</td>\n",
       "      <td>150000</td>\n",
       "      <td>8</td>\n",
       "      <td>petrol</td>\n",
       "      <td>peugeot</td>\n",
       "      <td>no</td>\n",
       "      <td>2016-04-01</td>\n",
       "      <td>0</td>\n",
       "      <td>67112</td>\n",
       "      <td>2016-04-05 18:18:39</td>\n",
       "    </tr>\n",
       "    <tr>\n",
       "      <th>7</th>\n",
       "      <td>2016-03-21 18:54:38</td>\n",
       "      <td>0</td>\n",
       "      <td>sedan</td>\n",
       "      <td>1980</td>\n",
       "      <td>manual</td>\n",
       "      <td>50</td>\n",
       "      <td>other</td>\n",
       "      <td>40000</td>\n",
       "      <td>7</td>\n",
       "      <td>petrol</td>\n",
       "      <td>volkswagen</td>\n",
       "      <td>no</td>\n",
       "      <td>2016-03-21</td>\n",
       "      <td>0</td>\n",
       "      <td>19348</td>\n",
       "      <td>2016-03-25 16:47:58</td>\n",
       "    </tr>\n",
       "    <tr>\n",
       "      <th>8</th>\n",
       "      <td>2016-04-04 23:42:13</td>\n",
       "      <td>14500</td>\n",
       "      <td>bus</td>\n",
       "      <td>2014</td>\n",
       "      <td>manual</td>\n",
       "      <td>125</td>\n",
       "      <td>c_max</td>\n",
       "      <td>30000</td>\n",
       "      <td>8</td>\n",
       "      <td>petrol</td>\n",
       "      <td>ford</td>\n",
       "      <td>NaN</td>\n",
       "      <td>2016-04-04</td>\n",
       "      <td>0</td>\n",
       "      <td>94505</td>\n",
       "      <td>2016-04-04 23:42:13</td>\n",
       "    </tr>\n",
       "    <tr>\n",
       "      <th>9</th>\n",
       "      <td>2016-03-17 10:53:50</td>\n",
       "      <td>999</td>\n",
       "      <td>small</td>\n",
       "      <td>1998</td>\n",
       "      <td>manual</td>\n",
       "      <td>101</td>\n",
       "      <td>golf</td>\n",
       "      <td>150000</td>\n",
       "      <td>0</td>\n",
       "      <td>NaN</td>\n",
       "      <td>volkswagen</td>\n",
       "      <td>NaN</td>\n",
       "      <td>2016-03-17</td>\n",
       "      <td>0</td>\n",
       "      <td>27472</td>\n",
       "      <td>2016-03-31 17:17:06</td>\n",
       "    </tr>\n",
       "  </tbody>\n",
       "</table>\n",
       "</div>"
      ],
      "text/plain": [
       "          DateCrawled  Price  VehicleType  RegistrationYear Gearbox  Power  \\\n",
       "0 2016-03-24 11:52:17    480          NaN              1993  manual      0   \n",
       "1 2016-03-24 10:58:45  18300        coupe              2011  manual    190   \n",
       "2 2016-03-14 12:52:21   9800          suv              2004    auto    163   \n",
       "3 2016-03-17 16:54:04   1500        small              2001  manual     75   \n",
       "4 2016-03-31 17:25:20   3600        small              2008  manual     69   \n",
       "5 2016-04-04 17:36:23    650        sedan              1995  manual    102   \n",
       "6 2016-04-01 20:48:51   2200  convertible              2004  manual    109   \n",
       "7 2016-03-21 18:54:38      0        sedan              1980  manual     50   \n",
       "8 2016-04-04 23:42:13  14500          bus              2014  manual    125   \n",
       "9 2016-03-17 10:53:50    999        small              1998  manual    101   \n",
       "\n",
       "     Model  Kilometer  RegistrationMonth  FuelType       Brand Repaired  \\\n",
       "0     golf     150000                  0    petrol  volkswagen      NaN   \n",
       "1      NaN     125000                  5  gasoline        audi      yes   \n",
       "2    grand     125000                  8  gasoline        jeep      NaN   \n",
       "3     golf     150000                  6    petrol  volkswagen       no   \n",
       "4    fabia      90000                  7  gasoline       skoda       no   \n",
       "5      3er     150000                 10    petrol         bmw      yes   \n",
       "6  2_reihe     150000                  8    petrol     peugeot       no   \n",
       "7    other      40000                  7    petrol  volkswagen       no   \n",
       "8    c_max      30000                  8    petrol        ford      NaN   \n",
       "9     golf     150000                  0       NaN  volkswagen      NaN   \n",
       "\n",
       "  DateCreated  NumberOfPictures  PostalCode            LastSeen  \n",
       "0  2016-03-24                 0       70435 2016-04-07 03:16:57  \n",
       "1  2016-03-24                 0       66954 2016-04-07 01:46:50  \n",
       "2  2016-03-14                 0       90480 2016-04-05 12:47:46  \n",
       "3  2016-03-17                 0       91074 2016-03-17 17:40:17  \n",
       "4  2016-03-31                 0       60437 2016-04-06 10:17:21  \n",
       "5  2016-04-04                 0       33775 2016-04-06 19:17:07  \n",
       "6  2016-04-01                 0       67112 2016-04-05 18:18:39  \n",
       "7  2016-03-21                 0       19348 2016-03-25 16:47:58  \n",
       "8  2016-04-04                 0       94505 2016-04-04 23:42:13  \n",
       "9  2016-03-17                 0       27472 2016-03-31 17:17:06  "
      ]
     },
     "execution_count": 3,
     "metadata": {},
     "output_type": "execute_result"
    }
   ],
   "source": [
    "df.head(10)"
   ]
  },
  {
   "cell_type": "code",
   "execution_count": 4,
   "metadata": {
    "scrolled": false
   },
   "outputs": [
    {
     "name": "stdout",
     "output_type": "stream",
     "text": [
      "<class 'pandas.core.frame.DataFrame'>\n",
      "RangeIndex: 354369 entries, 0 to 354368\n",
      "Data columns (total 16 columns):\n",
      " #   Column             Non-Null Count   Dtype         \n",
      "---  ------             --------------   -----         \n",
      " 0   DateCrawled        354369 non-null  datetime64[ns]\n",
      " 1   Price              354369 non-null  int64         \n",
      " 2   VehicleType        316879 non-null  object        \n",
      " 3   RegistrationYear   354369 non-null  int64         \n",
      " 4   Gearbox            334536 non-null  object        \n",
      " 5   Power              354369 non-null  int64         \n",
      " 6   Model              334664 non-null  object        \n",
      " 7   Kilometer          354369 non-null  int64         \n",
      " 8   RegistrationMonth  354369 non-null  int64         \n",
      " 9   FuelType           321474 non-null  object        \n",
      " 10  Brand              354369 non-null  object        \n",
      " 11  Repaired           283215 non-null  object        \n",
      " 12  DateCreated        354369 non-null  datetime64[ns]\n",
      " 13  NumberOfPictures   354369 non-null  int64         \n",
      " 14  PostalCode         354369 non-null  int64         \n",
      " 15  LastSeen           354369 non-null  datetime64[ns]\n",
      "dtypes: datetime64[ns](3), int64(7), object(6)\n",
      "memory usage: 43.3+ MB\n"
     ]
    }
   ],
   "source": [
    "df.info()"
   ]
  },
  {
   "cell_type": "markdown",
   "metadata": {},
   "source": [
    "Названия признаков следует привести к змеиному регистру.  \n",
    "`Repaired` можно привести к типу `bool`, но в итоге этот признак всё равно будет использоваться как категориальный.  \n",
    "На всякий случай проверим, что в данных нет существенного разброса по годам создания анкет."
   ]
  },
  {
   "cell_type": "code",
   "execution_count": 5,
   "metadata": {},
   "outputs": [
    {
     "data": {
      "text/plain": [
       "2016    354343\n",
       "2015        25\n",
       "2014         1\n",
       "Name: DateCreated, dtype: int64"
      ]
     },
     "execution_count": 5,
     "metadata": {},
     "output_type": "execute_result"
    }
   ],
   "source": [
    "pd.to_datetime(df['DateCreated'], errors='coerce').dt.year.value_counts()"
   ]
  },
  {
   "cell_type": "markdown",
   "metadata": {},
   "source": [
    "Явные пропуски:"
   ]
  },
  {
   "cell_type": "code",
   "execution_count": 6,
   "metadata": {},
   "outputs": [],
   "source": [
    "def pass_value_barh(df):\n",
    "    try:\n",
    "        (df.isna().sum()) \\\n",
    "        .to_frame() \\\n",
    "        .rename(columns = {0:'space'}) \\\n",
    "        .query('space > 0') \\\n",
    "        .sort_values(by = 'space', ascending = True) \\\n",
    "        .plot(kind= 'barh', figsize=(19,10), rot = -5, legend = False, fontsize = 16) \\\n",
    "        .set_title('Явные пропуски ', fontsize = 22, color = 'SteelBlue')\n",
    "        plt.ylabel('Признаки', fontsize = 18, color = 'SteelBlue')\n",
    "        plt.xlabel('Количество пропусков', fontsize = 18, color = 'SteelBlue')  \n",
    "    except:\n",
    "        print('Явных пропусков не осталось')"
   ]
  },
  {
   "cell_type": "code",
   "execution_count": 7,
   "metadata": {},
   "outputs": [
    {
     "data": {
      "image/png": "[encoded data removed]",
      "text/plain": [
       "<Figure size 1368x720 with 1 Axes>"
      ]
     },
     "metadata": {
      "needs_background": "light"
     },
     "output_type": "display_data"
    }
   ],
   "source": [
    "pass_value_barh(df)"
   ]
  },
  {
   "cell_type": "markdown",
   "metadata": {},
   "source": [
    "Для признаков `Price`, `RegistrationYear`, `Power`, `Kilometer`, `RegistrationMonth`, `PostalCode` возможны также неявные пропуски - значения `0`.  \n",
    "Проверим, не начинается ли счёт месяцев с нуля (тогда 12-й месяц будет отсутствовать)"
   ]
  },
  {
   "cell_type": "code",
   "execution_count": 8,
   "metadata": {},
   "outputs": [
    {
     "data": {
      "text/plain": [
       "0     37352\n",
       "1     23219\n",
       "2     21267\n",
       "3     34373\n",
       "4     29270\n",
       "5     29153\n",
       "6     31508\n",
       "7     27213\n",
       "8     22627\n",
       "9     23813\n",
       "10    26099\n",
       "11    24186\n",
       "12    24289\n",
       "Name: RegistrationMonth, dtype: int64"
      ]
     },
     "execution_count": 8,
     "metadata": {},
     "output_type": "execute_result"
    }
   ],
   "source": [
    "df['RegistrationMonth'].value_counts(sort=False)"
   ]
  },
  {
   "cell_type": "markdown",
   "metadata": {},
   "source": [
    "Найдём количество нулевых значений у признаков аналогично количеству явных пропусков"
   ]
  },
  {
   "cell_type": "code",
   "execution_count": 9,
   "metadata": {},
   "outputs": [],
   "source": [
    "def pass_value_zero_barh(df):\n",
    "    try:\n",
    "        ((df==0).sum()) \\\n",
    "        .to_frame() \\\n",
    "        .rename(columns = {0:'space'}) \\\n",
    "        .query('space > 0') \\\n",
    "        .sort_values(by = 'space', ascending = True) \\\n",
    "        .plot(kind= 'barh', figsize=(19,10), rot = -5, legend = False, fontsize = 16) \\\n",
    "        .set_title('Количество нулевых значений ', fontsize = 22, color = 'SteelBlue')\n",
    "        plt.ylabel('Признаки', fontsize = 18, color = 'SteelBlue')\n",
    "        plt.xlabel('Количество нулевых значений', fontsize = 18, color = 'SteelBlue')  \n",
    "    except:\n",
    "        print('Нулевых значений не осталось')"
   ]
  },
  {
   "cell_type": "code",
   "execution_count": 10,
   "metadata": {},
   "outputs": [
    {
     "data": {
      "image/png": "[encoded data removed]",
      "text/plain": [
       "<Figure size 1368x720 with 1 Axes>"
      ]
     },
     "metadata": {
      "needs_background": "light"
     },
     "output_type": "display_data"
    }
   ],
   "source": [
    "pass_value_zero_barh(df)"
   ]
  },
  {
   "cell_type": "markdown",
   "metadata": {},
   "source": [
    "Итого, у признаков `Power`, `RegistrationMonth` и `Price` есть неявные пропуски. Похоже, признак `NumberOfPictures` полностью состоит из нулей, и является не информативным:"
   ]
  },
  {
   "cell_type": "code",
   "execution_count": 11,
   "metadata": {},
   "outputs": [
    {
     "data": {
      "text/plain": [
       "0    354369\n",
       "Name: NumberOfPictures, dtype: int64"
      ]
     },
     "execution_count": 11,
     "metadata": {},
     "output_type": "execute_result"
    }
   ],
   "source": [
    "df['NumberOfPictures'].value_counts()"
   ]
  },
  {
   "cell_type": "markdown",
   "metadata": {},
   "source": [
    "### Исправление названий признаков"
   ]
  },
  {
   "cell_type": "markdown",
   "metadata": {},
   "source": [
    "Приведём названия признаков к змеиному регистру"
   ]
  },
  {
   "cell_type": "code",
   "execution_count": 12,
   "metadata": {},
   "outputs": [],
   "source": [
    "# заменяем заглавные буквы на строчные с подчёркиванием, убираем подчёркивания в начале названия\n",
    "def camel_to_snake(s):\n",
    "    return ''.join(['_'+c.lower() if c.isupper() else c for c in s]).lstrip('_')"
   ]
  },
  {
   "cell_type": "code",
   "execution_count": 13,
   "metadata": {},
   "outputs": [
    {
     "data": {
      "text/plain": [
       "Index(['date_crawled', 'price', 'vehicle_type', 'registration_year', 'gearbox',\n",
       "       'power', 'model', 'kilometer', 'registration_month', 'fuel_type',\n",
       "       'brand', 'repaired', 'date_created', 'number_of_pictures',\n",
       "       'postal_code', 'last_seen'],\n",
       "      dtype='object')"
      ]
     },
     "execution_count": 13,
     "metadata": {},
     "output_type": "execute_result"
    }
   ],
   "source": [
    "df = df.rename(camel_to_snake, axis='columns')\n",
    "df.columns"
   ]
  },
  {
   "cell_type": "markdown",
   "metadata": {},
   "source": [
    "### Обработка пропущенных значений"
   ]
  },
  {
   "cell_type": "markdown",
   "metadata": {},
   "source": [
    "Для признака `repaired` заполним пропуски значением `unknown`, так как мы не можем точно определить, была ли данная машина в ремонте. Аналогично поступим с `model`"
   ]
  },
  {
   "cell_type": "code",
   "execution_count": 14,
   "metadata": {},
   "outputs": [],
   "source": [
    "df['repaired'].fillna('unknown', inplace=True)\n",
    "df['model'].fillna('unknown', inplace=True)"
   ]
  },
  {
   "cell_type": "markdown",
   "metadata": {},
   "source": [
    "Зная `model`, мы можем правдоподобно заполнить пропуски в `gearbox`, `fuel_type` и `vehicle_type`. Оставшиеся значения также заменим на `unknown`."
   ]
  },
  {
   "cell_type": "code",
   "execution_count": 15,
   "metadata": {},
   "outputs": [],
   "source": [
    "for col in ['gearbox','fuel_type','vehicle_type']:\n",
    "    df[col] = df.groupby('model', sort=False)[col].apply(lambda x: x.ffill().bfill())\n",
    "    df[col].fillna('unknown', inplace=True)"
   ]
  },
  {
   "cell_type": "code",
   "execution_count": 16,
   "metadata": {},
   "outputs": [
    {
     "name": "stdout",
     "output_type": "stream",
     "text": [
      "Явных пропусков не осталось\n"
     ]
    },
    {
     "data": {
      "image/png": "[encoded data removed]",
      "text/plain": [
       "<Figure size 1368x720 with 1 Axes>"
      ]
     },
     "metadata": {
      "needs_background": "light"
     },
     "output_type": "display_data"
    }
   ],
   "source": [
    "pass_value_barh(df)"
   ]
  },
  {
   "cell_type": "markdown",
   "metadata": {},
   "source": [
    "Нулевые значения `power` заменим на медианные по данной модели `model` автомобиля и удалим оставшиеся пропуски:"
   ]
  },
  {
   "cell_type": "code",
   "execution_count": 17,
   "metadata": {},
   "outputs": [],
   "source": [
    "df['power'] = df['power'].replace(0, np.nan)\n",
    "df['power']=df['power'].fillna(df.groupby('model')['power'].transform('median'))\n",
    "df.drop(df[df['power'].isnull()].index, inplace=True)"
   ]
  },
  {
   "cell_type": "markdown",
   "metadata": {},
   "source": [
    "Поскольку месяц регистрации автомобиля - не информативный признак (в сравнении с годом регистрации), оставим его без изменений  \n",
    "Объекты с нулём в целевом признаке `price` составляют менее 3% выборки, так что просто удалим их."
   ]
  },
  {
   "cell_type": "code",
   "execution_count": 18,
   "metadata": {},
   "outputs": [],
   "source": [
    "df.drop(df[df['price']==0].index, inplace=True)"
   ]
  },
  {
   "cell_type": "code",
   "execution_count": 19,
   "metadata": {},
   "outputs": [
    {
     "data": {
      "image/png": "[encoded data removed]",
      "text/plain": [
       "<Figure size 1368x720 with 1 Axes>"
      ]
     },
     "metadata": {
      "needs_background": "light"
     },
     "output_type": "display_data"
    }
   ],
   "source": [
    "pass_value_zero_barh(df)"
   ]
  },
  {
   "cell_type": "markdown",
   "metadata": {},
   "source": [
    "### Избавление от дубликатов"
   ]
  },
  {
   "cell_type": "markdown",
   "metadata": {},
   "source": [
    "Найдём явные дубликаты"
   ]
  },
  {
   "cell_type": "code",
   "execution_count": 20,
   "metadata": {},
   "outputs": [
    {
     "data": {
      "text/plain": [
       "4"
      ]
     },
     "execution_count": 20,
     "metadata": {},
     "output_type": "execute_result"
    }
   ],
   "source": [
    "df.duplicated().sum()"
   ]
  },
  {
   "cell_type": "markdown",
   "metadata": {},
   "source": [
    "Удалим дублирующиеся объекты"
   ]
  },
  {
   "cell_type": "code",
   "execution_count": 21,
   "metadata": {},
   "outputs": [],
   "source": [
    "df.drop_duplicates(inplace=True)"
   ]
  },
  {
   "cell_type": "code",
   "execution_count": 22,
   "metadata": {},
   "outputs": [
    {
     "data": {
      "text/plain": [
       "0"
      ]
     },
     "execution_count": 22,
     "metadata": {},
     "output_type": "execute_result"
    }
   ],
   "source": [
    "df.duplicated().sum()"
   ]
  },
  {
   "cell_type": "markdown",
   "metadata": {},
   "source": [
    "### Избавление от не информативных признаков"
   ]
  },
  {
   "cell_type": "markdown",
   "metadata": {},
   "source": [
    "Скорее всего, такие признаки, как дата скачивания анкеты `date_crawled`, месяц регистрации `registration_month`, дата создания анкеты `date_created`, дата последней активности пользователя `last_seen` могут оказать лишь случайное влияние на цену автомобиля.  \n",
    "Хотя для торговли характерна сезонность, маловероятно, что она оказывает значительное влияние на цену такого дорогого товара, как машина. То, как долго продавался конкретный автомобиль по конкретной цене, было бы полезной информацией - но не ясно, корректно ли это вычислять по дате создания анкеты и дате последней активности пользователя.  \n",
    "Учитывать почтовый индекс владельца анкеты `postal_code` также представляется нерациональным. Хотя цена может отличаться в далёких друг от друга регионах, следует соотнести индексы с более крупной территориальной единицей - например, федеральным округом, - что требует отдельной работы.  \n",
    "Признак `number_of_pictures` для всех объектов равен нулю.  \n",
    "Удалим перечисленные признаки."
   ]
  },
  {
   "cell_type": "code",
   "execution_count": 23,
   "metadata": {},
   "outputs": [],
   "source": [
    "df.drop(labels=['date_crawled','registration_month','date_created','last_seen','postal_code','number_of_pictures'], \n",
    "        axis=1, inplace=True)"
   ]
  },
  {
   "cell_type": "code",
   "execution_count": 24,
   "metadata": {},
   "outputs": [
    {
     "name": "stdout",
     "output_type": "stream",
     "text": [
      "<class 'pandas.core.frame.DataFrame'>\n",
      "Int64Index: 343592 entries, 0 to 354368\n",
      "Data columns (total 10 columns):\n",
      " #   Column             Non-Null Count   Dtype  \n",
      "---  ------             --------------   -----  \n",
      " 0   price              343592 non-null  int64  \n",
      " 1   vehicle_type       343592 non-null  object \n",
      " 2   registration_year  343592 non-null  int64  \n",
      " 3   gearbox            343592 non-null  object \n",
      " 4   power              343592 non-null  float64\n",
      " 5   model              343592 non-null  object \n",
      " 6   kilometer          343592 non-null  int64  \n",
      " 7   fuel_type          343592 non-null  object \n",
      " 8   brand              343592 non-null  object \n",
      " 9   repaired           343592 non-null  object \n",
      "dtypes: float64(1), int64(3), object(6)\n",
      "memory usage: 28.8+ MB\n"
     ]
    }
   ],
   "source": [
    "df.info()"
   ]
  },
  {
   "cell_type": "markdown",
   "metadata": {},
   "source": [
    "### Избавление от выбивающихся численных значений"
   ]
  },
  {
   "cell_type": "markdown",
   "metadata": {},
   "source": [
    "Посмотрим гистограммы по всем признакам, чтобы увидеть, есть ли явно выбивающиеся значения"
   ]
  },
  {
   "cell_type": "code",
   "execution_count": 25,
   "metadata": {},
   "outputs": [
    {
     "data": {
      "image/png": "[encoded data removed]",
      "text/plain": [
       "<Figure size 1080x1080 with 4 Axes>"
      ]
     },
     "metadata": {
      "needs_background": "light"
     },
     "output_type": "display_data"
    }
   ],
   "source": [
    "df.hist(figsize=(15, 15));"
   ]
  },
  {
   "cell_type": "markdown",
   "metadata": {},
   "source": [
    "Мы видим, что в признаках `registration_year` и `power` присутствуют выбивающиеся значения. \n",
    "В случае `power` посмотрим, сколько их, отталкиваясь от границы (среднее +- 2 стандартных отклонения)"
   ]
  },
  {
   "cell_type": "code",
   "execution_count": 26,
   "metadata": {},
   "outputs": [
    {
     "name": "stdout",
     "output_type": "stream",
     "text": [
      "Для power\n",
      "Меньше mean-2*std, объектов: 0\n",
      "Больше mean+2*std, объектов: 465\n"
     ]
    }
   ],
   "source": [
    "print('Для power',)\n",
    "print('Меньше mean-2*std, объектов:',\n",
    "      df[df['power']<(df['power'].mean()-2*df['power'].std())]['power'].count())\n",
    "print('Больше mean+2*std, объектов:',\n",
    "      df[df['power']>(df['power'].mean()+2*df['power'].std())]['power'].count())"
   ]
  },
  {
   "cell_type": "markdown",
   "metadata": {},
   "source": [
    "Поскольку подобных объектов мало, просто удалим их."
   ]
  },
  {
   "cell_type": "code",
   "execution_count": 27,
   "metadata": {},
   "outputs": [],
   "source": [
    "df.drop(df[df['power']>(df['power'].mean()+2*df['power'].std())].index, inplace=True)"
   ]
  },
  {
   "cell_type": "markdown",
   "metadata": {},
   "source": [
    "В случае года регистрации автомобиля ясно, что он не может быть больше `date_created` (2016 год). Посмотрим на гистограмму поближе, чтобы оценить минимальный правдоподобный год регистрации. "
   ]
  },
  {
   "cell_type": "code",
   "execution_count": 28,
   "metadata": {},
   "outputs": [],
   "source": [
    "df.drop(df[df['registration_year']>2016].index, inplace=True)"
   ]
  },
  {
   "cell_type": "code",
   "execution_count": 29,
   "metadata": {},
   "outputs": [
    {
     "data": {
      "image/png": "[encoded data removed]",
      "text/plain": [
       "<Figure size 720x720 with 1 Axes>"
      ]
     },
     "metadata": {
      "needs_background": "light"
     },
     "output_type": "display_data"
    }
   ],
   "source": [
    "df[df['registration_year']>1920]['registration_year'].hist(figsize=(10, 10));"
   ]
  },
  {
   "cell_type": "markdown",
   "metadata": {},
   "source": [
    "Отсечём объекты с регистрацией раньше 1970 года"
   ]
  },
  {
   "cell_type": "code",
   "execution_count": 30,
   "metadata": {},
   "outputs": [],
   "source": [
    "df.drop(df[df['registration_year']<1970].index, inplace=True)"
   ]
  },
  {
   "cell_type": "markdown",
   "metadata": {},
   "source": [
    "Хотя мы уже удалили нули из целевого признака `price`, в нём остались аномально маленькие для цены автомобиля значения. Посмотрим, сколько объектов имеет цену ниже (среднее - стандартное отклонение), и если таких немного, удалим их."
   ]
  },
  {
   "cell_type": "code",
   "execution_count": 31,
   "metadata": {},
   "outputs": [
    {
     "name": "stdout",
     "output_type": "stream",
     "text": [
      "Для price\n",
      "Меньше mean-*std, объектов: 1921\n"
     ]
    }
   ],
   "source": [
    "print('Для price')\n",
    "print('Меньше mean-*std, объектов:',\n",
    "      df[df['price']<(df['price'].mean()-df['price'].std())]['price'].count())"
   ]
  },
  {
   "cell_type": "code",
   "execution_count": 32,
   "metadata": {},
   "outputs": [],
   "source": [
    "df.drop(df[df['price']<(df['price'].mean()-df['price'].std())].index, inplace=True)"
   ]
  },
  {
   "cell_type": "code",
   "execution_count": 33,
   "metadata": {},
   "outputs": [
    {
     "name": "stdout",
     "output_type": "stream",
     "text": [
      "Нулевых значений не осталось\n"
     ]
    },
    {
     "data": {
      "image/png": "[encoded data removed]",
      "text/plain": [
       "<Figure size 1368x720 with 1 Axes>"
      ]
     },
     "metadata": {
      "needs_background": "light"
     },
     "output_type": "display_data"
    }
   ],
   "source": [
    "pass_value_zero_barh(df)"
   ]
  },
  {
   "cell_type": "markdown",
   "metadata": {},
   "source": [
    "###  Разбивка данных на выборки и отделение целевого признака "
   ]
  },
  {
   "cell_type": "markdown",
   "metadata": {},
   "source": [
    "Отделим целевой признак (`target`) от остальных, необходимых для обучения моделей (`feature`), а затем разобьём данные на обучающую `train`, валидационную `validate` и тестовую `test` выборки в соотношении 3:1:1 соответственно"
   ]
  },
  {
   "cell_type": "code",
   "execution_count": 34,
   "metadata": {},
   "outputs": [],
   "source": [
    "target = df['price']\n",
    "features = df.drop(axis=1, labels = ['price'])"
   ]
  },
  {
   "cell_type": "code",
   "execution_count": 35,
   "metadata": {},
   "outputs": [],
   "source": [
    "features_train, features_validate, target_train, target_validate = train_test_split(\n",
    "    features, target, test_size=0.2, random_state=12345)\n",
    "features_train, features_test, target_train, target_test = train_test_split(\n",
    "    features_train, target_train, test_size=0.25, random_state=12345)"
   ]
  },
  {
   "cell_type": "markdown",
   "metadata": {},
   "source": [
    "Проверим корректность разбивки"
   ]
  },
  {
   "cell_type": "code",
   "execution_count": 36,
   "metadata": {},
   "outputs": [
    {
     "name": "stdout",
     "output_type": "stream",
     "text": [
      "Обучающая :\t (195777, 9) (195777,)\n",
      "Валидационная :\t (65259, 9) (65259,)\n",
      "Тестовая :\t (65259, 9) (65259,)\n"
     ]
    }
   ],
   "source": [
    "print('Обучающая :\\t',features_train.shape,target_train.shape)\n",
    "print('Валидационная :\\t',features_validate.shape,target_validate.shape)\n",
    "print('Тестовая :\\t',features_test.shape,target_test.shape)"
   ]
  },
  {
   "cell_type": "markdown",
   "metadata": {},
   "source": [
    "### Кодирование категориальных признаков"
   ]
  },
  {
   "cell_type": "markdown",
   "metadata": {},
   "source": [
    "Чтобы обучить такие модели, как случайный лес, нам необходимо, чтобы признаки приводились к численному типу `np.float32`. Воспользуемся порядковым кодированием категориальных признаков. Обучим кодировщик на обучающей выборке, затем трансформируем признаки во всех выборках"
   ]
  },
  {
   "cell_type": "code",
   "execution_count": 37,
   "metadata": {},
   "outputs": [],
   "source": [
    "cols = ['vehicle_type','gearbox','model','fuel_type','brand','repaired']\n",
    "encoder = OrdinalEncoder()\n",
    "pd.set_option('mode.chained_assignment', None) # убираем предупреждения о работе с копиями\n",
    "features_train.loc[:,cols] = encoder.fit_transform(features_train[cols]) # обучаем и трансформируем\n",
    "features_validate.loc[:,cols] = encoder.transform(features_validate[cols]) # только трансформируем"
   ]
  },
  {
   "cell_type": "code",
   "execution_count": 38,
   "metadata": {},
   "outputs": [
    {
     "data": {
      "text/html": [
       "<div>\n",
       "<style scoped>\n",
       "    .dataframe tbody tr th:only-of-type {\n",
       "        vertical-align: middle;\n",
       "    }\n",
       "\n",
       "    .dataframe tbody tr th {\n",
       "        vertical-align: top;\n",
       "    }\n",
       "\n",
       "    .dataframe thead th {\n",
       "        text-align: right;\n",
       "    }\n",
       "</style>\n",
       "<table border=\"1\" class=\"dataframe\">\n",
       "  <thead>\n",
       "    <tr style=\"text-align: right;\">\n",
       "      <th></th>\n",
       "      <th>vehicle_type</th>\n",
       "      <th>registration_year</th>\n",
       "      <th>gearbox</th>\n",
       "      <th>power</th>\n",
       "      <th>model</th>\n",
       "      <th>kilometer</th>\n",
       "      <th>fuel_type</th>\n",
       "      <th>brand</th>\n",
       "      <th>repaired</th>\n",
       "    </tr>\n",
       "  </thead>\n",
       "  <tbody>\n",
       "    <tr>\n",
       "      <th>115507</th>\n",
       "      <td>bus</td>\n",
       "      <td>2005</td>\n",
       "      <td>manual</td>\n",
       "      <td>75.0</td>\n",
       "      <td>other</td>\n",
       "      <td>70000</td>\n",
       "      <td>gasoline</td>\n",
       "      <td>suzuki</td>\n",
       "      <td>no</td>\n",
       "    </tr>\n",
       "    <tr>\n",
       "      <th>194933</th>\n",
       "      <td>suv</td>\n",
       "      <td>2006</td>\n",
       "      <td>manual</td>\n",
       "      <td>150.0</td>\n",
       "      <td>x_reihe</td>\n",
       "      <td>125000</td>\n",
       "      <td>gasoline</td>\n",
       "      <td>bmw</td>\n",
       "      <td>no</td>\n",
       "    </tr>\n",
       "    <tr>\n",
       "      <th>245680</th>\n",
       "      <td>small</td>\n",
       "      <td>1998</td>\n",
       "      <td>manual</td>\n",
       "      <td>101.0</td>\n",
       "      <td>golf</td>\n",
       "      <td>150000</td>\n",
       "      <td>petrol</td>\n",
       "      <td>volkswagen</td>\n",
       "      <td>no</td>\n",
       "    </tr>\n",
       "    <tr>\n",
       "      <th>190696</th>\n",
       "      <td>small</td>\n",
       "      <td>2008</td>\n",
       "      <td>manual</td>\n",
       "      <td>80.0</td>\n",
       "      <td>fiesta</td>\n",
       "      <td>90000</td>\n",
       "      <td>petrol</td>\n",
       "      <td>ford</td>\n",
       "      <td>no</td>\n",
       "    </tr>\n",
       "    <tr>\n",
       "      <th>153337</th>\n",
       "      <td>coupe</td>\n",
       "      <td>2000</td>\n",
       "      <td>manual</td>\n",
       "      <td>105.0</td>\n",
       "      <td>3er</td>\n",
       "      <td>150000</td>\n",
       "      <td>petrol</td>\n",
       "      <td>bmw</td>\n",
       "      <td>no</td>\n",
       "    </tr>\n",
       "    <tr>\n",
       "      <th>54026</th>\n",
       "      <td>sedan</td>\n",
       "      <td>2002</td>\n",
       "      <td>manual</td>\n",
       "      <td>82.0</td>\n",
       "      <td>a_klasse</td>\n",
       "      <td>150000</td>\n",
       "      <td>petrol</td>\n",
       "      <td>mercedes_benz</td>\n",
       "      <td>no</td>\n",
       "    </tr>\n",
       "    <tr>\n",
       "      <th>92130</th>\n",
       "      <td>sedan</td>\n",
       "      <td>2001</td>\n",
       "      <td>manual</td>\n",
       "      <td>97.0</td>\n",
       "      <td>corolla</td>\n",
       "      <td>150000</td>\n",
       "      <td>petrol</td>\n",
       "      <td>toyota</td>\n",
       "      <td>no</td>\n",
       "    </tr>\n",
       "    <tr>\n",
       "      <th>157551</th>\n",
       "      <td>sedan</td>\n",
       "      <td>2005</td>\n",
       "      <td>manual</td>\n",
       "      <td>140.0</td>\n",
       "      <td>golf</td>\n",
       "      <td>150000</td>\n",
       "      <td>gasoline</td>\n",
       "      <td>volkswagen</td>\n",
       "      <td>no</td>\n",
       "    </tr>\n",
       "    <tr>\n",
       "      <th>151258</th>\n",
       "      <td>small</td>\n",
       "      <td>1999</td>\n",
       "      <td>manual</td>\n",
       "      <td>50.0</td>\n",
       "      <td>polo</td>\n",
       "      <td>150000</td>\n",
       "      <td>petrol</td>\n",
       "      <td>volkswagen</td>\n",
       "      <td>no</td>\n",
       "    </tr>\n",
       "    <tr>\n",
       "      <th>38109</th>\n",
       "      <td>wagon</td>\n",
       "      <td>2011</td>\n",
       "      <td>manual</td>\n",
       "      <td>110.0</td>\n",
       "      <td>octavia</td>\n",
       "      <td>125000</td>\n",
       "      <td>gasoline</td>\n",
       "      <td>skoda</td>\n",
       "      <td>no</td>\n",
       "    </tr>\n",
       "  </tbody>\n",
       "</table>\n",
       "</div>"
      ],
      "text/plain": [
       "       vehicle_type  registration_year gearbox  power     model  kilometer  \\\n",
       "115507          bus               2005  manual   75.0     other      70000   \n",
       "194933          suv               2006  manual  150.0   x_reihe     125000   \n",
       "245680        small               1998  manual  101.0      golf     150000   \n",
       "190696        small               2008  manual   80.0    fiesta      90000   \n",
       "153337        coupe               2000  manual  105.0       3er     150000   \n",
       "54026         sedan               2002  manual   82.0  a_klasse     150000   \n",
       "92130         sedan               2001  manual   97.0   corolla     150000   \n",
       "157551        sedan               2005  manual  140.0      golf     150000   \n",
       "151258        small               1999  manual   50.0      polo     150000   \n",
       "38109         wagon               2011  manual  110.0   octavia     125000   \n",
       "\n",
       "       fuel_type          brand repaired  \n",
       "115507  gasoline         suzuki       no  \n",
       "194933  gasoline            bmw       no  \n",
       "245680    petrol     volkswagen       no  \n",
       "190696    petrol           ford       no  \n",
       "153337    petrol            bmw       no  \n",
       "54026     petrol  mercedes_benz       no  \n",
       "92130     petrol         toyota       no  \n",
       "157551  gasoline     volkswagen       no  \n",
       "151258    petrol     volkswagen       no  \n",
       "38109   gasoline          skoda       no  "
      ]
     },
     "execution_count": 38,
     "metadata": {},
     "output_type": "execute_result"
    }
   ],
   "source": [
    "features_test.head(10)"
   ]
  },
  {
   "cell_type": "markdown",
   "metadata": {},
   "source": [
    "**Промежуточный вывод**  \n",
    "Явные пропуски были обнаружены почти в 20% объектов. В первую очередь, отсутствовала информация о том, ремонтировалась машина или нет; меньше пропусков встречалось в технических характеристиках: тип коробки передач, тип топлива и тип кузова. Вполне возможно, что эти подробности отсутствовали в анкетах - люди могли ограничиться маркой и моделью. Действительно, марка автомобиля указана всегда. Однако в ~5,6% объектов имелись пропуски в модели. Стоит уточнить, не возник ли сбой при выгрузке данных.  \n",
    "Мы заменили пропуски в типе коробки передач, топлива и кузова самыми часто встречающимися для данных моделей. Пропуски в моделях и информации о ремонте заменили на `unknown`.  \n",
    "В признаках мощности, месяца регистрации и цены присутствовали неявные пропуски - нулевые значения. Поскольку цена - целевой признак, соответствующие объекты мы удалили, также как объекты с аномально маленькой ценой (всего 3% от выборки). Мощность вычислили как медианную для данной модели автомобиля.  \n",
    "Количество фотографий для всех объектов равно нулю - вероятно, произошла ошибка при формировании или выгрузке данных. Мы исключили этот признак как неинформативный, наряду с датой скачивания анкеты, месяцем регистрации автомобиля, датой создания анкеты и датой последней активности пользователя. Если модель и обнаружила бы здесь связь с ценой, это произошло бы случайно.  \n",
    "Мы исключили почтовый индекс владельца анкеты. Хотя цена может отличаться в далёких друг от друга регионах, следует соотнести индексы с более крупной территориальной единицей. В дальнейшем можно проделать такую работу.  \n",
    "В признаках мощности, года регистрации и цены автомобиля найдены аномальные значения. Поскольку подобных объектов сильно меньше 1%, мы просто отбросили их. Для мощности мы взяли границу (среднее +- 2 стандартных отклонения); для года - с 1970 по 2016 (год создания большинства анкет); для цены - меньше (среднего - стандартное отклонение).  \n",
    "Мы отделили целевой признак `price` и разбили данные на обучающую, валидационную и тестовую выборки в соотношении 3:1:1 соответственно. Затем преобразовали категориальные признаки порядковым кодированием, чтобы использовать их для обучения моделей градиентного бустинга и случайного леса"
   ]
  },
  {
   "cell_type": "markdown",
   "metadata": {},
   "source": [
    "## Обучение моделей"
   ]
  },
  {
   "cell_type": "markdown",
   "metadata": {},
   "source": [
    "### Обучение и оценка качества модели градиентного бустинга"
   ]
  },
  {
   "cell_type": "markdown",
   "metadata": {},
   "source": [
    "Для обучения модели градиентного бустинга мы воспользуемся фреймворком `LightGBM`. При обучении переберём гиперпараметры: максимальная глубина дерева, количество итераций (estimators). Для оценки качества применим метрику RMSE (среднеквадратичная ошибка)."
   ]
  },
  {
   "cell_type": "code",
   "execution_count": 39,
   "metadata": {
    "scrolled": true
   },
   "outputs": [
    {
     "name": "stdout",
     "output_type": "stream",
     "text": [
      "[LightGBM] [Debug] Dataset::GetMultiBinFromSparseFeatures: sparse rate 0.760539\n",
      "[LightGBM] [Debug] Dataset::GetMultiBinFromAllFeatures: sparse rate 0.180382\n",
      "[LightGBM] [Debug] init for col-wise cost 0.287327 seconds, init for row-wise cost 0.195223 seconds\n",
      "[LightGBM] [Warning] Auto-choosing row-wise multi-threading, the overhead of testing was 0.294423 seconds.\n",
      "You can set `force_row_wise=true` to remove the overhead.\n",
      "And if memory is not enough, you can set `force_col_wise=true`.\n",
      "[LightGBM] [Debug] Using Dense Multi-Val Bin\n",
      "[LightGBM] [Info] Total Bins 583\n",
      "[LightGBM] [Info] Number of data points in the train set: 195777, number of used features: 9\n",
      "[LightGBM] [Info] Start training from score 4627.612855\n",
      "[LightGBM] [Debug] Trained a tree with leaves = 16 and depth = 4\n",
      "[LightGBM] [Debug] Trained a tree with leaves = 16 and depth = 4\n",
      "[LightGBM] [Debug] Trained a tree with leaves = 16 and depth = 4\n",
      "[LightGBM] [Debug] Trained a tree with leaves = 16 and depth = 4\n",
      "[LightGBM] [Debug] Trained a tree with leaves = 16 and depth = 4\n",
      "[LightGBM] [Debug] Trained a tree with leaves = 16 and depth = 4\n",
      "[LightGBM] [Debug] Trained a tree with leaves = 16 and depth = 4\n",
      "[LightGBM] [Debug] Trained a tree with leaves = 16 and depth = 4\n",
      "[LightGBM] [Debug] Trained a tree with leaves = 16 and depth = 4\n",
      "[LightGBM] [Debug] Trained a tree with leaves = 16 and depth = 4\n",
      "[LightGBM] [Debug] Trained a tree with leaves = 16 and depth = 4\n",
      "[LightGBM] [Debug] Trained a tree with leaves = 16 and depth = 4\n",
      "[LightGBM] [Debug] Trained a tree with leaves = 16 and depth = 4\n",
      "[LightGBM] [Debug] Trained a tree with leaves = 16 and depth = 4\n",
      "[LightGBM] [Debug] Trained a tree with leaves = 16 and depth = 4\n",
      "[LightGBM] [Debug] Trained a tree with leaves = 16 and depth = 4\n",
      "[LightGBM] [Debug] Trained a tree with leaves = 16 and depth = 4\n",
      "[LightGBM] [Debug] Trained a tree with leaves = 16 and depth = 4\n",
      "[LightGBM] [Debug] Trained a tree with leaves = 16 and depth = 4\n",
      "[LightGBM] [Debug] Trained a tree with leaves = 16 and depth = 4\n",
      "[LightGBM] [Debug] Trained a tree with leaves = 16 and depth = 4\n",
      "[LightGBM] [Debug] Trained a tree with leaves = 16 and depth = 4\n",
      "[LightGBM] [Debug] Trained a tree with leaves = 16 and depth = 4\n",
      "[LightGBM] [Debug] Trained a tree with leaves = 16 and depth = 4\n",
      "[LightGBM] [Debug] Trained a tree with leaves = 16 and depth = 4\n",
      "[LightGBM] [Debug] Trained a tree with leaves = 16 and depth = 4\n",
      "[LightGBM] [Debug] Trained a tree with leaves = 16 and depth = 4\n",
      "[LightGBM] [Debug] Trained a tree with leaves = 16 and depth = 4\n",
      "[LightGBM] [Debug] Trained a tree with leaves = 16 and depth = 4\n",
      "[LightGBM] [Debug] Trained a tree with leaves = 16 and depth = 4\n",
      "[LightGBM] [Debug] Trained a tree with leaves = 16 and depth = 4\n",
      "[LightGBM] [Debug] Trained a tree with leaves = 16 and depth = 4\n",
      "[LightGBM] [Debug] Trained a tree with leaves = 16 and depth = 4\n",
      "[LightGBM] [Debug] Trained a tree with leaves = 16 and depth = 4\n",
      "[LightGBM] [Debug] Trained a tree with leaves = 16 and depth = 4\n",
      "[LightGBM] [Debug] Trained a tree with leaves = 16 and depth = 4\n",
      "[LightGBM] [Debug] Trained a tree with leaves = 16 and depth = 4\n",
      "[LightGBM] [Debug] Trained a tree with leaves = 16 and depth = 4\n",
      "[LightGBM] [Debug] Trained a tree with leaves = 16 and depth = 4\n",
      "[LightGBM] [Debug] Trained a tree with leaves = 16 and depth = 4\n",
      "[LightGBM] [Debug] Trained a tree with leaves = 16 and depth = 4\n",
      "[LightGBM] [Debug] Trained a tree with leaves = 16 and depth = 4\n",
      "[LightGBM] [Debug] Trained a tree with leaves = 16 and depth = 4\n",
      "[LightGBM] [Debug] Trained a tree with leaves = 16 and depth = 4\n",
      "[LightGBM] [Debug] Trained a tree with leaves = 16 and depth = 4\n",
      "[LightGBM] [Debug] Trained a tree with leaves = 16 and depth = 4\n",
      "[LightGBM] [Debug] Trained a tree with leaves = 16 and depth = 4\n",
      "[LightGBM] [Debug] Trained a tree with leaves = 16 and depth = 4\n",
      "[LightGBM] [Debug] Trained a tree with leaves = 16 and depth = 4\n",
      "[LightGBM] [Debug] Trained a tree with leaves = 16 and depth = 4\n",
      "[LightGBM] [Debug] Trained a tree with leaves = 16 and depth = 4\n",
      "[LightGBM] [Debug] Trained a tree with leaves = 16 and depth = 4\n",
      "[LightGBM] [Debug] Trained a tree with leaves = 16 and depth = 4\n",
      "[LightGBM] [Debug] Trained a tree with leaves = 16 and depth = 4\n",
      "[LightGBM] [Debug] Trained a tree with leaves = 16 and depth = 4\n",
      "[LightGBM] [Debug] Trained a tree with leaves = 16 and depth = 4\n",
      "[LightGBM] [Debug] Trained a tree with leaves = 16 and depth = 4\n",
      "[LightGBM] [Debug] Trained a tree with leaves = 16 and depth = 4\n",
      "[LightGBM] [Debug] Trained a tree with leaves = 16 and depth = 4\n",
      "[LightGBM] [Debug] Trained a tree with leaves = 16 and depth = 4\n",
      "[LightGBM] [Debug] Trained a tree with leaves = 16 and depth = 4\n",
      "[LightGBM] [Debug] Trained a tree with leaves = 16 and depth = 4\n",
      "[LightGBM] [Debug] Trained a tree with leaves = 16 and depth = 4\n",
      "[LightGBM] [Debug] Trained a tree with leaves = 16 and depth = 4\n",
      "[LightGBM] [Warning] No further splits with positive gain, best gain: -inf\n",
      "[LightGBM] [Debug] Trained a tree with leaves = 15 and depth = 4\n",
      "[LightGBM] [Debug] Trained a tree with leaves = 16 and depth = 4\n",
      "[LightGBM] [Warning] No further splits with positive gain, best gain: -inf\n",
      "[LightGBM] [Debug] Trained a tree with leaves = 15 and depth = 4\n",
      "[LightGBM] [Debug] Trained a tree with leaves = 16 and depth = 4\n",
      "[LightGBM] [Debug] Trained a tree with leaves = 16 and depth = 4\n",
      "[LightGBM] [Debug] Trained a tree with leaves = 16 and depth = 4\n",
      "[LightGBM] [Debug] Trained a tree with leaves = 16 and depth = 4\n",
      "[LightGBM] [Debug] Trained a tree with leaves = 16 and depth = 4\n",
      "[LightGBM] [Debug] Trained a tree with leaves = 16 and depth = 4\n",
      "[LightGBM] [Debug] Trained a tree with leaves = 16 and depth = 4\n",
      "[LightGBM] [Warning] No further splits with positive gain, best gain: -inf\n",
      "[LightGBM] [Debug] Trained a tree with leaves = 15 and depth = 4\n",
      "[LightGBM] [Debug] Trained a tree with leaves = 16 and depth = 4\n",
      "[LightGBM] [Warning] No further splits with positive gain, best gain: -inf\n",
      "[LightGBM] [Debug] Trained a tree with leaves = 15 and depth = 4\n",
      "[LightGBM] [Debug] Trained a tree with leaves = 16 and depth = 4\n",
      "[LightGBM] [Debug] Trained a tree with leaves = 16 and depth = 4\n",
      "[LightGBM] [Debug] Trained a tree with leaves = 16 and depth = 4\n",
      "[LightGBM] [Warning] No further splits with positive gain, best gain: -inf\n",
      "[LightGBM] [Debug] Trained a tree with leaves = 15 and depth = 4\n",
      "[LightGBM] [Debug] Trained a tree with leaves = 16 and depth = 4\n",
      "[LightGBM] [Warning] No further splits with positive gain, best gain: -inf\n",
      "[LightGBM] [Debug] Trained a tree with leaves = 15 and depth = 4\n",
      "[LightGBM] [Debug] Trained a tree with leaves = 16 and depth = 4\n",
      "[LightGBM] [Debug] Trained a tree with leaves = 16 and depth = 4\n",
      "[LightGBM] [Debug] Trained a tree with leaves = 16 and depth = 4\n",
      "[LightGBM] [Warning] No further splits with positive gain, best gain: -inf\n",
      "[LightGBM] [Debug] Trained a tree with leaves = 14 and depth = 4\n",
      "[LightGBM] [Warning] No further splits with positive gain, best gain: -inf\n",
      "[LightGBM] [Debug] Trained a tree with leaves = 15 and depth = 4\n",
      "[LightGBM] [Debug] Trained a tree with leaves = 16 and depth = 4\n",
      "[LightGBM] [Debug] Trained a tree with leaves = 16 and depth = 4\n",
      "[LightGBM] [Debug] Trained a tree with leaves = 16 and depth = 4\n",
      "[LightGBM] [Warning] No further splits with positive gain, best gain: -inf\n",
      "[LightGBM] [Debug] Trained a tree with leaves = 14 and depth = 4\n",
      "[LightGBM] [Debug] Trained a tree with leaves = 16 and depth = 4\n",
      "[LightGBM] [Debug] Trained a tree with leaves = 16 and depth = 4\n",
      "[LightGBM] [Warning] No further splits with positive gain, best gain: -inf\n",
      "[LightGBM] [Debug] Trained a tree with leaves = 15 and depth = 4\n",
      "[LightGBM] [Debug] Trained a tree with leaves = 16 and depth = 4\n",
      "[LightGBM] [Debug] Trained a tree with leaves = 16 and depth = 4\n",
      "[LightGBM] [Debug] Trained a tree with leaves = 16 and depth = 4\n",
      "[LightGBM] [Warning] No further splits with positive gain, best gain: -inf\n",
      "[LightGBM] [Debug] Trained a tree with leaves = 13 and depth = 4\n",
      "[LightGBM] [Warning] No further splits with positive gain, best gain: -inf\n",
      "[LightGBM] [Debug] Trained a tree with leaves = 15 and depth = 4\n",
      "[LightGBM] [Debug] Dataset::GetMultiBinFromSparseFeatures: sparse rate 0.760539\n",
      "[LightGBM] [Debug] Dataset::GetMultiBinFromAllFeatures: sparse rate 0.180382\n",
      "[LightGBM] [Debug] init for col-wise cost 0.092602 seconds, init for row-wise cost 0.004155 seconds\n",
      "[LightGBM] [Warning] Auto-choosing row-wise multi-threading, the overhead of testing was 0.094741 seconds.\n",
      "You can set `force_row_wise=true` to remove the overhead.\n",
      "And if memory is not enough, you can set `force_col_wise=true`.\n",
      "[LightGBM] [Debug] Using Dense Multi-Val Bin\n",
      "[LightGBM] [Info] Total Bins 583\n",
      "[LightGBM] [Info] Number of data points in the train set: 195777, number of used features: 9\n",
      "[LightGBM] [Info] Start training from score 4627.612855\n",
      "[LightGBM] [Debug] Trained a tree with leaves = 16 and depth = 4\n",
      "[LightGBM] [Debug] Trained a tree with leaves = 16 and depth = 4\n",
      "[LightGBM] [Debug] Trained a tree with leaves = 16 and depth = 4\n"
     ]
    },
    {
     "name": "stdout",
     "output_type": "stream",
     "text": [
      "[LightGBM] [Debug] Trained a tree with leaves = 16 and depth = 4\n",
      "[LightGBM] [Debug] Trained a tree with leaves = 16 and depth = 4\n",
      "[LightGBM] [Debug] Trained a tree with leaves = 16 and depth = 4\n",
      "[LightGBM] [Debug] Trained a tree with leaves = 16 and depth = 4\n",
      "[LightGBM] [Debug] Trained a tree with leaves = 16 and depth = 4\n",
      "[LightGBM] [Debug] Trained a tree with leaves = 16 and depth = 4\n",
      "[LightGBM] [Debug] Trained a tree with leaves = 16 and depth = 4\n",
      "[LightGBM] [Debug] Trained a tree with leaves = 16 and depth = 4\n",
      "[LightGBM] [Debug] Trained a tree with leaves = 16 and depth = 4\n",
      "[LightGBM] [Debug] Trained a tree with leaves = 16 and depth = 4\n",
      "[LightGBM] [Debug] Trained a tree with leaves = 16 and depth = 4\n",
      "[LightGBM] [Debug] Trained a tree with leaves = 16 and depth = 4\n",
      "[LightGBM] [Debug] Trained a tree with leaves = 16 and depth = 4\n",
      "[LightGBM] [Debug] Trained a tree with leaves = 16 and depth = 4\n",
      "[LightGBM] [Debug] Trained a tree with leaves = 16 and depth = 4\n",
      "[LightGBM] [Debug] Trained a tree with leaves = 16 and depth = 4\n",
      "[LightGBM] [Debug] Trained a tree with leaves = 16 and depth = 4\n",
      "[LightGBM] [Debug] Trained a tree with leaves = 16 and depth = 4\n",
      "[LightGBM] [Debug] Trained a tree with leaves = 16 and depth = 4\n",
      "[LightGBM] [Debug] Trained a tree with leaves = 16 and depth = 4\n",
      "[LightGBM] [Debug] Trained a tree with leaves = 16 and depth = 4\n",
      "[LightGBM] [Debug] Trained a tree with leaves = 16 and depth = 4\n",
      "[LightGBM] [Debug] Trained a tree with leaves = 16 and depth = 4\n",
      "[LightGBM] [Debug] Trained a tree with leaves = 16 and depth = 4\n",
      "[LightGBM] [Debug] Trained a tree with leaves = 16 and depth = 4\n",
      "[LightGBM] [Debug] Trained a tree with leaves = 16 and depth = 4\n",
      "[LightGBM] [Debug] Trained a tree with leaves = 16 and depth = 4\n",
      "[LightGBM] [Debug] Trained a tree with leaves = 16 and depth = 4\n",
      "[LightGBM] [Debug] Trained a tree with leaves = 16 and depth = 4\n",
      "[LightGBM] [Debug] Trained a tree with leaves = 16 and depth = 4\n",
      "[LightGBM] [Debug] Trained a tree with leaves = 16 and depth = 4\n",
      "[LightGBM] [Debug] Trained a tree with leaves = 16 and depth = 4\n",
      "[LightGBM] [Debug] Trained a tree with leaves = 16 and depth = 4\n",
      "[LightGBM] [Debug] Trained a tree with leaves = 16 and depth = 4\n",
      "[LightGBM] [Debug] Trained a tree with leaves = 16 and depth = 4\n",
      "[LightGBM] [Debug] Trained a tree with leaves = 16 and depth = 4\n",
      "[LightGBM] [Debug] Trained a tree with leaves = 16 and depth = 4\n",
      "[LightGBM] [Debug] Trained a tree with leaves = 16 and depth = 4\n",
      "[LightGBM] [Debug] Trained a tree with leaves = 16 and depth = 4\n",
      "[LightGBM] [Debug] Trained a tree with leaves = 16 and depth = 4\n",
      "[LightGBM] [Debug] Trained a tree with leaves = 16 and depth = 4\n",
      "[LightGBM] [Debug] Trained a tree with leaves = 16 and depth = 4\n",
      "[LightGBM] [Debug] Trained a tree with leaves = 16 and depth = 4\n",
      "[LightGBM] [Debug] Trained a tree with leaves = 16 and depth = 4\n",
      "[LightGBM] [Debug] Trained a tree with leaves = 16 and depth = 4\n",
      "[LightGBM] [Debug] Trained a tree with leaves = 16 and depth = 4\n",
      "[LightGBM] [Debug] Trained a tree with leaves = 16 and depth = 4\n",
      "[LightGBM] [Debug] Trained a tree with leaves = 16 and depth = 4\n",
      "[LightGBM] [Debug] Trained a tree with leaves = 16 and depth = 4\n",
      "[LightGBM] [Debug] Trained a tree with leaves = 16 and depth = 4\n",
      "[LightGBM] [Debug] Trained a tree with leaves = 16 and depth = 4\n",
      "[LightGBM] [Debug] Trained a tree with leaves = 16 and depth = 4\n",
      "[LightGBM] [Debug] Trained a tree with leaves = 16 and depth = 4\n",
      "[LightGBM] [Debug] Trained a tree with leaves = 16 and depth = 4\n",
      "[LightGBM] [Debug] Trained a tree with leaves = 16 and depth = 4\n",
      "[LightGBM] [Debug] Trained a tree with leaves = 16 and depth = 4\n",
      "[LightGBM] [Debug] Trained a tree with leaves = 16 and depth = 4\n",
      "[LightGBM] [Debug] Trained a tree with leaves = 16 and depth = 4\n",
      "[LightGBM] [Debug] Trained a tree with leaves = 16 and depth = 4\n",
      "[LightGBM] [Debug] Trained a tree with leaves = 16 and depth = 4\n",
      "[LightGBM] [Debug] Trained a tree with leaves = 16 and depth = 4\n",
      "[LightGBM] [Warning] No further splits with positive gain, best gain: -inf\n",
      "[LightGBM] [Debug] Trained a tree with leaves = 15 and depth = 4\n",
      "[LightGBM] [Debug] Trained a tree with leaves = 16 and depth = 4\n",
      "[LightGBM] [Warning] No further splits with positive gain, best gain: -inf\n",
      "[LightGBM] [Debug] Trained a tree with leaves = 15 and depth = 4\n",
      "[LightGBM] [Debug] Trained a tree with leaves = 16 and depth = 4\n",
      "[LightGBM] [Debug] Trained a tree with leaves = 16 and depth = 4\n",
      "[LightGBM] [Debug] Trained a tree with leaves = 16 and depth = 4\n",
      "[LightGBM] [Debug] Trained a tree with leaves = 16 and depth = 4\n",
      "[LightGBM] [Debug] Trained a tree with leaves = 16 and depth = 4\n",
      "[LightGBM] [Debug] Trained a tree with leaves = 16 and depth = 4\n",
      "[LightGBM] [Debug] Trained a tree with leaves = 16 and depth = 4\n",
      "[LightGBM] [Warning] No further splits with positive gain, best gain: -inf\n",
      "[LightGBM] [Debug] Trained a tree with leaves = 15 and depth = 4\n",
      "[LightGBM] [Debug] Trained a tree with leaves = 16 and depth = 4\n",
      "[LightGBM] [Warning] No further splits with positive gain, best gain: -inf\n",
      "[LightGBM] [Debug] Trained a tree with leaves = 15 and depth = 4\n",
      "[LightGBM] [Debug] Trained a tree with leaves = 16 and depth = 4\n",
      "[LightGBM] [Debug] Trained a tree with leaves = 16 and depth = 4\n",
      "[LightGBM] [Debug] Trained a tree with leaves = 16 and depth = 4\n",
      "[LightGBM] [Warning] No further splits with positive gain, best gain: -inf\n",
      "[LightGBM] [Debug] Trained a tree with leaves = 15 and depth = 4\n",
      "[LightGBM] [Debug] Trained a tree with leaves = 16 and depth = 4\n",
      "[LightGBM] [Warning] No further splits with positive gain, best gain: -inf\n",
      "[LightGBM] [Debug] Trained a tree with leaves = 15 and depth = 4\n",
      "[LightGBM] [Debug] Trained a tree with leaves = 16 and depth = 4\n",
      "[LightGBM] [Debug] Trained a tree with leaves = 16 and depth = 4\n",
      "[LightGBM] [Debug] Trained a tree with leaves = 16 and depth = 4\n",
      "[LightGBM] [Warning] No further splits with positive gain, best gain: -inf\n",
      "[LightGBM] [Debug] Trained a tree with leaves = 14 and depth = 4\n",
      "[LightGBM] [Warning] No further splits with positive gain, best gain: -inf\n",
      "[LightGBM] [Debug] Trained a tree with leaves = 15 and depth = 4\n",
      "[LightGBM] [Debug] Trained a tree with leaves = 16 and depth = 4\n",
      "[LightGBM] [Debug] Trained a tree with leaves = 16 and depth = 4\n",
      "[LightGBM] [Debug] Trained a tree with leaves = 16 and depth = 4\n",
      "[LightGBM] [Warning] No further splits with positive gain, best gain: -inf\n",
      "[LightGBM] [Debug] Trained a tree with leaves = 14 and depth = 4\n",
      "[LightGBM] [Debug] Trained a tree with leaves = 16 and depth = 4\n",
      "[LightGBM] [Debug] Trained a tree with leaves = 16 and depth = 4\n",
      "[LightGBM] [Warning] No further splits with positive gain, best gain: -inf\n",
      "[LightGBM] [Debug] Trained a tree with leaves = 15 and depth = 4\n",
      "[LightGBM] [Debug] Trained a tree with leaves = 16 and depth = 4\n",
      "[LightGBM] [Debug] Trained a tree with leaves = 16 and depth = 4\n",
      "[LightGBM] [Debug] Trained a tree with leaves = 16 and depth = 4\n",
      "[LightGBM] [Warning] No further splits with positive gain, best gain: -inf\n",
      "[LightGBM] [Debug] Trained a tree with leaves = 13 and depth = 4\n",
      "[LightGBM] [Warning] No further splits with positive gain, best gain: -inf\n",
      "[LightGBM] [Debug] Trained a tree with leaves = 15 and depth = 4\n",
      "[LightGBM] [Warning] No further splits with positive gain, best gain: -inf\n",
      "[LightGBM] [Debug] Trained a tree with leaves = 14 and depth = 4\n",
      "[LightGBM] [Debug] Trained a tree with leaves = 16 and depth = 4\n",
      "[LightGBM] [Warning] No further splits with positive gain, best gain: -inf\n",
      "[LightGBM] [Debug] Trained a tree with leaves = 15 and depth = 4\n",
      "[LightGBM] [Debug] Trained a tree with leaves = 16 and depth = 4\n",
      "[LightGBM] [Warning] No further splits with positive gain, best gain: -inf\n",
      "[LightGBM] [Debug] Trained a tree with leaves = 15 and depth = 4\n",
      "[LightGBM] [Warning] No further splits with positive gain, best gain: -inf\n",
      "[LightGBM] [Debug] Trained a tree with leaves = 13 and depth = 4\n",
      "[LightGBM] [Warning] No further splits with positive gain, best gain: -inf\n",
      "[LightGBM] [Debug] Trained a tree with leaves = 14 and depth = 4\n",
      "[LightGBM] [Debug] Trained a tree with leaves = 16 and depth = 4\n",
      "[LightGBM] [Debug] Trained a tree with leaves = 16 and depth = 4\n",
      "[LightGBM] [Warning] No further splits with positive gain, best gain: -inf\n",
      "[LightGBM] [Debug] Trained a tree with leaves = 15 and depth = 4\n",
      "[LightGBM] [Warning] No further splits with positive gain, best gain: -inf\n",
      "[LightGBM] [Debug] Trained a tree with leaves = 15 and depth = 4\n",
      "[LightGBM] [Warning] No further splits with positive gain, best gain: -inf\n",
      "[LightGBM] [Debug] Trained a tree with leaves = 13 and depth = 4\n",
      "[LightGBM] [Warning] No further splits with positive gain, best gain: -inf\n",
      "[LightGBM] [Debug] Trained a tree with leaves = 15 and depth = 4\n",
      "[LightGBM] [Debug] Trained a tree with leaves = 16 and depth = 4\n",
      "[LightGBM] [Debug] Trained a tree with leaves = 16 and depth = 4\n",
      "[LightGBM] [Warning] No further splits with positive gain, best gain: -inf\n",
      "[LightGBM] [Debug] Trained a tree with leaves = 15 and depth = 4\n",
      "[LightGBM] [Debug] Trained a tree with leaves = 16 and depth = 4\n",
      "[LightGBM] [Debug] Trained a tree with leaves = 16 and depth = 4\n",
      "[LightGBM] [Warning] No further splits with positive gain, best gain: -inf\n",
      "[LightGBM] [Debug] Trained a tree with leaves = 13 and depth = 4\n",
      "[LightGBM] [Debug] Trained a tree with leaves = 16 and depth = 4\n",
      "[LightGBM] [Warning] No further splits with positive gain, best gain: -inf\n",
      "[LightGBM] [Debug] Trained a tree with leaves = 14 and depth = 4\n",
      "[LightGBM] [Debug] Trained a tree with leaves = 16 and depth = 4\n",
      "[LightGBM] [Debug] Trained a tree with leaves = 16 and depth = 4\n",
      "[LightGBM] [Debug] Trained a tree with leaves = 16 and depth = 4\n",
      "[LightGBM] [Debug] Trained a tree with leaves = 16 and depth = 4\n",
      "[LightGBM] [Warning] No further splits with positive gain, best gain: -inf\n",
      "[LightGBM] [Debug] Trained a tree with leaves = 13 and depth = 4\n",
      "[LightGBM] [Debug] Trained a tree with leaves = 16 and depth = 4\n",
      "[LightGBM] [Debug] Trained a tree with leaves = 16 and depth = 4\n",
      "[LightGBM] [Debug] Trained a tree with leaves = 16 and depth = 4\n",
      "[LightGBM] [Warning] No further splits with positive gain, best gain: -inf\n",
      "[LightGBM] [Debug] Trained a tree with leaves = 15 and depth = 4\n",
      "[LightGBM] [Debug] Trained a tree with leaves = 16 and depth = 4\n",
      "[LightGBM] [Debug] Trained a tree with leaves = 16 and depth = 4\n",
      "[LightGBM] [Debug] Trained a tree with leaves = 16 and depth = 4\n",
      "[LightGBM] [Debug] Trained a tree with leaves = 16 and depth = 4\n",
      "[LightGBM] [Warning] No further splits with positive gain, best gain: -inf\n",
      "[LightGBM] [Debug] Trained a tree with leaves = 15 and depth = 4\n",
      "[LightGBM] [Warning] No further splits with positive gain, best gain: -inf\n",
      "[LightGBM] [Debug] Trained a tree with leaves = 13 and depth = 4\n",
      "[LightGBM] [Debug] Trained a tree with leaves = 16 and depth = 4\n",
      "[LightGBM] [Warning] No further splits with positive gain, best gain: -inf\n",
      "[LightGBM] [Debug] Trained a tree with leaves = 15 and depth = 4\n",
      "[LightGBM] [Debug] Trained a tree with leaves = 16 and depth = 4\n",
      "[LightGBM] [Debug] Trained a tree with leaves = 16 and depth = 4\n",
      "[LightGBM] [Debug] Trained a tree with leaves = 16 and depth = 4\n",
      "[LightGBM] [Debug] Trained a tree with leaves = 16 and depth = 4\n",
      "[LightGBM] [Debug] Trained a tree with leaves = 16 and depth = 4\n",
      "[LightGBM] [Debug] Trained a tree with leaves = 16 and depth = 4\n",
      "[LightGBM] [Warning] No further splits with positive gain, best gain: -inf\n",
      "[LightGBM] [Debug] Trained a tree with leaves = 13 and depth = 4\n",
      "[LightGBM] [Debug] Trained a tree with leaves = 16 and depth = 4\n",
      "[LightGBM] [Debug] Trained a tree with leaves = 16 and depth = 4\n",
      "[LightGBM] [Warning] No further splits with positive gain, best gain: -inf\n",
      "[LightGBM] [Debug] Trained a tree with leaves = 15 and depth = 4\n",
      "[LightGBM] [Debug] Trained a tree with leaves = 16 and depth = 4\n",
      "[LightGBM] [Warning] No further splits with positive gain, best gain: -inf\n",
      "[LightGBM] [Debug] Trained a tree with leaves = 15 and depth = 4\n",
      "[LightGBM] [Debug] Dataset::GetMultiBinFromSparseFeatures: sparse rate 0.760539\n",
      "[LightGBM] [Debug] Dataset::GetMultiBinFromAllFeatures: sparse rate 0.180382\n",
      "[LightGBM] [Debug] init for col-wise cost 0.003761 seconds, init for row-wise cost 0.093180 seconds\n",
      "[LightGBM] [Warning] Auto-choosing row-wise multi-threading, the overhead of testing was 0.005874 seconds.\n",
      "You can set `force_row_wise=true` to remove the overhead.\n",
      "And if memory is not enough, you can set `force_col_wise=true`.\n",
      "[LightGBM] [Debug] Using Dense Multi-Val Bin\n",
      "[LightGBM] [Info] Total Bins 583\n",
      "[LightGBM] [Info] Number of data points in the train set: 195777, number of used features: 9\n",
      "[LightGBM] [Info] Start training from score 4627.612855\n",
      "[LightGBM] [Debug] Trained a tree with leaves = 16 and depth = 4\n",
      "[LightGBM] [Debug] Trained a tree with leaves = 16 and depth = 4\n",
      "[LightGBM] [Debug] Trained a tree with leaves = 16 and depth = 4\n",
      "[LightGBM] [Debug] Trained a tree with leaves = 16 and depth = 4\n",
      "[LightGBM] [Debug] Trained a tree with leaves = 16 and depth = 4\n",
      "[LightGBM] [Debug] Trained a tree with leaves = 16 and depth = 4\n",
      "[LightGBM] [Debug] Trained a tree with leaves = 16 and depth = 4\n",
      "[LightGBM] [Debug] Trained a tree with leaves = 16 and depth = 4\n",
      "[LightGBM] [Debug] Trained a tree with leaves = 16 and depth = 4\n",
      "[LightGBM] [Debug] Trained a tree with leaves = 16 and depth = 4\n",
      "[LightGBM] [Debug] Trained a tree with leaves = 16 and depth = 4\n",
      "[LightGBM] [Debug] Trained a tree with leaves = 16 and depth = 4\n",
      "[LightGBM] [Debug] Trained a tree with leaves = 16 and depth = 4\n",
      "[LightGBM] [Debug] Trained a tree with leaves = 16 and depth = 4\n",
      "[LightGBM] [Debug] Trained a tree with leaves = 16 and depth = 4\n",
      "[LightGBM] [Debug] Trained a tree with leaves = 16 and depth = 4\n",
      "[LightGBM] [Debug] Trained a tree with leaves = 16 and depth = 4\n",
      "[LightGBM] [Debug] Trained a tree with leaves = 16 and depth = 4\n",
      "[LightGBM] [Debug] Trained a tree with leaves = 16 and depth = 4\n",
      "[LightGBM] [Debug] Trained a tree with leaves = 16 and depth = 4\n",
      "[LightGBM] [Debug] Trained a tree with leaves = 16 and depth = 4\n",
      "[LightGBM] [Debug] Trained a tree with leaves = 16 and depth = 4\n",
      "[LightGBM] [Debug] Trained a tree with leaves = 16 and depth = 4\n",
      "[LightGBM] [Debug] Trained a tree with leaves = 16 and depth = 4\n",
      "[LightGBM] [Debug] Trained a tree with leaves = 16 and depth = 4\n",
      "[LightGBM] [Debug] Trained a tree with leaves = 16 and depth = 4\n",
      "[LightGBM] [Debug] Trained a tree with leaves = 16 and depth = 4\n",
      "[LightGBM] [Debug] Trained a tree with leaves = 16 and depth = 4\n",
      "[LightGBM] [Debug] Trained a tree with leaves = 16 and depth = 4\n",
      "[LightGBM] [Debug] Trained a tree with leaves = 16 and depth = 4\n",
      "[LightGBM] [Debug] Trained a tree with leaves = 16 and depth = 4\n",
      "[LightGBM] [Debug] Trained a tree with leaves = 16 and depth = 4\n",
      "[LightGBM] [Debug] Trained a tree with leaves = 16 and depth = 4\n",
      "[LightGBM] [Debug] Trained a tree with leaves = 16 and depth = 4\n",
      "[LightGBM] [Debug] Trained a tree with leaves = 16 and depth = 4\n",
      "[LightGBM] [Debug] Trained a tree with leaves = 16 and depth = 4\n",
      "[LightGBM] [Debug] Trained a tree with leaves = 16 and depth = 4\n",
      "[LightGBM] [Debug] Trained a tree with leaves = 16 and depth = 4\n",
      "[LightGBM] [Debug] Trained a tree with leaves = 16 and depth = 4\n",
      "[LightGBM] [Debug] Trained a tree with leaves = 16 and depth = 4\n",
      "[LightGBM] [Debug] Trained a tree with leaves = 16 and depth = 4\n",
      "[LightGBM] [Debug] Trained a tree with leaves = 16 and depth = 4\n",
      "[LightGBM] [Debug] Trained a tree with leaves = 16 and depth = 4\n",
      "[LightGBM] [Debug] Trained a tree with leaves = 16 and depth = 4\n",
      "[LightGBM] [Debug] Trained a tree with leaves = 16 and depth = 4\n",
      "[LightGBM] [Debug] Trained a tree with leaves = 16 and depth = 4\n",
      "[LightGBM] [Debug] Trained a tree with leaves = 16 and depth = 4\n",
      "[LightGBM] [Debug] Trained a tree with leaves = 16 and depth = 4\n",
      "[LightGBM] [Debug] Trained a tree with leaves = 16 and depth = 4\n",
      "[LightGBM] [Debug] Trained a tree with leaves = 16 and depth = 4\n",
      "[LightGBM] [Debug] Trained a tree with leaves = 16 and depth = 4\n",
      "[LightGBM] [Debug] Trained a tree with leaves = 16 and depth = 4\n",
      "[LightGBM] [Debug] Trained a tree with leaves = 16 and depth = 4\n",
      "[LightGBM] [Debug] Trained a tree with leaves = 16 and depth = 4\n",
      "[LightGBM] [Debug] Trained a tree with leaves = 16 and depth = 4\n",
      "[LightGBM] [Debug] Trained a tree with leaves = 16 and depth = 4\n",
      "[LightGBM] [Debug] Trained a tree with leaves = 16 and depth = 4\n",
      "[LightGBM] [Debug] Trained a tree with leaves = 16 and depth = 4\n",
      "[LightGBM] [Debug] Trained a tree with leaves = 16 and depth = 4\n",
      "[LightGBM] [Debug] Trained a tree with leaves = 16 and depth = 4\n",
      "[LightGBM] [Debug] Trained a tree with leaves = 16 and depth = 4\n",
      "[LightGBM] [Debug] Trained a tree with leaves = 16 and depth = 4\n",
      "[LightGBM] [Debug] Trained a tree with leaves = 16 and depth = 4\n",
      "[LightGBM] [Debug] Trained a tree with leaves = 16 and depth = 4\n"
     ]
    },
    {
     "name": "stdout",
     "output_type": "stream",
     "text": [
      "[LightGBM] [Warning] No further splits with positive gain, best gain: -inf\n",
      "[LightGBM] [Debug] Trained a tree with leaves = 15 and depth = 4\n",
      "[LightGBM] [Debug] Trained a tree with leaves = 16 and depth = 4\n",
      "[LightGBM] [Warning] No further splits with positive gain, best gain: -inf\n",
      "[LightGBM] [Debug] Trained a tree with leaves = 15 and depth = 4\n",
      "[LightGBM] [Debug] Trained a tree with leaves = 16 and depth = 4\n",
      "[LightGBM] [Debug] Trained a tree with leaves = 16 and depth = 4\n",
      "[LightGBM] [Debug] Trained a tree with leaves = 16 and depth = 4\n",
      "[LightGBM] [Debug] Trained a tree with leaves = 16 and depth = 4\n",
      "[LightGBM] [Debug] Trained a tree with leaves = 16 and depth = 4\n",
      "[LightGBM] [Debug] Trained a tree with leaves = 16 and depth = 4\n",
      "[LightGBM] [Debug] Trained a tree with leaves = 16 and depth = 4\n",
      "[LightGBM] [Warning] No further splits with positive gain, best gain: -inf\n",
      "[LightGBM] [Debug] Trained a tree with leaves = 15 and depth = 4\n",
      "[LightGBM] [Debug] Trained a tree with leaves = 16 and depth = 4\n",
      "[LightGBM] [Warning] No further splits with positive gain, best gain: -inf\n",
      "[LightGBM] [Debug] Trained a tree with leaves = 15 and depth = 4\n",
      "[LightGBM] [Debug] Trained a tree with leaves = 16 and depth = 4\n",
      "[LightGBM] [Debug] Trained a tree with leaves = 16 and depth = 4\n",
      "[LightGBM] [Debug] Trained a tree with leaves = 16 and depth = 4\n",
      "[LightGBM] [Warning] No further splits with positive gain, best gain: -inf\n",
      "[LightGBM] [Debug] Trained a tree with leaves = 15 and depth = 4\n",
      "[LightGBM] [Debug] Trained a tree with leaves = 16 and depth = 4\n",
      "[LightGBM] [Warning] No further splits with positive gain, best gain: -inf\n",
      "[LightGBM] [Debug] Trained a tree with leaves = 15 and depth = 4\n",
      "[LightGBM] [Debug] Trained a tree with leaves = 16 and depth = 4\n",
      "[LightGBM] [Debug] Trained a tree with leaves = 16 and depth = 4\n",
      "[LightGBM] [Debug] Trained a tree with leaves = 16 and depth = 4\n",
      "[LightGBM] [Warning] No further splits with positive gain, best gain: -inf\n",
      "[LightGBM] [Debug] Trained a tree with leaves = 14 and depth = 4\n",
      "[LightGBM] [Warning] No further splits with positive gain, best gain: -inf\n",
      "[LightGBM] [Debug] Trained a tree with leaves = 15 and depth = 4\n",
      "[LightGBM] [Debug] Trained a tree with leaves = 16 and depth = 4\n",
      "[LightGBM] [Debug] Trained a tree with leaves = 16 and depth = 4\n",
      "[LightGBM] [Debug] Trained a tree with leaves = 16 and depth = 4\n",
      "[LightGBM] [Warning] No further splits with positive gain, best gain: -inf\n",
      "[LightGBM] [Debug] Trained a tree with leaves = 14 and depth = 4\n",
      "[LightGBM] [Debug] Trained a tree with leaves = 16 and depth = 4\n",
      "[LightGBM] [Debug] Trained a tree with leaves = 16 and depth = 4\n",
      "[LightGBM] [Warning] No further splits with positive gain, best gain: -inf\n",
      "[LightGBM] [Debug] Trained a tree with leaves = 15 and depth = 4\n",
      "[LightGBM] [Debug] Trained a tree with leaves = 16 and depth = 4\n",
      "[LightGBM] [Debug] Trained a tree with leaves = 16 and depth = 4\n",
      "[LightGBM] [Debug] Trained a tree with leaves = 16 and depth = 4\n",
      "[LightGBM] [Warning] No further splits with positive gain, best gain: -inf\n",
      "[LightGBM] [Debug] Trained a tree with leaves = 13 and depth = 4\n",
      "[LightGBM] [Warning] No further splits with positive gain, best gain: -inf\n",
      "[LightGBM] [Debug] Trained a tree with leaves = 15 and depth = 4\n",
      "[LightGBM] [Warning] No further splits with positive gain, best gain: -inf\n",
      "[LightGBM] [Debug] Trained a tree with leaves = 14 and depth = 4\n",
      "[LightGBM] [Debug] Trained a tree with leaves = 16 and depth = 4\n",
      "[LightGBM] [Warning] No further splits with positive gain, best gain: -inf\n",
      "[LightGBM] [Debug] Trained a tree with leaves = 15 and depth = 4\n",
      "[LightGBM] [Debug] Trained a tree with leaves = 16 and depth = 4\n",
      "[LightGBM] [Warning] No further splits with positive gain, best gain: -inf\n",
      "[LightGBM] [Debug] Trained a tree with leaves = 15 and depth = 4\n",
      "[LightGBM] [Warning] No further splits with positive gain, best gain: -inf\n",
      "[LightGBM] [Debug] Trained a tree with leaves = 13 and depth = 4\n",
      "[LightGBM] [Warning] No further splits with positive gain, best gain: -inf\n",
      "[LightGBM] [Debug] Trained a tree with leaves = 14 and depth = 4\n",
      "[LightGBM] [Debug] Trained a tree with leaves = 16 and depth = 4\n",
      "[LightGBM] [Debug] Trained a tree with leaves = 16 and depth = 4\n",
      "[LightGBM] [Warning] No further splits with positive gain, best gain: -inf\n",
      "[LightGBM] [Debug] Trained a tree with leaves = 15 and depth = 4\n",
      "[LightGBM] [Warning] No further splits with positive gain, best gain: -inf\n",
      "[LightGBM] [Debug] Trained a tree with leaves = 15 and depth = 4\n",
      "[LightGBM] [Warning] No further splits with positive gain, best gain: -inf\n",
      "[LightGBM] [Debug] Trained a tree with leaves = 13 and depth = 4\n",
      "[LightGBM] [Warning] No further splits with positive gain, best gain: -inf\n",
      "[LightGBM] [Debug] Trained a tree with leaves = 15 and depth = 4\n",
      "[LightGBM] [Debug] Trained a tree with leaves = 16 and depth = 4\n",
      "[LightGBM] [Debug] Trained a tree with leaves = 16 and depth = 4\n",
      "[LightGBM] [Warning] No further splits with positive gain, best gain: -inf\n",
      "[LightGBM] [Debug] Trained a tree with leaves = 15 and depth = 4\n",
      "[LightGBM] [Debug] Trained a tree with leaves = 16 and depth = 4\n",
      "[LightGBM] [Debug] Trained a tree with leaves = 16 and depth = 4\n",
      "[LightGBM] [Warning] No further splits with positive gain, best gain: -inf\n",
      "[LightGBM] [Debug] Trained a tree with leaves = 13 and depth = 4\n",
      "[LightGBM] [Debug] Trained a tree with leaves = 16 and depth = 4\n",
      "[LightGBM] [Warning] No further splits with positive gain, best gain: -inf\n",
      "[LightGBM] [Debug] Trained a tree with leaves = 14 and depth = 4\n",
      "[LightGBM] [Debug] Trained a tree with leaves = 16 and depth = 4\n",
      "[LightGBM] [Debug] Trained a tree with leaves = 16 and depth = 4\n",
      "[LightGBM] [Debug] Trained a tree with leaves = 16 and depth = 4\n",
      "[LightGBM] [Debug] Trained a tree with leaves = 16 and depth = 4\n",
      "[LightGBM] [Warning] No further splits with positive gain, best gain: -inf\n",
      "[LightGBM] [Debug] Trained a tree with leaves = 13 and depth = 4\n",
      "[LightGBM] [Debug] Trained a tree with leaves = 16 and depth = 4\n",
      "[LightGBM] [Debug] Trained a tree with leaves = 16 and depth = 4\n",
      "[LightGBM] [Debug] Trained a tree with leaves = 16 and depth = 4\n",
      "[LightGBM] [Warning] No further splits with positive gain, best gain: -inf\n",
      "[LightGBM] [Debug] Trained a tree with leaves = 15 and depth = 4\n",
      "[LightGBM] [Debug] Trained a tree with leaves = 16 and depth = 4\n",
      "[LightGBM] [Debug] Trained a tree with leaves = 16 and depth = 4\n",
      "[LightGBM] [Debug] Trained a tree with leaves = 16 and depth = 4\n",
      "[LightGBM] [Debug] Trained a tree with leaves = 16 and depth = 4\n",
      "[LightGBM] [Warning] No further splits with positive gain, best gain: -inf\n",
      "[LightGBM] [Debug] Trained a tree with leaves = 15 and depth = 4\n",
      "[LightGBM] [Warning] No further splits with positive gain, best gain: -inf\n",
      "[LightGBM] [Debug] Trained a tree with leaves = 13 and depth = 4\n",
      "[LightGBM] [Debug] Trained a tree with leaves = 16 and depth = 4\n",
      "[LightGBM] [Warning] No further splits with positive gain, best gain: -inf\n",
      "[LightGBM] [Debug] Trained a tree with leaves = 15 and depth = 4\n",
      "[LightGBM] [Debug] Trained a tree with leaves = 16 and depth = 4\n",
      "[LightGBM] [Debug] Trained a tree with leaves = 16 and depth = 4\n",
      "[LightGBM] [Debug] Trained a tree with leaves = 16 and depth = 4\n",
      "[LightGBM] [Debug] Trained a tree with leaves = 16 and depth = 4\n",
      "[LightGBM] [Debug] Trained a tree with leaves = 16 and depth = 4\n",
      "[LightGBM] [Debug] Trained a tree with leaves = 16 and depth = 4\n",
      "[LightGBM] [Warning] No further splits with positive gain, best gain: -inf\n",
      "[LightGBM] [Debug] Trained a tree with leaves = 13 and depth = 4\n",
      "[LightGBM] [Debug] Trained a tree with leaves = 16 and depth = 4\n",
      "[LightGBM] [Debug] Trained a tree with leaves = 16 and depth = 4\n",
      "[LightGBM] [Warning] No further splits with positive gain, best gain: -inf\n",
      "[LightGBM] [Debug] Trained a tree with leaves = 15 and depth = 4\n",
      "[LightGBM] [Debug] Trained a tree with leaves = 16 and depth = 4\n",
      "[LightGBM] [Warning] No further splits with positive gain, best gain: -inf\n",
      "[LightGBM] [Debug] Trained a tree with leaves = 15 and depth = 4\n",
      "[LightGBM] [Debug] Trained a tree with leaves = 16 and depth = 4\n",
      "[LightGBM] [Warning] No further splits with positive gain, best gain: -inf\n",
      "[LightGBM] [Debug] Trained a tree with leaves = 15 and depth = 4\n",
      "[LightGBM] [Warning] No further splits with positive gain, best gain: -inf\n",
      "[LightGBM] [Debug] Trained a tree with leaves = 15 and depth = 4\n",
      "[LightGBM] [Debug] Trained a tree with leaves = 16 and depth = 4\n",
      "[LightGBM] [Warning] No further splits with positive gain, best gain: -inf\n",
      "[LightGBM] [Debug] Trained a tree with leaves = 15 and depth = 4\n",
      "[LightGBM] [Debug] Trained a tree with leaves = 16 and depth = 4\n",
      "[LightGBM] [Debug] Trained a tree with leaves = 16 and depth = 4\n",
      "[LightGBM] [Debug] Trained a tree with leaves = 16 and depth = 4\n",
      "[LightGBM] [Debug] Trained a tree with leaves = 16 and depth = 4\n"
     ]
    },
    {
     "name": "stdout",
     "output_type": "stream",
     "text": [
      "[LightGBM] [Debug] Trained a tree with leaves = 16 and depth = 4\n",
      "[LightGBM] [Debug] Trained a tree with leaves = 16 and depth = 4\n",
      "[LightGBM] [Warning] No further splits with positive gain, best gain: -inf\n",
      "[LightGBM] [Debug] Trained a tree with leaves = 13 and depth = 4\n",
      "[LightGBM] [Debug] Trained a tree with leaves = 16 and depth = 4\n",
      "[LightGBM] [Debug] Trained a tree with leaves = 16 and depth = 4\n",
      "[LightGBM] [Warning] No further splits with positive gain, best gain: -inf\n",
      "[LightGBM] [Debug] Trained a tree with leaves = 15 and depth = 4\n",
      "[LightGBM] [Debug] Trained a tree with leaves = 16 and depth = 4\n",
      "[LightGBM] [Warning] No further splits with positive gain, best gain: -inf\n",
      "[LightGBM] [Debug] Trained a tree with leaves = 15 and depth = 4\n",
      "[LightGBM] [Debug] Trained a tree with leaves = 16 and depth = 4\n",
      "[LightGBM] [Debug] Trained a tree with leaves = 16 and depth = 4\n",
      "[LightGBM] [Warning] No further splits with positive gain, best gain: -inf\n",
      "[LightGBM] [Debug] Trained a tree with leaves = 15 and depth = 4\n",
      "[LightGBM] [Warning] No further splits with positive gain, best gain: -inf\n",
      "[LightGBM] [Debug] Trained a tree with leaves = 14 and depth = 4\n",
      "[LightGBM] [Debug] Trained a tree with leaves = 16 and depth = 4\n",
      "[LightGBM] [Debug] Trained a tree with leaves = 16 and depth = 4\n",
      "[LightGBM] [Debug] Trained a tree with leaves = 16 and depth = 4\n",
      "[LightGBM] [Debug] Trained a tree with leaves = 16 and depth = 4\n",
      "[LightGBM] [Debug] Trained a tree with leaves = 16 and depth = 4\n",
      "[LightGBM] [Warning] No further splits with positive gain, best gain: -inf\n",
      "[LightGBM] [Debug] Trained a tree with leaves = 11 and depth = 4\n",
      "[LightGBM] [Debug] Trained a tree with leaves = 16 and depth = 4\n",
      "[LightGBM] [Debug] Trained a tree with leaves = 16 and depth = 4\n",
      "[LightGBM] [Debug] Trained a tree with leaves = 16 and depth = 4\n",
      "[LightGBM] [Warning] No further splits with positive gain, best gain: -inf\n",
      "[LightGBM] [Debug] Trained a tree with leaves = 15 and depth = 4\n",
      "[LightGBM] [Debug] Trained a tree with leaves = 16 and depth = 4\n",
      "[LightGBM] [Debug] Trained a tree with leaves = 16 and depth = 4\n",
      "[LightGBM] [Warning] No further splits with positive gain, best gain: -inf\n",
      "[LightGBM] [Debug] Trained a tree with leaves = 14 and depth = 4\n",
      "[LightGBM] [Debug] Trained a tree with leaves = 16 and depth = 4\n",
      "[LightGBM] [Debug] Trained a tree with leaves = 16 and depth = 4\n",
      "[LightGBM] [Warning] No further splits with positive gain, best gain: -inf\n",
      "[LightGBM] [Debug] Trained a tree with leaves = 15 and depth = 4\n",
      "[LightGBM] [Warning] No further splits with positive gain, best gain: -inf\n",
      "[LightGBM] [Debug] Trained a tree with leaves = 15 and depth = 4\n",
      "[LightGBM] [Warning] No further splits with positive gain, best gain: -inf\n",
      "[LightGBM] [Debug] Trained a tree with leaves = 11 and depth = 4\n",
      "[LightGBM] [Debug] Trained a tree with leaves = 16 and depth = 4\n",
      "[LightGBM] [Debug] Trained a tree with leaves = 16 and depth = 4\n",
      "[LightGBM] [Debug] Trained a tree with leaves = 16 and depth = 4\n",
      "[LightGBM] [Warning] No further splits with positive gain, best gain: -inf\n",
      "[LightGBM] [Debug] Trained a tree with leaves = 14 and depth = 4\n",
      "[LightGBM] [Debug] Trained a tree with leaves = 16 and depth = 4\n",
      "[LightGBM] [Warning] No further splits with positive gain, best gain: -inf\n",
      "[LightGBM] [Debug] Trained a tree with leaves = 15 and depth = 4\n",
      "[LightGBM] [Debug] Trained a tree with leaves = 16 and depth = 4\n",
      "[LightGBM] [Warning] No further splits with positive gain, best gain: -inf\n",
      "[LightGBM] [Debug] Trained a tree with leaves = 15 and depth = 4\n",
      "[LightGBM] [Debug] Trained a tree with leaves = 16 and depth = 4\n",
      "[LightGBM] [Debug] Trained a tree with leaves = 16 and depth = 4\n",
      "[LightGBM] [Debug] Trained a tree with leaves = 16 and depth = 4\n",
      "[LightGBM] [Debug] Dataset::GetMultiBinFromSparseFeatures: sparse rate 0.760539\n",
      "[LightGBM] [Debug] Dataset::GetMultiBinFromAllFeatures: sparse rate 0.180382\n",
      "[LightGBM] [Debug] init for col-wise cost 0.092555 seconds, init for row-wise cost 0.004248 seconds\n",
      "[LightGBM] [Warning] Auto-choosing row-wise multi-threading, the overhead of testing was 0.094603 seconds.\n",
      "You can set `force_row_wise=true` to remove the overhead.\n",
      "And if memory is not enough, you can set `force_col_wise=true`.\n",
      "[LightGBM] [Debug] Using Dense Multi-Val Bin\n",
      "[LightGBM] [Info] Total Bins 583\n",
      "[LightGBM] [Info] Number of data points in the train set: 195777, number of used features: 9\n",
      "[LightGBM] [Info] Start training from score 4627.612855\n",
      "[LightGBM] [Debug] Trained a tree with leaves = 16 and depth = 4\n",
      "[LightGBM] [Debug] Trained a tree with leaves = 16 and depth = 4\n",
      "[LightGBM] [Debug] Trained a tree with leaves = 16 and depth = 4\n",
      "[LightGBM] [Debug] Trained a tree with leaves = 16 and depth = 4\n",
      "[LightGBM] [Debug] Trained a tree with leaves = 16 and depth = 4\n",
      "[LightGBM] [Debug] Trained a tree with leaves = 16 and depth = 4\n",
      "[LightGBM] [Debug] Trained a tree with leaves = 16 and depth = 4\n",
      "[LightGBM] [Debug] Trained a tree with leaves = 16 and depth = 4\n",
      "[LightGBM] [Debug] Trained a tree with leaves = 16 and depth = 4\n",
      "[LightGBM] [Debug] Trained a tree with leaves = 16 and depth = 4\n",
      "[LightGBM] [Debug] Trained a tree with leaves = 16 and depth = 4\n",
      "[LightGBM] [Debug] Trained a tree with leaves = 16 and depth = 4\n",
      "[LightGBM] [Debug] Trained a tree with leaves = 16 and depth = 4\n",
      "[LightGBM] [Debug] Trained a tree with leaves = 16 and depth = 4\n",
      "[LightGBM] [Debug] Trained a tree with leaves = 16 and depth = 4\n",
      "[LightGBM] [Debug] Trained a tree with leaves = 16 and depth = 4\n",
      "[LightGBM] [Debug] Trained a tree with leaves = 16 and depth = 4\n",
      "[LightGBM] [Debug] Trained a tree with leaves = 16 and depth = 4\n",
      "[LightGBM] [Debug] Trained a tree with leaves = 16 and depth = 4\n",
      "[LightGBM] [Debug] Trained a tree with leaves = 16 and depth = 4\n",
      "[LightGBM] [Debug] Trained a tree with leaves = 16 and depth = 4\n",
      "[LightGBM] [Debug] Trained a tree with leaves = 16 and depth = 4\n",
      "[LightGBM] [Debug] Trained a tree with leaves = 16 and depth = 4\n",
      "[LightGBM] [Debug] Trained a tree with leaves = 16 and depth = 4\n",
      "[LightGBM] [Debug] Trained a tree with leaves = 16 and depth = 4\n",
      "[LightGBM] [Debug] Trained a tree with leaves = 16 and depth = 4\n",
      "[LightGBM] [Debug] Trained a tree with leaves = 16 and depth = 4\n",
      "[LightGBM] [Debug] Trained a tree with leaves = 16 and depth = 4\n",
      "[LightGBM] [Debug] Trained a tree with leaves = 16 and depth = 4\n",
      "[LightGBM] [Debug] Trained a tree with leaves = 16 and depth = 4\n",
      "[LightGBM] [Debug] Trained a tree with leaves = 16 and depth = 4\n",
      "[LightGBM] [Debug] Trained a tree with leaves = 16 and depth = 4\n",
      "[LightGBM] [Debug] Trained a tree with leaves = 16 and depth = 4\n",
      "[LightGBM] [Debug] Trained a tree with leaves = 16 and depth = 4\n",
      "[LightGBM] [Debug] Trained a tree with leaves = 16 and depth = 4\n",
      "[LightGBM] [Debug] Trained a tree with leaves = 16 and depth = 4\n",
      "[LightGBM] [Debug] Trained a tree with leaves = 16 and depth = 4\n",
      "[LightGBM] [Debug] Trained a tree with leaves = 16 and depth = 4\n",
      "[LightGBM] [Debug] Trained a tree with leaves = 16 and depth = 4\n",
      "[LightGBM] [Debug] Trained a tree with leaves = 16 and depth = 4\n",
      "[LightGBM] [Debug] Trained a tree with leaves = 16 and depth = 4\n",
      "[LightGBM] [Debug] Trained a tree with leaves = 16 and depth = 4\n",
      "[LightGBM] [Debug] Trained a tree with leaves = 16 and depth = 4\n",
      "[LightGBM] [Debug] Trained a tree with leaves = 16 and depth = 4\n",
      "[LightGBM] [Debug] Trained a tree with leaves = 16 and depth = 4\n",
      "[LightGBM] [Debug] Trained a tree with leaves = 16 and depth = 4\n",
      "[LightGBM] [Debug] Trained a tree with leaves = 16 and depth = 4\n",
      "[LightGBM] [Debug] Trained a tree with leaves = 16 and depth = 4\n",
      "[LightGBM] [Debug] Trained a tree with leaves = 16 and depth = 4\n",
      "[LightGBM] [Debug] Trained a tree with leaves = 16 and depth = 4\n",
      "[LightGBM] [Debug] Trained a tree with leaves = 16 and depth = 4\n",
      "[LightGBM] [Debug] Trained a tree with leaves = 16 and depth = 4\n",
      "[LightGBM] [Debug] Trained a tree with leaves = 16 and depth = 4\n",
      "[LightGBM] [Debug] Trained a tree with leaves = 16 and depth = 4\n",
      "[LightGBM] [Debug] Trained a tree with leaves = 16 and depth = 4\n",
      "[LightGBM] [Debug] Trained a tree with leaves = 16 and depth = 4\n",
      "[LightGBM] [Debug] Trained a tree with leaves = 16 and depth = 4\n",
      "[LightGBM] [Debug] Trained a tree with leaves = 16 and depth = 4\n",
      "[LightGBM] [Debug] Trained a tree with leaves = 16 and depth = 4\n",
      "[LightGBM] [Debug] Trained a tree with leaves = 16 and depth = 4\n",
      "[LightGBM] [Debug] Trained a tree with leaves = 16 and depth = 4\n",
      "[LightGBM] [Debug] Trained a tree with leaves = 16 and depth = 4\n",
      "[LightGBM] [Debug] Trained a tree with leaves = 16 and depth = 4\n",
      "[LightGBM] [Debug] Trained a tree with leaves = 16 and depth = 4\n"
     ]
    },
    {
     "name": "stdout",
     "output_type": "stream",
     "text": [
      "[LightGBM] [Warning] No further splits with positive gain, best gain: -inf\n",
      "[LightGBM] [Debug] Trained a tree with leaves = 15 and depth = 4\n",
      "[LightGBM] [Debug] Trained a tree with leaves = 16 and depth = 4\n",
      "[LightGBM] [Warning] No further splits with positive gain, best gain: -inf\n",
      "[LightGBM] [Debug] Trained a tree with leaves = 15 and depth = 4\n",
      "[LightGBM] [Debug] Trained a tree with leaves = 16 and depth = 4\n",
      "[LightGBM] [Debug] Trained a tree with leaves = 16 and depth = 4\n",
      "[LightGBM] [Debug] Trained a tree with leaves = 16 and depth = 4\n",
      "[LightGBM] [Debug] Trained a tree with leaves = 16 and depth = 4\n",
      "[LightGBM] [Debug] Trained a tree with leaves = 16 and depth = 4\n",
      "[LightGBM] [Debug] Trained a tree with leaves = 16 and depth = 4\n",
      "[LightGBM] [Debug] Trained a tree with leaves = 16 and depth = 4\n",
      "[LightGBM] [Warning] No further splits with positive gain, best gain: -inf\n",
      "[LightGBM] [Debug] Trained a tree with leaves = 15 and depth = 4\n",
      "[LightGBM] [Debug] Trained a tree with leaves = 16 and depth = 4\n",
      "[LightGBM] [Warning] No further splits with positive gain, best gain: -inf\n",
      "[LightGBM] [Debug] Trained a tree with leaves = 15 and depth = 4\n",
      "[LightGBM] [Debug] Trained a tree with leaves = 16 and depth = 4\n",
      "[LightGBM] [Debug] Trained a tree with leaves = 16 and depth = 4\n",
      "[LightGBM] [Debug] Trained a tree with leaves = 16 and depth = 4\n",
      "[LightGBM] [Warning] No further splits with positive gain, best gain: -inf\n",
      "[LightGBM] [Debug] Trained a tree with leaves = 15 and depth = 4\n",
      "[LightGBM] [Debug] Trained a tree with leaves = 16 and depth = 4\n",
      "[LightGBM] [Warning] No further splits with positive gain, best gain: -inf\n",
      "[LightGBM] [Debug] Trained a tree with leaves = 15 and depth = 4\n",
      "[LightGBM] [Debug] Trained a tree with leaves = 16 and depth = 4\n",
      "[LightGBM] [Debug] Trained a tree with leaves = 16 and depth = 4\n",
      "[LightGBM] [Debug] Trained a tree with leaves = 16 and depth = 4\n",
      "[LightGBM] [Warning] No further splits with positive gain, best gain: -inf\n",
      "[LightGBM] [Debug] Trained a tree with leaves = 14 and depth = 4\n",
      "[LightGBM] [Warning] No further splits with positive gain, best gain: -inf\n",
      "[LightGBM] [Debug] Trained a tree with leaves = 15 and depth = 4\n",
      "[LightGBM] [Debug] Trained a tree with leaves = 16 and depth = 4\n",
      "[LightGBM] [Debug] Trained a tree with leaves = 16 and depth = 4\n",
      "[LightGBM] [Debug] Trained a tree with leaves = 16 and depth = 4\n",
      "[LightGBM] [Warning] No further splits with positive gain, best gain: -inf\n",
      "[LightGBM] [Debug] Trained a tree with leaves = 14 and depth = 4\n",
      "[LightGBM] [Debug] Trained a tree with leaves = 16 and depth = 4\n",
      "[LightGBM] [Debug] Trained a tree with leaves = 16 and depth = 4\n",
      "[LightGBM] [Warning] No further splits with positive gain, best gain: -inf\n",
      "[LightGBM] [Debug] Trained a tree with leaves = 15 and depth = 4\n",
      "[LightGBM] [Debug] Trained a tree with leaves = 16 and depth = 4\n",
      "[LightGBM] [Debug] Trained a tree with leaves = 16 and depth = 4\n",
      "[LightGBM] [Debug] Trained a tree with leaves = 16 and depth = 4\n",
      "[LightGBM] [Warning] No further splits with positive gain, best gain: -inf\n",
      "[LightGBM] [Debug] Trained a tree with leaves = 13 and depth = 4\n",
      "[LightGBM] [Warning] No further splits with positive gain, best gain: -inf\n",
      "[LightGBM] [Debug] Trained a tree with leaves = 15 and depth = 4\n",
      "[LightGBM] [Warning] No further splits with positive gain, best gain: -inf\n",
      "[LightGBM] [Debug] Trained a tree with leaves = 14 and depth = 4\n",
      "[LightGBM] [Debug] Trained a tree with leaves = 16 and depth = 4\n",
      "[LightGBM] [Warning] No further splits with positive gain, best gain: -inf\n",
      "[LightGBM] [Debug] Trained a tree with leaves = 15 and depth = 4\n",
      "[LightGBM] [Debug] Trained a tree with leaves = 16 and depth = 4\n",
      "[LightGBM] [Warning] No further splits with positive gain, best gain: -inf\n",
      "[LightGBM] [Debug] Trained a tree with leaves = 15 and depth = 4\n",
      "[LightGBM] [Warning] No further splits with positive gain, best gain: -inf\n",
      "[LightGBM] [Debug] Trained a tree with leaves = 13 and depth = 4\n",
      "[LightGBM] [Warning] No further splits with positive gain, best gain: -inf\n",
      "[LightGBM] [Debug] Trained a tree with leaves = 14 and depth = 4\n",
      "[LightGBM] [Debug] Trained a tree with leaves = 16 and depth = 4\n",
      "[LightGBM] [Debug] Trained a tree with leaves = 16 and depth = 4\n",
      "[LightGBM] [Warning] No further splits with positive gain, best gain: -inf\n",
      "[LightGBM] [Debug] Trained a tree with leaves = 15 and depth = 4\n",
      "[LightGBM] [Warning] No further splits with positive gain, best gain: -inf\n",
      "[LightGBM] [Debug] Trained a tree with leaves = 15 and depth = 4\n",
      "[LightGBM] [Warning] No further splits with positive gain, best gain: -inf\n",
      "[LightGBM] [Debug] Trained a tree with leaves = 13 and depth = 4\n",
      "[LightGBM] [Warning] No further splits with positive gain, best gain: -inf\n",
      "[LightGBM] [Debug] Trained a tree with leaves = 15 and depth = 4\n",
      "[LightGBM] [Debug] Trained a tree with leaves = 16 and depth = 4\n",
      "[LightGBM] [Debug] Trained a tree with leaves = 16 and depth = 4\n",
      "[LightGBM] [Warning] No further splits with positive gain, best gain: -inf\n",
      "[LightGBM] [Debug] Trained a tree with leaves = 15 and depth = 4\n",
      "[LightGBM] [Debug] Trained a tree with leaves = 16 and depth = 4\n",
      "[LightGBM] [Debug] Trained a tree with leaves = 16 and depth = 4\n",
      "[LightGBM] [Warning] No further splits with positive gain, best gain: -inf\n",
      "[LightGBM] [Debug] Trained a tree with leaves = 13 and depth = 4\n",
      "[LightGBM] [Debug] Trained a tree with leaves = 16 and depth = 4\n",
      "[LightGBM] [Warning] No further splits with positive gain, best gain: -inf\n",
      "[LightGBM] [Debug] Trained a tree with leaves = 14 and depth = 4\n",
      "[LightGBM] [Debug] Trained a tree with leaves = 16 and depth = 4\n",
      "[LightGBM] [Debug] Trained a tree with leaves = 16 and depth = 4\n",
      "[LightGBM] [Debug] Trained a tree with leaves = 16 and depth = 4\n",
      "[LightGBM] [Debug] Trained a tree with leaves = 16 and depth = 4\n",
      "[LightGBM] [Warning] No further splits with positive gain, best gain: -inf\n",
      "[LightGBM] [Debug] Trained a tree with leaves = 13 and depth = 4\n",
      "[LightGBM] [Debug] Trained a tree with leaves = 16 and depth = 4\n",
      "[LightGBM] [Debug] Trained a tree with leaves = 16 and depth = 4\n",
      "[LightGBM] [Debug] Trained a tree with leaves = 16 and depth = 4\n",
      "[LightGBM] [Warning] No further splits with positive gain, best gain: -inf\n",
      "[LightGBM] [Debug] Trained a tree with leaves = 15 and depth = 4\n",
      "[LightGBM] [Debug] Trained a tree with leaves = 16 and depth = 4\n",
      "[LightGBM] [Debug] Trained a tree with leaves = 16 and depth = 4\n",
      "[LightGBM] [Debug] Trained a tree with leaves = 16 and depth = 4\n",
      "[LightGBM] [Debug] Trained a tree with leaves = 16 and depth = 4\n",
      "[LightGBM] [Warning] No further splits with positive gain, best gain: -inf\n",
      "[LightGBM] [Debug] Trained a tree with leaves = 15 and depth = 4\n",
      "[LightGBM] [Warning] No further splits with positive gain, best gain: -inf\n",
      "[LightGBM] [Debug] Trained a tree with leaves = 13 and depth = 4\n",
      "[LightGBM] [Debug] Trained a tree with leaves = 16 and depth = 4\n",
      "[LightGBM] [Warning] No further splits with positive gain, best gain: -inf\n",
      "[LightGBM] [Debug] Trained a tree with leaves = 15 and depth = 4\n",
      "[LightGBM] [Debug] Trained a tree with leaves = 16 and depth = 4\n",
      "[LightGBM] [Debug] Trained a tree with leaves = 16 and depth = 4\n",
      "[LightGBM] [Debug] Trained a tree with leaves = 16 and depth = 4\n",
      "[LightGBM] [Debug] Trained a tree with leaves = 16 and depth = 4\n",
      "[LightGBM] [Debug] Trained a tree with leaves = 16 and depth = 4\n",
      "[LightGBM] [Debug] Trained a tree with leaves = 16 and depth = 4\n",
      "[LightGBM] [Warning] No further splits with positive gain, best gain: -inf\n",
      "[LightGBM] [Debug] Trained a tree with leaves = 13 and depth = 4\n",
      "[LightGBM] [Debug] Trained a tree with leaves = 16 and depth = 4\n",
      "[LightGBM] [Debug] Trained a tree with leaves = 16 and depth = 4\n",
      "[LightGBM] [Warning] No further splits with positive gain, best gain: -inf\n",
      "[LightGBM] [Debug] Trained a tree with leaves = 15 and depth = 4\n",
      "[LightGBM] [Debug] Trained a tree with leaves = 16 and depth = 4\n",
      "[LightGBM] [Warning] No further splits with positive gain, best gain: -inf\n",
      "[LightGBM] [Debug] Trained a tree with leaves = 15 and depth = 4\n",
      "[LightGBM] [Debug] Trained a tree with leaves = 16 and depth = 4\n",
      "[LightGBM] [Warning] No further splits with positive gain, best gain: -inf\n",
      "[LightGBM] [Debug] Trained a tree with leaves = 15 and depth = 4\n",
      "[LightGBM] [Warning] No further splits with positive gain, best gain: -inf\n",
      "[LightGBM] [Debug] Trained a tree with leaves = 15 and depth = 4\n"
     ]
    },
    {
     "name": "stdout",
     "output_type": "stream",
     "text": [
      "[LightGBM] [Debug] Trained a tree with leaves = 16 and depth = 4\n",
      "[LightGBM] [Warning] No further splits with positive gain, best gain: -inf\n",
      "[LightGBM] [Debug] Trained a tree with leaves = 15 and depth = 4\n",
      "[LightGBM] [Debug] Trained a tree with leaves = 16 and depth = 4\n",
      "[LightGBM] [Debug] Trained a tree with leaves = 16 and depth = 4\n",
      "[LightGBM] [Debug] Trained a tree with leaves = 16 and depth = 4\n",
      "[LightGBM] [Debug] Trained a tree with leaves = 16 and depth = 4\n",
      "[LightGBM] [Debug] Trained a tree with leaves = 16 and depth = 4\n",
      "[LightGBM] [Debug] Trained a tree with leaves = 16 and depth = 4\n",
      "[LightGBM] [Warning] No further splits with positive gain, best gain: -inf\n",
      "[LightGBM] [Debug] Trained a tree with leaves = 13 and depth = 4\n",
      "[LightGBM] [Debug] Trained a tree with leaves = 16 and depth = 4\n",
      "[LightGBM] [Debug] Trained a tree with leaves = 16 and depth = 4\n",
      "[LightGBM] [Warning] No further splits with positive gain, best gain: -inf\n",
      "[LightGBM] [Debug] Trained a tree with leaves = 15 and depth = 4\n",
      "[LightGBM] [Debug] Trained a tree with leaves = 16 and depth = 4\n",
      "[LightGBM] [Warning] No further splits with positive gain, best gain: -inf\n",
      "[LightGBM] [Debug] Trained a tree with leaves = 15 and depth = 4\n",
      "[LightGBM] [Debug] Trained a tree with leaves = 16 and depth = 4\n",
      "[LightGBM] [Debug] Trained a tree with leaves = 16 and depth = 4\n",
      "[LightGBM] [Warning] No further splits with positive gain, best gain: -inf\n",
      "[LightGBM] [Debug] Trained a tree with leaves = 15 and depth = 4\n",
      "[LightGBM] [Warning] No further splits with positive gain, best gain: -inf\n",
      "[LightGBM] [Debug] Trained a tree with leaves = 14 and depth = 4\n",
      "[LightGBM] [Debug] Trained a tree with leaves = 16 and depth = 4\n",
      "[LightGBM] [Debug] Trained a tree with leaves = 16 and depth = 4\n",
      "[LightGBM] [Debug] Trained a tree with leaves = 16 and depth = 4\n",
      "[LightGBM] [Debug] Trained a tree with leaves = 16 and depth = 4\n",
      "[LightGBM] [Debug] Trained a tree with leaves = 16 and depth = 4\n",
      "[LightGBM] [Warning] No further splits with positive gain, best gain: -inf\n",
      "[LightGBM] [Debug] Trained a tree with leaves = 11 and depth = 4\n",
      "[LightGBM] [Debug] Trained a tree with leaves = 16 and depth = 4\n",
      "[LightGBM] [Debug] Trained a tree with leaves = 16 and depth = 4\n",
      "[LightGBM] [Debug] Trained a tree with leaves = 16 and depth = 4\n",
      "[LightGBM] [Warning] No further splits with positive gain, best gain: -inf\n",
      "[LightGBM] [Debug] Trained a tree with leaves = 15 and depth = 4\n",
      "[LightGBM] [Debug] Trained a tree with leaves = 16 and depth = 4\n",
      "[LightGBM] [Debug] Trained a tree with leaves = 16 and depth = 4\n",
      "[LightGBM] [Warning] No further splits with positive gain, best gain: -inf\n",
      "[LightGBM] [Debug] Trained a tree with leaves = 14 and depth = 4\n",
      "[LightGBM] [Debug] Trained a tree with leaves = 16 and depth = 4\n",
      "[LightGBM] [Debug] Trained a tree with leaves = 16 and depth = 4\n",
      "[LightGBM] [Warning] No further splits with positive gain, best gain: -inf\n",
      "[LightGBM] [Debug] Trained a tree with leaves = 15 and depth = 4\n",
      "[LightGBM] [Warning] No further splits with positive gain, best gain: -inf\n",
      "[LightGBM] [Debug] Trained a tree with leaves = 15 and depth = 4\n",
      "[LightGBM] [Warning] No further splits with positive gain, best gain: -inf\n",
      "[LightGBM] [Debug] Trained a tree with leaves = 11 and depth = 4\n",
      "[LightGBM] [Debug] Trained a tree with leaves = 16 and depth = 4\n",
      "[LightGBM] [Debug] Trained a tree with leaves = 16 and depth = 4\n",
      "[LightGBM] [Debug] Trained a tree with leaves = 16 and depth = 4\n",
      "[LightGBM] [Warning] No further splits with positive gain, best gain: -inf\n",
      "[LightGBM] [Debug] Trained a tree with leaves = 14 and depth = 4\n",
      "[LightGBM] [Debug] Trained a tree with leaves = 16 and depth = 4\n",
      "[LightGBM] [Warning] No further splits with positive gain, best gain: -inf\n",
      "[LightGBM] [Debug] Trained a tree with leaves = 15 and depth = 4\n",
      "[LightGBM] [Debug] Trained a tree with leaves = 16 and depth = 4\n",
      "[LightGBM] [Warning] No further splits with positive gain, best gain: -inf\n",
      "[LightGBM] [Debug] Trained a tree with leaves = 15 and depth = 4\n",
      "[LightGBM] [Debug] Trained a tree with leaves = 16 and depth = 4\n",
      "[LightGBM] [Debug] Trained a tree with leaves = 16 and depth = 4\n",
      "[LightGBM] [Debug] Trained a tree with leaves = 16 and depth = 4\n",
      "[LightGBM] [Debug] Trained a tree with leaves = 16 and depth = 4\n",
      "[LightGBM] [Debug] Trained a tree with leaves = 16 and depth = 4\n",
      "[LightGBM] [Debug] Trained a tree with leaves = 16 and depth = 4\n",
      "[LightGBM] [Debug] Trained a tree with leaves = 16 and depth = 4\n",
      "[LightGBM] [Debug] Trained a tree with leaves = 16 and depth = 4\n",
      "[LightGBM] [Debug] Trained a tree with leaves = 16 and depth = 4\n",
      "[LightGBM] [Warning] No further splits with positive gain, best gain: -inf\n",
      "[LightGBM] [Debug] Trained a tree with leaves = 11 and depth = 4\n",
      "[LightGBM] [Debug] Trained a tree with leaves = 16 and depth = 4\n",
      "[LightGBM] [Debug] Trained a tree with leaves = 16 and depth = 4\n",
      "[LightGBM] [Warning] No further splits with positive gain, best gain: -inf\n",
      "[LightGBM] [Debug] Trained a tree with leaves = 15 and depth = 4\n",
      "[LightGBM] [Debug] Trained a tree with leaves = 16 and depth = 4\n",
      "[LightGBM] [Debug] Trained a tree with leaves = 16 and depth = 4\n",
      "[LightGBM] [Debug] Trained a tree with leaves = 16 and depth = 4\n",
      "[LightGBM] [Debug] Trained a tree with leaves = 16 and depth = 4\n",
      "[LightGBM] [Debug] Trained a tree with leaves = 16 and depth = 4\n",
      "[LightGBM] [Warning] No further splits with positive gain, best gain: -inf\n",
      "[LightGBM] [Debug] Trained a tree with leaves = 15 and depth = 4\n",
      "[LightGBM] [Debug] Trained a tree with leaves = 16 and depth = 4\n",
      "[LightGBM] [Warning] No further splits with positive gain, best gain: -inf\n",
      "[LightGBM] [Debug] Trained a tree with leaves = 15 and depth = 4\n",
      "[LightGBM] [Warning] No further splits with positive gain, best gain: -inf\n",
      "[LightGBM] [Debug] Trained a tree with leaves = 15 and depth = 4\n",
      "[LightGBM] [Debug] Trained a tree with leaves = 16 and depth = 4\n",
      "[LightGBM] [Debug] Trained a tree with leaves = 16 and depth = 4\n",
      "[LightGBM] [Debug] Trained a tree with leaves = 16 and depth = 4\n",
      "[LightGBM] [Debug] Trained a tree with leaves = 16 and depth = 4\n",
      "[LightGBM] [Warning] No further splits with positive gain, best gain: -inf\n",
      "[LightGBM] [Debug] Trained a tree with leaves = 9 and depth = 4\n",
      "[LightGBM] [Debug] Trained a tree with leaves = 16 and depth = 4\n",
      "[LightGBM] [Debug] Trained a tree with leaves = 16 and depth = 4\n",
      "[LightGBM] [Debug] Trained a tree with leaves = 16 and depth = 4\n",
      "[LightGBM] [Warning] No further splits with positive gain, best gain: -inf\n",
      "[LightGBM] [Debug] Trained a tree with leaves = 14 and depth = 4\n",
      "[LightGBM] [Debug] Trained a tree with leaves = 16 and depth = 4\n",
      "[LightGBM] [Debug] Trained a tree with leaves = 16 and depth = 4\n",
      "[LightGBM] [Warning] No further splits with positive gain, best gain: -inf\n",
      "[LightGBM] [Debug] Trained a tree with leaves = 15 and depth = 4\n",
      "[LightGBM] [Debug] Trained a tree with leaves = 16 and depth = 4\n",
      "[LightGBM] [Warning] No further splits with positive gain, best gain: -inf\n",
      "[LightGBM] [Debug] Trained a tree with leaves = 11 and depth = 4\n",
      "[LightGBM] [Debug] Trained a tree with leaves = 16 and depth = 4\n",
      "[LightGBM] [Warning] No further splits with positive gain, best gain: -inf\n",
      "[LightGBM] [Debug] Trained a tree with leaves = 15 and depth = 4\n",
      "[LightGBM] [Debug] Trained a tree with leaves = 16 and depth = 4\n",
      "[LightGBM] [Debug] Trained a tree with leaves = 16 and depth = 4\n",
      "[LightGBM] [Debug] Trained a tree with leaves = 16 and depth = 4\n",
      "[LightGBM] [Debug] Trained a tree with leaves = 16 and depth = 4\n",
      "[LightGBM] [Debug] Trained a tree with leaves = 16 and depth = 4\n",
      "[LightGBM] [Debug] Trained a tree with leaves = 16 and depth = 4\n",
      "[LightGBM] [Debug] Trained a tree with leaves = 16 and depth = 4\n",
      "[LightGBM] [Debug] Trained a tree with leaves = 16 and depth = 4\n",
      "[LightGBM] [Warning] No further splits with positive gain, best gain: -inf\n",
      "[LightGBM] [Debug] Trained a tree with leaves = 15 and depth = 4\n",
      "[LightGBM] [Warning] No further splits with positive gain, best gain: -inf\n",
      "[LightGBM] [Debug] Trained a tree with leaves = 15 and depth = 4\n",
      "[LightGBM] [Warning] No further splits with positive gain, best gain: -inf\n",
      "[LightGBM] [Debug] Trained a tree with leaves = 9 and depth = 4\n",
      "[LightGBM] [Debug] Trained a tree with leaves = 16 and depth = 4\n",
      "[LightGBM] [Debug] Trained a tree with leaves = 16 and depth = 4\n",
      "[LightGBM] [Debug] Trained a tree with leaves = 16 and depth = 4\n",
      "[LightGBM] [Warning] No further splits with positive gain, best gain: -inf\n",
      "[LightGBM] [Debug] Trained a tree with leaves = 15 and depth = 4\n"
     ]
    },
    {
     "name": "stdout",
     "output_type": "stream",
     "text": [
      "[LightGBM] [Debug] Dataset::GetMultiBinFromSparseFeatures: sparse rate 0.760539\n",
      "[LightGBM] [Debug] Dataset::GetMultiBinFromAllFeatures: sparse rate 0.180382\n",
      "[LightGBM] [Debug] init for col-wise cost 0.004140 seconds, init for row-wise cost 0.089809 seconds\n",
      "[LightGBM] [Warning] Auto-choosing row-wise multi-threading, the overhead of testing was 0.006420 seconds.\n",
      "You can set `force_row_wise=true` to remove the overhead.\n",
      "And if memory is not enough, you can set `force_col_wise=true`.\n",
      "[LightGBM] [Debug] Using Dense Multi-Val Bin\n",
      "[LightGBM] [Info] Total Bins 583\n",
      "[LightGBM] [Info] Number of data points in the train set: 195777, number of used features: 9\n",
      "[LightGBM] [Info] Start training from score 4627.612855\n",
      "[LightGBM] [Debug] Trained a tree with leaves = 16 and depth = 4\n",
      "[LightGBM] [Debug] Trained a tree with leaves = 16 and depth = 4\n",
      "[LightGBM] [Debug] Trained a tree with leaves = 16 and depth = 4\n",
      "[LightGBM] [Debug] Trained a tree with leaves = 16 and depth = 4\n",
      "[LightGBM] [Debug] Trained a tree with leaves = 16 and depth = 4\n",
      "[LightGBM] [Debug] Trained a tree with leaves = 16 and depth = 4\n",
      "[LightGBM] [Debug] Trained a tree with leaves = 16 and depth = 4\n",
      "[LightGBM] [Debug] Trained a tree with leaves = 16 and depth = 4\n",
      "[LightGBM] [Debug] Trained a tree with leaves = 16 and depth = 4\n",
      "[LightGBM] [Debug] Trained a tree with leaves = 16 and depth = 4\n",
      "[LightGBM] [Debug] Trained a tree with leaves = 16 and depth = 4\n",
      "[LightGBM] [Debug] Trained a tree with leaves = 16 and depth = 4\n",
      "[LightGBM] [Debug] Trained a tree with leaves = 16 and depth = 4\n",
      "[LightGBM] [Debug] Trained a tree with leaves = 16 and depth = 4\n",
      "[LightGBM] [Debug] Trained a tree with leaves = 16 and depth = 4\n",
      "[LightGBM] [Debug] Trained a tree with leaves = 16 and depth = 4\n",
      "[LightGBM] [Debug] Trained a tree with leaves = 16 and depth = 4\n",
      "[LightGBM] [Debug] Trained a tree with leaves = 16 and depth = 4\n",
      "[LightGBM] [Debug] Trained a tree with leaves = 16 and depth = 4\n",
      "[LightGBM] [Debug] Trained a tree with leaves = 16 and depth = 4\n",
      "[LightGBM] [Debug] Trained a tree with leaves = 16 and depth = 4\n",
      "[LightGBM] [Debug] Trained a tree with leaves = 16 and depth = 4\n",
      "[LightGBM] [Debug] Trained a tree with leaves = 16 and depth = 4\n",
      "[LightGBM] [Debug] Trained a tree with leaves = 16 and depth = 4\n",
      "[LightGBM] [Debug] Trained a tree with leaves = 16 and depth = 4\n",
      "[LightGBM] [Debug] Trained a tree with leaves = 16 and depth = 4\n",
      "[LightGBM] [Debug] Trained a tree with leaves = 16 and depth = 4\n",
      "[LightGBM] [Debug] Trained a tree with leaves = 16 and depth = 4\n",
      "[LightGBM] [Debug] Trained a tree with leaves = 16 and depth = 4\n",
      "[LightGBM] [Debug] Trained a tree with leaves = 16 and depth = 4\n",
      "[LightGBM] [Debug] Trained a tree with leaves = 16 and depth = 4\n",
      "[LightGBM] [Debug] Trained a tree with leaves = 16 and depth = 4\n",
      "[LightGBM] [Debug] Trained a tree with leaves = 16 and depth = 4\n",
      "[LightGBM] [Debug] Trained a tree with leaves = 16 and depth = 4\n",
      "[LightGBM] [Debug] Trained a tree with leaves = 16 and depth = 4\n",
      "[LightGBM] [Debug] Trained a tree with leaves = 16 and depth = 4\n",
      "[LightGBM] [Debug] Trained a tree with leaves = 16 and depth = 4\n",
      "[LightGBM] [Debug] Trained a tree with leaves = 16 and depth = 4\n",
      "[LightGBM] [Debug] Trained a tree with leaves = 16 and depth = 4\n",
      "[LightGBM] [Debug] Trained a tree with leaves = 16 and depth = 4\n",
      "[LightGBM] [Debug] Trained a tree with leaves = 16 and depth = 4\n",
      "[LightGBM] [Debug] Trained a tree with leaves = 16 and depth = 4\n",
      "[LightGBM] [Debug] Trained a tree with leaves = 16 and depth = 4\n",
      "[LightGBM] [Debug] Trained a tree with leaves = 16 and depth = 4\n",
      "[LightGBM] [Debug] Trained a tree with leaves = 16 and depth = 4\n",
      "[LightGBM] [Debug] Trained a tree with leaves = 16 and depth = 4\n",
      "[LightGBM] [Debug] Trained a tree with leaves = 16 and depth = 4\n",
      "[LightGBM] [Debug] Trained a tree with leaves = 16 and depth = 4\n",
      "[LightGBM] [Debug] Trained a tree with leaves = 16 and depth = 4\n",
      "[LightGBM] [Debug] Trained a tree with leaves = 16 and depth = 4\n",
      "[LightGBM] [Debug] Trained a tree with leaves = 16 and depth = 4\n",
      "[LightGBM] [Debug] Trained a tree with leaves = 16 and depth = 4\n",
      "[LightGBM] [Debug] Trained a tree with leaves = 16 and depth = 4\n",
      "[LightGBM] [Debug] Trained a tree with leaves = 16 and depth = 4\n",
      "[LightGBM] [Debug] Trained a tree with leaves = 16 and depth = 4\n",
      "[LightGBM] [Debug] Trained a tree with leaves = 16 and depth = 4\n",
      "[LightGBM] [Debug] Trained a tree with leaves = 16 and depth = 4\n",
      "[LightGBM] [Debug] Trained a tree with leaves = 16 and depth = 4\n",
      "[LightGBM] [Debug] Trained a tree with leaves = 16 and depth = 4\n",
      "[LightGBM] [Debug] Trained a tree with leaves = 16 and depth = 4\n",
      "[LightGBM] [Debug] Trained a tree with leaves = 16 and depth = 4\n",
      "[LightGBM] [Debug] Trained a tree with leaves = 16 and depth = 4\n",
      "[LightGBM] [Debug] Trained a tree with leaves = 16 and depth = 4\n",
      "[LightGBM] [Debug] Trained a tree with leaves = 16 and depth = 4\n",
      "[LightGBM] [Warning] No further splits with positive gain, best gain: -inf\n",
      "[LightGBM] [Debug] Trained a tree with leaves = 15 and depth = 4\n",
      "[LightGBM] [Debug] Trained a tree with leaves = 16 and depth = 4\n",
      "[LightGBM] [Warning] No further splits with positive gain, best gain: -inf\n",
      "[LightGBM] [Debug] Trained a tree with leaves = 15 and depth = 4\n",
      "[LightGBM] [Debug] Trained a tree with leaves = 16 and depth = 4\n",
      "[LightGBM] [Debug] Trained a tree with leaves = 16 and depth = 4\n",
      "[LightGBM] [Debug] Trained a tree with leaves = 16 and depth = 4\n",
      "[LightGBM] [Debug] Trained a tree with leaves = 16 and depth = 4\n",
      "[LightGBM] [Debug] Trained a tree with leaves = 16 and depth = 4\n",
      "[LightGBM] [Debug] Trained a tree with leaves = 16 and depth = 4\n",
      "[LightGBM] [Debug] Trained a tree with leaves = 16 and depth = 4\n",
      "[LightGBM] [Warning] No further splits with positive gain, best gain: -inf\n",
      "[LightGBM] [Debug] Trained a tree with leaves = 15 and depth = 4\n",
      "[LightGBM] [Debug] Trained a tree with leaves = 16 and depth = 4\n",
      "[LightGBM] [Warning] No further splits with positive gain, best gain: -inf\n",
      "[LightGBM] [Debug] Trained a tree with leaves = 15 and depth = 4\n",
      "[LightGBM] [Debug] Trained a tree with leaves = 16 and depth = 4\n",
      "[LightGBM] [Debug] Trained a tree with leaves = 16 and depth = 4\n",
      "[LightGBM] [Debug] Trained a tree with leaves = 16 and depth = 4\n",
      "[LightGBM] [Warning] No further splits with positive gain, best gain: -inf\n",
      "[LightGBM] [Debug] Trained a tree with leaves = 15 and depth = 4\n",
      "[LightGBM] [Debug] Trained a tree with leaves = 16 and depth = 4\n",
      "[LightGBM] [Warning] No further splits with positive gain, best gain: -inf\n",
      "[LightGBM] [Debug] Trained a tree with leaves = 15 and depth = 4\n",
      "[LightGBM] [Debug] Trained a tree with leaves = 16 and depth = 4\n",
      "[LightGBM] [Debug] Trained a tree with leaves = 16 and depth = 4\n",
      "[LightGBM] [Debug] Trained a tree with leaves = 16 and depth = 4\n",
      "[LightGBM] [Warning] No further splits with positive gain, best gain: -inf\n",
      "[LightGBM] [Debug] Trained a tree with leaves = 14 and depth = 4\n",
      "[LightGBM] [Warning] No further splits with positive gain, best gain: -inf\n",
      "[LightGBM] [Debug] Trained a tree with leaves = 15 and depth = 4\n",
      "[LightGBM] [Debug] Trained a tree with leaves = 16 and depth = 4\n",
      "[LightGBM] [Debug] Trained a tree with leaves = 16 and depth = 4\n",
      "[LightGBM] [Debug] Trained a tree with leaves = 16 and depth = 4\n",
      "[LightGBM] [Warning] No further splits with positive gain, best gain: -inf\n",
      "[LightGBM] [Debug] Trained a tree with leaves = 14 and depth = 4\n",
      "[LightGBM] [Debug] Trained a tree with leaves = 16 and depth = 4\n",
      "[LightGBM] [Debug] Trained a tree with leaves = 16 and depth = 4\n",
      "[LightGBM] [Warning] No further splits with positive gain, best gain: -inf\n",
      "[LightGBM] [Debug] Trained a tree with leaves = 15 and depth = 4\n",
      "[LightGBM] [Debug] Trained a tree with leaves = 16 and depth = 4\n",
      "[LightGBM] [Debug] Trained a tree with leaves = 16 and depth = 4\n",
      "[LightGBM] [Debug] Trained a tree with leaves = 16 and depth = 4\n",
      "[LightGBM] [Warning] No further splits with positive gain, best gain: -inf\n",
      "[LightGBM] [Debug] Trained a tree with leaves = 13 and depth = 4\n",
      "[LightGBM] [Warning] No further splits with positive gain, best gain: -inf\n",
      "[LightGBM] [Debug] Trained a tree with leaves = 15 and depth = 4\n",
      "[LightGBM] [Warning] No further splits with positive gain, best gain: -inf\n",
      "[LightGBM] [Debug] Trained a tree with leaves = 14 and depth = 4\n",
      "[LightGBM] [Debug] Trained a tree with leaves = 16 and depth = 4\n",
      "[LightGBM] [Warning] No further splits with positive gain, best gain: -inf\n",
      "[LightGBM] [Debug] Trained a tree with leaves = 15 and depth = 4\n",
      "[LightGBM] [Debug] Trained a tree with leaves = 16 and depth = 4\n",
      "[LightGBM] [Warning] No further splits with positive gain, best gain: -inf\n",
      "[LightGBM] [Debug] Trained a tree with leaves = 15 and depth = 4\n",
      "[LightGBM] [Warning] No further splits with positive gain, best gain: -inf\n",
      "[LightGBM] [Debug] Trained a tree with leaves = 13 and depth = 4\n",
      "[LightGBM] [Warning] No further splits with positive gain, best gain: -inf\n",
      "[LightGBM] [Debug] Trained a tree with leaves = 14 and depth = 4\n",
      "[LightGBM] [Debug] Trained a tree with leaves = 16 and depth = 4\n"
     ]
    },
    {
     "name": "stdout",
     "output_type": "stream",
     "text": [
      "[LightGBM] [Debug] Trained a tree with leaves = 16 and depth = 4\n",
      "[LightGBM] [Warning] No further splits with positive gain, best gain: -inf\n",
      "[LightGBM] [Debug] Trained a tree with leaves = 15 and depth = 4\n",
      "[LightGBM] [Warning] No further splits with positive gain, best gain: -inf\n",
      "[LightGBM] [Debug] Trained a tree with leaves = 15 and depth = 4\n",
      "[LightGBM] [Warning] No further splits with positive gain, best gain: -inf\n",
      "[LightGBM] [Debug] Trained a tree with leaves = 13 and depth = 4\n",
      "[LightGBM] [Warning] No further splits with positive gain, best gain: -inf\n",
      "[LightGBM] [Debug] Trained a tree with leaves = 15 and depth = 4\n",
      "[LightGBM] [Debug] Trained a tree with leaves = 16 and depth = 4\n",
      "[LightGBM] [Debug] Trained a tree with leaves = 16 and depth = 4\n",
      "[LightGBM] [Warning] No further splits with positive gain, best gain: -inf\n",
      "[LightGBM] [Debug] Trained a tree with leaves = 15 and depth = 4\n",
      "[LightGBM] [Debug] Trained a tree with leaves = 16 and depth = 4\n",
      "[LightGBM] [Debug] Trained a tree with leaves = 16 and depth = 4\n",
      "[LightGBM] [Warning] No further splits with positive gain, best gain: -inf\n",
      "[LightGBM] [Debug] Trained a tree with leaves = 13 and depth = 4\n",
      "[LightGBM] [Debug] Trained a tree with leaves = 16 and depth = 4\n",
      "[LightGBM] [Warning] No further splits with positive gain, best gain: -inf\n",
      "[LightGBM] [Debug] Trained a tree with leaves = 14 and depth = 4\n",
      "[LightGBM] [Debug] Trained a tree with leaves = 16 and depth = 4\n",
      "[LightGBM] [Debug] Trained a tree with leaves = 16 and depth = 4\n",
      "[LightGBM] [Debug] Trained a tree with leaves = 16 and depth = 4\n",
      "[LightGBM] [Debug] Trained a tree with leaves = 16 and depth = 4\n",
      "[LightGBM] [Warning] No further splits with positive gain, best gain: -inf\n",
      "[LightGBM] [Debug] Trained a tree with leaves = 13 and depth = 4\n",
      "[LightGBM] [Debug] Trained a tree with leaves = 16 and depth = 4\n",
      "[LightGBM] [Debug] Trained a tree with leaves = 16 and depth = 4\n",
      "[LightGBM] [Debug] Trained a tree with leaves = 16 and depth = 4\n",
      "[LightGBM] [Warning] No further splits with positive gain, best gain: -inf\n",
      "[LightGBM] [Debug] Trained a tree with leaves = 15 and depth = 4\n",
      "[LightGBM] [Debug] Trained a tree with leaves = 16 and depth = 4\n",
      "[LightGBM] [Debug] Trained a tree with leaves = 16 and depth = 4\n",
      "[LightGBM] [Debug] Trained a tree with leaves = 16 and depth = 4\n",
      "[LightGBM] [Debug] Trained a tree with leaves = 16 and depth = 4\n",
      "[LightGBM] [Warning] No further splits with positive gain, best gain: -inf\n",
      "[LightGBM] [Debug] Trained a tree with leaves = 15 and depth = 4\n",
      "[LightGBM] [Warning] No further splits with positive gain, best gain: -inf\n",
      "[LightGBM] [Debug] Trained a tree with leaves = 13 and depth = 4\n",
      "[LightGBM] [Debug] Trained a tree with leaves = 16 and depth = 4\n",
      "[LightGBM] [Warning] No further splits with positive gain, best gain: -inf\n",
      "[LightGBM] [Debug] Trained a tree with leaves = 15 and depth = 4\n",
      "[LightGBM] [Debug] Trained a tree with leaves = 16 and depth = 4\n",
      "[LightGBM] [Debug] Trained a tree with leaves = 16 and depth = 4\n",
      "[LightGBM] [Debug] Trained a tree with leaves = 16 and depth = 4\n",
      "[LightGBM] [Debug] Trained a tree with leaves = 16 and depth = 4\n",
      "[LightGBM] [Debug] Trained a tree with leaves = 16 and depth = 4\n",
      "[LightGBM] [Debug] Trained a tree with leaves = 16 and depth = 4\n",
      "[LightGBM] [Warning] No further splits with positive gain, best gain: -inf\n",
      "[LightGBM] [Debug] Trained a tree with leaves = 13 and depth = 4\n",
      "[LightGBM] [Debug] Trained a tree with leaves = 16 and depth = 4\n",
      "[LightGBM] [Debug] Trained a tree with leaves = 16 and depth = 4\n",
      "[LightGBM] [Warning] No further splits with positive gain, best gain: -inf\n",
      "[LightGBM] [Debug] Trained a tree with leaves = 15 and depth = 4\n",
      "[LightGBM] [Debug] Trained a tree with leaves = 16 and depth = 4\n",
      "[LightGBM] [Warning] No further splits with positive gain, best gain: -inf\n",
      "[LightGBM] [Debug] Trained a tree with leaves = 15 and depth = 4\n",
      "[LightGBM] [Debug] Trained a tree with leaves = 16 and depth = 4\n",
      "[LightGBM] [Warning] No further splits with positive gain, best gain: -inf\n",
      "[LightGBM] [Debug] Trained a tree with leaves = 15 and depth = 4\n",
      "[LightGBM] [Warning] No further splits with positive gain, best gain: -inf\n",
      "[LightGBM] [Debug] Trained a tree with leaves = 15 and depth = 4\n",
      "[LightGBM] [Debug] Trained a tree with leaves = 16 and depth = 4\n",
      "[LightGBM] [Warning] No further splits with positive gain, best gain: -inf\n",
      "[LightGBM] [Debug] Trained a tree with leaves = 15 and depth = 4\n",
      "[LightGBM] [Debug] Trained a tree with leaves = 16 and depth = 4\n",
      "[LightGBM] [Debug] Trained a tree with leaves = 16 and depth = 4\n",
      "[LightGBM] [Debug] Trained a tree with leaves = 16 and depth = 4\n",
      "[LightGBM] [Debug] Trained a tree with leaves = 16 and depth = 4\n",
      "[LightGBM] [Debug] Trained a tree with leaves = 16 and depth = 4\n",
      "[LightGBM] [Debug] Trained a tree with leaves = 16 and depth = 4\n",
      "[LightGBM] [Warning] No further splits with positive gain, best gain: -inf\n",
      "[LightGBM] [Debug] Trained a tree with leaves = 13 and depth = 4\n",
      "[LightGBM] [Debug] Trained a tree with leaves = 16 and depth = 4\n",
      "[LightGBM] [Debug] Trained a tree with leaves = 16 and depth = 4\n",
      "[LightGBM] [Warning] No further splits with positive gain, best gain: -inf\n",
      "[LightGBM] [Debug] Trained a tree with leaves = 15 and depth = 4\n",
      "[LightGBM] [Debug] Trained a tree with leaves = 16 and depth = 4\n",
      "[LightGBM] [Warning] No further splits with positive gain, best gain: -inf\n",
      "[LightGBM] [Debug] Trained a tree with leaves = 15 and depth = 4\n",
      "[LightGBM] [Debug] Trained a tree with leaves = 16 and depth = 4\n",
      "[LightGBM] [Debug] Trained a tree with leaves = 16 and depth = 4\n",
      "[LightGBM] [Warning] No further splits with positive gain, best gain: -inf\n",
      "[LightGBM] [Debug] Trained a tree with leaves = 15 and depth = 4\n",
      "[LightGBM] [Warning] No further splits with positive gain, best gain: -inf\n",
      "[LightGBM] [Debug] Trained a tree with leaves = 14 and depth = 4\n",
      "[LightGBM] [Debug] Trained a tree with leaves = 16 and depth = 4\n",
      "[LightGBM] [Debug] Trained a tree with leaves = 16 and depth = 4\n",
      "[LightGBM] [Debug] Trained a tree with leaves = 16 and depth = 4\n",
      "[LightGBM] [Debug] Trained a tree with leaves = 16 and depth = 4\n",
      "[LightGBM] [Debug] Trained a tree with leaves = 16 and depth = 4\n",
      "[LightGBM] [Warning] No further splits with positive gain, best gain: -inf\n",
      "[LightGBM] [Debug] Trained a tree with leaves = 11 and depth = 4\n",
      "[LightGBM] [Debug] Trained a tree with leaves = 16 and depth = 4\n",
      "[LightGBM] [Debug] Trained a tree with leaves = 16 and depth = 4\n",
      "[LightGBM] [Debug] Trained a tree with leaves = 16 and depth = 4\n",
      "[LightGBM] [Warning] No further splits with positive gain, best gain: -inf\n",
      "[LightGBM] [Debug] Trained a tree with leaves = 15 and depth = 4\n",
      "[LightGBM] [Debug] Trained a tree with leaves = 16 and depth = 4\n",
      "[LightGBM] [Debug] Trained a tree with leaves = 16 and depth = 4\n",
      "[LightGBM] [Warning] No further splits with positive gain, best gain: -inf\n",
      "[LightGBM] [Debug] Trained a tree with leaves = 14 and depth = 4\n",
      "[LightGBM] [Debug] Trained a tree with leaves = 16 and depth = 4\n",
      "[LightGBM] [Debug] Trained a tree with leaves = 16 and depth = 4\n",
      "[LightGBM] [Warning] No further splits with positive gain, best gain: -inf\n",
      "[LightGBM] [Debug] Trained a tree with leaves = 15 and depth = 4\n",
      "[LightGBM] [Warning] No further splits with positive gain, best gain: -inf\n",
      "[LightGBM] [Debug] Trained a tree with leaves = 15 and depth = 4\n",
      "[LightGBM] [Warning] No further splits with positive gain, best gain: -inf\n",
      "[LightGBM] [Debug] Trained a tree with leaves = 11 and depth = 4\n",
      "[LightGBM] [Debug] Trained a tree with leaves = 16 and depth = 4\n",
      "[LightGBM] [Debug] Trained a tree with leaves = 16 and depth = 4\n",
      "[LightGBM] [Debug] Trained a tree with leaves = 16 and depth = 4\n",
      "[LightGBM] [Warning] No further splits with positive gain, best gain: -inf\n",
      "[LightGBM] [Debug] Trained a tree with leaves = 14 and depth = 4\n",
      "[LightGBM] [Debug] Trained a tree with leaves = 16 and depth = 4\n",
      "[LightGBM] [Warning] No further splits with positive gain, best gain: -inf\n",
      "[LightGBM] [Debug] Trained a tree with leaves = 15 and depth = 4\n",
      "[LightGBM] [Debug] Trained a tree with leaves = 16 and depth = 4\n",
      "[LightGBM] [Warning] No further splits with positive gain, best gain: -inf\n",
      "[LightGBM] [Debug] Trained a tree with leaves = 15 and depth = 4\n",
      "[LightGBM] [Debug] Trained a tree with leaves = 16 and depth = 4\n"
     ]
    },
    {
     "name": "stdout",
     "output_type": "stream",
     "text": [
      "[LightGBM] [Debug] Trained a tree with leaves = 16 and depth = 4\n",
      "[LightGBM] [Debug] Trained a tree with leaves = 16 and depth = 4\n",
      "[LightGBM] [Debug] Trained a tree with leaves = 16 and depth = 4\n",
      "[LightGBM] [Debug] Trained a tree with leaves = 16 and depth = 4\n",
      "[LightGBM] [Debug] Trained a tree with leaves = 16 and depth = 4\n",
      "[LightGBM] [Debug] Trained a tree with leaves = 16 and depth = 4\n",
      "[LightGBM] [Debug] Trained a tree with leaves = 16 and depth = 4\n",
      "[LightGBM] [Debug] Trained a tree with leaves = 16 and depth = 4\n",
      "[LightGBM] [Warning] No further splits with positive gain, best gain: -inf\n",
      "[LightGBM] [Debug] Trained a tree with leaves = 11 and depth = 4\n",
      "[LightGBM] [Debug] Trained a tree with leaves = 16 and depth = 4\n",
      "[LightGBM] [Debug] Trained a tree with leaves = 16 and depth = 4\n",
      "[LightGBM] [Warning] No further splits with positive gain, best gain: -inf\n",
      "[LightGBM] [Debug] Trained a tree with leaves = 15 and depth = 4\n",
      "[LightGBM] [Debug] Trained a tree with leaves = 16 and depth = 4\n",
      "[LightGBM] [Debug] Trained a tree with leaves = 16 and depth = 4\n",
      "[LightGBM] [Debug] Trained a tree with leaves = 16 and depth = 4\n",
      "[LightGBM] [Debug] Trained a tree with leaves = 16 and depth = 4\n",
      "[LightGBM] [Debug] Trained a tree with leaves = 16 and depth = 4\n",
      "[LightGBM] [Warning] No further splits with positive gain, best gain: -inf\n",
      "[LightGBM] [Debug] Trained a tree with leaves = 15 and depth = 4\n",
      "[LightGBM] [Debug] Trained a tree with leaves = 16 and depth = 4\n",
      "[LightGBM] [Warning] No further splits with positive gain, best gain: -inf\n",
      "[LightGBM] [Debug] Trained a tree with leaves = 15 and depth = 4\n",
      "[LightGBM] [Warning] No further splits with positive gain, best gain: -inf\n",
      "[LightGBM] [Debug] Trained a tree with leaves = 15 and depth = 4\n",
      "[LightGBM] [Debug] Trained a tree with leaves = 16 and depth = 4\n",
      "[LightGBM] [Debug] Trained a tree with leaves = 16 and depth = 4\n",
      "[LightGBM] [Debug] Trained a tree with leaves = 16 and depth = 4\n",
      "[LightGBM] [Debug] Trained a tree with leaves = 16 and depth = 4\n",
      "[LightGBM] [Warning] No further splits with positive gain, best gain: -inf\n",
      "[LightGBM] [Debug] Trained a tree with leaves = 9 and depth = 4\n",
      "[LightGBM] [Debug] Trained a tree with leaves = 16 and depth = 4\n",
      "[LightGBM] [Debug] Trained a tree with leaves = 16 and depth = 4\n",
      "[LightGBM] [Debug] Trained a tree with leaves = 16 and depth = 4\n",
      "[LightGBM] [Warning] No further splits with positive gain, best gain: -inf\n",
      "[LightGBM] [Debug] Trained a tree with leaves = 14 and depth = 4\n",
      "[LightGBM] [Debug] Trained a tree with leaves = 16 and depth = 4\n",
      "[LightGBM] [Debug] Trained a tree with leaves = 16 and depth = 4\n",
      "[LightGBM] [Warning] No further splits with positive gain, best gain: -inf\n",
      "[LightGBM] [Debug] Trained a tree with leaves = 15 and depth = 4\n",
      "[LightGBM] [Debug] Trained a tree with leaves = 16 and depth = 4\n",
      "[LightGBM] [Warning] No further splits with positive gain, best gain: -inf\n",
      "[LightGBM] [Debug] Trained a tree with leaves = 11 and depth = 4\n",
      "[LightGBM] [Debug] Trained a tree with leaves = 16 and depth = 4\n",
      "[LightGBM] [Warning] No further splits with positive gain, best gain: -inf\n",
      "[LightGBM] [Debug] Trained a tree with leaves = 15 and depth = 4\n",
      "[LightGBM] [Debug] Trained a tree with leaves = 16 and depth = 4\n",
      "[LightGBM] [Debug] Trained a tree with leaves = 16 and depth = 4\n",
      "[LightGBM] [Debug] Trained a tree with leaves = 16 and depth = 4\n",
      "[LightGBM] [Debug] Trained a tree with leaves = 16 and depth = 4\n",
      "[LightGBM] [Debug] Trained a tree with leaves = 16 and depth = 4\n",
      "[LightGBM] [Debug] Trained a tree with leaves = 16 and depth = 4\n",
      "[LightGBM] [Debug] Trained a tree with leaves = 16 and depth = 4\n",
      "[LightGBM] [Debug] Trained a tree with leaves = 16 and depth = 4\n",
      "[LightGBM] [Warning] No further splits with positive gain, best gain: -inf\n",
      "[LightGBM] [Debug] Trained a tree with leaves = 15 and depth = 4\n",
      "[LightGBM] [Warning] No further splits with positive gain, best gain: -inf\n",
      "[LightGBM] [Debug] Trained a tree with leaves = 15 and depth = 4\n",
      "[LightGBM] [Warning] No further splits with positive gain, best gain: -inf\n",
      "[LightGBM] [Debug] Trained a tree with leaves = 9 and depth = 4\n",
      "[LightGBM] [Debug] Trained a tree with leaves = 16 and depth = 4\n",
      "[LightGBM] [Debug] Trained a tree with leaves = 16 and depth = 4\n",
      "[LightGBM] [Debug] Trained a tree with leaves = 16 and depth = 4\n",
      "[LightGBM] [Warning] No further splits with positive gain, best gain: -inf\n",
      "[LightGBM] [Debug] Trained a tree with leaves = 15 and depth = 4\n",
      "[LightGBM] [Warning] No further splits with positive gain, best gain: -inf\n",
      "[LightGBM] [Debug] Trained a tree with leaves = 13 and depth = 4\n",
      "[LightGBM] [Warning] No further splits with positive gain, best gain: -inf\n",
      "[LightGBM] [Debug] Trained a tree with leaves = 14 and depth = 4\n",
      "[LightGBM] [Warning] No further splits with positive gain, best gain: -inf\n",
      "[LightGBM] [Debug] Trained a tree with leaves = 11 and depth = 4\n",
      "[LightGBM] [Debug] Trained a tree with leaves = 16 and depth = 4\n",
      "[LightGBM] [Debug] Trained a tree with leaves = 16 and depth = 4\n",
      "[LightGBM] [Warning] No further splits with positive gain, best gain: -inf\n",
      "[LightGBM] [Debug] Trained a tree with leaves = 15 and depth = 4\n",
      "[LightGBM] [Debug] Trained a tree with leaves = 16 and depth = 4\n",
      "[LightGBM] [Warning] No further splits with positive gain, best gain: -inf\n",
      "[LightGBM] [Debug] Trained a tree with leaves = 15 and depth = 4\n",
      "[LightGBM] [Debug] Trained a tree with leaves = 16 and depth = 4\n",
      "[LightGBM] [Debug] Trained a tree with leaves = 16 and depth = 4\n",
      "[LightGBM] [Debug] Trained a tree with leaves = 16 and depth = 4\n",
      "[LightGBM] [Debug] Trained a tree with leaves = 16 and depth = 4\n",
      "[LightGBM] [Warning] No further splits with positive gain, best gain: -inf\n",
      "[LightGBM] [Debug] Trained a tree with leaves = 15 and depth = 4\n",
      "[LightGBM] [Debug] Trained a tree with leaves = 16 and depth = 4\n",
      "[LightGBM] [Debug] Trained a tree with leaves = 16 and depth = 4\n",
      "[LightGBM] [Warning] No further splits with positive gain, best gain: -inf\n",
      "[LightGBM] [Debug] Trained a tree with leaves = 9 and depth = 4\n",
      "[LightGBM] [Warning] No further splits with positive gain, best gain: -inf\n",
      "[LightGBM] [Debug] Trained a tree with leaves = 15 and depth = 4\n",
      "[LightGBM] [Warning] No further splits with positive gain, best gain: -inf\n",
      "[LightGBM] [Debug] Trained a tree with leaves = 15 and depth = 4\n",
      "[LightGBM] [Warning] No further splits with positive gain, best gain: -inf\n",
      "[LightGBM] [Debug] Trained a tree with leaves = 14 and depth = 4\n",
      "[LightGBM] [Debug] Trained a tree with leaves = 16 and depth = 4\n",
      "[LightGBM] [Debug] Trained a tree with leaves = 16 and depth = 4\n",
      "[LightGBM] [Debug] Trained a tree with leaves = 16 and depth = 4\n",
      "[LightGBM] [Debug] Trained a tree with leaves = 16 and depth = 4\n",
      "[LightGBM] [Debug] Trained a tree with leaves = 16 and depth = 4\n",
      "[LightGBM] [Debug] Trained a tree with leaves = 16 and depth = 4\n",
      "[LightGBM] [Debug] Trained a tree with leaves = 16 and depth = 4\n",
      "[LightGBM] [Warning] No further splits with positive gain, best gain: -inf\n",
      "[LightGBM] [Debug] Trained a tree with leaves = 9 and depth = 4\n",
      "[LightGBM] [Debug] Trained a tree with leaves = 16 and depth = 4\n",
      "[LightGBM] [Debug] Trained a tree with leaves = 16 and depth = 4\n",
      "[LightGBM] [Debug] Trained a tree with leaves = 16 and depth = 4\n",
      "[LightGBM] [Debug] Trained a tree with leaves = 16 and depth = 4\n",
      "[LightGBM] [Debug] Trained a tree with leaves = 16 and depth = 4\n",
      "[LightGBM] [Warning] No further splits with positive gain, best gain: -inf\n",
      "[LightGBM] [Debug] Trained a tree with leaves = 15 and depth = 4\n",
      "[LightGBM] [Warning] No further splits with positive gain, best gain: -inf\n",
      "[LightGBM] [Debug] Trained a tree with leaves = 15 and depth = 4\n",
      "[LightGBM] [Debug] Trained a tree with leaves = 16 and depth = 4\n",
      "[LightGBM] [Warning] No further splits with positive gain, best gain: -inf\n",
      "[LightGBM] [Debug] Trained a tree with leaves = 15 and depth = 4\n",
      "[LightGBM] [Warning] No further splits with positive gain, best gain: -inf\n",
      "[LightGBM] [Debug] Trained a tree with leaves = 13 and depth = 4\n",
      "[LightGBM] [Debug] Trained a tree with leaves = 16 and depth = 4\n",
      "[LightGBM] [Warning] No further splits with positive gain, best gain: -inf\n",
      "[LightGBM] [Debug] Trained a tree with leaves = 12 and depth = 4\n",
      "[LightGBM] [Warning] No further splits with positive gain, best gain: -inf\n",
      "[LightGBM] [Debug] Trained a tree with leaves = 12 and depth = 4\n"
     ]
    },
    {
     "name": "stdout",
     "output_type": "stream",
     "text": [
      "[LightGBM] [Debug] Trained a tree with leaves = 16 and depth = 4\n",
      "[LightGBM] [Warning] No further splits with positive gain, best gain: -inf\n",
      "[LightGBM] [Debug] Trained a tree with leaves = 15 and depth = 4\n",
      "[LightGBM] [Warning] No further splits with positive gain, best gain: -inf\n",
      "[LightGBM] [Debug] Trained a tree with leaves = 10 and depth = 4\n",
      "[LightGBM] [Debug] Trained a tree with leaves = 16 and depth = 4\n",
      "[LightGBM] [Debug] Trained a tree with leaves = 16 and depth = 4\n",
      "[LightGBM] [Debug] Trained a tree with leaves = 16 and depth = 4\n",
      "[LightGBM] [Warning] No further splits with positive gain, best gain: -inf\n",
      "[LightGBM] [Debug] Trained a tree with leaves = 15 and depth = 4\n",
      "[LightGBM] [Debug] Trained a tree with leaves = 16 and depth = 4\n",
      "[LightGBM] [Warning] No further splits with positive gain, best gain: -inf\n",
      "[LightGBM] [Debug] Trained a tree with leaves = 11 and depth = 4\n",
      "[LightGBM] [Warning] No further splits with positive gain, best gain: -inf\n",
      "[LightGBM] [Debug] Trained a tree with leaves = 12 and depth = 4\n",
      "[LightGBM] [Warning] Accuracy may be bad since you didn't explicitly set num_leaves OR 2^max_depth > num_leaves. (num_leaves=31).\n",
      "[LightGBM] [Warning] Accuracy may be bad since you didn't explicitly set num_leaves OR 2^max_depth > num_leaves. (num_leaves=31).\n",
      "[LightGBM] [Debug] Dataset::GetMultiBinFromSparseFeatures: sparse rate 0.760539\n",
      "[LightGBM] [Debug] Dataset::GetMultiBinFromAllFeatures: sparse rate 0.180382\n",
      "[LightGBM] [Debug] init for col-wise cost 0.005217 seconds, init for row-wise cost 0.093656 seconds\n",
      "[LightGBM] [Warning] Auto-choosing row-wise multi-threading, the overhead of testing was 0.007223 seconds.\n",
      "You can set `force_row_wise=true` to remove the overhead.\n",
      "And if memory is not enough, you can set `force_col_wise=true`.\n",
      "[LightGBM] [Debug] Using Dense Multi-Val Bin\n",
      "[LightGBM] [Info] Total Bins 583\n",
      "[LightGBM] [Info] Number of data points in the train set: 195777, number of used features: 9\n",
      "[LightGBM] [Info] Start training from score 4627.612855\n",
      "[LightGBM] [Debug] Trained a tree with leaves = 31 and depth = 5\n",
      "[LightGBM] [Debug] Trained a tree with leaves = 31 and depth = 5\n",
      "[LightGBM] [Debug] Trained a tree with leaves = 31 and depth = 5\n",
      "[LightGBM] [Debug] Trained a tree with leaves = 31 and depth = 5\n",
      "[LightGBM] [Debug] Trained a tree with leaves = 31 and depth = 5\n",
      "[LightGBM] [Debug] Trained a tree with leaves = 31 and depth = 5\n",
      "[LightGBM] [Debug] Trained a tree with leaves = 31 and depth = 5\n",
      "[LightGBM] [Debug] Trained a tree with leaves = 31 and depth = 5\n",
      "[LightGBM] [Debug] Trained a tree with leaves = 31 and depth = 5\n",
      "[LightGBM] [Debug] Trained a tree with leaves = 31 and depth = 5\n",
      "[LightGBM] [Debug] Trained a tree with leaves = 31 and depth = 5\n",
      "[LightGBM] [Debug] Trained a tree with leaves = 31 and depth = 5\n",
      "[LightGBM] [Debug] Trained a tree with leaves = 31 and depth = 5\n",
      "[LightGBM] [Debug] Trained a tree with leaves = 31 and depth = 5\n",
      "[LightGBM] [Debug] Trained a tree with leaves = 31 and depth = 5\n",
      "[LightGBM] [Debug] Trained a tree with leaves = 31 and depth = 5\n",
      "[LightGBM] [Debug] Trained a tree with leaves = 31 and depth = 5\n",
      "[LightGBM] [Debug] Trained a tree with leaves = 31 and depth = 5\n",
      "[LightGBM] [Debug] Trained a tree with leaves = 31 and depth = 5\n",
      "[LightGBM] [Debug] Trained a tree with leaves = 31 and depth = 5\n",
      "[LightGBM] [Debug] Trained a tree with leaves = 31 and depth = 5\n",
      "[LightGBM] [Debug] Trained a tree with leaves = 31 and depth = 5\n",
      "[LightGBM] [Debug] Trained a tree with leaves = 31 and depth = 5\n",
      "[LightGBM] [Debug] Trained a tree with leaves = 31 and depth = 5\n",
      "[LightGBM] [Debug] Trained a tree with leaves = 31 and depth = 5\n",
      "[LightGBM] [Warning] No further splits with positive gain, best gain: -inf\n",
      "[LightGBM] [Debug] Trained a tree with leaves = 29 and depth = 5\n",
      "[LightGBM] [Debug] Trained a tree with leaves = 31 and depth = 5\n",
      "[LightGBM] [Debug] Trained a tree with leaves = 31 and depth = 5\n",
      "[LightGBM] [Debug] Trained a tree with leaves = 31 and depth = 5\n",
      "[LightGBM] [Debug] Trained a tree with leaves = 31 and depth = 5\n",
      "[LightGBM] [Debug] Trained a tree with leaves = 31 and depth = 5\n",
      "[LightGBM] [Debug] Trained a tree with leaves = 31 and depth = 5\n",
      "[LightGBM] [Debug] Trained a tree with leaves = 31 and depth = 5\n",
      "[LightGBM] [Debug] Trained a tree with leaves = 31 and depth = 5\n",
      "[LightGBM] [Debug] Trained a tree with leaves = 31 and depth = 5\n",
      "[LightGBM] [Debug] Trained a tree with leaves = 31 and depth = 5\n",
      "[LightGBM] [Debug] Trained a tree with leaves = 31 and depth = 5\n",
      "[LightGBM] [Debug] Trained a tree with leaves = 31 and depth = 5\n",
      "[LightGBM] [Debug] Trained a tree with leaves = 31 and depth = 5\n",
      "[LightGBM] [Warning] No further splits with positive gain, best gain: -inf\n",
      "[LightGBM] [Debug] Trained a tree with leaves = 30 and depth = 5\n",
      "[LightGBM] [Debug] Trained a tree with leaves = 31 and depth = 5\n",
      "[LightGBM] [Debug] Trained a tree with leaves = 31 and depth = 5\n",
      "[LightGBM] [Debug] Trained a tree with leaves = 31 and depth = 5\n",
      "[LightGBM] [Debug] Trained a tree with leaves = 31 and depth = 5\n",
      "[LightGBM] [Debug] Trained a tree with leaves = 31 and depth = 5\n",
      "[LightGBM] [Debug] Trained a tree with leaves = 31 and depth = 5\n",
      "[LightGBM] [Debug] Trained a tree with leaves = 31 and depth = 5\n",
      "[LightGBM] [Debug] Trained a tree with leaves = 31 and depth = 5\n",
      "[LightGBM] [Debug] Trained a tree with leaves = 31 and depth = 5\n",
      "[LightGBM] [Debug] Trained a tree with leaves = 31 and depth = 5\n",
      "[LightGBM] [Debug] Trained a tree with leaves = 31 and depth = 5\n",
      "[LightGBM] [Debug] Trained a tree with leaves = 31 and depth = 5\n",
      "[LightGBM] [Debug] Trained a tree with leaves = 31 and depth = 5\n",
      "[LightGBM] [Debug] Trained a tree with leaves = 31 and depth = 5\n",
      "[LightGBM] [Debug] Trained a tree with leaves = 31 and depth = 5\n",
      "[LightGBM] [Debug] Trained a tree with leaves = 31 and depth = 5\n",
      "[LightGBM] [Warning] No further splits with positive gain, best gain: -inf\n",
      "[LightGBM] [Debug] Trained a tree with leaves = 28 and depth = 5\n",
      "[LightGBM] [Debug] Trained a tree with leaves = 31 and depth = 5\n",
      "[LightGBM] [Debug] Trained a tree with leaves = 31 and depth = 5\n",
      "[LightGBM] [Debug] Trained a tree with leaves = 31 and depth = 5\n",
      "[LightGBM] [Debug] Trained a tree with leaves = 31 and depth = 5\n",
      "[LightGBM] [Debug] Trained a tree with leaves = 31 and depth = 5\n",
      "[LightGBM] [Debug] Trained a tree with leaves = 31 and depth = 5\n",
      "[LightGBM] [Debug] Trained a tree with leaves = 31 and depth = 5\n",
      "[LightGBM] [Warning] No further splits with positive gain, best gain: -inf\n",
      "[LightGBM] [Debug] Trained a tree with leaves = 30 and depth = 5\n",
      "[LightGBM] [Warning] No further splits with positive gain, best gain: -inf\n",
      "[LightGBM] [Debug] Trained a tree with leaves = 25 and depth = 5\n",
      "[LightGBM] [Warning] No further splits with positive gain, best gain: -inf\n",
      "[LightGBM] [Debug] Trained a tree with leaves = 21 and depth = 5\n",
      "[LightGBM] [Warning] No further splits with positive gain, best gain: -inf\n",
      "[LightGBM] [Debug] Trained a tree with leaves = 29 and depth = 5\n",
      "[LightGBM] [Debug] Trained a tree with leaves = 31 and depth = 5\n",
      "[LightGBM] [Warning] No further splits with positive gain, best gain: -inf\n",
      "[LightGBM] [Debug] Trained a tree with leaves = 30 and depth = 5\n",
      "[LightGBM] [Warning] No further splits with positive gain, best gain: -inf\n",
      "[LightGBM] [Debug] Trained a tree with leaves = 22 and depth = 5\n",
      "[LightGBM] [Debug] Trained a tree with leaves = 31 and depth = 5\n",
      "[LightGBM] [Warning] No further splits with positive gain, best gain: -inf\n",
      "[LightGBM] [Debug] Trained a tree with leaves = 30 and depth = 5\n",
      "[LightGBM] [Warning] No further splits with positive gain, best gain: -inf\n",
      "[LightGBM] [Debug] Trained a tree with leaves = 29 and depth = 5\n",
      "[LightGBM] [Warning] No further splits with positive gain, best gain: -inf\n",
      "[LightGBM] [Debug] Trained a tree with leaves = 27 and depth = 5\n",
      "[LightGBM] [Warning] No further splits with positive gain, best gain: -inf\n",
      "[LightGBM] [Debug] Trained a tree with leaves = 23 and depth = 5\n",
      "[LightGBM] [Warning] No further splits with positive gain, best gain: -inf\n",
      "[LightGBM] [Debug] Trained a tree with leaves = 30 and depth = 5\n",
      "[LightGBM] [Warning] No further splits with positive gain, best gain: -inf\n",
      "[LightGBM] [Debug] Trained a tree with leaves = 26 and depth = 5\n",
      "[LightGBM] [Debug] Trained a tree with leaves = 31 and depth = 5\n",
      "[LightGBM] [Warning] No further splits with positive gain, best gain: -inf\n",
      "[LightGBM] [Debug] Trained a tree with leaves = 21 and depth = 5\n",
      "[LightGBM] [Warning] No further splits with positive gain, best gain: -inf\n",
      "[LightGBM] [Debug] Trained a tree with leaves = 25 and depth = 5\n",
      "[LightGBM] [Debug] Trained a tree with leaves = 31 and depth = 5\n",
      "[LightGBM] [Warning] No further splits with positive gain, best gain: -inf\n",
      "[LightGBM] [Debug] Trained a tree with leaves = 29 and depth = 5\n"
     ]
    },
    {
     "name": "stdout",
     "output_type": "stream",
     "text": [
      "[LightGBM] [Warning] No further splits with positive gain, best gain: -inf\n",
      "[LightGBM] [Debug] Trained a tree with leaves = 22 and depth = 5\n",
      "[LightGBM] [Warning] No further splits with positive gain, best gain: -inf\n",
      "[LightGBM] [Debug] Trained a tree with leaves = 26 and depth = 5\n",
      "[LightGBM] [Debug] Trained a tree with leaves = 31 and depth = 5\n",
      "[LightGBM] [Warning] No further splits with positive gain, best gain: -inf\n",
      "[LightGBM] [Debug] Trained a tree with leaves = 27 and depth = 5\n",
      "[LightGBM] [Debug] Trained a tree with leaves = 31 and depth = 5\n",
      "[LightGBM] [Warning] No further splits with positive gain, best gain: -inf\n",
      "[LightGBM] [Debug] Trained a tree with leaves = 30 and depth = 5\n",
      "[LightGBM] [Warning] No further splits with positive gain, best gain: -inf\n",
      "[LightGBM] [Debug] Trained a tree with leaves = 21 and depth = 5\n",
      "[LightGBM] [Debug] Trained a tree with leaves = 31 and depth = 5\n",
      "[LightGBM] [Warning] No further splits with positive gain, best gain: -inf\n",
      "[LightGBM] [Debug] Trained a tree with leaves = 26 and depth = 5\n",
      "[LightGBM] [Debug] Trained a tree with leaves = 31 and depth = 5\n",
      "[LightGBM] [Debug] Trained a tree with leaves = 31 and depth = 5\n",
      "[LightGBM] [Warning] No further splits with positive gain, best gain: -inf\n",
      "[LightGBM] [Debug] Trained a tree with leaves = 19 and depth = 5\n",
      "[LightGBM] [Debug] Trained a tree with leaves = 31 and depth = 5\n",
      "[LightGBM] [Warning] No further splits with positive gain, best gain: -inf\n",
      "[LightGBM] [Debug] Trained a tree with leaves = 30 and depth = 5\n",
      "[LightGBM] [Warning] No further splits with positive gain, best gain: -inf\n",
      "[LightGBM] [Debug] Trained a tree with leaves = 22 and depth = 5\n",
      "[LightGBM] [Warning] No further splits with positive gain, best gain: -inf\n",
      "[LightGBM] [Debug] Trained a tree with leaves = 25 and depth = 5\n",
      "[LightGBM] [Debug] Trained a tree with leaves = 31 and depth = 5\n",
      "[LightGBM] [Warning] Accuracy may be bad since you didn't explicitly set num_leaves OR 2^max_depth > num_leaves. (num_leaves=31).\n",
      "[LightGBM] [Warning] Accuracy may be bad since you didn't explicitly set num_leaves OR 2^max_depth > num_leaves. (num_leaves=31).\n",
      "[LightGBM] [Debug] Dataset::GetMultiBinFromSparseFeatures: sparse rate 0.760539\n",
      "[LightGBM] [Debug] Dataset::GetMultiBinFromAllFeatures: sparse rate 0.180382\n",
      "[LightGBM] [Debug] init for col-wise cost 0.003632 seconds, init for row-wise cost 0.090003 seconds\n",
      "[LightGBM] [Warning] Auto-choosing row-wise multi-threading, the overhead of testing was 0.005295 seconds.\n",
      "You can set `force_row_wise=true` to remove the overhead.\n",
      "And if memory is not enough, you can set `force_col_wise=true`.\n",
      "[LightGBM] [Debug] Using Dense Multi-Val Bin\n",
      "[LightGBM] [Info] Total Bins 583\n",
      "[LightGBM] [Info] Number of data points in the train set: 195777, number of used features: 9\n",
      "[LightGBM] [Info] Start training from score 4627.612855\n",
      "[LightGBM] [Debug] Trained a tree with leaves = 31 and depth = 5\n",
      "[LightGBM] [Debug] Trained a tree with leaves = 31 and depth = 5\n",
      "[LightGBM] [Debug] Trained a tree with leaves = 31 and depth = 5\n",
      "[LightGBM] [Debug] Trained a tree with leaves = 31 and depth = 5\n",
      "[LightGBM] [Debug] Trained a tree with leaves = 31 and depth = 5\n",
      "[LightGBM] [Debug] Trained a tree with leaves = 31 and depth = 5\n",
      "[LightGBM] [Debug] Trained a tree with leaves = 31 and depth = 5\n",
      "[LightGBM] [Debug] Trained a tree with leaves = 31 and depth = 5\n",
      "[LightGBM] [Debug] Trained a tree with leaves = 31 and depth = 5\n",
      "[LightGBM] [Debug] Trained a tree with leaves = 31 and depth = 5\n",
      "[LightGBM] [Debug] Trained a tree with leaves = 31 and depth = 5\n",
      "[LightGBM] [Debug] Trained a tree with leaves = 31 and depth = 5\n",
      "[LightGBM] [Debug] Trained a tree with leaves = 31 and depth = 5\n",
      "[LightGBM] [Debug] Trained a tree with leaves = 31 and depth = 5\n",
      "[LightGBM] [Debug] Trained a tree with leaves = 31 and depth = 5\n",
      "[LightGBM] [Debug] Trained a tree with leaves = 31 and depth = 5\n",
      "[LightGBM] [Debug] Trained a tree with leaves = 31 and depth = 5\n",
      "[LightGBM] [Debug] Trained a tree with leaves = 31 and depth = 5\n",
      "[LightGBM] [Debug] Trained a tree with leaves = 31 and depth = 5\n",
      "[LightGBM] [Debug] Trained a tree with leaves = 31 and depth = 5\n",
      "[LightGBM] [Debug] Trained a tree with leaves = 31 and depth = 5\n",
      "[LightGBM] [Debug] Trained a tree with leaves = 31 and depth = 5\n",
      "[LightGBM] [Debug] Trained a tree with leaves = 31 and depth = 5\n",
      "[LightGBM] [Debug] Trained a tree with leaves = 31 and depth = 5\n",
      "[LightGBM] [Debug] Trained a tree with leaves = 31 and depth = 5\n",
      "[LightGBM] [Warning] No further splits with positive gain, best gain: -inf\n",
      "[LightGBM] [Debug] Trained a tree with leaves = 29 and depth = 5\n",
      "[LightGBM] [Debug] Trained a tree with leaves = 31 and depth = 5\n",
      "[LightGBM] [Debug] Trained a tree with leaves = 31 and depth = 5\n",
      "[LightGBM] [Debug] Trained a tree with leaves = 31 and depth = 5\n",
      "[LightGBM] [Debug] Trained a tree with leaves = 31 and depth = 5\n",
      "[LightGBM] [Debug] Trained a tree with leaves = 31 and depth = 5\n",
      "[LightGBM] [Debug] Trained a tree with leaves = 31 and depth = 5\n",
      "[LightGBM] [Debug] Trained a tree with leaves = 31 and depth = 5\n",
      "[LightGBM] [Debug] Trained a tree with leaves = 31 and depth = 5\n",
      "[LightGBM] [Debug] Trained a tree with leaves = 31 and depth = 5\n",
      "[LightGBM] [Debug] Trained a tree with leaves = 31 and depth = 5\n",
      "[LightGBM] [Debug] Trained a tree with leaves = 31 and depth = 5\n",
      "[LightGBM] [Debug] Trained a tree with leaves = 31 and depth = 5\n",
      "[LightGBM] [Debug] Trained a tree with leaves = 31 and depth = 5\n",
      "[LightGBM] [Warning] No further splits with positive gain, best gain: -inf\n",
      "[LightGBM] [Debug] Trained a tree with leaves = 30 and depth = 5\n",
      "[LightGBM] [Debug] Trained a tree with leaves = 31 and depth = 5\n",
      "[LightGBM] [Debug] Trained a tree with leaves = 31 and depth = 5\n",
      "[LightGBM] [Debug] Trained a tree with leaves = 31 and depth = 5\n",
      "[LightGBM] [Debug] Trained a tree with leaves = 31 and depth = 5\n",
      "[LightGBM] [Debug] Trained a tree with leaves = 31 and depth = 5\n",
      "[LightGBM] [Debug] Trained a tree with leaves = 31 and depth = 5\n",
      "[LightGBM] [Debug] Trained a tree with leaves = 31 and depth = 5\n",
      "[LightGBM] [Debug] Trained a tree with leaves = 31 and depth = 5\n",
      "[LightGBM] [Debug] Trained a tree with leaves = 31 and depth = 5\n",
      "[LightGBM] [Debug] Trained a tree with leaves = 31 and depth = 5\n",
      "[LightGBM] [Debug] Trained a tree with leaves = 31 and depth = 5\n",
      "[LightGBM] [Debug] Trained a tree with leaves = 31 and depth = 5\n",
      "[LightGBM] [Debug] Trained a tree with leaves = 31 and depth = 5\n",
      "[LightGBM] [Debug] Trained a tree with leaves = 31 and depth = 5\n",
      "[LightGBM] [Debug] Trained a tree with leaves = 31 and depth = 5\n",
      "[LightGBM] [Debug] Trained a tree with leaves = 31 and depth = 5\n",
      "[LightGBM] [Warning] No further splits with positive gain, best gain: -inf\n",
      "[LightGBM] [Debug] Trained a tree with leaves = 28 and depth = 5\n",
      "[LightGBM] [Debug] Trained a tree with leaves = 31 and depth = 5\n",
      "[LightGBM] [Debug] Trained a tree with leaves = 31 and depth = 5\n",
      "[LightGBM] [Debug] Trained a tree with leaves = 31 and depth = 5\n",
      "[LightGBM] [Debug] Trained a tree with leaves = 31 and depth = 5\n",
      "[LightGBM] [Debug] Trained a tree with leaves = 31 and depth = 5\n",
      "[LightGBM] [Debug] Trained a tree with leaves = 31 and depth = 5\n",
      "[LightGBM] [Debug] Trained a tree with leaves = 31 and depth = 5\n",
      "[LightGBM] [Warning] No further splits with positive gain, best gain: -inf\n",
      "[LightGBM] [Debug] Trained a tree with leaves = 30 and depth = 5\n",
      "[LightGBM] [Warning] No further splits with positive gain, best gain: -inf\n",
      "[LightGBM] [Debug] Trained a tree with leaves = 25 and depth = 5\n",
      "[LightGBM] [Warning] No further splits with positive gain, best gain: -inf\n",
      "[LightGBM] [Debug] Trained a tree with leaves = 21 and depth = 5\n",
      "[LightGBM] [Warning] No further splits with positive gain, best gain: -inf\n",
      "[LightGBM] [Debug] Trained a tree with leaves = 29 and depth = 5\n",
      "[LightGBM] [Debug] Trained a tree with leaves = 31 and depth = 5\n",
      "[LightGBM] [Warning] No further splits with positive gain, best gain: -inf\n",
      "[LightGBM] [Debug] Trained a tree with leaves = 30 and depth = 5\n",
      "[LightGBM] [Warning] No further splits with positive gain, best gain: -inf\n",
      "[LightGBM] [Debug] Trained a tree with leaves = 22 and depth = 5\n",
      "[LightGBM] [Debug] Trained a tree with leaves = 31 and depth = 5\n",
      "[LightGBM] [Warning] No further splits with positive gain, best gain: -inf\n",
      "[LightGBM] [Debug] Trained a tree with leaves = 30 and depth = 5\n",
      "[LightGBM] [Warning] No further splits with positive gain, best gain: -inf\n",
      "[LightGBM] [Debug] Trained a tree with leaves = 29 and depth = 5\n",
      "[LightGBM] [Warning] No further splits with positive gain, best gain: -inf\n",
      "[LightGBM] [Debug] Trained a tree with leaves = 27 and depth = 5\n"
     ]
    },
    {
     "name": "stdout",
     "output_type": "stream",
     "text": [
      "[LightGBM] [Warning] No further splits with positive gain, best gain: -inf\n",
      "[LightGBM] [Debug] Trained a tree with leaves = 23 and depth = 5\n",
      "[LightGBM] [Warning] No further splits with positive gain, best gain: -inf\n",
      "[LightGBM] [Debug] Trained a tree with leaves = 30 and depth = 5\n",
      "[LightGBM] [Warning] No further splits with positive gain, best gain: -inf\n",
      "[LightGBM] [Debug] Trained a tree with leaves = 26 and depth = 5\n",
      "[LightGBM] [Debug] Trained a tree with leaves = 31 and depth = 5\n",
      "[LightGBM] [Warning] No further splits with positive gain, best gain: -inf\n",
      "[LightGBM] [Debug] Trained a tree with leaves = 21 and depth = 5\n",
      "[LightGBM] [Warning] No further splits with positive gain, best gain: -inf\n",
      "[LightGBM] [Debug] Trained a tree with leaves = 25 and depth = 5\n",
      "[LightGBM] [Debug] Trained a tree with leaves = 31 and depth = 5\n",
      "[LightGBM] [Warning] No further splits with positive gain, best gain: -inf\n",
      "[LightGBM] [Debug] Trained a tree with leaves = 29 and depth = 5\n",
      "[LightGBM] [Warning] No further splits with positive gain, best gain: -inf\n",
      "[LightGBM] [Debug] Trained a tree with leaves = 22 and depth = 5\n",
      "[LightGBM] [Warning] No further splits with positive gain, best gain: -inf\n",
      "[LightGBM] [Debug] Trained a tree with leaves = 26 and depth = 5\n",
      "[LightGBM] [Debug] Trained a tree with leaves = 31 and depth = 5\n",
      "[LightGBM] [Warning] No further splits with positive gain, best gain: -inf\n",
      "[LightGBM] [Debug] Trained a tree with leaves = 27 and depth = 5\n",
      "[LightGBM] [Debug] Trained a tree with leaves = 31 and depth = 5\n",
      "[LightGBM] [Warning] No further splits with positive gain, best gain: -inf\n",
      "[LightGBM] [Debug] Trained a tree with leaves = 30 and depth = 5\n",
      "[LightGBM] [Warning] No further splits with positive gain, best gain: -inf\n",
      "[LightGBM] [Debug] Trained a tree with leaves = 21 and depth = 5\n",
      "[LightGBM] [Debug] Trained a tree with leaves = 31 and depth = 5\n",
      "[LightGBM] [Warning] No further splits with positive gain, best gain: -inf\n",
      "[LightGBM] [Debug] Trained a tree with leaves = 26 and depth = 5\n",
      "[LightGBM] [Debug] Trained a tree with leaves = 31 and depth = 5\n",
      "[LightGBM] [Debug] Trained a tree with leaves = 31 and depth = 5\n",
      "[LightGBM] [Warning] No further splits with positive gain, best gain: -inf\n",
      "[LightGBM] [Debug] Trained a tree with leaves = 19 and depth = 5\n",
      "[LightGBM] [Debug] Trained a tree with leaves = 31 and depth = 5\n",
      "[LightGBM] [Warning] No further splits with positive gain, best gain: -inf\n",
      "[LightGBM] [Debug] Trained a tree with leaves = 30 and depth = 5\n",
      "[LightGBM] [Warning] No further splits with positive gain, best gain: -inf\n",
      "[LightGBM] [Debug] Trained a tree with leaves = 22 and depth = 5\n",
      "[LightGBM] [Warning] No further splits with positive gain, best gain: -inf\n",
      "[LightGBM] [Debug] Trained a tree with leaves = 25 and depth = 5\n",
      "[LightGBM] [Debug] Trained a tree with leaves = 31 and depth = 5\n",
      "[LightGBM] [Debug] Trained a tree with leaves = 31 and depth = 5\n",
      "[LightGBM] [Debug] Trained a tree with leaves = 31 and depth = 5\n",
      "[LightGBM] [Debug] Trained a tree with leaves = 31 and depth = 5\n",
      "[LightGBM] [Warning] No further splits with positive gain, best gain: -inf\n",
      "[LightGBM] [Debug] Trained a tree with leaves = 29 and depth = 5\n",
      "[LightGBM] [Debug] Trained a tree with leaves = 31 and depth = 5\n",
      "[LightGBM] [Warning] No further splits with positive gain, best gain: -inf\n",
      "[LightGBM] [Debug] Trained a tree with leaves = 28 and depth = 5\n",
      "[LightGBM] [Warning] No further splits with positive gain, best gain: -inf\n",
      "[LightGBM] [Debug] Trained a tree with leaves = 26 and depth = 5\n",
      "[LightGBM] [Warning] No further splits with positive gain, best gain: -inf\n",
      "[LightGBM] [Debug] Trained a tree with leaves = 30 and depth = 5\n",
      "[LightGBM] [Debug] Trained a tree with leaves = 31 and depth = 5\n",
      "[LightGBM] [Warning] No further splits with positive gain, best gain: -inf\n",
      "[LightGBM] [Debug] Trained a tree with leaves = 29 and depth = 5\n",
      "[LightGBM] [Warning] No further splits with positive gain, best gain: -inf\n",
      "[LightGBM] [Debug] Trained a tree with leaves = 22 and depth = 5\n",
      "[LightGBM] [Debug] Trained a tree with leaves = 31 and depth = 5\n",
      "[LightGBM] [Debug] Trained a tree with leaves = 31 and depth = 5\n",
      "[LightGBM] [Debug] Trained a tree with leaves = 31 and depth = 5\n",
      "[LightGBM] [Debug] Trained a tree with leaves = 31 and depth = 5\n",
      "[LightGBM] [Warning] No further splits with positive gain, best gain: -inf\n",
      "[LightGBM] [Debug] Trained a tree with leaves = 29 and depth = 5\n",
      "[LightGBM] [Warning] No further splits with positive gain, best gain: -inf\n",
      "[LightGBM] [Debug] Trained a tree with leaves = 26 and depth = 5\n",
      "[LightGBM] [Warning] No further splits with positive gain, best gain: -inf\n",
      "[LightGBM] [Debug] Trained a tree with leaves = 28 and depth = 5\n",
      "[LightGBM] [Debug] Trained a tree with leaves = 31 and depth = 5\n",
      "[LightGBM] [Debug] Trained a tree with leaves = 31 and depth = 5\n",
      "[LightGBM] [Debug] Trained a tree with leaves = 31 and depth = 5\n",
      "[LightGBM] [Warning] No further splits with positive gain, best gain: -inf\n",
      "[LightGBM] [Debug] Trained a tree with leaves = 26 and depth = 5\n",
      "[LightGBM] [Warning] No further splits with positive gain, best gain: -inf\n",
      "[LightGBM] [Debug] Trained a tree with leaves = 27 and depth = 5\n",
      "[LightGBM] [Debug] Trained a tree with leaves = 31 and depth = 5\n",
      "[LightGBM] [Warning] No further splits with positive gain, best gain: -inf\n",
      "[LightGBM] [Debug] Trained a tree with leaves = 30 and depth = 5\n",
      "[LightGBM] [Warning] No further splits with positive gain, best gain: -inf\n",
      "[LightGBM] [Debug] Trained a tree with leaves = 23 and depth = 5\n",
      "[LightGBM] [Debug] Trained a tree with leaves = 31 and depth = 5\n",
      "[LightGBM] [Debug] Trained a tree with leaves = 31 and depth = 5\n",
      "[LightGBM] [Warning] No further splits with positive gain, best gain: -inf\n",
      "[LightGBM] [Debug] Trained a tree with leaves = 26 and depth = 5\n",
      "[LightGBM] [Warning] No further splits with positive gain, best gain: -inf\n",
      "[LightGBM] [Debug] Trained a tree with leaves = 29 and depth = 5\n",
      "[LightGBM] [Debug] Trained a tree with leaves = 31 and depth = 5\n",
      "[LightGBM] [Warning] No further splits with positive gain, best gain: -inf\n",
      "[LightGBM] [Debug] Trained a tree with leaves = 29 and depth = 5\n",
      "[LightGBM] [Debug] Trained a tree with leaves = 31 and depth = 5\n",
      "[LightGBM] [Debug] Trained a tree with leaves = 31 and depth = 5\n",
      "[LightGBM] [Debug] Trained a tree with leaves = 31 and depth = 5\n",
      "[LightGBM] [Warning] No further splits with positive gain, best gain: -inf\n",
      "[LightGBM] [Debug] Trained a tree with leaves = 30 and depth = 5\n",
      "[LightGBM] [Warning] No further splits with positive gain, best gain: -inf\n",
      "[LightGBM] [Debug] Trained a tree with leaves = 28 and depth = 5\n",
      "[LightGBM] [Debug] Trained a tree with leaves = 31 and depth = 5\n",
      "[LightGBM] [Warning] No further splits with positive gain, best gain: -inf\n",
      "[LightGBM] [Debug] Trained a tree with leaves = 26 and depth = 5\n",
      "[LightGBM] [Warning] No further splits with positive gain, best gain: -inf\n",
      "[LightGBM] [Debug] Trained a tree with leaves = 28 and depth = 5\n",
      "[LightGBM] [Debug] Trained a tree with leaves = 31 and depth = 5\n",
      "[LightGBM] [Warning] No further splits with positive gain, best gain: -inf\n",
      "[LightGBM] [Debug] Trained a tree with leaves = 24 and depth = 5\n",
      "[LightGBM] [Debug] Trained a tree with leaves = 31 and depth = 5\n",
      "[LightGBM] [Debug] Trained a tree with leaves = 31 and depth = 5\n",
      "[LightGBM] [Debug] Trained a tree with leaves = 31 and depth = 5\n",
      "[LightGBM] [Debug] Trained a tree with leaves = 31 and depth = 5\n",
      "[LightGBM] [Warning] No further splits with positive gain, best gain: -inf\n",
      "[LightGBM] [Debug] Trained a tree with leaves = 30 and depth = 5\n",
      "[LightGBM] [Warning] No further splits with positive gain, best gain: -inf\n",
      "[LightGBM] [Debug] Trained a tree with leaves = 29 and depth = 5\n",
      "[LightGBM] [Warning] No further splits with positive gain, best gain: -inf\n",
      "[LightGBM] [Debug] Trained a tree with leaves = 28 and depth = 5\n",
      "[LightGBM] [Warning] No further splits with positive gain, best gain: -inf\n",
      "[LightGBM] [Debug] Trained a tree with leaves = 26 and depth = 5\n",
      "[LightGBM] [Warning] Accuracy may be bad since you didn't explicitly set num_leaves OR 2^max_depth > num_leaves. (num_leaves=31).\n",
      "[LightGBM] [Warning] Accuracy may be bad since you didn't explicitly set num_leaves OR 2^max_depth > num_leaves. (num_leaves=31).\n",
      "[LightGBM] [Debug] Dataset::GetMultiBinFromSparseFeatures: sparse rate 0.760539\n"
     ]
    },
    {
     "name": "stdout",
     "output_type": "stream",
     "text": [
      "[LightGBM] [Debug] Dataset::GetMultiBinFromAllFeatures: sparse rate 0.180382\n",
      "[LightGBM] [Debug] init for col-wise cost 0.192351 seconds, init for row-wise cost 0.004358 seconds\n",
      "[LightGBM] [Warning] Auto-choosing row-wise multi-threading, the overhead of testing was 0.284003 seconds.\n",
      "You can set `force_row_wise=true` to remove the overhead.\n",
      "And if memory is not enough, you can set `force_col_wise=true`.\n",
      "[LightGBM] [Debug] Using Dense Multi-Val Bin\n",
      "[LightGBM] [Info] Total Bins 583\n",
      "[LightGBM] [Info] Number of data points in the train set: 195777, number of used features: 9\n",
      "[LightGBM] [Info] Start training from score 4627.612855\n",
      "[LightGBM] [Debug] Trained a tree with leaves = 31 and depth = 5\n",
      "[LightGBM] [Debug] Trained a tree with leaves = 31 and depth = 5\n",
      "[LightGBM] [Debug] Trained a tree with leaves = 31 and depth = 5\n",
      "[LightGBM] [Debug] Trained a tree with leaves = 31 and depth = 5\n",
      "[LightGBM] [Debug] Trained a tree with leaves = 31 and depth = 5\n",
      "[LightGBM] [Debug] Trained a tree with leaves = 31 and depth = 5\n",
      "[LightGBM] [Debug] Trained a tree with leaves = 31 and depth = 5\n",
      "[LightGBM] [Debug] Trained a tree with leaves = 31 and depth = 5\n",
      "[LightGBM] [Debug] Trained a tree with leaves = 31 and depth = 5\n",
      "[LightGBM] [Debug] Trained a tree with leaves = 31 and depth = 5\n",
      "[LightGBM] [Debug] Trained a tree with leaves = 31 and depth = 5\n",
      "[LightGBM] [Debug] Trained a tree with leaves = 31 and depth = 5\n",
      "[LightGBM] [Debug] Trained a tree with leaves = 31 and depth = 5\n",
      "[LightGBM] [Debug] Trained a tree with leaves = 31 and depth = 5\n",
      "[LightGBM] [Debug] Trained a tree with leaves = 31 and depth = 5\n",
      "[LightGBM] [Debug] Trained a tree with leaves = 31 and depth = 5\n",
      "[LightGBM] [Debug] Trained a tree with leaves = 31 and depth = 5\n",
      "[LightGBM] [Debug] Trained a tree with leaves = 31 and depth = 5\n",
      "[LightGBM] [Debug] Trained a tree with leaves = 31 and depth = 5\n",
      "[LightGBM] [Debug] Trained a tree with leaves = 31 and depth = 5\n",
      "[LightGBM] [Debug] Trained a tree with leaves = 31 and depth = 5\n",
      "[LightGBM] [Debug] Trained a tree with leaves = 31 and depth = 5\n",
      "[LightGBM] [Debug] Trained a tree with leaves = 31 and depth = 5\n",
      "[LightGBM] [Debug] Trained a tree with leaves = 31 and depth = 5\n",
      "[LightGBM] [Debug] Trained a tree with leaves = 31 and depth = 5\n",
      "[LightGBM] [Warning] No further splits with positive gain, best gain: -inf\n",
      "[LightGBM] [Debug] Trained a tree with leaves = 29 and depth = 5\n",
      "[LightGBM] [Debug] Trained a tree with leaves = 31 and depth = 5\n",
      "[LightGBM] [Debug] Trained a tree with leaves = 31 and depth = 5\n",
      "[LightGBM] [Debug] Trained a tree with leaves = 31 and depth = 5\n",
      "[LightGBM] [Debug] Trained a tree with leaves = 31 and depth = 5\n",
      "[LightGBM] [Debug] Trained a tree with leaves = 31 and depth = 5\n",
      "[LightGBM] [Debug] Trained a tree with leaves = 31 and depth = 5\n",
      "[LightGBM] [Debug] Trained a tree with leaves = 31 and depth = 5\n",
      "[LightGBM] [Debug] Trained a tree with leaves = 31 and depth = 5\n",
      "[LightGBM] [Debug] Trained a tree with leaves = 31 and depth = 5\n",
      "[LightGBM] [Debug] Trained a tree with leaves = 31 and depth = 5\n",
      "[LightGBM] [Debug] Trained a tree with leaves = 31 and depth = 5\n",
      "[LightGBM] [Debug] Trained a tree with leaves = 31 and depth = 5\n",
      "[LightGBM] [Debug] Trained a tree with leaves = 31 and depth = 5\n",
      "[LightGBM] [Warning] No further splits with positive gain, best gain: -inf\n",
      "[LightGBM] [Debug] Trained a tree with leaves = 30 and depth = 5\n",
      "[LightGBM] [Debug] Trained a tree with leaves = 31 and depth = 5\n",
      "[LightGBM] [Debug] Trained a tree with leaves = 31 and depth = 5\n",
      "[LightGBM] [Debug] Trained a tree with leaves = 31 and depth = 5\n",
      "[LightGBM] [Debug] Trained a tree with leaves = 31 and depth = 5\n",
      "[LightGBM] [Debug] Trained a tree with leaves = 31 and depth = 5\n",
      "[LightGBM] [Debug] Trained a tree with leaves = 31 and depth = 5\n",
      "[LightGBM] [Debug] Trained a tree with leaves = 31 and depth = 5\n",
      "[LightGBM] [Debug] Trained a tree with leaves = 31 and depth = 5\n",
      "[LightGBM] [Debug] Trained a tree with leaves = 31 and depth = 5\n",
      "[LightGBM] [Debug] Trained a tree with leaves = 31 and depth = 5\n",
      "[LightGBM] [Debug] Trained a tree with leaves = 31 and depth = 5\n",
      "[LightGBM] [Debug] Trained a tree with leaves = 31 and depth = 5\n",
      "[LightGBM] [Debug] Trained a tree with leaves = 31 and depth = 5\n",
      "[LightGBM] [Debug] Trained a tree with leaves = 31 and depth = 5\n",
      "[LightGBM] [Debug] Trained a tree with leaves = 31 and depth = 5\n",
      "[LightGBM] [Debug] Trained a tree with leaves = 31 and depth = 5\n",
      "[LightGBM] [Warning] No further splits with positive gain, best gain: -inf\n",
      "[LightGBM] [Debug] Trained a tree with leaves = 28 and depth = 5\n",
      "[LightGBM] [Debug] Trained a tree with leaves = 31 and depth = 5\n",
      "[LightGBM] [Debug] Trained a tree with leaves = 31 and depth = 5\n",
      "[LightGBM] [Debug] Trained a tree with leaves = 31 and depth = 5\n",
      "[LightGBM] [Debug] Trained a tree with leaves = 31 and depth = 5\n",
      "[LightGBM] [Debug] Trained a tree with leaves = 31 and depth = 5\n",
      "[LightGBM] [Debug] Trained a tree with leaves = 31 and depth = 5\n",
      "[LightGBM] [Debug] Trained a tree with leaves = 31 and depth = 5\n",
      "[LightGBM] [Warning] No further splits with positive gain, best gain: -inf\n",
      "[LightGBM] [Debug] Trained a tree with leaves = 30 and depth = 5\n",
      "[LightGBM] [Warning] No further splits with positive gain, best gain: -inf\n",
      "[LightGBM] [Debug] Trained a tree with leaves = 25 and depth = 5\n",
      "[LightGBM] [Warning] No further splits with positive gain, best gain: -inf\n",
      "[LightGBM] [Debug] Trained a tree with leaves = 21 and depth = 5\n",
      "[LightGBM] [Warning] No further splits with positive gain, best gain: -inf\n",
      "[LightGBM] [Debug] Trained a tree with leaves = 29 and depth = 5\n",
      "[LightGBM] [Debug] Trained a tree with leaves = 31 and depth = 5\n",
      "[LightGBM] [Warning] No further splits with positive gain, best gain: -inf\n",
      "[LightGBM] [Debug] Trained a tree with leaves = 30 and depth = 5\n",
      "[LightGBM] [Warning] No further splits with positive gain, best gain: -inf\n",
      "[LightGBM] [Debug] Trained a tree with leaves = 22 and depth = 5\n",
      "[LightGBM] [Debug] Trained a tree with leaves = 31 and depth = 5\n",
      "[LightGBM] [Warning] No further splits with positive gain, best gain: -inf\n",
      "[LightGBM] [Debug] Trained a tree with leaves = 30 and depth = 5\n",
      "[LightGBM] [Warning] No further splits with positive gain, best gain: -inf\n",
      "[LightGBM] [Debug] Trained a tree with leaves = 29 and depth = 5\n",
      "[LightGBM] [Warning] No further splits with positive gain, best gain: -inf\n",
      "[LightGBM] [Debug] Trained a tree with leaves = 27 and depth = 5\n",
      "[LightGBM] [Warning] No further splits with positive gain, best gain: -inf\n",
      "[LightGBM] [Debug] Trained a tree with leaves = 23 and depth = 5\n",
      "[LightGBM] [Warning] No further splits with positive gain, best gain: -inf\n",
      "[LightGBM] [Debug] Trained a tree with leaves = 30 and depth = 5\n",
      "[LightGBM] [Warning] No further splits with positive gain, best gain: -inf\n",
      "[LightGBM] [Debug] Trained a tree with leaves = 26 and depth = 5\n",
      "[LightGBM] [Debug] Trained a tree with leaves = 31 and depth = 5\n",
      "[LightGBM] [Warning] No further splits with positive gain, best gain: -inf\n",
      "[LightGBM] [Debug] Trained a tree with leaves = 21 and depth = 5\n",
      "[LightGBM] [Warning] No further splits with positive gain, best gain: -inf\n",
      "[LightGBM] [Debug] Trained a tree with leaves = 25 and depth = 5\n",
      "[LightGBM] [Debug] Trained a tree with leaves = 31 and depth = 5\n",
      "[LightGBM] [Warning] No further splits with positive gain, best gain: -inf\n",
      "[LightGBM] [Debug] Trained a tree with leaves = 29 and depth = 5\n",
      "[LightGBM] [Warning] No further splits with positive gain, best gain: -inf\n",
      "[LightGBM] [Debug] Trained a tree with leaves = 22 and depth = 5\n",
      "[LightGBM] [Warning] No further splits with positive gain, best gain: -inf\n",
      "[LightGBM] [Debug] Trained a tree with leaves = 26 and depth = 5\n",
      "[LightGBM] [Debug] Trained a tree with leaves = 31 and depth = 5\n",
      "[LightGBM] [Warning] No further splits with positive gain, best gain: -inf\n",
      "[LightGBM] [Debug] Trained a tree with leaves = 27 and depth = 5\n",
      "[LightGBM] [Debug] Trained a tree with leaves = 31 and depth = 5\n",
      "[LightGBM] [Warning] No further splits with positive gain, best gain: -inf\n",
      "[LightGBM] [Debug] Trained a tree with leaves = 30 and depth = 5\n",
      "[LightGBM] [Warning] No further splits with positive gain, best gain: -inf\n",
      "[LightGBM] [Debug] Trained a tree with leaves = 21 and depth = 5\n",
      "[LightGBM] [Debug] Trained a tree with leaves = 31 and depth = 5\n",
      "[LightGBM] [Warning] No further splits with positive gain, best gain: -inf\n",
      "[LightGBM] [Debug] Trained a tree with leaves = 26 and depth = 5\n"
     ]
    },
    {
     "name": "stdout",
     "output_type": "stream",
     "text": [
      "[LightGBM] [Debug] Trained a tree with leaves = 31 and depth = 5\n",
      "[LightGBM] [Debug] Trained a tree with leaves = 31 and depth = 5\n",
      "[LightGBM] [Warning] No further splits with positive gain, best gain: -inf\n",
      "[LightGBM] [Debug] Trained a tree with leaves = 19 and depth = 5\n",
      "[LightGBM] [Debug] Trained a tree with leaves = 31 and depth = 5\n",
      "[LightGBM] [Warning] No further splits with positive gain, best gain: -inf\n",
      "[LightGBM] [Debug] Trained a tree with leaves = 30 and depth = 5\n",
      "[LightGBM] [Warning] No further splits with positive gain, best gain: -inf\n",
      "[LightGBM] [Debug] Trained a tree with leaves = 22 and depth = 5\n",
      "[LightGBM] [Warning] No further splits with positive gain, best gain: -inf\n",
      "[LightGBM] [Debug] Trained a tree with leaves = 25 and depth = 5\n",
      "[LightGBM] [Debug] Trained a tree with leaves = 31 and depth = 5\n",
      "[LightGBM] [Debug] Trained a tree with leaves = 31 and depth = 5\n",
      "[LightGBM] [Debug] Trained a tree with leaves = 31 and depth = 5\n",
      "[LightGBM] [Debug] Trained a tree with leaves = 31 and depth = 5\n",
      "[LightGBM] [Warning] No further splits with positive gain, best gain: -inf\n",
      "[LightGBM] [Debug] Trained a tree with leaves = 29 and depth = 5\n",
      "[LightGBM] [Debug] Trained a tree with leaves = 31 and depth = 5\n",
      "[LightGBM] [Warning] No further splits with positive gain, best gain: -inf\n",
      "[LightGBM] [Debug] Trained a tree with leaves = 28 and depth = 5\n",
      "[LightGBM] [Warning] No further splits with positive gain, best gain: -inf\n",
      "[LightGBM] [Debug] Trained a tree with leaves = 26 and depth = 5\n",
      "[LightGBM] [Warning] No further splits with positive gain, best gain: -inf\n",
      "[LightGBM] [Debug] Trained a tree with leaves = 30 and depth = 5\n",
      "[LightGBM] [Debug] Trained a tree with leaves = 31 and depth = 5\n",
      "[LightGBM] [Warning] No further splits with positive gain, best gain: -inf\n",
      "[LightGBM] [Debug] Trained a tree with leaves = 29 and depth = 5\n",
      "[LightGBM] [Warning] No further splits with positive gain, best gain: -inf\n",
      "[LightGBM] [Debug] Trained a tree with leaves = 22 and depth = 5\n",
      "[LightGBM] [Debug] Trained a tree with leaves = 31 and depth = 5\n",
      "[LightGBM] [Debug] Trained a tree with leaves = 31 and depth = 5\n",
      "[LightGBM] [Debug] Trained a tree with leaves = 31 and depth = 5\n",
      "[LightGBM] [Debug] Trained a tree with leaves = 31 and depth = 5\n",
      "[LightGBM] [Warning] No further splits with positive gain, best gain: -inf\n",
      "[LightGBM] [Debug] Trained a tree with leaves = 29 and depth = 5\n",
      "[LightGBM] [Warning] No further splits with positive gain, best gain: -inf\n",
      "[LightGBM] [Debug] Trained a tree with leaves = 26 and depth = 5\n",
      "[LightGBM] [Warning] No further splits with positive gain, best gain: -inf\n",
      "[LightGBM] [Debug] Trained a tree with leaves = 28 and depth = 5\n",
      "[LightGBM] [Debug] Trained a tree with leaves = 31 and depth = 5\n",
      "[LightGBM] [Debug] Trained a tree with leaves = 31 and depth = 5\n",
      "[LightGBM] [Debug] Trained a tree with leaves = 31 and depth = 5\n",
      "[LightGBM] [Warning] No further splits with positive gain, best gain: -inf\n",
      "[LightGBM] [Debug] Trained a tree with leaves = 26 and depth = 5\n",
      "[LightGBM] [Warning] No further splits with positive gain, best gain: -inf\n",
      "[LightGBM] [Debug] Trained a tree with leaves = 27 and depth = 5\n",
      "[LightGBM] [Debug] Trained a tree with leaves = 31 and depth = 5\n",
      "[LightGBM] [Warning] No further splits with positive gain, best gain: -inf\n",
      "[LightGBM] [Debug] Trained a tree with leaves = 30 and depth = 5\n",
      "[LightGBM] [Warning] No further splits with positive gain, best gain: -inf\n",
      "[LightGBM] [Debug] Trained a tree with leaves = 23 and depth = 5\n",
      "[LightGBM] [Debug] Trained a tree with leaves = 31 and depth = 5\n",
      "[LightGBM] [Debug] Trained a tree with leaves = 31 and depth = 5\n",
      "[LightGBM] [Warning] No further splits with positive gain, best gain: -inf\n",
      "[LightGBM] [Debug] Trained a tree with leaves = 26 and depth = 5\n",
      "[LightGBM] [Warning] No further splits with positive gain, best gain: -inf\n",
      "[LightGBM] [Debug] Trained a tree with leaves = 29 and depth = 5\n",
      "[LightGBM] [Debug] Trained a tree with leaves = 31 and depth = 5\n",
      "[LightGBM] [Warning] No further splits with positive gain, best gain: -inf\n",
      "[LightGBM] [Debug] Trained a tree with leaves = 29 and depth = 5\n",
      "[LightGBM] [Debug] Trained a tree with leaves = 31 and depth = 5\n",
      "[LightGBM] [Debug] Trained a tree with leaves = 31 and depth = 5\n",
      "[LightGBM] [Debug] Trained a tree with leaves = 31 and depth = 5\n",
      "[LightGBM] [Warning] No further splits with positive gain, best gain: -inf\n",
      "[LightGBM] [Debug] Trained a tree with leaves = 30 and depth = 5\n",
      "[LightGBM] [Warning] No further splits with positive gain, best gain: -inf\n",
      "[LightGBM] [Debug] Trained a tree with leaves = 28 and depth = 5\n",
      "[LightGBM] [Debug] Trained a tree with leaves = 31 and depth = 5\n",
      "[LightGBM] [Warning] No further splits with positive gain, best gain: -inf\n",
      "[LightGBM] [Debug] Trained a tree with leaves = 26 and depth = 5\n",
      "[LightGBM] [Warning] No further splits with positive gain, best gain: -inf\n",
      "[LightGBM] [Debug] Trained a tree with leaves = 28 and depth = 5\n",
      "[LightGBM] [Debug] Trained a tree with leaves = 31 and depth = 5\n",
      "[LightGBM] [Warning] No further splits with positive gain, best gain: -inf\n",
      "[LightGBM] [Debug] Trained a tree with leaves = 24 and depth = 5\n",
      "[LightGBM] [Debug] Trained a tree with leaves = 31 and depth = 5\n",
      "[LightGBM] [Debug] Trained a tree with leaves = 31 and depth = 5\n",
      "[LightGBM] [Debug] Trained a tree with leaves = 31 and depth = 5\n",
      "[LightGBM] [Debug] Trained a tree with leaves = 31 and depth = 5\n",
      "[LightGBM] [Warning] No further splits with positive gain, best gain: -inf\n",
      "[LightGBM] [Debug] Trained a tree with leaves = 30 and depth = 5\n",
      "[LightGBM] [Warning] No further splits with positive gain, best gain: -inf\n",
      "[LightGBM] [Debug] Trained a tree with leaves = 29 and depth = 5\n",
      "[LightGBM] [Warning] No further splits with positive gain, best gain: -inf\n",
      "[LightGBM] [Debug] Trained a tree with leaves = 28 and depth = 5\n",
      "[LightGBM] [Warning] No further splits with positive gain, best gain: -inf\n",
      "[LightGBM] [Debug] Trained a tree with leaves = 26 and depth = 5\n",
      "[LightGBM] [Warning] No further splits with positive gain, best gain: -inf\n",
      "[LightGBM] [Debug] Trained a tree with leaves = 26 and depth = 5\n",
      "[LightGBM] [Debug] Trained a tree with leaves = 31 and depth = 5\n",
      "[LightGBM] [Debug] Trained a tree with leaves = 31 and depth = 5\n",
      "[LightGBM] [Warning] No further splits with positive gain, best gain: -inf\n",
      "[LightGBM] [Debug] Trained a tree with leaves = 30 and depth = 5\n",
      "[LightGBM] [Warning] No further splits with positive gain, best gain: -inf\n",
      "[LightGBM] [Debug] Trained a tree with leaves = 25 and depth = 5\n",
      "[LightGBM] [Warning] No further splits with positive gain, best gain: -inf\n",
      "[LightGBM] [Debug] Trained a tree with leaves = 28 and depth = 5\n",
      "[LightGBM] [Debug] Trained a tree with leaves = 31 and depth = 5\n",
      "[LightGBM] [Warning] No further splits with positive gain, best gain: -inf\n",
      "[LightGBM] [Debug] Trained a tree with leaves = 26 and depth = 5\n",
      "[LightGBM] [Debug] Trained a tree with leaves = 31 and depth = 5\n",
      "[LightGBM] [Debug] Trained a tree with leaves = 31 and depth = 5\n",
      "[LightGBM] [Debug] Trained a tree with leaves = 31 and depth = 5\n",
      "[LightGBM] [Warning] No further splits with positive gain, best gain: -inf\n",
      "[LightGBM] [Debug] Trained a tree with leaves = 25 and depth = 5\n",
      "[LightGBM] [Warning] No further splits with positive gain, best gain: -inf\n",
      "[LightGBM] [Debug] Trained a tree with leaves = 29 and depth = 5\n",
      "[LightGBM] [Debug] Trained a tree with leaves = 31 and depth = 5\n",
      "[LightGBM] [Warning] No further splits with positive gain, best gain: -inf\n",
      "[LightGBM] [Debug] Trained a tree with leaves = 30 and depth = 5\n",
      "[LightGBM] [Warning] No further splits with positive gain, best gain: -inf\n",
      "[LightGBM] [Debug] Trained a tree with leaves = 26 and depth = 5\n",
      "[LightGBM] [Warning] No further splits with positive gain, best gain: -inf\n",
      "[LightGBM] [Debug] Trained a tree with leaves = 30 and depth = 5\n",
      "[LightGBM] [Warning] No further splits with positive gain, best gain: -inf\n",
      "[LightGBM] [Debug] Trained a tree with leaves = 29 and depth = 5\n",
      "[LightGBM] [Warning] No further splits with positive gain, best gain: -inf\n",
      "[LightGBM] [Debug] Trained a tree with leaves = 28 and depth = 5\n",
      "[LightGBM] [Debug] Trained a tree with leaves = 31 and depth = 5\n",
      "[LightGBM] [Debug] Trained a tree with leaves = 31 and depth = 5\n",
      "[LightGBM] [Warning] No further splits with positive gain, best gain: -inf\n",
      "[LightGBM] [Debug] Trained a tree with leaves = 18 and depth = 5\n",
      "[LightGBM] [Warning] No further splits with positive gain, best gain: -inf\n",
      "[LightGBM] [Debug] Trained a tree with leaves = 24 and depth = 5\n",
      "[LightGBM] [Warning] No further splits with positive gain, best gain: -inf\n",
      "[LightGBM] [Debug] Trained a tree with leaves = 27 and depth = 5\n"
     ]
    },
    {
     "name": "stdout",
     "output_type": "stream",
     "text": [
      "[LightGBM] [Warning] No further splits with positive gain, best gain: -inf\n",
      "[LightGBM] [Debug] Trained a tree with leaves = 25 and depth = 5\n",
      "[LightGBM] [Warning] No further splits with positive gain, best gain: -inf\n",
      "[LightGBM] [Debug] Trained a tree with leaves = 21 and depth = 5\n",
      "[LightGBM] [Warning] No further splits with positive gain, best gain: -inf\n",
      "[LightGBM] [Debug] Trained a tree with leaves = 29 and depth = 5\n",
      "[LightGBM] [Debug] Trained a tree with leaves = 31 and depth = 5\n",
      "[LightGBM] [Debug] Trained a tree with leaves = 31 and depth = 5\n",
      "[LightGBM] [Warning] No further splits with positive gain, best gain: -inf\n",
      "[LightGBM] [Debug] Trained a tree with leaves = 30 and depth = 5\n",
      "[LightGBM] [Debug] Trained a tree with leaves = 31 and depth = 5\n",
      "[LightGBM] [Warning] No further splits with positive gain, best gain: -inf\n",
      "[LightGBM] [Debug] Trained a tree with leaves = 24 and depth = 5\n",
      "[LightGBM] [Debug] Trained a tree with leaves = 31 and depth = 5\n",
      "[LightGBM] [Warning] No further splits with positive gain, best gain: -inf\n",
      "[LightGBM] [Debug] Trained a tree with leaves = 22 and depth = 5\n",
      "[LightGBM] [Warning] No further splits with positive gain, best gain: -inf\n",
      "[LightGBM] [Debug] Trained a tree with leaves = 24 and depth = 5\n",
      "[LightGBM] [Warning] No further splits with positive gain, best gain: -inf\n",
      "[LightGBM] [Debug] Trained a tree with leaves = 30 and depth = 5\n",
      "[LightGBM] [Debug] Trained a tree with leaves = 31 and depth = 5\n",
      "[LightGBM] [Debug] Trained a tree with leaves = 31 and depth = 5\n",
      "[LightGBM] [Warning] No further splits with positive gain, best gain: -inf\n",
      "[LightGBM] [Debug] Trained a tree with leaves = 23 and depth = 5\n",
      "[LightGBM] [Warning] No further splits with positive gain, best gain: -inf\n",
      "[LightGBM] [Debug] Trained a tree with leaves = 24 and depth = 5\n",
      "[LightGBM] [Debug] Trained a tree with leaves = 31 and depth = 5\n",
      "[LightGBM] [Warning] No further splits with positive gain, best gain: -inf\n",
      "[LightGBM] [Debug] Trained a tree with leaves = 22 and depth = 5\n",
      "[LightGBM] [Debug] Trained a tree with leaves = 31 and depth = 5\n",
      "[LightGBM] [Debug] Trained a tree with leaves = 31 and depth = 5\n",
      "[LightGBM] [Debug] Trained a tree with leaves = 31 and depth = 5\n",
      "[LightGBM] [Warning] No further splits with positive gain, best gain: -inf\n",
      "[LightGBM] [Debug] Trained a tree with leaves = 28 and depth = 5\n",
      "[LightGBM] [Debug] Trained a tree with leaves = 31 and depth = 5\n",
      "[LightGBM] [Warning] No further splits with positive gain, best gain: -inf\n",
      "[LightGBM] [Debug] Trained a tree with leaves = 26 and depth = 5\n",
      "[LightGBM] [Warning] No further splits with positive gain, best gain: -inf\n",
      "[LightGBM] [Debug] Trained a tree with leaves = 30 and depth = 5\n",
      "[LightGBM] [Warning] No further splits with positive gain, best gain: -inf\n",
      "[LightGBM] [Debug] Trained a tree with leaves = 25 and depth = 5\n",
      "[LightGBM] [Warning] Accuracy may be bad since you didn't explicitly set num_leaves OR 2^max_depth > num_leaves. (num_leaves=31).\n",
      "[LightGBM] [Warning] Accuracy may be bad since you didn't explicitly set num_leaves OR 2^max_depth > num_leaves. (num_leaves=31).\n",
      "[LightGBM] [Debug] Dataset::GetMultiBinFromSparseFeatures: sparse rate 0.760539\n",
      "[LightGBM] [Debug] Dataset::GetMultiBinFromAllFeatures: sparse rate 0.180382\n",
      "[LightGBM] [Debug] init for col-wise cost 0.004273 seconds, init for row-wise cost 0.089905 seconds\n",
      "[LightGBM] [Warning] Auto-choosing row-wise multi-threading, the overhead of testing was 0.005799 seconds.\n",
      "You can set `force_row_wise=true` to remove the overhead.\n",
      "And if memory is not enough, you can set `force_col_wise=true`.\n",
      "[LightGBM] [Debug] Using Dense Multi-Val Bin\n",
      "[LightGBM] [Info] Total Bins 583\n",
      "[LightGBM] [Info] Number of data points in the train set: 195777, number of used features: 9\n",
      "[LightGBM] [Info] Start training from score 4627.612855\n",
      "[LightGBM] [Debug] Trained a tree with leaves = 31 and depth = 5\n",
      "[LightGBM] [Debug] Trained a tree with leaves = 31 and depth = 5\n",
      "[LightGBM] [Debug] Trained a tree with leaves = 31 and depth = 5\n",
      "[LightGBM] [Debug] Trained a tree with leaves = 31 and depth = 5\n",
      "[LightGBM] [Debug] Trained a tree with leaves = 31 and depth = 5\n",
      "[LightGBM] [Debug] Trained a tree with leaves = 31 and depth = 5\n",
      "[LightGBM] [Debug] Trained a tree with leaves = 31 and depth = 5\n",
      "[LightGBM] [Debug] Trained a tree with leaves = 31 and depth = 5\n",
      "[LightGBM] [Debug] Trained a tree with leaves = 31 and depth = 5\n",
      "[LightGBM] [Debug] Trained a tree with leaves = 31 and depth = 5\n",
      "[LightGBM] [Debug] Trained a tree with leaves = 31 and depth = 5\n",
      "[LightGBM] [Debug] Trained a tree with leaves = 31 and depth = 5\n",
      "[LightGBM] [Debug] Trained a tree with leaves = 31 and depth = 5\n",
      "[LightGBM] [Debug] Trained a tree with leaves = 31 and depth = 5\n",
      "[LightGBM] [Debug] Trained a tree with leaves = 31 and depth = 5\n",
      "[LightGBM] [Debug] Trained a tree with leaves = 31 and depth = 5\n",
      "[LightGBM] [Debug] Trained a tree with leaves = 31 and depth = 5\n",
      "[LightGBM] [Debug] Trained a tree with leaves = 31 and depth = 5\n",
      "[LightGBM] [Debug] Trained a tree with leaves = 31 and depth = 5\n",
      "[LightGBM] [Debug] Trained a tree with leaves = 31 and depth = 5\n",
      "[LightGBM] [Debug] Trained a tree with leaves = 31 and depth = 5\n",
      "[LightGBM] [Debug] Trained a tree with leaves = 31 and depth = 5\n",
      "[LightGBM] [Debug] Trained a tree with leaves = 31 and depth = 5\n",
      "[LightGBM] [Debug] Trained a tree with leaves = 31 and depth = 5\n",
      "[LightGBM] [Debug] Trained a tree with leaves = 31 and depth = 5\n",
      "[LightGBM] [Warning] No further splits with positive gain, best gain: -inf\n",
      "[LightGBM] [Debug] Trained a tree with leaves = 29 and depth = 5\n",
      "[LightGBM] [Debug] Trained a tree with leaves = 31 and depth = 5\n",
      "[LightGBM] [Debug] Trained a tree with leaves = 31 and depth = 5\n",
      "[LightGBM] [Debug] Trained a tree with leaves = 31 and depth = 5\n",
      "[LightGBM] [Debug] Trained a tree with leaves = 31 and depth = 5\n",
      "[LightGBM] [Debug] Trained a tree with leaves = 31 and depth = 5\n",
      "[LightGBM] [Debug] Trained a tree with leaves = 31 and depth = 5\n",
      "[LightGBM] [Debug] Trained a tree with leaves = 31 and depth = 5\n",
      "[LightGBM] [Debug] Trained a tree with leaves = 31 and depth = 5\n",
      "[LightGBM] [Debug] Trained a tree with leaves = 31 and depth = 5\n",
      "[LightGBM] [Debug] Trained a tree with leaves = 31 and depth = 5\n",
      "[LightGBM] [Debug] Trained a tree with leaves = 31 and depth = 5\n",
      "[LightGBM] [Debug] Trained a tree with leaves = 31 and depth = 5\n",
      "[LightGBM] [Debug] Trained a tree with leaves = 31 and depth = 5\n",
      "[LightGBM] [Warning] No further splits with positive gain, best gain: -inf\n",
      "[LightGBM] [Debug] Trained a tree with leaves = 30 and depth = 5\n",
      "[LightGBM] [Debug] Trained a tree with leaves = 31 and depth = 5\n",
      "[LightGBM] [Debug] Trained a tree with leaves = 31 and depth = 5\n",
      "[LightGBM] [Debug] Trained a tree with leaves = 31 and depth = 5\n",
      "[LightGBM] [Debug] Trained a tree with leaves = 31 and depth = 5\n",
      "[LightGBM] [Debug] Trained a tree with leaves = 31 and depth = 5\n",
      "[LightGBM] [Debug] Trained a tree with leaves = 31 and depth = 5\n",
      "[LightGBM] [Debug] Trained a tree with leaves = 31 and depth = 5\n",
      "[LightGBM] [Debug] Trained a tree with leaves = 31 and depth = 5\n",
      "[LightGBM] [Debug] Trained a tree with leaves = 31 and depth = 5\n",
      "[LightGBM] [Debug] Trained a tree with leaves = 31 and depth = 5\n",
      "[LightGBM] [Debug] Trained a tree with leaves = 31 and depth = 5\n",
      "[LightGBM] [Debug] Trained a tree with leaves = 31 and depth = 5\n",
      "[LightGBM] [Debug] Trained a tree with leaves = 31 and depth = 5\n",
      "[LightGBM] [Debug] Trained a tree with leaves = 31 and depth = 5\n",
      "[LightGBM] [Debug] Trained a tree with leaves = 31 and depth = 5\n",
      "[LightGBM] [Debug] Trained a tree with leaves = 31 and depth = 5\n",
      "[LightGBM] [Warning] No further splits with positive gain, best gain: -inf\n",
      "[LightGBM] [Debug] Trained a tree with leaves = 28 and depth = 5\n",
      "[LightGBM] [Debug] Trained a tree with leaves = 31 and depth = 5\n",
      "[LightGBM] [Debug] Trained a tree with leaves = 31 and depth = 5\n",
      "[LightGBM] [Debug] Trained a tree with leaves = 31 and depth = 5\n",
      "[LightGBM] [Debug] Trained a tree with leaves = 31 and depth = 5\n",
      "[LightGBM] [Debug] Trained a tree with leaves = 31 and depth = 5\n",
      "[LightGBM] [Debug] Trained a tree with leaves = 31 and depth = 5\n",
      "[LightGBM] [Debug] Trained a tree with leaves = 31 and depth = 5\n",
      "[LightGBM] [Warning] No further splits with positive gain, best gain: -inf\n",
      "[LightGBM] [Debug] Trained a tree with leaves = 30 and depth = 5\n",
      "[LightGBM] [Warning] No further splits with positive gain, best gain: -inf\n",
      "[LightGBM] [Debug] Trained a tree with leaves = 25 and depth = 5\n",
      "[LightGBM] [Warning] No further splits with positive gain, best gain: -inf\n",
      "[LightGBM] [Debug] Trained a tree with leaves = 21 and depth = 5\n"
     ]
    },
    {
     "name": "stdout",
     "output_type": "stream",
     "text": [
      "[LightGBM] [Warning] No further splits with positive gain, best gain: -inf\n",
      "[LightGBM] [Debug] Trained a tree with leaves = 29 and depth = 5\n",
      "[LightGBM] [Debug] Trained a tree with leaves = 31 and depth = 5\n",
      "[LightGBM] [Warning] No further splits with positive gain, best gain: -inf\n",
      "[LightGBM] [Debug] Trained a tree with leaves = 30 and depth = 5\n",
      "[LightGBM] [Warning] No further splits with positive gain, best gain: -inf\n",
      "[LightGBM] [Debug] Trained a tree with leaves = 22 and depth = 5\n",
      "[LightGBM] [Debug] Trained a tree with leaves = 31 and depth = 5\n",
      "[LightGBM] [Warning] No further splits with positive gain, best gain: -inf\n",
      "[LightGBM] [Debug] Trained a tree with leaves = 30 and depth = 5\n",
      "[LightGBM] [Warning] No further splits with positive gain, best gain: -inf\n",
      "[LightGBM] [Debug] Trained a tree with leaves = 29 and depth = 5\n",
      "[LightGBM] [Warning] No further splits with positive gain, best gain: -inf\n",
      "[LightGBM] [Debug] Trained a tree with leaves = 27 and depth = 5\n",
      "[LightGBM] [Warning] No further splits with positive gain, best gain: -inf\n",
      "[LightGBM] [Debug] Trained a tree with leaves = 23 and depth = 5\n",
      "[LightGBM] [Warning] No further splits with positive gain, best gain: -inf\n",
      "[LightGBM] [Debug] Trained a tree with leaves = 30 and depth = 5\n",
      "[LightGBM] [Warning] No further splits with positive gain, best gain: -inf\n",
      "[LightGBM] [Debug] Trained a tree with leaves = 26 and depth = 5\n",
      "[LightGBM] [Debug] Trained a tree with leaves = 31 and depth = 5\n",
      "[LightGBM] [Warning] No further splits with positive gain, best gain: -inf\n",
      "[LightGBM] [Debug] Trained a tree with leaves = 21 and depth = 5\n",
      "[LightGBM] [Warning] No further splits with positive gain, best gain: -inf\n",
      "[LightGBM] [Debug] Trained a tree with leaves = 25 and depth = 5\n",
      "[LightGBM] [Debug] Trained a tree with leaves = 31 and depth = 5\n",
      "[LightGBM] [Warning] No further splits with positive gain, best gain: -inf\n",
      "[LightGBM] [Debug] Trained a tree with leaves = 29 and depth = 5\n",
      "[LightGBM] [Warning] No further splits with positive gain, best gain: -inf\n",
      "[LightGBM] [Debug] Trained a tree with leaves = 22 and depth = 5\n",
      "[LightGBM] [Warning] No further splits with positive gain, best gain: -inf\n",
      "[LightGBM] [Debug] Trained a tree with leaves = 26 and depth = 5\n",
      "[LightGBM] [Debug] Trained a tree with leaves = 31 and depth = 5\n",
      "[LightGBM] [Warning] No further splits with positive gain, best gain: -inf\n",
      "[LightGBM] [Debug] Trained a tree with leaves = 27 and depth = 5\n",
      "[LightGBM] [Debug] Trained a tree with leaves = 31 and depth = 5\n",
      "[LightGBM] [Warning] No further splits with positive gain, best gain: -inf\n",
      "[LightGBM] [Debug] Trained a tree with leaves = 30 and depth = 5\n",
      "[LightGBM] [Warning] No further splits with positive gain, best gain: -inf\n",
      "[LightGBM] [Debug] Trained a tree with leaves = 21 and depth = 5\n",
      "[LightGBM] [Debug] Trained a tree with leaves = 31 and depth = 5\n",
      "[LightGBM] [Warning] No further splits with positive gain, best gain: -inf\n",
      "[LightGBM] [Debug] Trained a tree with leaves = 26 and depth = 5\n",
      "[LightGBM] [Debug] Trained a tree with leaves = 31 and depth = 5\n",
      "[LightGBM] [Debug] Trained a tree with leaves = 31 and depth = 5\n",
      "[LightGBM] [Warning] No further splits with positive gain, best gain: -inf\n",
      "[LightGBM] [Debug] Trained a tree with leaves = 19 and depth = 5\n",
      "[LightGBM] [Debug] Trained a tree with leaves = 31 and depth = 5\n",
      "[LightGBM] [Warning] No further splits with positive gain, best gain: -inf\n",
      "[LightGBM] [Debug] Trained a tree with leaves = 30 and depth = 5\n",
      "[LightGBM] [Warning] No further splits with positive gain, best gain: -inf\n",
      "[LightGBM] [Debug] Trained a tree with leaves = 22 and depth = 5\n",
      "[LightGBM] [Warning] No further splits with positive gain, best gain: -inf\n",
      "[LightGBM] [Debug] Trained a tree with leaves = 25 and depth = 5\n",
      "[LightGBM] [Debug] Trained a tree with leaves = 31 and depth = 5\n",
      "[LightGBM] [Debug] Trained a tree with leaves = 31 and depth = 5\n",
      "[LightGBM] [Debug] Trained a tree with leaves = 31 and depth = 5\n",
      "[LightGBM] [Debug] Trained a tree with leaves = 31 and depth = 5\n",
      "[LightGBM] [Warning] No further splits with positive gain, best gain: -inf\n",
      "[LightGBM] [Debug] Trained a tree with leaves = 29 and depth = 5\n",
      "[LightGBM] [Debug] Trained a tree with leaves = 31 and depth = 5\n",
      "[LightGBM] [Warning] No further splits with positive gain, best gain: -inf\n",
      "[LightGBM] [Debug] Trained a tree with leaves = 28 and depth = 5\n",
      "[LightGBM] [Warning] No further splits with positive gain, best gain: -inf\n",
      "[LightGBM] [Debug] Trained a tree with leaves = 26 and depth = 5\n",
      "[LightGBM] [Warning] No further splits with positive gain, best gain: -inf\n",
      "[LightGBM] [Debug] Trained a tree with leaves = 30 and depth = 5\n",
      "[LightGBM] [Debug] Trained a tree with leaves = 31 and depth = 5\n",
      "[LightGBM] [Warning] No further splits with positive gain, best gain: -inf\n",
      "[LightGBM] [Debug] Trained a tree with leaves = 29 and depth = 5\n",
      "[LightGBM] [Warning] No further splits with positive gain, best gain: -inf\n",
      "[LightGBM] [Debug] Trained a tree with leaves = 22 and depth = 5\n",
      "[LightGBM] [Debug] Trained a tree with leaves = 31 and depth = 5\n",
      "[LightGBM] [Debug] Trained a tree with leaves = 31 and depth = 5\n",
      "[LightGBM] [Debug] Trained a tree with leaves = 31 and depth = 5\n",
      "[LightGBM] [Debug] Trained a tree with leaves = 31 and depth = 5\n",
      "[LightGBM] [Warning] No further splits with positive gain, best gain: -inf\n",
      "[LightGBM] [Debug] Trained a tree with leaves = 29 and depth = 5\n",
      "[LightGBM] [Warning] No further splits with positive gain, best gain: -inf\n",
      "[LightGBM] [Debug] Trained a tree with leaves = 26 and depth = 5\n",
      "[LightGBM] [Warning] No further splits with positive gain, best gain: -inf\n",
      "[LightGBM] [Debug] Trained a tree with leaves = 28 and depth = 5\n",
      "[LightGBM] [Debug] Trained a tree with leaves = 31 and depth = 5\n",
      "[LightGBM] [Debug] Trained a tree with leaves = 31 and depth = 5\n",
      "[LightGBM] [Debug] Trained a tree with leaves = 31 and depth = 5\n",
      "[LightGBM] [Warning] No further splits with positive gain, best gain: -inf\n",
      "[LightGBM] [Debug] Trained a tree with leaves = 26 and depth = 5\n",
      "[LightGBM] [Warning] No further splits with positive gain, best gain: -inf\n",
      "[LightGBM] [Debug] Trained a tree with leaves = 27 and depth = 5\n",
      "[LightGBM] [Debug] Trained a tree with leaves = 31 and depth = 5\n",
      "[LightGBM] [Warning] No further splits with positive gain, best gain: -inf\n",
      "[LightGBM] [Debug] Trained a tree with leaves = 30 and depth = 5\n",
      "[LightGBM] [Warning] No further splits with positive gain, best gain: -inf\n",
      "[LightGBM] [Debug] Trained a tree with leaves = 23 and depth = 5\n",
      "[LightGBM] [Debug] Trained a tree with leaves = 31 and depth = 5\n",
      "[LightGBM] [Debug] Trained a tree with leaves = 31 and depth = 5\n",
      "[LightGBM] [Warning] No further splits with positive gain, best gain: -inf\n",
      "[LightGBM] [Debug] Trained a tree with leaves = 26 and depth = 5\n",
      "[LightGBM] [Warning] No further splits with positive gain, best gain: -inf\n",
      "[LightGBM] [Debug] Trained a tree with leaves = 29 and depth = 5\n",
      "[LightGBM] [Debug] Trained a tree with leaves = 31 and depth = 5\n",
      "[LightGBM] [Warning] No further splits with positive gain, best gain: -inf\n",
      "[LightGBM] [Debug] Trained a tree with leaves = 29 and depth = 5\n",
      "[LightGBM] [Debug] Trained a tree with leaves = 31 and depth = 5\n",
      "[LightGBM] [Debug] Trained a tree with leaves = 31 and depth = 5\n",
      "[LightGBM] [Debug] Trained a tree with leaves = 31 and depth = 5\n",
      "[LightGBM] [Warning] No further splits with positive gain, best gain: -inf\n",
      "[LightGBM] [Debug] Trained a tree with leaves = 30 and depth = 5\n",
      "[LightGBM] [Warning] No further splits with positive gain, best gain: -inf\n",
      "[LightGBM] [Debug] Trained a tree with leaves = 28 and depth = 5\n",
      "[LightGBM] [Debug] Trained a tree with leaves = 31 and depth = 5\n",
      "[LightGBM] [Warning] No further splits with positive gain, best gain: -inf\n",
      "[LightGBM] [Debug] Trained a tree with leaves = 26 and depth = 5\n",
      "[LightGBM] [Warning] No further splits with positive gain, best gain: -inf\n",
      "[LightGBM] [Debug] Trained a tree with leaves = 28 and depth = 5\n",
      "[LightGBM] [Debug] Trained a tree with leaves = 31 and depth = 5\n",
      "[LightGBM] [Warning] No further splits with positive gain, best gain: -inf\n",
      "[LightGBM] [Debug] Trained a tree with leaves = 24 and depth = 5\n",
      "[LightGBM] [Debug] Trained a tree with leaves = 31 and depth = 5\n",
      "[LightGBM] [Debug] Trained a tree with leaves = 31 and depth = 5\n",
      "[LightGBM] [Debug] Trained a tree with leaves = 31 and depth = 5\n",
      "[LightGBM] [Debug] Trained a tree with leaves = 31 and depth = 5\n",
      "[LightGBM] [Warning] No further splits with positive gain, best gain: -inf\n",
      "[LightGBM] [Debug] Trained a tree with leaves = 30 and depth = 5\n",
      "[LightGBM] [Warning] No further splits with positive gain, best gain: -inf\n",
      "[LightGBM] [Debug] Trained a tree with leaves = 29 and depth = 5\n"
     ]
    },
    {
     "name": "stdout",
     "output_type": "stream",
     "text": [
      "[LightGBM] [Warning] No further splits with positive gain, best gain: -inf\n",
      "[LightGBM] [Debug] Trained a tree with leaves = 28 and depth = 5\n",
      "[LightGBM] [Warning] No further splits with positive gain, best gain: -inf\n",
      "[LightGBM] [Debug] Trained a tree with leaves = 26 and depth = 5\n",
      "[LightGBM] [Warning] No further splits with positive gain, best gain: -inf\n",
      "[LightGBM] [Debug] Trained a tree with leaves = 26 and depth = 5\n",
      "[LightGBM] [Debug] Trained a tree with leaves = 31 and depth = 5\n",
      "[LightGBM] [Debug] Trained a tree with leaves = 31 and depth = 5\n",
      "[LightGBM] [Warning] No further splits with positive gain, best gain: -inf\n",
      "[LightGBM] [Debug] Trained a tree with leaves = 30 and depth = 5\n",
      "[LightGBM] [Warning] No further splits with positive gain, best gain: -inf\n",
      "[LightGBM] [Debug] Trained a tree with leaves = 25 and depth = 5\n",
      "[LightGBM] [Warning] No further splits with positive gain, best gain: -inf\n",
      "[LightGBM] [Debug] Trained a tree with leaves = 28 and depth = 5\n",
      "[LightGBM] [Debug] Trained a tree with leaves = 31 and depth = 5\n",
      "[LightGBM] [Warning] No further splits with positive gain, best gain: -inf\n",
      "[LightGBM] [Debug] Trained a tree with leaves = 26 and depth = 5\n",
      "[LightGBM] [Debug] Trained a tree with leaves = 31 and depth = 5\n",
      "[LightGBM] [Debug] Trained a tree with leaves = 31 and depth = 5\n",
      "[LightGBM] [Debug] Trained a tree with leaves = 31 and depth = 5\n",
      "[LightGBM] [Warning] No further splits with positive gain, best gain: -inf\n",
      "[LightGBM] [Debug] Trained a tree with leaves = 25 and depth = 5\n",
      "[LightGBM] [Warning] No further splits with positive gain, best gain: -inf\n",
      "[LightGBM] [Debug] Trained a tree with leaves = 29 and depth = 5\n",
      "[LightGBM] [Debug] Trained a tree with leaves = 31 and depth = 5\n",
      "[LightGBM] [Warning] No further splits with positive gain, best gain: -inf\n",
      "[LightGBM] [Debug] Trained a tree with leaves = 30 and depth = 5\n",
      "[LightGBM] [Warning] No further splits with positive gain, best gain: -inf\n",
      "[LightGBM] [Debug] Trained a tree with leaves = 26 and depth = 5\n",
      "[LightGBM] [Warning] No further splits with positive gain, best gain: -inf\n",
      "[LightGBM] [Debug] Trained a tree with leaves = 30 and depth = 5\n",
      "[LightGBM] [Warning] No further splits with positive gain, best gain: -inf\n",
      "[LightGBM] [Debug] Trained a tree with leaves = 29 and depth = 5\n",
      "[LightGBM] [Warning] No further splits with positive gain, best gain: -inf\n",
      "[LightGBM] [Debug] Trained a tree with leaves = 28 and depth = 5\n",
      "[LightGBM] [Debug] Trained a tree with leaves = 31 and depth = 5\n",
      "[LightGBM] [Debug] Trained a tree with leaves = 31 and depth = 5\n",
      "[LightGBM] [Warning] No further splits with positive gain, best gain: -inf\n",
      "[LightGBM] [Debug] Trained a tree with leaves = 18 and depth = 5\n",
      "[LightGBM] [Warning] No further splits with positive gain, best gain: -inf\n",
      "[LightGBM] [Debug] Trained a tree with leaves = 24 and depth = 5\n",
      "[LightGBM] [Warning] No further splits with positive gain, best gain: -inf\n",
      "[LightGBM] [Debug] Trained a tree with leaves = 27 and depth = 5\n",
      "[LightGBM] [Warning] No further splits with positive gain, best gain: -inf\n",
      "[LightGBM] [Debug] Trained a tree with leaves = 25 and depth = 5\n",
      "[LightGBM] [Warning] No further splits with positive gain, best gain: -inf\n",
      "[LightGBM] [Debug] Trained a tree with leaves = 21 and depth = 5\n",
      "[LightGBM] [Warning] No further splits with positive gain, best gain: -inf\n",
      "[LightGBM] [Debug] Trained a tree with leaves = 29 and depth = 5\n",
      "[LightGBM] [Debug] Trained a tree with leaves = 31 and depth = 5\n",
      "[LightGBM] [Debug] Trained a tree with leaves = 31 and depth = 5\n",
      "[LightGBM] [Warning] No further splits with positive gain, best gain: -inf\n",
      "[LightGBM] [Debug] Trained a tree with leaves = 30 and depth = 5\n",
      "[LightGBM] [Debug] Trained a tree with leaves = 31 and depth = 5\n",
      "[LightGBM] [Warning] No further splits with positive gain, best gain: -inf\n",
      "[LightGBM] [Debug] Trained a tree with leaves = 24 and depth = 5\n",
      "[LightGBM] [Debug] Trained a tree with leaves = 31 and depth = 5\n",
      "[LightGBM] [Warning] No further splits with positive gain, best gain: -inf\n",
      "[LightGBM] [Debug] Trained a tree with leaves = 22 and depth = 5\n",
      "[LightGBM] [Warning] No further splits with positive gain, best gain: -inf\n",
      "[LightGBM] [Debug] Trained a tree with leaves = 24 and depth = 5\n",
      "[LightGBM] [Warning] No further splits with positive gain, best gain: -inf\n",
      "[LightGBM] [Debug] Trained a tree with leaves = 30 and depth = 5\n",
      "[LightGBM] [Debug] Trained a tree with leaves = 31 and depth = 5\n",
      "[LightGBM] [Debug] Trained a tree with leaves = 31 and depth = 5\n",
      "[LightGBM] [Warning] No further splits with positive gain, best gain: -inf\n",
      "[LightGBM] [Debug] Trained a tree with leaves = 23 and depth = 5\n",
      "[LightGBM] [Warning] No further splits with positive gain, best gain: -inf\n",
      "[LightGBM] [Debug] Trained a tree with leaves = 24 and depth = 5\n",
      "[LightGBM] [Debug] Trained a tree with leaves = 31 and depth = 5\n",
      "[LightGBM] [Warning] No further splits with positive gain, best gain: -inf\n",
      "[LightGBM] [Debug] Trained a tree with leaves = 22 and depth = 5\n",
      "[LightGBM] [Debug] Trained a tree with leaves = 31 and depth = 5\n",
      "[LightGBM] [Debug] Trained a tree with leaves = 31 and depth = 5\n",
      "[LightGBM] [Debug] Trained a tree with leaves = 31 and depth = 5\n",
      "[LightGBM] [Warning] No further splits with positive gain, best gain: -inf\n",
      "[LightGBM] [Debug] Trained a tree with leaves = 28 and depth = 5\n",
      "[LightGBM] [Debug] Trained a tree with leaves = 31 and depth = 5\n",
      "[LightGBM] [Warning] No further splits with positive gain, best gain: -inf\n",
      "[LightGBM] [Debug] Trained a tree with leaves = 26 and depth = 5\n",
      "[LightGBM] [Warning] No further splits with positive gain, best gain: -inf\n",
      "[LightGBM] [Debug] Trained a tree with leaves = 30 and depth = 5\n",
      "[LightGBM] [Warning] No further splits with positive gain, best gain: -inf\n",
      "[LightGBM] [Debug] Trained a tree with leaves = 25 and depth = 5\n",
      "[LightGBM] [Warning] No further splits with positive gain, best gain: -inf\n",
      "[LightGBM] [Debug] Trained a tree with leaves = 23 and depth = 5\n",
      "[LightGBM] [Debug] Trained a tree with leaves = 31 and depth = 5\n",
      "[LightGBM] [Debug] Trained a tree with leaves = 31 and depth = 5\n",
      "[LightGBM] [Debug] Trained a tree with leaves = 31 and depth = 5\n",
      "[LightGBM] [Warning] No further splits with positive gain, best gain: -inf\n",
      "[LightGBM] [Debug] Trained a tree with leaves = 30 and depth = 5\n",
      "[LightGBM] [Warning] No further splits with positive gain, best gain: -inf\n",
      "[LightGBM] [Debug] Trained a tree with leaves = 30 and depth = 5\n",
      "[LightGBM] [Debug] Trained a tree with leaves = 31 and depth = 5\n",
      "[LightGBM] [Debug] Trained a tree with leaves = 31 and depth = 5\n",
      "[LightGBM] [Warning] No further splits with positive gain, best gain: -inf\n",
      "[LightGBM] [Debug] Trained a tree with leaves = 27 and depth = 5\n",
      "[LightGBM] [Warning] No further splits with positive gain, best gain: -inf\n",
      "[LightGBM] [Debug] Trained a tree with leaves = 29 and depth = 5\n",
      "[LightGBM] [Debug] Trained a tree with leaves = 31 and depth = 5\n",
      "[LightGBM] [Warning] No further splits with positive gain, best gain: -inf\n",
      "[LightGBM] [Debug] Trained a tree with leaves = 26 and depth = 5\n",
      "[LightGBM] [Debug] Trained a tree with leaves = 31 and depth = 5\n",
      "[LightGBM] [Warning] No further splits with positive gain, best gain: -inf\n",
      "[LightGBM] [Debug] Trained a tree with leaves = 26 and depth = 5\n",
      "[LightGBM] [Warning] No further splits with positive gain, best gain: -inf\n",
      "[LightGBM] [Debug] Trained a tree with leaves = 28 and depth = 5\n",
      "[LightGBM] [Warning] No further splits with positive gain, best gain: -inf\n",
      "[LightGBM] [Debug] Trained a tree with leaves = 29 and depth = 5\n",
      "[LightGBM] [Warning] No further splits with positive gain, best gain: -inf\n",
      "[LightGBM] [Debug] Trained a tree with leaves = 29 and depth = 5\n",
      "[LightGBM] [Warning] No further splits with positive gain, best gain: -inf\n",
      "[LightGBM] [Debug] Trained a tree with leaves = 30 and depth = 5\n",
      "[LightGBM] [Debug] Trained a tree with leaves = 31 and depth = 5\n",
      "[LightGBM] [Warning] No further splits with positive gain, best gain: -inf\n",
      "[LightGBM] [Debug] Trained a tree with leaves = 29 and depth = 5\n",
      "[LightGBM] [Warning] No further splits with positive gain, best gain: -inf\n",
      "[LightGBM] [Debug] Trained a tree with leaves = 30 and depth = 5\n",
      "[LightGBM] [Warning] No further splits with positive gain, best gain: -inf\n",
      "[LightGBM] [Debug] Trained a tree with leaves = 30 and depth = 5\n",
      "[LightGBM] [Debug] Trained a tree with leaves = 31 and depth = 5\n",
      "[LightGBM] [Warning] No further splits with positive gain, best gain: -inf\n",
      "[LightGBM] [Debug] Trained a tree with leaves = 26 and depth = 5\n"
     ]
    },
    {
     "name": "stdout",
     "output_type": "stream",
     "text": [
      "[LightGBM] [Warning] No further splits with positive gain, best gain: -inf\n",
      "[LightGBM] [Debug] Trained a tree with leaves = 22 and depth = 5\n",
      "[LightGBM] [Debug] Trained a tree with leaves = 31 and depth = 5\n",
      "[LightGBM] [Debug] Trained a tree with leaves = 31 and depth = 5\n",
      "[LightGBM] [Debug] Trained a tree with leaves = 31 and depth = 5\n",
      "[LightGBM] [Warning] No further splits with positive gain, best gain: -inf\n",
      "[LightGBM] [Debug] Trained a tree with leaves = 30 and depth = 5\n",
      "[LightGBM] [Warning] No further splits with positive gain, best gain: -inf\n",
      "[LightGBM] [Debug] Trained a tree with leaves = 30 and depth = 5\n",
      "[LightGBM] [Warning] No further splits with positive gain, best gain: -inf\n",
      "[LightGBM] [Debug] Trained a tree with leaves = 23 and depth = 5\n",
      "[LightGBM] [Warning] No further splits with positive gain, best gain: -inf\n",
      "[LightGBM] [Debug] Trained a tree with leaves = 23 and depth = 5\n",
      "[LightGBM] [Warning] No further splits with positive gain, best gain: -inf\n",
      "[LightGBM] [Debug] Trained a tree with leaves = 29 and depth = 5\n",
      "[LightGBM] [Warning] No further splits with positive gain, best gain: -inf\n",
      "[LightGBM] [Debug] Trained a tree with leaves = 27 and depth = 5\n",
      "[LightGBM] [Debug] Trained a tree with leaves = 31 and depth = 5\n",
      "[LightGBM] [Warning] No further splits with positive gain, best gain: -inf\n",
      "[LightGBM] [Debug] Trained a tree with leaves = 21 and depth = 5\n",
      "[LightGBM] [Warning] No further splits with positive gain, best gain: -inf\n",
      "[LightGBM] [Debug] Trained a tree with leaves = 26 and depth = 5\n",
      "[LightGBM] [Debug] Trained a tree with leaves = 31 and depth = 5\n",
      "[LightGBM] [Warning] No further splits with positive gain, best gain: -inf\n",
      "[LightGBM] [Debug] Trained a tree with leaves = 29 and depth = 5\n",
      "[LightGBM] [Debug] Trained a tree with leaves = 31 and depth = 5\n",
      "[LightGBM] [Warning] No further splits with positive gain, best gain: -inf\n",
      "[LightGBM] [Debug] Trained a tree with leaves = 25 and depth = 5\n",
      "[LightGBM] [Debug] Trained a tree with leaves = 31 and depth = 5\n",
      "[LightGBM] [Debug] Trained a tree with leaves = 31 and depth = 5\n",
      "[LightGBM] [Warning] No further splits with positive gain, best gain: -inf\n",
      "[LightGBM] [Debug] Trained a tree with leaves = 30 and depth = 5\n",
      "[LightGBM] [Warning] No further splits with positive gain, best gain: -inf\n",
      "[LightGBM] [Debug] Trained a tree with leaves = 29 and depth = 5\n",
      "[LightGBM] [Warning] No further splits with positive gain, best gain: -inf\n",
      "[LightGBM] [Debug] Trained a tree with leaves = 28 and depth = 5\n",
      "[LightGBM] [Warning] No further splits with positive gain, best gain: -inf\n",
      "[LightGBM] [Debug] Trained a tree with leaves = 29 and depth = 5\n",
      "[LightGBM] [Warning] No further splits with positive gain, best gain: -inf\n",
      "[LightGBM] [Debug] Trained a tree with leaves = 25 and depth = 5\n",
      "[LightGBM] [Warning] No further splits with positive gain, best gain: -inf\n",
      "[LightGBM] [Debug] Trained a tree with leaves = 21 and depth = 5\n",
      "[LightGBM] [Warning] No further splits with positive gain, best gain: -inf\n",
      "[LightGBM] [Debug] Trained a tree with leaves = 29 and depth = 5\n",
      "[LightGBM] [Warning] Accuracy may be bad since you didn't explicitly set num_leaves OR 2^max_depth > num_leaves. (num_leaves=31).\n",
      "[LightGBM] [Warning] Accuracy may be bad since you didn't explicitly set num_leaves OR 2^max_depth > num_leaves. (num_leaves=31).\n",
      "[LightGBM] [Debug] Dataset::GetMultiBinFromSparseFeatures: sparse rate 0.760539\n",
      "[LightGBM] [Debug] Dataset::GetMultiBinFromAllFeatures: sparse rate 0.180382\n",
      "[LightGBM] [Debug] init for col-wise cost 0.092440 seconds, init for row-wise cost 0.004501 seconds\n",
      "[LightGBM] [Warning] Auto-choosing row-wise multi-threading, the overhead of testing was 0.093960 seconds.\n",
      "You can set `force_row_wise=true` to remove the overhead.\n",
      "And if memory is not enough, you can set `force_col_wise=true`.\n",
      "[LightGBM] [Debug] Using Dense Multi-Val Bin\n",
      "[LightGBM] [Info] Total Bins 583\n",
      "[LightGBM] [Info] Number of data points in the train set: 195777, number of used features: 9\n",
      "[LightGBM] [Info] Start training from score 4627.612855\n",
      "[LightGBM] [Debug] Trained a tree with leaves = 31 and depth = 5\n",
      "[LightGBM] [Debug] Trained a tree with leaves = 31 and depth = 5\n",
      "[LightGBM] [Debug] Trained a tree with leaves = 31 and depth = 5\n",
      "[LightGBM] [Debug] Trained a tree with leaves = 31 and depth = 5\n",
      "[LightGBM] [Debug] Trained a tree with leaves = 31 and depth = 5\n",
      "[LightGBM] [Debug] Trained a tree with leaves = 31 and depth = 5\n",
      "[LightGBM] [Debug] Trained a tree with leaves = 31 and depth = 5\n",
      "[LightGBM] [Debug] Trained a tree with leaves = 31 and depth = 5\n",
      "[LightGBM] [Debug] Trained a tree with leaves = 31 and depth = 5\n",
      "[LightGBM] [Debug] Trained a tree with leaves = 31 and depth = 5\n",
      "[LightGBM] [Debug] Trained a tree with leaves = 31 and depth = 5\n",
      "[LightGBM] [Debug] Trained a tree with leaves = 31 and depth = 5\n",
      "[LightGBM] [Debug] Trained a tree with leaves = 31 and depth = 5\n",
      "[LightGBM] [Debug] Trained a tree with leaves = 31 and depth = 5\n",
      "[LightGBM] [Debug] Trained a tree with leaves = 31 and depth = 5\n",
      "[LightGBM] [Debug] Trained a tree with leaves = 31 and depth = 5\n",
      "[LightGBM] [Debug] Trained a tree with leaves = 31 and depth = 5\n",
      "[LightGBM] [Debug] Trained a tree with leaves = 31 and depth = 5\n",
      "[LightGBM] [Debug] Trained a tree with leaves = 31 and depth = 5\n",
      "[LightGBM] [Debug] Trained a tree with leaves = 31 and depth = 5\n",
      "[LightGBM] [Debug] Trained a tree with leaves = 31 and depth = 5\n",
      "[LightGBM] [Debug] Trained a tree with leaves = 31 and depth = 5\n",
      "[LightGBM] [Debug] Trained a tree with leaves = 31 and depth = 5\n",
      "[LightGBM] [Debug] Trained a tree with leaves = 31 and depth = 5\n",
      "[LightGBM] [Debug] Trained a tree with leaves = 31 and depth = 5\n",
      "[LightGBM] [Warning] No further splits with positive gain, best gain: -inf\n",
      "[LightGBM] [Debug] Trained a tree with leaves = 29 and depth = 5\n",
      "[LightGBM] [Debug] Trained a tree with leaves = 31 and depth = 5\n",
      "[LightGBM] [Debug] Trained a tree with leaves = 31 and depth = 5\n",
      "[LightGBM] [Debug] Trained a tree with leaves = 31 and depth = 5\n",
      "[LightGBM] [Debug] Trained a tree with leaves = 31 and depth = 5\n",
      "[LightGBM] [Debug] Trained a tree with leaves = 31 and depth = 5\n",
      "[LightGBM] [Debug] Trained a tree with leaves = 31 and depth = 5\n",
      "[LightGBM] [Debug] Trained a tree with leaves = 31 and depth = 5\n",
      "[LightGBM] [Debug] Trained a tree with leaves = 31 and depth = 5\n",
      "[LightGBM] [Debug] Trained a tree with leaves = 31 and depth = 5\n",
      "[LightGBM] [Debug] Trained a tree with leaves = 31 and depth = 5\n",
      "[LightGBM] [Debug] Trained a tree with leaves = 31 and depth = 5\n",
      "[LightGBM] [Debug] Trained a tree with leaves = 31 and depth = 5\n",
      "[LightGBM] [Debug] Trained a tree with leaves = 31 and depth = 5\n",
      "[LightGBM] [Warning] No further splits with positive gain, best gain: -inf\n",
      "[LightGBM] [Debug] Trained a tree with leaves = 30 and depth = 5\n",
      "[LightGBM] [Debug] Trained a tree with leaves = 31 and depth = 5\n",
      "[LightGBM] [Debug] Trained a tree with leaves = 31 and depth = 5\n",
      "[LightGBM] [Debug] Trained a tree with leaves = 31 and depth = 5\n",
      "[LightGBM] [Debug] Trained a tree with leaves = 31 and depth = 5\n",
      "[LightGBM] [Debug] Trained a tree with leaves = 31 and depth = 5\n",
      "[LightGBM] [Debug] Trained a tree with leaves = 31 and depth = 5\n",
      "[LightGBM] [Debug] Trained a tree with leaves = 31 and depth = 5\n",
      "[LightGBM] [Debug] Trained a tree with leaves = 31 and depth = 5\n",
      "[LightGBM] [Debug] Trained a tree with leaves = 31 and depth = 5\n",
      "[LightGBM] [Debug] Trained a tree with leaves = 31 and depth = 5\n",
      "[LightGBM] [Debug] Trained a tree with leaves = 31 and depth = 5\n",
      "[LightGBM] [Debug] Trained a tree with leaves = 31 and depth = 5\n",
      "[LightGBM] [Debug] Trained a tree with leaves = 31 and depth = 5\n",
      "[LightGBM] [Debug] Trained a tree with leaves = 31 and depth = 5\n",
      "[LightGBM] [Debug] Trained a tree with leaves = 31 and depth = 5\n",
      "[LightGBM] [Debug] Trained a tree with leaves = 31 and depth = 5\n",
      "[LightGBM] [Warning] No further splits with positive gain, best gain: -inf\n",
      "[LightGBM] [Debug] Trained a tree with leaves = 28 and depth = 5\n",
      "[LightGBM] [Debug] Trained a tree with leaves = 31 and depth = 5\n",
      "[LightGBM] [Debug] Trained a tree with leaves = 31 and depth = 5\n",
      "[LightGBM] [Debug] Trained a tree with leaves = 31 and depth = 5\n",
      "[LightGBM] [Debug] Trained a tree with leaves = 31 and depth = 5\n",
      "[LightGBM] [Debug] Trained a tree with leaves = 31 and depth = 5\n",
      "[LightGBM] [Debug] Trained a tree with leaves = 31 and depth = 5\n",
      "[LightGBM] [Debug] Trained a tree with leaves = 31 and depth = 5\n",
      "[LightGBM] [Warning] No further splits with positive gain, best gain: -inf\n",
      "[LightGBM] [Debug] Trained a tree with leaves = 30 and depth = 5\n",
      "[LightGBM] [Warning] No further splits with positive gain, best gain: -inf\n",
      "[LightGBM] [Debug] Trained a tree with leaves = 25 and depth = 5\n",
      "[LightGBM] [Warning] No further splits with positive gain, best gain: -inf\n",
      "[LightGBM] [Debug] Trained a tree with leaves = 21 and depth = 5\n"
     ]
    },
    {
     "name": "stdout",
     "output_type": "stream",
     "text": [
      "[LightGBM] [Warning] No further splits with positive gain, best gain: -inf\n",
      "[LightGBM] [Debug] Trained a tree with leaves = 29 and depth = 5\n",
      "[LightGBM] [Debug] Trained a tree with leaves = 31 and depth = 5\n",
      "[LightGBM] [Warning] No further splits with positive gain, best gain: -inf\n",
      "[LightGBM] [Debug] Trained a tree with leaves = 30 and depth = 5\n",
      "[LightGBM] [Warning] No further splits with positive gain, best gain: -inf\n",
      "[LightGBM] [Debug] Trained a tree with leaves = 22 and depth = 5\n",
      "[LightGBM] [Debug] Trained a tree with leaves = 31 and depth = 5\n",
      "[LightGBM] [Warning] No further splits with positive gain, best gain: -inf\n",
      "[LightGBM] [Debug] Trained a tree with leaves = 30 and depth = 5\n",
      "[LightGBM] [Warning] No further splits with positive gain, best gain: -inf\n",
      "[LightGBM] [Debug] Trained a tree with leaves = 29 and depth = 5\n",
      "[LightGBM] [Warning] No further splits with positive gain, best gain: -inf\n",
      "[LightGBM] [Debug] Trained a tree with leaves = 27 and depth = 5\n",
      "[LightGBM] [Warning] No further splits with positive gain, best gain: -inf\n",
      "[LightGBM] [Debug] Trained a tree with leaves = 23 and depth = 5\n",
      "[LightGBM] [Warning] No further splits with positive gain, best gain: -inf\n",
      "[LightGBM] [Debug] Trained a tree with leaves = 30 and depth = 5\n",
      "[LightGBM] [Warning] No further splits with positive gain, best gain: -inf\n",
      "[LightGBM] [Debug] Trained a tree with leaves = 26 and depth = 5\n",
      "[LightGBM] [Debug] Trained a tree with leaves = 31 and depth = 5\n",
      "[LightGBM] [Warning] No further splits with positive gain, best gain: -inf\n",
      "[LightGBM] [Debug] Trained a tree with leaves = 21 and depth = 5\n",
      "[LightGBM] [Warning] No further splits with positive gain, best gain: -inf\n",
      "[LightGBM] [Debug] Trained a tree with leaves = 25 and depth = 5\n",
      "[LightGBM] [Debug] Trained a tree with leaves = 31 and depth = 5\n",
      "[LightGBM] [Warning] No further splits with positive gain, best gain: -inf\n",
      "[LightGBM] [Debug] Trained a tree with leaves = 29 and depth = 5\n",
      "[LightGBM] [Warning] No further splits with positive gain, best gain: -inf\n",
      "[LightGBM] [Debug] Trained a tree with leaves = 22 and depth = 5\n",
      "[LightGBM] [Warning] No further splits with positive gain, best gain: -inf\n",
      "[LightGBM] [Debug] Trained a tree with leaves = 26 and depth = 5\n",
      "[LightGBM] [Debug] Trained a tree with leaves = 31 and depth = 5\n",
      "[LightGBM] [Warning] No further splits with positive gain, best gain: -inf\n",
      "[LightGBM] [Debug] Trained a tree with leaves = 27 and depth = 5\n",
      "[LightGBM] [Debug] Trained a tree with leaves = 31 and depth = 5\n",
      "[LightGBM] [Warning] No further splits with positive gain, best gain: -inf\n",
      "[LightGBM] [Debug] Trained a tree with leaves = 30 and depth = 5\n",
      "[LightGBM] [Warning] No further splits with positive gain, best gain: -inf\n",
      "[LightGBM] [Debug] Trained a tree with leaves = 21 and depth = 5\n",
      "[LightGBM] [Debug] Trained a tree with leaves = 31 and depth = 5\n",
      "[LightGBM] [Warning] No further splits with positive gain, best gain: -inf\n",
      "[LightGBM] [Debug] Trained a tree with leaves = 26 and depth = 5\n",
      "[LightGBM] [Debug] Trained a tree with leaves = 31 and depth = 5\n",
      "[LightGBM] [Debug] Trained a tree with leaves = 31 and depth = 5\n",
      "[LightGBM] [Warning] No further splits with positive gain, best gain: -inf\n",
      "[LightGBM] [Debug] Trained a tree with leaves = 19 and depth = 5\n",
      "[LightGBM] [Debug] Trained a tree with leaves = 31 and depth = 5\n",
      "[LightGBM] [Warning] No further splits with positive gain, best gain: -inf\n",
      "[LightGBM] [Debug] Trained a tree with leaves = 30 and depth = 5\n",
      "[LightGBM] [Warning] No further splits with positive gain, best gain: -inf\n",
      "[LightGBM] [Debug] Trained a tree with leaves = 22 and depth = 5\n",
      "[LightGBM] [Warning] No further splits with positive gain, best gain: -inf\n",
      "[LightGBM] [Debug] Trained a tree with leaves = 25 and depth = 5\n",
      "[LightGBM] [Debug] Trained a tree with leaves = 31 and depth = 5\n",
      "[LightGBM] [Debug] Trained a tree with leaves = 31 and depth = 5\n",
      "[LightGBM] [Debug] Trained a tree with leaves = 31 and depth = 5\n",
      "[LightGBM] [Debug] Trained a tree with leaves = 31 and depth = 5\n",
      "[LightGBM] [Warning] No further splits with positive gain, best gain: -inf\n",
      "[LightGBM] [Debug] Trained a tree with leaves = 29 and depth = 5\n",
      "[LightGBM] [Debug] Trained a tree with leaves = 31 and depth = 5\n",
      "[LightGBM] [Warning] No further splits with positive gain, best gain: -inf\n",
      "[LightGBM] [Debug] Trained a tree with leaves = 28 and depth = 5\n",
      "[LightGBM] [Warning] No further splits with positive gain, best gain: -inf\n",
      "[LightGBM] [Debug] Trained a tree with leaves = 26 and depth = 5\n",
      "[LightGBM] [Warning] No further splits with positive gain, best gain: -inf\n",
      "[LightGBM] [Debug] Trained a tree with leaves = 30 and depth = 5\n",
      "[LightGBM] [Debug] Trained a tree with leaves = 31 and depth = 5\n",
      "[LightGBM] [Warning] No further splits with positive gain, best gain: -inf\n",
      "[LightGBM] [Debug] Trained a tree with leaves = 29 and depth = 5\n",
      "[LightGBM] [Warning] No further splits with positive gain, best gain: -inf\n",
      "[LightGBM] [Debug] Trained a tree with leaves = 22 and depth = 5\n",
      "[LightGBM] [Debug] Trained a tree with leaves = 31 and depth = 5\n",
      "[LightGBM] [Debug] Trained a tree with leaves = 31 and depth = 5\n",
      "[LightGBM] [Debug] Trained a tree with leaves = 31 and depth = 5\n",
      "[LightGBM] [Debug] Trained a tree with leaves = 31 and depth = 5\n",
      "[LightGBM] [Warning] No further splits with positive gain, best gain: -inf\n",
      "[LightGBM] [Debug] Trained a tree with leaves = 29 and depth = 5\n",
      "[LightGBM] [Warning] No further splits with positive gain, best gain: -inf\n",
      "[LightGBM] [Debug] Trained a tree with leaves = 26 and depth = 5\n",
      "[LightGBM] [Warning] No further splits with positive gain, best gain: -inf\n",
      "[LightGBM] [Debug] Trained a tree with leaves = 28 and depth = 5\n",
      "[LightGBM] [Debug] Trained a tree with leaves = 31 and depth = 5\n",
      "[LightGBM] [Debug] Trained a tree with leaves = 31 and depth = 5\n",
      "[LightGBM] [Debug] Trained a tree with leaves = 31 and depth = 5\n",
      "[LightGBM] [Warning] No further splits with positive gain, best gain: -inf\n",
      "[LightGBM] [Debug] Trained a tree with leaves = 26 and depth = 5\n",
      "[LightGBM] [Warning] No further splits with positive gain, best gain: -inf\n",
      "[LightGBM] [Debug] Trained a tree with leaves = 27 and depth = 5\n",
      "[LightGBM] [Debug] Trained a tree with leaves = 31 and depth = 5\n",
      "[LightGBM] [Warning] No further splits with positive gain, best gain: -inf\n",
      "[LightGBM] [Debug] Trained a tree with leaves = 30 and depth = 5\n",
      "[LightGBM] [Warning] No further splits with positive gain, best gain: -inf\n",
      "[LightGBM] [Debug] Trained a tree with leaves = 23 and depth = 5\n",
      "[LightGBM] [Debug] Trained a tree with leaves = 31 and depth = 5\n",
      "[LightGBM] [Debug] Trained a tree with leaves = 31 and depth = 5\n",
      "[LightGBM] [Warning] No further splits with positive gain, best gain: -inf\n",
      "[LightGBM] [Debug] Trained a tree with leaves = 26 and depth = 5\n",
      "[LightGBM] [Warning] No further splits with positive gain, best gain: -inf\n",
      "[LightGBM] [Debug] Trained a tree with leaves = 29 and depth = 5\n",
      "[LightGBM] [Debug] Trained a tree with leaves = 31 and depth = 5\n",
      "[LightGBM] [Warning] No further splits with positive gain, best gain: -inf\n",
      "[LightGBM] [Debug] Trained a tree with leaves = 29 and depth = 5\n",
      "[LightGBM] [Debug] Trained a tree with leaves = 31 and depth = 5\n",
      "[LightGBM] [Debug] Trained a tree with leaves = 31 and depth = 5\n",
      "[LightGBM] [Debug] Trained a tree with leaves = 31 and depth = 5\n",
      "[LightGBM] [Warning] No further splits with positive gain, best gain: -inf\n",
      "[LightGBM] [Debug] Trained a tree with leaves = 30 and depth = 5\n",
      "[LightGBM] [Warning] No further splits with positive gain, best gain: -inf\n",
      "[LightGBM] [Debug] Trained a tree with leaves = 28 and depth = 5\n",
      "[LightGBM] [Debug] Trained a tree with leaves = 31 and depth = 5\n",
      "[LightGBM] [Warning] No further splits with positive gain, best gain: -inf\n",
      "[LightGBM] [Debug] Trained a tree with leaves = 26 and depth = 5\n",
      "[LightGBM] [Warning] No further splits with positive gain, best gain: -inf\n",
      "[LightGBM] [Debug] Trained a tree with leaves = 28 and depth = 5\n",
      "[LightGBM] [Debug] Trained a tree with leaves = 31 and depth = 5\n",
      "[LightGBM] [Warning] No further splits with positive gain, best gain: -inf\n",
      "[LightGBM] [Debug] Trained a tree with leaves = 24 and depth = 5\n",
      "[LightGBM] [Debug] Trained a tree with leaves = 31 and depth = 5\n",
      "[LightGBM] [Debug] Trained a tree with leaves = 31 and depth = 5\n"
     ]
    },
    {
     "name": "stdout",
     "output_type": "stream",
     "text": [
      "[LightGBM] [Debug] Trained a tree with leaves = 31 and depth = 5\n",
      "[LightGBM] [Debug] Trained a tree with leaves = 31 and depth = 5\n",
      "[LightGBM] [Warning] No further splits with positive gain, best gain: -inf\n",
      "[LightGBM] [Debug] Trained a tree with leaves = 30 and depth = 5\n",
      "[LightGBM] [Warning] No further splits with positive gain, best gain: -inf\n",
      "[LightGBM] [Debug] Trained a tree with leaves = 29 and depth = 5\n",
      "[LightGBM] [Warning] No further splits with positive gain, best gain: -inf\n",
      "[LightGBM] [Debug] Trained a tree with leaves = 28 and depth = 5\n",
      "[LightGBM] [Warning] No further splits with positive gain, best gain: -inf\n",
      "[LightGBM] [Debug] Trained a tree with leaves = 26 and depth = 5\n",
      "[LightGBM] [Warning] No further splits with positive gain, best gain: -inf\n",
      "[LightGBM] [Debug] Trained a tree with leaves = 26 and depth = 5\n",
      "[LightGBM] [Debug] Trained a tree with leaves = 31 and depth = 5\n",
      "[LightGBM] [Debug] Trained a tree with leaves = 31 and depth = 5\n",
      "[LightGBM] [Warning] No further splits with positive gain, best gain: -inf\n",
      "[LightGBM] [Debug] Trained a tree with leaves = 30 and depth = 5\n",
      "[LightGBM] [Warning] No further splits with positive gain, best gain: -inf\n",
      "[LightGBM] [Debug] Trained a tree with leaves = 25 and depth = 5\n",
      "[LightGBM] [Warning] No further splits with positive gain, best gain: -inf\n",
      "[LightGBM] [Debug] Trained a tree with leaves = 28 and depth = 5\n",
      "[LightGBM] [Debug] Trained a tree with leaves = 31 and depth = 5\n",
      "[LightGBM] [Warning] No further splits with positive gain, best gain: -inf\n",
      "[LightGBM] [Debug] Trained a tree with leaves = 26 and depth = 5\n",
      "[LightGBM] [Debug] Trained a tree with leaves = 31 and depth = 5\n",
      "[LightGBM] [Debug] Trained a tree with leaves = 31 and depth = 5\n",
      "[LightGBM] [Debug] Trained a tree with leaves = 31 and depth = 5\n",
      "[LightGBM] [Warning] No further splits with positive gain, best gain: -inf\n",
      "[LightGBM] [Debug] Trained a tree with leaves = 25 and depth = 5\n",
      "[LightGBM] [Warning] No further splits with positive gain, best gain: -inf\n",
      "[LightGBM] [Debug] Trained a tree with leaves = 29 and depth = 5\n",
      "[LightGBM] [Debug] Trained a tree with leaves = 31 and depth = 5\n",
      "[LightGBM] [Warning] No further splits with positive gain, best gain: -inf\n",
      "[LightGBM] [Debug] Trained a tree with leaves = 30 and depth = 5\n",
      "[LightGBM] [Warning] No further splits with positive gain, best gain: -inf\n",
      "[LightGBM] [Debug] Trained a tree with leaves = 26 and depth = 5\n",
      "[LightGBM] [Warning] No further splits with positive gain, best gain: -inf\n",
      "[LightGBM] [Debug] Trained a tree with leaves = 30 and depth = 5\n",
      "[LightGBM] [Warning] No further splits with positive gain, best gain: -inf\n",
      "[LightGBM] [Debug] Trained a tree with leaves = 29 and depth = 5\n",
      "[LightGBM] [Warning] No further splits with positive gain, best gain: -inf\n",
      "[LightGBM] [Debug] Trained a tree with leaves = 28 and depth = 5\n",
      "[LightGBM] [Debug] Trained a tree with leaves = 31 and depth = 5\n",
      "[LightGBM] [Debug] Trained a tree with leaves = 31 and depth = 5\n",
      "[LightGBM] [Warning] No further splits with positive gain, best gain: -inf\n",
      "[LightGBM] [Debug] Trained a tree with leaves = 18 and depth = 5\n",
      "[LightGBM] [Warning] No further splits with positive gain, best gain: -inf\n",
      "[LightGBM] [Debug] Trained a tree with leaves = 24 and depth = 5\n",
      "[LightGBM] [Warning] No further splits with positive gain, best gain: -inf\n",
      "[LightGBM] [Debug] Trained a tree with leaves = 27 and depth = 5\n",
      "[LightGBM] [Warning] No further splits with positive gain, best gain: -inf\n",
      "[LightGBM] [Debug] Trained a tree with leaves = 25 and depth = 5\n",
      "[LightGBM] [Warning] No further splits with positive gain, best gain: -inf\n",
      "[LightGBM] [Debug] Trained a tree with leaves = 21 and depth = 5\n",
      "[LightGBM] [Warning] No further splits with positive gain, best gain: -inf\n",
      "[LightGBM] [Debug] Trained a tree with leaves = 29 and depth = 5\n",
      "[LightGBM] [Debug] Trained a tree with leaves = 31 and depth = 5\n",
      "[LightGBM] [Debug] Trained a tree with leaves = 31 and depth = 5\n",
      "[LightGBM] [Warning] No further splits with positive gain, best gain: -inf\n",
      "[LightGBM] [Debug] Trained a tree with leaves = 30 and depth = 5\n",
      "[LightGBM] [Debug] Trained a tree with leaves = 31 and depth = 5\n",
      "[LightGBM] [Warning] No further splits with positive gain, best gain: -inf\n",
      "[LightGBM] [Debug] Trained a tree with leaves = 24 and depth = 5\n",
      "[LightGBM] [Debug] Trained a tree with leaves = 31 and depth = 5\n",
      "[LightGBM] [Warning] No further splits with positive gain, best gain: -inf\n",
      "[LightGBM] [Debug] Trained a tree with leaves = 22 and depth = 5\n",
      "[LightGBM] [Warning] No further splits with positive gain, best gain: -inf\n",
      "[LightGBM] [Debug] Trained a tree with leaves = 24 and depth = 5\n",
      "[LightGBM] [Warning] No further splits with positive gain, best gain: -inf\n",
      "[LightGBM] [Debug] Trained a tree with leaves = 30 and depth = 5\n",
      "[LightGBM] [Debug] Trained a tree with leaves = 31 and depth = 5\n",
      "[LightGBM] [Debug] Trained a tree with leaves = 31 and depth = 5\n",
      "[LightGBM] [Warning] No further splits with positive gain, best gain: -inf\n",
      "[LightGBM] [Debug] Trained a tree with leaves = 23 and depth = 5\n",
      "[LightGBM] [Warning] No further splits with positive gain, best gain: -inf\n",
      "[LightGBM] [Debug] Trained a tree with leaves = 24 and depth = 5\n",
      "[LightGBM] [Debug] Trained a tree with leaves = 31 and depth = 5\n",
      "[LightGBM] [Warning] No further splits with positive gain, best gain: -inf\n",
      "[LightGBM] [Debug] Trained a tree with leaves = 22 and depth = 5\n",
      "[LightGBM] [Debug] Trained a tree with leaves = 31 and depth = 5\n",
      "[LightGBM] [Debug] Trained a tree with leaves = 31 and depth = 5\n",
      "[LightGBM] [Debug] Trained a tree with leaves = 31 and depth = 5\n",
      "[LightGBM] [Warning] No further splits with positive gain, best gain: -inf\n",
      "[LightGBM] [Debug] Trained a tree with leaves = 28 and depth = 5\n",
      "[LightGBM] [Debug] Trained a tree with leaves = 31 and depth = 5\n",
      "[LightGBM] [Warning] No further splits with positive gain, best gain: -inf\n",
      "[LightGBM] [Debug] Trained a tree with leaves = 26 and depth = 5\n",
      "[LightGBM] [Warning] No further splits with positive gain, best gain: -inf\n",
      "[LightGBM] [Debug] Trained a tree with leaves = 30 and depth = 5\n",
      "[LightGBM] [Warning] No further splits with positive gain, best gain: -inf\n",
      "[LightGBM] [Debug] Trained a tree with leaves = 25 and depth = 5\n",
      "[LightGBM] [Warning] No further splits with positive gain, best gain: -inf\n",
      "[LightGBM] [Debug] Trained a tree with leaves = 23 and depth = 5\n",
      "[LightGBM] [Debug] Trained a tree with leaves = 31 and depth = 5\n",
      "[LightGBM] [Debug] Trained a tree with leaves = 31 and depth = 5\n",
      "[LightGBM] [Debug] Trained a tree with leaves = 31 and depth = 5\n",
      "[LightGBM] [Warning] No further splits with positive gain, best gain: -inf\n",
      "[LightGBM] [Debug] Trained a tree with leaves = 30 and depth = 5\n",
      "[LightGBM] [Warning] No further splits with positive gain, best gain: -inf\n",
      "[LightGBM] [Debug] Trained a tree with leaves = 30 and depth = 5\n",
      "[LightGBM] [Debug] Trained a tree with leaves = 31 and depth = 5\n",
      "[LightGBM] [Debug] Trained a tree with leaves = 31 and depth = 5\n",
      "[LightGBM] [Warning] No further splits with positive gain, best gain: -inf\n",
      "[LightGBM] [Debug] Trained a tree with leaves = 27 and depth = 5\n",
      "[LightGBM] [Warning] No further splits with positive gain, best gain: -inf\n",
      "[LightGBM] [Debug] Trained a tree with leaves = 29 and depth = 5\n",
      "[LightGBM] [Debug] Trained a tree with leaves = 31 and depth = 5\n",
      "[LightGBM] [Warning] No further splits with positive gain, best gain: -inf\n",
      "[LightGBM] [Debug] Trained a tree with leaves = 26 and depth = 5\n",
      "[LightGBM] [Debug] Trained a tree with leaves = 31 and depth = 5\n",
      "[LightGBM] [Warning] No further splits with positive gain, best gain: -inf\n",
      "[LightGBM] [Debug] Trained a tree with leaves = 26 and depth = 5\n",
      "[LightGBM] [Warning] No further splits with positive gain, best gain: -inf\n",
      "[LightGBM] [Debug] Trained a tree with leaves = 28 and depth = 5\n",
      "[LightGBM] [Warning] No further splits with positive gain, best gain: -inf\n",
      "[LightGBM] [Debug] Trained a tree with leaves = 29 and depth = 5\n",
      "[LightGBM] [Warning] No further splits with positive gain, best gain: -inf\n",
      "[LightGBM] [Debug] Trained a tree with leaves = 29 and depth = 5\n",
      "[LightGBM] [Warning] No further splits with positive gain, best gain: -inf\n",
      "[LightGBM] [Debug] Trained a tree with leaves = 30 and depth = 5\n",
      "[LightGBM] [Debug] Trained a tree with leaves = 31 and depth = 5\n",
      "[LightGBM] [Warning] No further splits with positive gain, best gain: -inf\n",
      "[LightGBM] [Debug] Trained a tree with leaves = 29 and depth = 5\n"
     ]
    },
    {
     "name": "stdout",
     "output_type": "stream",
     "text": [
      "[LightGBM] [Warning] No further splits with positive gain, best gain: -inf\n",
      "[LightGBM] [Debug] Trained a tree with leaves = 30 and depth = 5\n",
      "[LightGBM] [Warning] No further splits with positive gain, best gain: -inf\n",
      "[LightGBM] [Debug] Trained a tree with leaves = 30 and depth = 5\n",
      "[LightGBM] [Debug] Trained a tree with leaves = 31 and depth = 5\n",
      "[LightGBM] [Warning] No further splits with positive gain, best gain: -inf\n",
      "[LightGBM] [Debug] Trained a tree with leaves = 26 and depth = 5\n",
      "[LightGBM] [Warning] No further splits with positive gain, best gain: -inf\n",
      "[LightGBM] [Debug] Trained a tree with leaves = 22 and depth = 5\n",
      "[LightGBM] [Debug] Trained a tree with leaves = 31 and depth = 5\n",
      "[LightGBM] [Debug] Trained a tree with leaves = 31 and depth = 5\n",
      "[LightGBM] [Debug] Trained a tree with leaves = 31 and depth = 5\n",
      "[LightGBM] [Warning] No further splits with positive gain, best gain: -inf\n",
      "[LightGBM] [Debug] Trained a tree with leaves = 30 and depth = 5\n",
      "[LightGBM] [Warning] No further splits with positive gain, best gain: -inf\n",
      "[LightGBM] [Debug] Trained a tree with leaves = 30 and depth = 5\n",
      "[LightGBM] [Warning] No further splits with positive gain, best gain: -inf\n",
      "[LightGBM] [Debug] Trained a tree with leaves = 23 and depth = 5\n",
      "[LightGBM] [Warning] No further splits with positive gain, best gain: -inf\n",
      "[LightGBM] [Debug] Trained a tree with leaves = 23 and depth = 5\n",
      "[LightGBM] [Warning] No further splits with positive gain, best gain: -inf\n",
      "[LightGBM] [Debug] Trained a tree with leaves = 29 and depth = 5\n",
      "[LightGBM] [Warning] No further splits with positive gain, best gain: -inf\n",
      "[LightGBM] [Debug] Trained a tree with leaves = 27 and depth = 5\n",
      "[LightGBM] [Debug] Trained a tree with leaves = 31 and depth = 5\n",
      "[LightGBM] [Warning] No further splits with positive gain, best gain: -inf\n",
      "[LightGBM] [Debug] Trained a tree with leaves = 21 and depth = 5\n",
      "[LightGBM] [Warning] No further splits with positive gain, best gain: -inf\n",
      "[LightGBM] [Debug] Trained a tree with leaves = 26 and depth = 5\n",
      "[LightGBM] [Debug] Trained a tree with leaves = 31 and depth = 5\n",
      "[LightGBM] [Warning] No further splits with positive gain, best gain: -inf\n",
      "[LightGBM] [Debug] Trained a tree with leaves = 29 and depth = 5\n",
      "[LightGBM] [Debug] Trained a tree with leaves = 31 and depth = 5\n",
      "[LightGBM] [Warning] No further splits with positive gain, best gain: -inf\n",
      "[LightGBM] [Debug] Trained a tree with leaves = 25 and depth = 5\n",
      "[LightGBM] [Debug] Trained a tree with leaves = 31 and depth = 5\n",
      "[LightGBM] [Debug] Trained a tree with leaves = 31 and depth = 5\n",
      "[LightGBM] [Warning] No further splits with positive gain, best gain: -inf\n",
      "[LightGBM] [Debug] Trained a tree with leaves = 30 and depth = 5\n",
      "[LightGBM] [Warning] No further splits with positive gain, best gain: -inf\n",
      "[LightGBM] [Debug] Trained a tree with leaves = 29 and depth = 5\n",
      "[LightGBM] [Warning] No further splits with positive gain, best gain: -inf\n",
      "[LightGBM] [Debug] Trained a tree with leaves = 28 and depth = 5\n",
      "[LightGBM] [Warning] No further splits with positive gain, best gain: -inf\n",
      "[LightGBM] [Debug] Trained a tree with leaves = 29 and depth = 5\n",
      "[LightGBM] [Warning] No further splits with positive gain, best gain: -inf\n",
      "[LightGBM] [Debug] Trained a tree with leaves = 25 and depth = 5\n",
      "[LightGBM] [Warning] No further splits with positive gain, best gain: -inf\n",
      "[LightGBM] [Debug] Trained a tree with leaves = 21 and depth = 5\n",
      "[LightGBM] [Warning] No further splits with positive gain, best gain: -inf\n",
      "[LightGBM] [Debug] Trained a tree with leaves = 29 and depth = 5\n",
      "[LightGBM] [Debug] Trained a tree with leaves = 31 and depth = 5\n",
      "[LightGBM] [Warning] No further splits with positive gain, best gain: -inf\n",
      "[LightGBM] [Debug] Trained a tree with leaves = 29 and depth = 5\n",
      "[LightGBM] [Debug] Trained a tree with leaves = 31 and depth = 5\n",
      "[LightGBM] [Debug] Trained a tree with leaves = 31 and depth = 5\n",
      "[LightGBM] [Warning] No further splits with positive gain, best gain: -inf\n",
      "[LightGBM] [Debug] Trained a tree with leaves = 28 and depth = 5\n",
      "[LightGBM] [Debug] Trained a tree with leaves = 31 and depth = 5\n",
      "[LightGBM] [Debug] Trained a tree with leaves = 31 and depth = 5\n",
      "[LightGBM] [Warning] No further splits with positive gain, best gain: -inf\n",
      "[LightGBM] [Debug] Trained a tree with leaves = 28 and depth = 5\n",
      "[LightGBM] [Warning] No further splits with positive gain, best gain: -inf\n",
      "[LightGBM] [Debug] Trained a tree with leaves = 29 and depth = 5\n",
      "[LightGBM] [Warning] No further splits with positive gain, best gain: -inf\n",
      "[LightGBM] [Debug] Trained a tree with leaves = 23 and depth = 5\n",
      "[LightGBM] [Warning] No further splits with positive gain, best gain: -inf\n",
      "[LightGBM] [Debug] Trained a tree with leaves = 29 and depth = 5\n",
      "[LightGBM] [Debug] Trained a tree with leaves = 31 and depth = 5\n",
      "[LightGBM] [Debug] Trained a tree with leaves = 31 and depth = 5\n",
      "[LightGBM] [Warning] No further splits with positive gain, best gain: -inf\n",
      "[LightGBM] [Debug] Trained a tree with leaves = 22 and depth = 5\n",
      "[LightGBM] [Warning] No further splits with positive gain, best gain: -inf\n",
      "[LightGBM] [Debug] Trained a tree with leaves = 20 and depth = 5\n",
      "[LightGBM] [Warning] No further splits with positive gain, best gain: -inf\n",
      "[LightGBM] [Debug] Trained a tree with leaves = 11 and depth = 5\n",
      "[LightGBM] [Warning] No further splits with positive gain, best gain: -inf\n",
      "[LightGBM] [Debug] Trained a tree with leaves = 27 and depth = 5\n",
      "[LightGBM] [Warning] No further splits with positive gain, best gain: -inf\n",
      "[LightGBM] [Debug] Trained a tree with leaves = 24 and depth = 5\n",
      "[LightGBM] [Warning] No further splits with positive gain, best gain: -inf\n",
      "[LightGBM] [Debug] Trained a tree with leaves = 29 and depth = 5\n",
      "[LightGBM] [Warning] No further splits with positive gain, best gain: -inf\n",
      "[LightGBM] [Debug] Trained a tree with leaves = 29 and depth = 5\n",
      "[LightGBM] [Warning] No further splits with positive gain, best gain: -inf\n",
      "[LightGBM] [Debug] Trained a tree with leaves = 30 and depth = 5\n",
      "[LightGBM] [Debug] Trained a tree with leaves = 31 and depth = 5\n",
      "[LightGBM] [Warning] No further splits with positive gain, best gain: -inf\n",
      "[LightGBM] [Debug] Trained a tree with leaves = 26 and depth = 5\n",
      "[LightGBM] [Warning] No further splits with positive gain, best gain: -inf\n",
      "[LightGBM] [Debug] Trained a tree with leaves = 22 and depth = 5\n",
      "[LightGBM] [Warning] No further splits with positive gain, best gain: -inf\n",
      "[LightGBM] [Debug] Trained a tree with leaves = 28 and depth = 5\n",
      "[LightGBM] [Warning] No further splits with positive gain, best gain: -inf\n",
      "[LightGBM] [Debug] Trained a tree with leaves = 29 and depth = 5\n",
      "[LightGBM] [Warning] No further splits with positive gain, best gain: -inf\n",
      "[LightGBM] [Debug] Trained a tree with leaves = 24 and depth = 5\n",
      "[LightGBM] [Warning] No further splits with positive gain, best gain: -inf\n",
      "[LightGBM] [Debug] Trained a tree with leaves = 28 and depth = 5\n",
      "[LightGBM] [Warning] No further splits with positive gain, best gain: -inf\n",
      "[LightGBM] [Debug] Trained a tree with leaves = 25 and depth = 5\n",
      "[LightGBM] [Debug] Trained a tree with leaves = 31 and depth = 5\n",
      "[LightGBM] [Warning] No further splits with positive gain, best gain: -inf\n",
      "[LightGBM] [Debug] Trained a tree with leaves = 27 and depth = 5\n",
      "[LightGBM] [Warning] No further splits with positive gain, best gain: -inf\n",
      "[LightGBM] [Debug] Trained a tree with leaves = 28 and depth = 5\n",
      "[LightGBM] [Warning] No further splits with positive gain, best gain: -inf\n",
      "[LightGBM] [Debug] Trained a tree with leaves = 20 and depth = 5\n",
      "[LightGBM] [Debug] Trained a tree with leaves = 31 and depth = 5\n",
      "[LightGBM] [Warning] No further splits with positive gain, best gain: -inf\n",
      "[LightGBM] [Debug] Trained a tree with leaves = 28 and depth = 5\n",
      "[LightGBM] [Warning] No further splits with positive gain, best gain: -inf\n",
      "[LightGBM] [Debug] Trained a tree with leaves = 25 and depth = 5\n",
      "[LightGBM] [Debug] Trained a tree with leaves = 31 and depth = 5\n",
      "[LightGBM] [Debug] Trained a tree with leaves = 31 and depth = 5\n",
      "[LightGBM] [Warning] No further splits with positive gain, best gain: -inf\n",
      "[LightGBM] [Debug] Trained a tree with leaves = 24 and depth = 5\n",
      "[LightGBM] [Warning] No further splits with positive gain, best gain: -inf\n",
      "[LightGBM] [Debug] Trained a tree with leaves = 11 and depth = 5\n",
      "[LightGBM] [Debug] Trained a tree with leaves = 31 and depth = 5\n"
     ]
    },
    {
     "name": "stdout",
     "output_type": "stream",
     "text": [
      "[LightGBM] [Warning] No further splits with positive gain, best gain: -inf\n",
      "[LightGBM] [Debug] Trained a tree with leaves = 24 and depth = 5\n",
      "[LightGBM] [Warning] No further splits with positive gain, best gain: -inf\n",
      "[LightGBM] [Debug] Trained a tree with leaves = 27 and depth = 5\n",
      "[LightGBM] [Warning] No further splits with positive gain, best gain: -inf\n",
      "[LightGBM] [Debug] Trained a tree with leaves = 11 and depth = 5\n",
      "[LightGBM] [Warning] No further splits with positive gain, best gain: -inf\n",
      "[LightGBM] [Debug] Trained a tree with leaves = 30 and depth = 5\n",
      "[LightGBM] [Warning] No further splits with positive gain, best gain: -inf\n",
      "[LightGBM] [Debug] Trained a tree with leaves = 26 and depth = 5\n",
      "[LightGBM] [Warning] No further splits with positive gain, best gain: -inf\n",
      "[LightGBM] [Debug] Trained a tree with leaves = 18 and depth = 5\n",
      "[LightGBM] [Warning] No further splits with positive gain, best gain: -inf\n",
      "[LightGBM] [Debug] Trained a tree with leaves = 28 and depth = 5\n",
      "[LightGBM] [Debug] Trained a tree with leaves = 31 and depth = 5\n",
      "[LightGBM] [Warning] No further splits with positive gain, best gain: -inf\n",
      "[LightGBM] [Debug] Trained a tree with leaves = 29 and depth = 5\n",
      "[LightGBM] [Warning] Accuracy may be bad since you didn't explicitly set num_leaves OR 2^max_depth > num_leaves. (num_leaves=31).\n",
      "[LightGBM] [Warning] Accuracy may be bad since you didn't explicitly set num_leaves OR 2^max_depth > num_leaves. (num_leaves=31).\n",
      "[LightGBM] [Debug] Dataset::GetMultiBinFromSparseFeatures: sparse rate 0.760539\n",
      "[LightGBM] [Debug] Dataset::GetMultiBinFromAllFeatures: sparse rate 0.180382\n",
      "[LightGBM] [Debug] init for col-wise cost 0.098609 seconds, init for row-wise cost 0.094492 seconds\n",
      "[LightGBM] [Warning] Auto-choosing row-wise multi-threading, the overhead of testing was 0.100206 seconds.\n",
      "You can set `force_row_wise=true` to remove the overhead.\n",
      "And if memory is not enough, you can set `force_col_wise=true`.\n",
      "[LightGBM] [Debug] Using Dense Multi-Val Bin\n",
      "[LightGBM] [Info] Total Bins 583\n",
      "[LightGBM] [Info] Number of data points in the train set: 195777, number of used features: 9\n",
      "[LightGBM] [Info] Start training from score 4627.612855\n",
      "[LightGBM] [Debug] Trained a tree with leaves = 31 and depth = 6\n",
      "[LightGBM] [Debug] Trained a tree with leaves = 31 and depth = 6\n",
      "[LightGBM] [Debug] Trained a tree with leaves = 31 and depth = 6\n",
      "[LightGBM] [Debug] Trained a tree with leaves = 31 and depth = 6\n",
      "[LightGBM] [Debug] Trained a tree with leaves = 31 and depth = 6\n",
      "[LightGBM] [Debug] Trained a tree with leaves = 31 and depth = 6\n",
      "[LightGBM] [Debug] Trained a tree with leaves = 31 and depth = 6\n",
      "[LightGBM] [Debug] Trained a tree with leaves = 31 and depth = 6\n",
      "[LightGBM] [Debug] Trained a tree with leaves = 31 and depth = 6\n",
      "[LightGBM] [Debug] Trained a tree with leaves = 31 and depth = 6\n",
      "[LightGBM] [Debug] Trained a tree with leaves = 31 and depth = 6\n",
      "[LightGBM] [Debug] Trained a tree with leaves = 31 and depth = 6\n",
      "[LightGBM] [Debug] Trained a tree with leaves = 31 and depth = 6\n",
      "[LightGBM] [Debug] Trained a tree with leaves = 31 and depth = 6\n",
      "[LightGBM] [Debug] Trained a tree with leaves = 31 and depth = 6\n",
      "[LightGBM] [Debug] Trained a tree with leaves = 31 and depth = 6\n",
      "[LightGBM] [Debug] Trained a tree with leaves = 31 and depth = 6\n",
      "[LightGBM] [Debug] Trained a tree with leaves = 31 and depth = 6\n",
      "[LightGBM] [Debug] Trained a tree with leaves = 31 and depth = 6\n",
      "[LightGBM] [Debug] Trained a tree with leaves = 31 and depth = 6\n",
      "[LightGBM] [Debug] Trained a tree with leaves = 31 and depth = 6\n",
      "[LightGBM] [Debug] Trained a tree with leaves = 31 and depth = 6\n",
      "[LightGBM] [Debug] Trained a tree with leaves = 31 and depth = 6\n",
      "[LightGBM] [Debug] Trained a tree with leaves = 31 and depth = 6\n",
      "[LightGBM] [Debug] Trained a tree with leaves = 31 and depth = 6\n",
      "[LightGBM] [Debug] Trained a tree with leaves = 31 and depth = 6\n",
      "[LightGBM] [Debug] Trained a tree with leaves = 31 and depth = 6\n",
      "[LightGBM] [Debug] Trained a tree with leaves = 31 and depth = 6\n",
      "[LightGBM] [Debug] Trained a tree with leaves = 31 and depth = 6\n",
      "[LightGBM] [Debug] Trained a tree with leaves = 31 and depth = 6\n",
      "[LightGBM] [Debug] Trained a tree with leaves = 31 and depth = 6\n",
      "[LightGBM] [Debug] Trained a tree with leaves = 31 and depth = 6\n",
      "[LightGBM] [Debug] Trained a tree with leaves = 31 and depth = 6\n",
      "[LightGBM] [Debug] Trained a tree with leaves = 31 and depth = 6\n",
      "[LightGBM] [Debug] Trained a tree with leaves = 31 and depth = 6\n",
      "[LightGBM] [Debug] Trained a tree with leaves = 31 and depth = 6\n",
      "[LightGBM] [Debug] Trained a tree with leaves = 31 and depth = 6\n",
      "[LightGBM] [Debug] Trained a tree with leaves = 31 and depth = 6\n",
      "[LightGBM] [Debug] Trained a tree with leaves = 31 and depth = 6\n",
      "[LightGBM] [Debug] Trained a tree with leaves = 31 and depth = 6\n",
      "[LightGBM] [Debug] Trained a tree with leaves = 31 and depth = 6\n",
      "[LightGBM] [Debug] Trained a tree with leaves = 31 and depth = 6\n",
      "[LightGBM] [Debug] Trained a tree with leaves = 31 and depth = 6\n",
      "[LightGBM] [Debug] Trained a tree with leaves = 31 and depth = 6\n",
      "[LightGBM] [Debug] Trained a tree with leaves = 31 and depth = 6\n",
      "[LightGBM] [Debug] Trained a tree with leaves = 31 and depth = 6\n",
      "[LightGBM] [Debug] Trained a tree with leaves = 31 and depth = 6\n",
      "[LightGBM] [Debug] Trained a tree with leaves = 31 and depth = 6\n",
      "[LightGBM] [Debug] Trained a tree with leaves = 31 and depth = 6\n",
      "[LightGBM] [Debug] Trained a tree with leaves = 31 and depth = 6\n",
      "[LightGBM] [Debug] Trained a tree with leaves = 31 and depth = 6\n",
      "[LightGBM] [Debug] Trained a tree with leaves = 31 and depth = 6\n",
      "[LightGBM] [Debug] Trained a tree with leaves = 31 and depth = 6\n",
      "[LightGBM] [Debug] Trained a tree with leaves = 31 and depth = 6\n",
      "[LightGBM] [Debug] Trained a tree with leaves = 31 and depth = 6\n",
      "[LightGBM] [Debug] Trained a tree with leaves = 31 and depth = 6\n",
      "[LightGBM] [Debug] Trained a tree with leaves = 31 and depth = 6\n",
      "[LightGBM] [Debug] Trained a tree with leaves = 31 and depth = 6\n",
      "[LightGBM] [Debug] Trained a tree with leaves = 31 and depth = 6\n",
      "[LightGBM] [Debug] Trained a tree with leaves = 31 and depth = 6\n",
      "[LightGBM] [Debug] Trained a tree with leaves = 31 and depth = 6\n",
      "[LightGBM] [Debug] Trained a tree with leaves = 31 and depth = 6\n",
      "[LightGBM] [Debug] Trained a tree with leaves = 31 and depth = 6\n",
      "[LightGBM] [Debug] Trained a tree with leaves = 31 and depth = 6\n",
      "[LightGBM] [Debug] Trained a tree with leaves = 31 and depth = 6\n",
      "[LightGBM] [Debug] Trained a tree with leaves = 31 and depth = 6\n",
      "[LightGBM] [Debug] Trained a tree with leaves = 31 and depth = 6\n",
      "[LightGBM] [Debug] Trained a tree with leaves = 31 and depth = 6\n",
      "[LightGBM] [Debug] Trained a tree with leaves = 31 and depth = 6\n",
      "[LightGBM] [Debug] Trained a tree with leaves = 31 and depth = 6\n",
      "[LightGBM] [Debug] Trained a tree with leaves = 31 and depth = 6\n",
      "[LightGBM] [Debug] Trained a tree with leaves = 31 and depth = 6\n",
      "[LightGBM] [Debug] Trained a tree with leaves = 31 and depth = 6\n",
      "[LightGBM] [Debug] Trained a tree with leaves = 31 and depth = 6\n",
      "[LightGBM] [Debug] Trained a tree with leaves = 31 and depth = 6\n",
      "[LightGBM] [Debug] Trained a tree with leaves = 31 and depth = 6\n",
      "[LightGBM] [Debug] Trained a tree with leaves = 31 and depth = 6\n",
      "[LightGBM] [Debug] Trained a tree with leaves = 31 and depth = 6\n",
      "[LightGBM] [Debug] Trained a tree with leaves = 31 and depth = 6\n",
      "[LightGBM] [Debug] Trained a tree with leaves = 31 and depth = 6\n",
      "[LightGBM] [Debug] Trained a tree with leaves = 31 and depth = 6\n",
      "[LightGBM] [Debug] Trained a tree with leaves = 31 and depth = 6\n",
      "[LightGBM] [Debug] Trained a tree with leaves = 31 and depth = 6\n",
      "[LightGBM] [Debug] Trained a tree with leaves = 31 and depth = 6\n",
      "[LightGBM] [Debug] Trained a tree with leaves = 31 and depth = 6\n",
      "[LightGBM] [Debug] Trained a tree with leaves = 31 and depth = 6\n",
      "[LightGBM] [Debug] Trained a tree with leaves = 31 and depth = 6\n",
      "[LightGBM] [Debug] Trained a tree with leaves = 31 and depth = 6\n",
      "[LightGBM] [Debug] Trained a tree with leaves = 31 and depth = 6\n",
      "[LightGBM] [Debug] Trained a tree with leaves = 31 and depth = 6\n",
      "[LightGBM] [Debug] Trained a tree with leaves = 31 and depth = 6\n",
      "[LightGBM] [Debug] Trained a tree with leaves = 31 and depth = 6\n",
      "[LightGBM] [Debug] Trained a tree with leaves = 31 and depth = 6\n",
      "[LightGBM] [Debug] Trained a tree with leaves = 31 and depth = 6\n",
      "[LightGBM] [Debug] Trained a tree with leaves = 31 and depth = 6\n",
      "[LightGBM] [Debug] Trained a tree with leaves = 31 and depth = 6\n",
      "[LightGBM] [Debug] Trained a tree with leaves = 31 and depth = 6\n",
      "[LightGBM] [Debug] Trained a tree with leaves = 31 and depth = 6\n"
     ]
    },
    {
     "name": "stdout",
     "output_type": "stream",
     "text": [
      "[LightGBM] [Debug] Trained a tree with leaves = 31 and depth = 6\n",
      "[LightGBM] [Debug] Trained a tree with leaves = 31 and depth = 6\n",
      "[LightGBM] [Warning] Accuracy may be bad since you didn't explicitly set num_leaves OR 2^max_depth > num_leaves. (num_leaves=31).\n",
      "[LightGBM] [Warning] Accuracy may be bad since you didn't explicitly set num_leaves OR 2^max_depth > num_leaves. (num_leaves=31).\n",
      "[LightGBM] [Debug] Dataset::GetMultiBinFromSparseFeatures: sparse rate 0.760539\n",
      "[LightGBM] [Debug] Dataset::GetMultiBinFromAllFeatures: sparse rate 0.180382\n",
      "[LightGBM] [Debug] init for col-wise cost 0.003842 seconds, init for row-wise cost 0.003919 seconds\n",
      "[LightGBM] [Warning] Auto-choosing col-wise multi-threading, the overhead of testing was 0.096835 seconds.\n",
      "You can set `force_col_wise=true` to remove the overhead.\n",
      "[LightGBM] [Info] Total Bins 583\n",
      "[LightGBM] [Info] Number of data points in the train set: 195777, number of used features: 9\n",
      "[LightGBM] [Info] Start training from score 4627.612855\n",
      "[LightGBM] [Debug] Trained a tree with leaves = 31 and depth = 6\n",
      "[LightGBM] [Debug] Trained a tree with leaves = 31 and depth = 6\n",
      "[LightGBM] [Debug] Trained a tree with leaves = 31 and depth = 6\n",
      "[LightGBM] [Debug] Trained a tree with leaves = 31 and depth = 6\n",
      "[LightGBM] [Debug] Trained a tree with leaves = 31 and depth = 6\n",
      "[LightGBM] [Debug] Trained a tree with leaves = 31 and depth = 6\n",
      "[LightGBM] [Debug] Trained a tree with leaves = 31 and depth = 6\n",
      "[LightGBM] [Debug] Trained a tree with leaves = 31 and depth = 6\n",
      "[LightGBM] [Debug] Trained a tree with leaves = 31 and depth = 6\n",
      "[LightGBM] [Debug] Trained a tree with leaves = 31 and depth = 6\n",
      "[LightGBM] [Debug] Trained a tree with leaves = 31 and depth = 6\n",
      "[LightGBM] [Debug] Trained a tree with leaves = 31 and depth = 6\n",
      "[LightGBM] [Debug] Trained a tree with leaves = 31 and depth = 6\n",
      "[LightGBM] [Debug] Trained a tree with leaves = 31 and depth = 6\n",
      "[LightGBM] [Debug] Trained a tree with leaves = 31 and depth = 6\n",
      "[LightGBM] [Debug] Trained a tree with leaves = 31 and depth = 6\n",
      "[LightGBM] [Debug] Trained a tree with leaves = 31 and depth = 6\n",
      "[LightGBM] [Debug] Trained a tree with leaves = 31 and depth = 6\n",
      "[LightGBM] [Debug] Trained a tree with leaves = 31 and depth = 6\n",
      "[LightGBM] [Debug] Trained a tree with leaves = 31 and depth = 6\n",
      "[LightGBM] [Debug] Trained a tree with leaves = 31 and depth = 6\n",
      "[LightGBM] [Debug] Trained a tree with leaves = 31 and depth = 6\n",
      "[LightGBM] [Debug] Trained a tree with leaves = 31 and depth = 6\n",
      "[LightGBM] [Debug] Trained a tree with leaves = 31 and depth = 6\n",
      "[LightGBM] [Debug] Trained a tree with leaves = 31 and depth = 6\n",
      "[LightGBM] [Debug] Trained a tree with leaves = 31 and depth = 6\n",
      "[LightGBM] [Debug] Trained a tree with leaves = 31 and depth = 6\n",
      "[LightGBM] [Debug] Trained a tree with leaves = 31 and depth = 6\n",
      "[LightGBM] [Debug] Trained a tree with leaves = 31 and depth = 6\n",
      "[LightGBM] [Debug] Trained a tree with leaves = 31 and depth = 6\n",
      "[LightGBM] [Debug] Trained a tree with leaves = 31 and depth = 6\n",
      "[LightGBM] [Debug] Trained a tree with leaves = 31 and depth = 6\n",
      "[LightGBM] [Debug] Trained a tree with leaves = 31 and depth = 6\n",
      "[LightGBM] [Debug] Trained a tree with leaves = 31 and depth = 6\n",
      "[LightGBM] [Debug] Trained a tree with leaves = 31 and depth = 6\n",
      "[LightGBM] [Debug] Trained a tree with leaves = 31 and depth = 6\n",
      "[LightGBM] [Debug] Trained a tree with leaves = 31 and depth = 6\n",
      "[LightGBM] [Debug] Trained a tree with leaves = 31 and depth = 6\n",
      "[LightGBM] [Debug] Trained a tree with leaves = 31 and depth = 6\n",
      "[LightGBM] [Debug] Trained a tree with leaves = 31 and depth = 6\n",
      "[LightGBM] [Debug] Trained a tree with leaves = 31 and depth = 6\n",
      "[LightGBM] [Debug] Trained a tree with leaves = 31 and depth = 6\n",
      "[LightGBM] [Debug] Trained a tree with leaves = 31 and depth = 6\n",
      "[LightGBM] [Debug] Trained a tree with leaves = 31 and depth = 6\n",
      "[LightGBM] [Debug] Trained a tree with leaves = 31 and depth = 6\n",
      "[LightGBM] [Debug] Trained a tree with leaves = 31 and depth = 6\n",
      "[LightGBM] [Debug] Trained a tree with leaves = 31 and depth = 6\n",
      "[LightGBM] [Debug] Trained a tree with leaves = 31 and depth = 6\n",
      "[LightGBM] [Debug] Trained a tree with leaves = 31 and depth = 6\n",
      "[LightGBM] [Debug] Trained a tree with leaves = 31 and depth = 6\n",
      "[LightGBM] [Debug] Trained a tree with leaves = 31 and depth = 6\n",
      "[LightGBM] [Debug] Trained a tree with leaves = 31 and depth = 6\n",
      "[LightGBM] [Debug] Trained a tree with leaves = 31 and depth = 6\n",
      "[LightGBM] [Debug] Trained a tree with leaves = 31 and depth = 6\n",
      "[LightGBM] [Debug] Trained a tree with leaves = 31 and depth = 6\n",
      "[LightGBM] [Debug] Trained a tree with leaves = 31 and depth = 6\n",
      "[LightGBM] [Debug] Trained a tree with leaves = 31 and depth = 6\n",
      "[LightGBM] [Debug] Trained a tree with leaves = 31 and depth = 6\n",
      "[LightGBM] [Debug] Trained a tree with leaves = 31 and depth = 6\n",
      "[LightGBM] [Debug] Trained a tree with leaves = 31 and depth = 6\n",
      "[LightGBM] [Debug] Trained a tree with leaves = 31 and depth = 6\n",
      "[LightGBM] [Debug] Trained a tree with leaves = 31 and depth = 6\n",
      "[LightGBM] [Debug] Trained a tree with leaves = 31 and depth = 6\n",
      "[LightGBM] [Debug] Trained a tree with leaves = 31 and depth = 6\n",
      "[LightGBM] [Debug] Trained a tree with leaves = 31 and depth = 6\n",
      "[LightGBM] [Debug] Trained a tree with leaves = 31 and depth = 6\n",
      "[LightGBM] [Debug] Trained a tree with leaves = 31 and depth = 6\n",
      "[LightGBM] [Debug] Trained a tree with leaves = 31 and depth = 6\n",
      "[LightGBM] [Debug] Trained a tree with leaves = 31 and depth = 6\n",
      "[LightGBM] [Debug] Trained a tree with leaves = 31 and depth = 6\n",
      "[LightGBM] [Debug] Trained a tree with leaves = 31 and depth = 6\n",
      "[LightGBM] [Debug] Trained a tree with leaves = 31 and depth = 6\n",
      "[LightGBM] [Debug] Trained a tree with leaves = 31 and depth = 6\n",
      "[LightGBM] [Debug] Trained a tree with leaves = 31 and depth = 6\n",
      "[LightGBM] [Debug] Trained a tree with leaves = 31 and depth = 6\n",
      "[LightGBM] [Debug] Trained a tree with leaves = 31 and depth = 6\n",
      "[LightGBM] [Debug] Trained a tree with leaves = 31 and depth = 6\n",
      "[LightGBM] [Debug] Trained a tree with leaves = 31 and depth = 6\n",
      "[LightGBM] [Debug] Trained a tree with leaves = 31 and depth = 6\n",
      "[LightGBM] [Debug] Trained a tree with leaves = 31 and depth = 6\n",
      "[LightGBM] [Debug] Trained a tree with leaves = 31 and depth = 6\n",
      "[LightGBM] [Debug] Trained a tree with leaves = 31 and depth = 6\n",
      "[LightGBM] [Debug] Trained a tree with leaves = 31 and depth = 6\n",
      "[LightGBM] [Debug] Trained a tree with leaves = 31 and depth = 6\n",
      "[LightGBM] [Debug] Trained a tree with leaves = 31 and depth = 6\n",
      "[LightGBM] [Debug] Trained a tree with leaves = 31 and depth = 6\n",
      "[LightGBM] [Debug] Trained a tree with leaves = 31 and depth = 6\n",
      "[LightGBM] [Debug] Trained a tree with leaves = 31 and depth = 6\n",
      "[LightGBM] [Debug] Trained a tree with leaves = 31 and depth = 6\n",
      "[LightGBM] [Debug] Trained a tree with leaves = 31 and depth = 6\n",
      "[LightGBM] [Debug] Trained a tree with leaves = 31 and depth = 6\n",
      "[LightGBM] [Debug] Trained a tree with leaves = 31 and depth = 6\n",
      "[LightGBM] [Debug] Trained a tree with leaves = 31 and depth = 6\n",
      "[LightGBM] [Debug] Trained a tree with leaves = 31 and depth = 6\n",
      "[LightGBM] [Debug] Trained a tree with leaves = 31 and depth = 6\n",
      "[LightGBM] [Debug] Trained a tree with leaves = 31 and depth = 6\n",
      "[LightGBM] [Debug] Trained a tree with leaves = 31 and depth = 6\n",
      "[LightGBM] [Debug] Trained a tree with leaves = 31 and depth = 6\n",
      "[LightGBM] [Debug] Trained a tree with leaves = 31 and depth = 6\n",
      "[LightGBM] [Debug] Trained a tree with leaves = 31 and depth = 6\n",
      "[LightGBM] [Debug] Trained a tree with leaves = 31 and depth = 6\n",
      "[LightGBM] [Debug] Trained a tree with leaves = 31 and depth = 6\n",
      "[LightGBM] [Debug] Trained a tree with leaves = 31 and depth = 6\n",
      "[LightGBM] [Debug] Trained a tree with leaves = 31 and depth = 6\n",
      "[LightGBM] [Debug] Trained a tree with leaves = 31 and depth = 6\n",
      "[LightGBM] [Debug] Trained a tree with leaves = 31 and depth = 6\n",
      "[LightGBM] [Debug] Trained a tree with leaves = 31 and depth = 6\n",
      "[LightGBM] [Debug] Trained a tree with leaves = 31 and depth = 6\n",
      "[LightGBM] [Debug] Trained a tree with leaves = 31 and depth = 6\n",
      "[LightGBM] [Debug] Trained a tree with leaves = 31 and depth = 6\n",
      "[LightGBM] [Debug] Trained a tree with leaves = 31 and depth = 6\n",
      "[LightGBM] [Debug] Trained a tree with leaves = 31 and depth = 6\n",
      "[LightGBM] [Debug] Trained a tree with leaves = 31 and depth = 6\n",
      "[LightGBM] [Debug] Trained a tree with leaves = 31 and depth = 6\n",
      "[LightGBM] [Debug] Trained a tree with leaves = 31 and depth = 6\n"
     ]
    },
    {
     "name": "stdout",
     "output_type": "stream",
     "text": [
      "[LightGBM] [Debug] Trained a tree with leaves = 31 and depth = 6\n",
      "[LightGBM] [Debug] Trained a tree with leaves = 31 and depth = 6\n",
      "[LightGBM] [Debug] Trained a tree with leaves = 31 and depth = 6\n",
      "[LightGBM] [Debug] Trained a tree with leaves = 31 and depth = 6\n",
      "[LightGBM] [Debug] Trained a tree with leaves = 31 and depth = 6\n",
      "[LightGBM] [Debug] Trained a tree with leaves = 31 and depth = 6\n",
      "[LightGBM] [Debug] Trained a tree with leaves = 31 and depth = 6\n",
      "[LightGBM] [Debug] Trained a tree with leaves = 31 and depth = 6\n",
      "[LightGBM] [Debug] Trained a tree with leaves = 31 and depth = 6\n",
      "[LightGBM] [Debug] Trained a tree with leaves = 31 and depth = 6\n",
      "[LightGBM] [Debug] Trained a tree with leaves = 31 and depth = 6\n",
      "[LightGBM] [Warning] No further splits with positive gain, best gain: -inf\n",
      "[LightGBM] [Debug] Trained a tree with leaves = 28 and depth = 6\n",
      "[LightGBM] [Debug] Trained a tree with leaves = 31 and depth = 6\n",
      "[LightGBM] [Debug] Trained a tree with leaves = 31 and depth = 6\n",
      "[LightGBM] [Debug] Trained a tree with leaves = 31 and depth = 6\n",
      "[LightGBM] [Debug] Trained a tree with leaves = 31 and depth = 6\n",
      "[LightGBM] [Debug] Trained a tree with leaves = 31 and depth = 6\n",
      "[LightGBM] [Debug] Trained a tree with leaves = 31 and depth = 6\n",
      "[LightGBM] [Debug] Trained a tree with leaves = 31 and depth = 6\n",
      "[LightGBM] [Debug] Trained a tree with leaves = 31 and depth = 6\n",
      "[LightGBM] [Debug] Trained a tree with leaves = 31 and depth = 6\n",
      "[LightGBM] [Debug] Trained a tree with leaves = 31 and depth = 6\n",
      "[LightGBM] [Debug] Trained a tree with leaves = 31 and depth = 6\n",
      "[LightGBM] [Warning] No further splits with positive gain, best gain: -inf\n",
      "[LightGBM] [Debug] Trained a tree with leaves = 29 and depth = 6\n",
      "[LightGBM] [Debug] Trained a tree with leaves = 31 and depth = 6\n",
      "[LightGBM] [Debug] Trained a tree with leaves = 31 and depth = 6\n",
      "[LightGBM] [Debug] Trained a tree with leaves = 31 and depth = 6\n",
      "[LightGBM] [Debug] Trained a tree with leaves = 31 and depth = 6\n",
      "[LightGBM] [Debug] Trained a tree with leaves = 31 and depth = 6\n",
      "[LightGBM] [Debug] Trained a tree with leaves = 31 and depth = 6\n",
      "[LightGBM] [Debug] Trained a tree with leaves = 31 and depth = 6\n",
      "[LightGBM] [Warning] No further splits with positive gain, best gain: -inf\n",
      "[LightGBM] [Debug] Trained a tree with leaves = 24 and depth = 6\n",
      "[LightGBM] [Debug] Trained a tree with leaves = 31 and depth = 6\n",
      "[LightGBM] [Debug] Trained a tree with leaves = 31 and depth = 6\n",
      "[LightGBM] [Debug] Trained a tree with leaves = 31 and depth = 6\n",
      "[LightGBM] [Warning] Accuracy may be bad since you didn't explicitly set num_leaves OR 2^max_depth > num_leaves. (num_leaves=31).\n",
      "[LightGBM] [Warning] Accuracy may be bad since you didn't explicitly set num_leaves OR 2^max_depth > num_leaves. (num_leaves=31).\n",
      "[LightGBM] [Debug] Dataset::GetMultiBinFromSparseFeatures: sparse rate 0.760539\n",
      "[LightGBM] [Debug] Dataset::GetMultiBinFromAllFeatures: sparse rate 0.180382\n",
      "[LightGBM] [Debug] init for col-wise cost 0.003689 seconds, init for row-wise cost 0.004280 seconds\n",
      "[LightGBM] [Warning] Auto-choosing row-wise multi-threading, the overhead of testing was 0.094781 seconds.\n",
      "You can set `force_row_wise=true` to remove the overhead.\n",
      "And if memory is not enough, you can set `force_col_wise=true`.\n",
      "[LightGBM] [Debug] Using Dense Multi-Val Bin\n",
      "[LightGBM] [Info] Total Bins 583\n",
      "[LightGBM] [Info] Number of data points in the train set: 195777, number of used features: 9\n",
      "[LightGBM] [Info] Start training from score 4627.612855\n",
      "[LightGBM] [Debug] Trained a tree with leaves = 31 and depth = 6\n",
      "[LightGBM] [Debug] Trained a tree with leaves = 31 and depth = 6\n",
      "[LightGBM] [Debug] Trained a tree with leaves = 31 and depth = 6\n",
      "[LightGBM] [Debug] Trained a tree with leaves = 31 and depth = 6\n",
      "[LightGBM] [Debug] Trained a tree with leaves = 31 and depth = 6\n",
      "[LightGBM] [Debug] Trained a tree with leaves = 31 and depth = 6\n",
      "[LightGBM] [Debug] Trained a tree with leaves = 31 and depth = 6\n",
      "[LightGBM] [Debug] Trained a tree with leaves = 31 and depth = 6\n",
      "[LightGBM] [Debug] Trained a tree with leaves = 31 and depth = 6\n",
      "[LightGBM] [Debug] Trained a tree with leaves = 31 and depth = 6\n",
      "[LightGBM] [Debug] Trained a tree with leaves = 31 and depth = 6\n",
      "[LightGBM] [Debug] Trained a tree with leaves = 31 and depth = 6\n",
      "[LightGBM] [Debug] Trained a tree with leaves = 31 and depth = 6\n",
      "[LightGBM] [Debug] Trained a tree with leaves = 31 and depth = 6\n",
      "[LightGBM] [Debug] Trained a tree with leaves = 31 and depth = 6\n",
      "[LightGBM] [Debug] Trained a tree with leaves = 31 and depth = 6\n",
      "[LightGBM] [Debug] Trained a tree with leaves = 31 and depth = 6\n",
      "[LightGBM] [Debug] Trained a tree with leaves = 31 and depth = 6\n",
      "[LightGBM] [Debug] Trained a tree with leaves = 31 and depth = 6\n",
      "[LightGBM] [Debug] Trained a tree with leaves = 31 and depth = 6\n",
      "[LightGBM] [Debug] Trained a tree with leaves = 31 and depth = 6\n",
      "[LightGBM] [Debug] Trained a tree with leaves = 31 and depth = 6\n",
      "[LightGBM] [Debug] Trained a tree with leaves = 31 and depth = 6\n",
      "[LightGBM] [Debug] Trained a tree with leaves = 31 and depth = 6\n",
      "[LightGBM] [Debug] Trained a tree with leaves = 31 and depth = 6\n",
      "[LightGBM] [Debug] Trained a tree with leaves = 31 and depth = 6\n",
      "[LightGBM] [Debug] Trained a tree with leaves = 31 and depth = 6\n",
      "[LightGBM] [Debug] Trained a tree with leaves = 31 and depth = 6\n",
      "[LightGBM] [Debug] Trained a tree with leaves = 31 and depth = 6\n",
      "[LightGBM] [Debug] Trained a tree with leaves = 31 and depth = 6\n",
      "[LightGBM] [Debug] Trained a tree with leaves = 31 and depth = 6\n",
      "[LightGBM] [Debug] Trained a tree with leaves = 31 and depth = 6\n",
      "[LightGBM] [Debug] Trained a tree with leaves = 31 and depth = 6\n",
      "[LightGBM] [Debug] Trained a tree with leaves = 31 and depth = 6\n",
      "[LightGBM] [Debug] Trained a tree with leaves = 31 and depth = 6\n",
      "[LightGBM] [Debug] Trained a tree with leaves = 31 and depth = 6\n",
      "[LightGBM] [Debug] Trained a tree with leaves = 31 and depth = 6\n",
      "[LightGBM] [Debug] Trained a tree with leaves = 31 and depth = 6\n",
      "[LightGBM] [Debug] Trained a tree with leaves = 31 and depth = 6\n",
      "[LightGBM] [Debug] Trained a tree with leaves = 31 and depth = 6\n",
      "[LightGBM] [Debug] Trained a tree with leaves = 31 and depth = 6\n",
      "[LightGBM] [Debug] Trained a tree with leaves = 31 and depth = 6\n",
      "[LightGBM] [Debug] Trained a tree with leaves = 31 and depth = 6\n",
      "[LightGBM] [Debug] Trained a tree with leaves = 31 and depth = 6\n",
      "[LightGBM] [Debug] Trained a tree with leaves = 31 and depth = 6\n",
      "[LightGBM] [Debug] Trained a tree with leaves = 31 and depth = 6\n",
      "[LightGBM] [Debug] Trained a tree with leaves = 31 and depth = 6\n",
      "[LightGBM] [Debug] Trained a tree with leaves = 31 and depth = 6\n",
      "[LightGBM] [Debug] Trained a tree with leaves = 31 and depth = 6\n",
      "[LightGBM] [Debug] Trained a tree with leaves = 31 and depth = 6\n",
      "[LightGBM] [Debug] Trained a tree with leaves = 31 and depth = 6\n",
      "[LightGBM] [Debug] Trained a tree with leaves = 31 and depth = 6\n",
      "[LightGBM] [Debug] Trained a tree with leaves = 31 and depth = 6\n",
      "[LightGBM] [Debug] Trained a tree with leaves = 31 and depth = 6\n",
      "[LightGBM] [Debug] Trained a tree with leaves = 31 and depth = 6\n",
      "[LightGBM] [Debug] Trained a tree with leaves = 31 and depth = 6\n",
      "[LightGBM] [Debug] Trained a tree with leaves = 31 and depth = 6\n",
      "[LightGBM] [Debug] Trained a tree with leaves = 31 and depth = 6\n",
      "[LightGBM] [Debug] Trained a tree with leaves = 31 and depth = 6\n",
      "[LightGBM] [Debug] Trained a tree with leaves = 31 and depth = 6\n",
      "[LightGBM] [Debug] Trained a tree with leaves = 31 and depth = 6\n",
      "[LightGBM] [Debug] Trained a tree with leaves = 31 and depth = 6\n",
      "[LightGBM] [Debug] Trained a tree with leaves = 31 and depth = 6\n",
      "[LightGBM] [Debug] Trained a tree with leaves = 31 and depth = 6\n",
      "[LightGBM] [Debug] Trained a tree with leaves = 31 and depth = 6\n",
      "[LightGBM] [Debug] Trained a tree with leaves = 31 and depth = 6\n",
      "[LightGBM] [Debug] Trained a tree with leaves = 31 and depth = 6\n",
      "[LightGBM] [Debug] Trained a tree with leaves = 31 and depth = 6\n",
      "[LightGBM] [Debug] Trained a tree with leaves = 31 and depth = 6\n",
      "[LightGBM] [Debug] Trained a tree with leaves = 31 and depth = 6\n",
      "[LightGBM] [Debug] Trained a tree with leaves = 31 and depth = 6\n",
      "[LightGBM] [Debug] Trained a tree with leaves = 31 and depth = 6\n",
      "[LightGBM] [Debug] Trained a tree with leaves = 31 and depth = 6\n",
      "[LightGBM] [Debug] Trained a tree with leaves = 31 and depth = 6\n"
     ]
    },
    {
     "name": "stdout",
     "output_type": "stream",
     "text": [
      "[LightGBM] [Debug] Trained a tree with leaves = 31 and depth = 6\n",
      "[LightGBM] [Debug] Trained a tree with leaves = 31 and depth = 6\n",
      "[LightGBM] [Debug] Trained a tree with leaves = 31 and depth = 6\n",
      "[LightGBM] [Debug] Trained a tree with leaves = 31 and depth = 6\n",
      "[LightGBM] [Debug] Trained a tree with leaves = 31 and depth = 6\n",
      "[LightGBM] [Debug] Trained a tree with leaves = 31 and depth = 6\n",
      "[LightGBM] [Debug] Trained a tree with leaves = 31 and depth = 6\n",
      "[LightGBM] [Debug] Trained a tree with leaves = 31 and depth = 6\n",
      "[LightGBM] [Debug] Trained a tree with leaves = 31 and depth = 6\n",
      "[LightGBM] [Debug] Trained a tree with leaves = 31 and depth = 6\n",
      "[LightGBM] [Debug] Trained a tree with leaves = 31 and depth = 6\n",
      "[LightGBM] [Debug] Trained a tree with leaves = 31 and depth = 6\n",
      "[LightGBM] [Debug] Trained a tree with leaves = 31 and depth = 6\n",
      "[LightGBM] [Debug] Trained a tree with leaves = 31 and depth = 6\n",
      "[LightGBM] [Debug] Trained a tree with leaves = 31 and depth = 6\n",
      "[LightGBM] [Debug] Trained a tree with leaves = 31 and depth = 6\n",
      "[LightGBM] [Debug] Trained a tree with leaves = 31 and depth = 6\n",
      "[LightGBM] [Debug] Trained a tree with leaves = 31 and depth = 6\n",
      "[LightGBM] [Debug] Trained a tree with leaves = 31 and depth = 6\n",
      "[LightGBM] [Debug] Trained a tree with leaves = 31 and depth = 6\n",
      "[LightGBM] [Debug] Trained a tree with leaves = 31 and depth = 6\n",
      "[LightGBM] [Debug] Trained a tree with leaves = 31 and depth = 6\n",
      "[LightGBM] [Debug] Trained a tree with leaves = 31 and depth = 6\n",
      "[LightGBM] [Debug] Trained a tree with leaves = 31 and depth = 6\n",
      "[LightGBM] [Debug] Trained a tree with leaves = 31 and depth = 6\n",
      "[LightGBM] [Debug] Trained a tree with leaves = 31 and depth = 6\n",
      "[LightGBM] [Debug] Trained a tree with leaves = 31 and depth = 6\n",
      "[LightGBM] [Debug] Trained a tree with leaves = 31 and depth = 6\n",
      "[LightGBM] [Debug] Trained a tree with leaves = 31 and depth = 6\n",
      "[LightGBM] [Debug] Trained a tree with leaves = 31 and depth = 6\n",
      "[LightGBM] [Debug] Trained a tree with leaves = 31 and depth = 6\n",
      "[LightGBM] [Debug] Trained a tree with leaves = 31 and depth = 6\n",
      "[LightGBM] [Debug] Trained a tree with leaves = 31 and depth = 6\n",
      "[LightGBM] [Debug] Trained a tree with leaves = 31 and depth = 6\n",
      "[LightGBM] [Debug] Trained a tree with leaves = 31 and depth = 6\n",
      "[LightGBM] [Debug] Trained a tree with leaves = 31 and depth = 6\n",
      "[LightGBM] [Debug] Trained a tree with leaves = 31 and depth = 6\n",
      "[LightGBM] [Debug] Trained a tree with leaves = 31 and depth = 6\n",
      "[LightGBM] [Debug] Trained a tree with leaves = 31 and depth = 6\n",
      "[LightGBM] [Debug] Trained a tree with leaves = 31 and depth = 6\n",
      "[LightGBM] [Debug] Trained a tree with leaves = 31 and depth = 6\n",
      "[LightGBM] [Debug] Trained a tree with leaves = 31 and depth = 6\n",
      "[LightGBM] [Debug] Trained a tree with leaves = 31 and depth = 6\n",
      "[LightGBM] [Debug] Trained a tree with leaves = 31 and depth = 6\n",
      "[LightGBM] [Debug] Trained a tree with leaves = 31 and depth = 6\n",
      "[LightGBM] [Debug] Trained a tree with leaves = 31 and depth = 6\n",
      "[LightGBM] [Debug] Trained a tree with leaves = 31 and depth = 6\n",
      "[LightGBM] [Debug] Trained a tree with leaves = 31 and depth = 6\n",
      "[LightGBM] [Debug] Trained a tree with leaves = 31 and depth = 6\n",
      "[LightGBM] [Debug] Trained a tree with leaves = 31 and depth = 6\n",
      "[LightGBM] [Debug] Trained a tree with leaves = 31 and depth = 6\n",
      "[LightGBM] [Debug] Trained a tree with leaves = 31 and depth = 6\n",
      "[LightGBM] [Warning] No further splits with positive gain, best gain: -inf\n",
      "[LightGBM] [Debug] Trained a tree with leaves = 28 and depth = 6\n",
      "[LightGBM] [Debug] Trained a tree with leaves = 31 and depth = 6\n",
      "[LightGBM] [Debug] Trained a tree with leaves = 31 and depth = 6\n",
      "[LightGBM] [Debug] Trained a tree with leaves = 31 and depth = 6\n",
      "[LightGBM] [Debug] Trained a tree with leaves = 31 and depth = 6\n",
      "[LightGBM] [Debug] Trained a tree with leaves = 31 and depth = 6\n",
      "[LightGBM] [Debug] Trained a tree with leaves = 31 and depth = 6\n",
      "[LightGBM] [Debug] Trained a tree with leaves = 31 and depth = 6\n",
      "[LightGBM] [Debug] Trained a tree with leaves = 31 and depth = 6\n",
      "[LightGBM] [Debug] Trained a tree with leaves = 31 and depth = 6\n",
      "[LightGBM] [Debug] Trained a tree with leaves = 31 and depth = 6\n",
      "[LightGBM] [Debug] Trained a tree with leaves = 31 and depth = 6\n",
      "[LightGBM] [Warning] No further splits with positive gain, best gain: -inf\n",
      "[LightGBM] [Debug] Trained a tree with leaves = 29 and depth = 6\n",
      "[LightGBM] [Debug] Trained a tree with leaves = 31 and depth = 6\n",
      "[LightGBM] [Debug] Trained a tree with leaves = 31 and depth = 6\n",
      "[LightGBM] [Debug] Trained a tree with leaves = 31 and depth = 6\n",
      "[LightGBM] [Debug] Trained a tree with leaves = 31 and depth = 6\n",
      "[LightGBM] [Debug] Trained a tree with leaves = 31 and depth = 6\n",
      "[LightGBM] [Debug] Trained a tree with leaves = 31 and depth = 6\n",
      "[LightGBM] [Debug] Trained a tree with leaves = 31 and depth = 6\n",
      "[LightGBM] [Warning] No further splits with positive gain, best gain: -inf\n",
      "[LightGBM] [Debug] Trained a tree with leaves = 24 and depth = 6\n",
      "[LightGBM] [Debug] Trained a tree with leaves = 31 and depth = 6\n",
      "[LightGBM] [Debug] Trained a tree with leaves = 31 and depth = 6\n",
      "[LightGBM] [Debug] Trained a tree with leaves = 31 and depth = 6\n",
      "[LightGBM] [Debug] Trained a tree with leaves = 31 and depth = 6\n",
      "[LightGBM] [Debug] Trained a tree with leaves = 31 and depth = 6\n",
      "[LightGBM] [Debug] Trained a tree with leaves = 31 and depth = 6\n",
      "[LightGBM] [Debug] Trained a tree with leaves = 31 and depth = 6\n",
      "[LightGBM] [Debug] Trained a tree with leaves = 31 and depth = 6\n",
      "[LightGBM] [Warning] No further splits with positive gain, best gain: -inf\n",
      "[LightGBM] [Debug] Trained a tree with leaves = 25 and depth = 6\n",
      "[LightGBM] [Debug] Trained a tree with leaves = 31 and depth = 6\n",
      "[LightGBM] [Debug] Trained a tree with leaves = 31 and depth = 6\n",
      "[LightGBM] [Debug] Trained a tree with leaves = 31 and depth = 6\n",
      "[LightGBM] [Debug] Trained a tree with leaves = 31 and depth = 6\n",
      "[LightGBM] [Debug] Trained a tree with leaves = 31 and depth = 6\n",
      "[LightGBM] [Debug] Trained a tree with leaves = 31 and depth = 6\n",
      "[LightGBM] [Debug] Trained a tree with leaves = 31 and depth = 6\n",
      "[LightGBM] [Debug] Trained a tree with leaves = 31 and depth = 6\n",
      "[LightGBM] [Debug] Trained a tree with leaves = 31 and depth = 6\n",
      "[LightGBM] [Debug] Trained a tree with leaves = 31 and depth = 6\n",
      "[LightGBM] [Debug] Trained a tree with leaves = 31 and depth = 6\n",
      "[LightGBM] [Debug] Trained a tree with leaves = 31 and depth = 6\n",
      "[LightGBM] [Debug] Trained a tree with leaves = 31 and depth = 6\n",
      "[LightGBM] [Debug] Trained a tree with leaves = 31 and depth = 6\n",
      "[LightGBM] [Debug] Trained a tree with leaves = 31 and depth = 6\n",
      "[LightGBM] [Debug] Trained a tree with leaves = 31 and depth = 6\n",
      "[LightGBM] [Debug] Trained a tree with leaves = 31 and depth = 6\n",
      "[LightGBM] [Debug] Trained a tree with leaves = 31 and depth = 6\n",
      "[LightGBM] [Warning] No further splits with positive gain, best gain: -inf\n",
      "[LightGBM] [Debug] Trained a tree with leaves = 21 and depth = 6\n",
      "[LightGBM] [Debug] Trained a tree with leaves = 31 and depth = 6\n",
      "[LightGBM] [Debug] Trained a tree with leaves = 31 and depth = 6\n",
      "[LightGBM] [Debug] Trained a tree with leaves = 31 and depth = 6\n",
      "[LightGBM] [Debug] Trained a tree with leaves = 31 and depth = 6\n",
      "[LightGBM] [Debug] Trained a tree with leaves = 31 and depth = 6\n",
      "[LightGBM] [Debug] Trained a tree with leaves = 31 and depth = 6\n",
      "[LightGBM] [Debug] Trained a tree with leaves = 31 and depth = 6\n",
      "[LightGBM] [Debug] Trained a tree with leaves = 31 and depth = 6\n",
      "[LightGBM] [Debug] Trained a tree with leaves = 31 and depth = 6\n",
      "[LightGBM] [Debug] Trained a tree with leaves = 31 and depth = 6\n",
      "[LightGBM] [Debug] Trained a tree with leaves = 31 and depth = 6\n",
      "[LightGBM] [Debug] Trained a tree with leaves = 31 and depth = 6\n",
      "[LightGBM] [Debug] Trained a tree with leaves = 31 and depth = 6\n",
      "[LightGBM] [Debug] Trained a tree with leaves = 31 and depth = 6\n",
      "[LightGBM] [Debug] Trained a tree with leaves = 31 and depth = 6\n",
      "[LightGBM] [Debug] Trained a tree with leaves = 31 and depth = 6\n",
      "[LightGBM] [Debug] Trained a tree with leaves = 31 and depth = 6\n",
      "[LightGBM] [Debug] Trained a tree with leaves = 31 and depth = 6\n",
      "[LightGBM] [Debug] Trained a tree with leaves = 31 and depth = 6\n",
      "[LightGBM] [Warning] No further splits with positive gain, best gain: -inf\n",
      "[LightGBM] [Debug] Trained a tree with leaves = 21 and depth = 6\n"
     ]
    },
    {
     "name": "stdout",
     "output_type": "stream",
     "text": [
      "[LightGBM] [Debug] Trained a tree with leaves = 31 and depth = 6\n",
      "[LightGBM] [Debug] Trained a tree with leaves = 31 and depth = 6\n",
      "[LightGBM] [Debug] Trained a tree with leaves = 31 and depth = 6\n",
      "[LightGBM] [Debug] Trained a tree with leaves = 31 and depth = 6\n",
      "[LightGBM] [Debug] Trained a tree with leaves = 31 and depth = 6\n",
      "[LightGBM] [Warning] Accuracy may be bad since you didn't explicitly set num_leaves OR 2^max_depth > num_leaves. (num_leaves=31).\n",
      "[LightGBM] [Warning] Accuracy may be bad since you didn't explicitly set num_leaves OR 2^max_depth > num_leaves. (num_leaves=31).\n",
      "[LightGBM] [Debug] Dataset::GetMultiBinFromSparseFeatures: sparse rate 0.760539\n",
      "[LightGBM] [Debug] Dataset::GetMultiBinFromAllFeatures: sparse rate 0.180382\n",
      "[LightGBM] [Debug] init for col-wise cost 0.003649 seconds, init for row-wise cost 0.098617 seconds\n",
      "[LightGBM] [Warning] Auto-choosing row-wise multi-threading, the overhead of testing was 0.198063 seconds.\n",
      "You can set `force_row_wise=true` to remove the overhead.\n",
      "And if memory is not enough, you can set `force_col_wise=true`.\n",
      "[LightGBM] [Debug] Using Dense Multi-Val Bin\n",
      "[LightGBM] [Info] Total Bins 583\n",
      "[LightGBM] [Info] Number of data points in the train set: 195777, number of used features: 9\n",
      "[LightGBM] [Info] Start training from score 4627.612855\n",
      "[LightGBM] [Debug] Trained a tree with leaves = 31 and depth = 6\n",
      "[LightGBM] [Debug] Trained a tree with leaves = 31 and depth = 6\n",
      "[LightGBM] [Debug] Trained a tree with leaves = 31 and depth = 6\n",
      "[LightGBM] [Debug] Trained a tree with leaves = 31 and depth = 6\n",
      "[LightGBM] [Debug] Trained a tree with leaves = 31 and depth = 6\n",
      "[LightGBM] [Debug] Trained a tree with leaves = 31 and depth = 6\n",
      "[LightGBM] [Debug] Trained a tree with leaves = 31 and depth = 6\n",
      "[LightGBM] [Debug] Trained a tree with leaves = 31 and depth = 6\n",
      "[LightGBM] [Debug] Trained a tree with leaves = 31 and depth = 6\n",
      "[LightGBM] [Debug] Trained a tree with leaves = 31 and depth = 6\n",
      "[LightGBM] [Debug] Trained a tree with leaves = 31 and depth = 6\n",
      "[LightGBM] [Debug] Trained a tree with leaves = 31 and depth = 6\n",
      "[LightGBM] [Debug] Trained a tree with leaves = 31 and depth = 6\n",
      "[LightGBM] [Debug] Trained a tree with leaves = 31 and depth = 6\n",
      "[LightGBM] [Debug] Trained a tree with leaves = 31 and depth = 6\n",
      "[LightGBM] [Debug] Trained a tree with leaves = 31 and depth = 6\n",
      "[LightGBM] [Debug] Trained a tree with leaves = 31 and depth = 6\n",
      "[LightGBM] [Debug] Trained a tree with leaves = 31 and depth = 6\n",
      "[LightGBM] [Debug] Trained a tree with leaves = 31 and depth = 6\n",
      "[LightGBM] [Debug] Trained a tree with leaves = 31 and depth = 6\n",
      "[LightGBM] [Debug] Trained a tree with leaves = 31 and depth = 6\n",
      "[LightGBM] [Debug] Trained a tree with leaves = 31 and depth = 6\n",
      "[LightGBM] [Debug] Trained a tree with leaves = 31 and depth = 6\n",
      "[LightGBM] [Debug] Trained a tree with leaves = 31 and depth = 6\n",
      "[LightGBM] [Debug] Trained a tree with leaves = 31 and depth = 6\n",
      "[LightGBM] [Debug] Trained a tree with leaves = 31 and depth = 6\n",
      "[LightGBM] [Debug] Trained a tree with leaves = 31 and depth = 6\n",
      "[LightGBM] [Debug] Trained a tree with leaves = 31 and depth = 6\n",
      "[LightGBM] [Debug] Trained a tree with leaves = 31 and depth = 6\n",
      "[LightGBM] [Debug] Trained a tree with leaves = 31 and depth = 6\n",
      "[LightGBM] [Debug] Trained a tree with leaves = 31 and depth = 6\n",
      "[LightGBM] [Debug] Trained a tree with leaves = 31 and depth = 6\n",
      "[LightGBM] [Debug] Trained a tree with leaves = 31 and depth = 6\n",
      "[LightGBM] [Debug] Trained a tree with leaves = 31 and depth = 6\n",
      "[LightGBM] [Debug] Trained a tree with leaves = 31 and depth = 6\n",
      "[LightGBM] [Debug] Trained a tree with leaves = 31 and depth = 6\n",
      "[LightGBM] [Debug] Trained a tree with leaves = 31 and depth = 6\n",
      "[LightGBM] [Debug] Trained a tree with leaves = 31 and depth = 6\n",
      "[LightGBM] [Debug] Trained a tree with leaves = 31 and depth = 6\n",
      "[LightGBM] [Debug] Trained a tree with leaves = 31 and depth = 6\n",
      "[LightGBM] [Debug] Trained a tree with leaves = 31 and depth = 6\n",
      "[LightGBM] [Debug] Trained a tree with leaves = 31 and depth = 6\n",
      "[LightGBM] [Debug] Trained a tree with leaves = 31 and depth = 6\n",
      "[LightGBM] [Debug] Trained a tree with leaves = 31 and depth = 6\n",
      "[LightGBM] [Debug] Trained a tree with leaves = 31 and depth = 6\n",
      "[LightGBM] [Debug] Trained a tree with leaves = 31 and depth = 6\n",
      "[LightGBM] [Debug] Trained a tree with leaves = 31 and depth = 6\n",
      "[LightGBM] [Debug] Trained a tree with leaves = 31 and depth = 6\n",
      "[LightGBM] [Debug] Trained a tree with leaves = 31 and depth = 6\n",
      "[LightGBM] [Debug] Trained a tree with leaves = 31 and depth = 6\n",
      "[LightGBM] [Debug] Trained a tree with leaves = 31 and depth = 6\n",
      "[LightGBM] [Debug] Trained a tree with leaves = 31 and depth = 6\n",
      "[LightGBM] [Debug] Trained a tree with leaves = 31 and depth = 6\n",
      "[LightGBM] [Debug] Trained a tree with leaves = 31 and depth = 6\n",
      "[LightGBM] [Debug] Trained a tree with leaves = 31 and depth = 6\n",
      "[LightGBM] [Debug] Trained a tree with leaves = 31 and depth = 6\n",
      "[LightGBM] [Debug] Trained a tree with leaves = 31 and depth = 6\n",
      "[LightGBM] [Debug] Trained a tree with leaves = 31 and depth = 6\n",
      "[LightGBM] [Debug] Trained a tree with leaves = 31 and depth = 6\n",
      "[LightGBM] [Debug] Trained a tree with leaves = 31 and depth = 6\n",
      "[LightGBM] [Debug] Trained a tree with leaves = 31 and depth = 6\n",
      "[LightGBM] [Debug] Trained a tree with leaves = 31 and depth = 6\n",
      "[LightGBM] [Debug] Trained a tree with leaves = 31 and depth = 6\n",
      "[LightGBM] [Debug] Trained a tree with leaves = 31 and depth = 6\n",
      "[LightGBM] [Debug] Trained a tree with leaves = 31 and depth = 6\n",
      "[LightGBM] [Debug] Trained a tree with leaves = 31 and depth = 6\n",
      "[LightGBM] [Debug] Trained a tree with leaves = 31 and depth = 6\n",
      "[LightGBM] [Debug] Trained a tree with leaves = 31 and depth = 6\n",
      "[LightGBM] [Debug] Trained a tree with leaves = 31 and depth = 6\n",
      "[LightGBM] [Debug] Trained a tree with leaves = 31 and depth = 6\n",
      "[LightGBM] [Debug] Trained a tree with leaves = 31 and depth = 6\n",
      "[LightGBM] [Debug] Trained a tree with leaves = 31 and depth = 6\n",
      "[LightGBM] [Debug] Trained a tree with leaves = 31 and depth = 6\n",
      "[LightGBM] [Debug] Trained a tree with leaves = 31 and depth = 6\n",
      "[LightGBM] [Debug] Trained a tree with leaves = 31 and depth = 6\n",
      "[LightGBM] [Debug] Trained a tree with leaves = 31 and depth = 6\n",
      "[LightGBM] [Debug] Trained a tree with leaves = 31 and depth = 6\n",
      "[LightGBM] [Debug] Trained a tree with leaves = 31 and depth = 6\n",
      "[LightGBM] [Debug] Trained a tree with leaves = 31 and depth = 6\n",
      "[LightGBM] [Debug] Trained a tree with leaves = 31 and depth = 6\n",
      "[LightGBM] [Debug] Trained a tree with leaves = 31 and depth = 6\n",
      "[LightGBM] [Debug] Trained a tree with leaves = 31 and depth = 6\n",
      "[LightGBM] [Debug] Trained a tree with leaves = 31 and depth = 6\n",
      "[LightGBM] [Debug] Trained a tree with leaves = 31 and depth = 6\n",
      "[LightGBM] [Debug] Trained a tree with leaves = 31 and depth = 6\n",
      "[LightGBM] [Debug] Trained a tree with leaves = 31 and depth = 6\n",
      "[LightGBM] [Debug] Trained a tree with leaves = 31 and depth = 6\n",
      "[LightGBM] [Debug] Trained a tree with leaves = 31 and depth = 6\n",
      "[LightGBM] [Debug] Trained a tree with leaves = 31 and depth = 6\n",
      "[LightGBM] [Debug] Trained a tree with leaves = 31 and depth = 6\n",
      "[LightGBM] [Debug] Trained a tree with leaves = 31 and depth = 6\n",
      "[LightGBM] [Debug] Trained a tree with leaves = 31 and depth = 6\n",
      "[LightGBM] [Debug] Trained a tree with leaves = 31 and depth = 6\n",
      "[LightGBM] [Debug] Trained a tree with leaves = 31 and depth = 6\n",
      "[LightGBM] [Debug] Trained a tree with leaves = 31 and depth = 6\n",
      "[LightGBM] [Debug] Trained a tree with leaves = 31 and depth = 6\n",
      "[LightGBM] [Debug] Trained a tree with leaves = 31 and depth = 6\n",
      "[LightGBM] [Debug] Trained a tree with leaves = 31 and depth = 6\n",
      "[LightGBM] [Debug] Trained a tree with leaves = 31 and depth = 6\n",
      "[LightGBM] [Debug] Trained a tree with leaves = 31 and depth = 6\n",
      "[LightGBM] [Debug] Trained a tree with leaves = 31 and depth = 6\n",
      "[LightGBM] [Debug] Trained a tree with leaves = 31 and depth = 6\n",
      "[LightGBM] [Debug] Trained a tree with leaves = 31 and depth = 6\n",
      "[LightGBM] [Debug] Trained a tree with leaves = 31 and depth = 6\n",
      "[LightGBM] [Debug] Trained a tree with leaves = 31 and depth = 6\n",
      "[LightGBM] [Debug] Trained a tree with leaves = 31 and depth = 6\n",
      "[LightGBM] [Debug] Trained a tree with leaves = 31 and depth = 6\n"
     ]
    },
    {
     "name": "stdout",
     "output_type": "stream",
     "text": [
      "[LightGBM] [Debug] Trained a tree with leaves = 31 and depth = 6\n",
      "[LightGBM] [Debug] Trained a tree with leaves = 31 and depth = 6\n",
      "[LightGBM] [Debug] Trained a tree with leaves = 31 and depth = 6\n",
      "[LightGBM] [Debug] Trained a tree with leaves = 31 and depth = 6\n",
      "[LightGBM] [Debug] Trained a tree with leaves = 31 and depth = 6\n",
      "[LightGBM] [Debug] Trained a tree with leaves = 31 and depth = 6\n",
      "[LightGBM] [Debug] Trained a tree with leaves = 31 and depth = 6\n",
      "[LightGBM] [Debug] Trained a tree with leaves = 31 and depth = 6\n",
      "[LightGBM] [Debug] Trained a tree with leaves = 31 and depth = 6\n",
      "[LightGBM] [Debug] Trained a tree with leaves = 31 and depth = 6\n",
      "[LightGBM] [Debug] Trained a tree with leaves = 31 and depth = 6\n",
      "[LightGBM] [Debug] Trained a tree with leaves = 31 and depth = 6\n",
      "[LightGBM] [Debug] Trained a tree with leaves = 31 and depth = 6\n",
      "[LightGBM] [Debug] Trained a tree with leaves = 31 and depth = 6\n",
      "[LightGBM] [Debug] Trained a tree with leaves = 31 and depth = 6\n",
      "[LightGBM] [Debug] Trained a tree with leaves = 31 and depth = 6\n",
      "[LightGBM] [Debug] Trained a tree with leaves = 31 and depth = 6\n",
      "[LightGBM] [Debug] Trained a tree with leaves = 31 and depth = 6\n",
      "[LightGBM] [Debug] Trained a tree with leaves = 31 and depth = 6\n",
      "[LightGBM] [Warning] No further splits with positive gain, best gain: -inf\n",
      "[LightGBM] [Debug] Trained a tree with leaves = 28 and depth = 6\n",
      "[LightGBM] [Debug] Trained a tree with leaves = 31 and depth = 6\n",
      "[LightGBM] [Debug] Trained a tree with leaves = 31 and depth = 6\n",
      "[LightGBM] [Debug] Trained a tree with leaves = 31 and depth = 6\n",
      "[LightGBM] [Debug] Trained a tree with leaves = 31 and depth = 6\n",
      "[LightGBM] [Debug] Trained a tree with leaves = 31 and depth = 6\n",
      "[LightGBM] [Debug] Trained a tree with leaves = 31 and depth = 6\n",
      "[LightGBM] [Debug] Trained a tree with leaves = 31 and depth = 6\n",
      "[LightGBM] [Debug] Trained a tree with leaves = 31 and depth = 6\n",
      "[LightGBM] [Debug] Trained a tree with leaves = 31 and depth = 6\n",
      "[LightGBM] [Debug] Trained a tree with leaves = 31 and depth = 6\n",
      "[LightGBM] [Debug] Trained a tree with leaves = 31 and depth = 6\n",
      "[LightGBM] [Warning] No further splits with positive gain, best gain: -inf\n",
      "[LightGBM] [Debug] Trained a tree with leaves = 29 and depth = 6\n",
      "[LightGBM] [Debug] Trained a tree with leaves = 31 and depth = 6\n",
      "[LightGBM] [Debug] Trained a tree with leaves = 31 and depth = 6\n",
      "[LightGBM] [Debug] Trained a tree with leaves = 31 and depth = 6\n",
      "[LightGBM] [Debug] Trained a tree with leaves = 31 and depth = 6\n",
      "[LightGBM] [Debug] Trained a tree with leaves = 31 and depth = 6\n",
      "[LightGBM] [Debug] Trained a tree with leaves = 31 and depth = 6\n",
      "[LightGBM] [Debug] Trained a tree with leaves = 31 and depth = 6\n",
      "[LightGBM] [Warning] No further splits with positive gain, best gain: -inf\n",
      "[LightGBM] [Debug] Trained a tree with leaves = 24 and depth = 6\n",
      "[LightGBM] [Debug] Trained a tree with leaves = 31 and depth = 6\n",
      "[LightGBM] [Debug] Trained a tree with leaves = 31 and depth = 6\n",
      "[LightGBM] [Debug] Trained a tree with leaves = 31 and depth = 6\n",
      "[LightGBM] [Debug] Trained a tree with leaves = 31 and depth = 6\n",
      "[LightGBM] [Debug] Trained a tree with leaves = 31 and depth = 6\n",
      "[LightGBM] [Debug] Trained a tree with leaves = 31 and depth = 6\n",
      "[LightGBM] [Debug] Trained a tree with leaves = 31 and depth = 6\n",
      "[LightGBM] [Debug] Trained a tree with leaves = 31 and depth = 6\n",
      "[LightGBM] [Warning] No further splits with positive gain, best gain: -inf\n",
      "[LightGBM] [Debug] Trained a tree with leaves = 25 and depth = 6\n",
      "[LightGBM] [Debug] Trained a tree with leaves = 31 and depth = 6\n",
      "[LightGBM] [Debug] Trained a tree with leaves = 31 and depth = 6\n",
      "[LightGBM] [Debug] Trained a tree with leaves = 31 and depth = 6\n",
      "[LightGBM] [Debug] Trained a tree with leaves = 31 and depth = 6\n",
      "[LightGBM] [Debug] Trained a tree with leaves = 31 and depth = 6\n",
      "[LightGBM] [Debug] Trained a tree with leaves = 31 and depth = 6\n",
      "[LightGBM] [Debug] Trained a tree with leaves = 31 and depth = 6\n",
      "[LightGBM] [Debug] Trained a tree with leaves = 31 and depth = 6\n",
      "[LightGBM] [Debug] Trained a tree with leaves = 31 and depth = 6\n",
      "[LightGBM] [Debug] Trained a tree with leaves = 31 and depth = 6\n",
      "[LightGBM] [Debug] Trained a tree with leaves = 31 and depth = 6\n",
      "[LightGBM] [Debug] Trained a tree with leaves = 31 and depth = 6\n",
      "[LightGBM] [Debug] Trained a tree with leaves = 31 and depth = 6\n",
      "[LightGBM] [Debug] Trained a tree with leaves = 31 and depth = 6\n",
      "[LightGBM] [Debug] Trained a tree with leaves = 31 and depth = 6\n",
      "[LightGBM] [Debug] Trained a tree with leaves = 31 and depth = 6\n",
      "[LightGBM] [Debug] Trained a tree with leaves = 31 and depth = 6\n",
      "[LightGBM] [Debug] Trained a tree with leaves = 31 and depth = 6\n",
      "[LightGBM] [Warning] No further splits with positive gain, best gain: -inf\n",
      "[LightGBM] [Debug] Trained a tree with leaves = 21 and depth = 6\n",
      "[LightGBM] [Debug] Trained a tree with leaves = 31 and depth = 6\n",
      "[LightGBM] [Debug] Trained a tree with leaves = 31 and depth = 6\n",
      "[LightGBM] [Debug] Trained a tree with leaves = 31 and depth = 6\n",
      "[LightGBM] [Debug] Trained a tree with leaves = 31 and depth = 6\n",
      "[LightGBM] [Debug] Trained a tree with leaves = 31 and depth = 6\n",
      "[LightGBM] [Debug] Trained a tree with leaves = 31 and depth = 6\n",
      "[LightGBM] [Debug] Trained a tree with leaves = 31 and depth = 6\n",
      "[LightGBM] [Debug] Trained a tree with leaves = 31 and depth = 6\n",
      "[LightGBM] [Debug] Trained a tree with leaves = 31 and depth = 6\n",
      "[LightGBM] [Debug] Trained a tree with leaves = 31 and depth = 6\n",
      "[LightGBM] [Debug] Trained a tree with leaves = 31 and depth = 6\n",
      "[LightGBM] [Debug] Trained a tree with leaves = 31 and depth = 6\n",
      "[LightGBM] [Debug] Trained a tree with leaves = 31 and depth = 6\n",
      "[LightGBM] [Debug] Trained a tree with leaves = 31 and depth = 6\n",
      "[LightGBM] [Debug] Trained a tree with leaves = 31 and depth = 6\n",
      "[LightGBM] [Debug] Trained a tree with leaves = 31 and depth = 6\n",
      "[LightGBM] [Debug] Trained a tree with leaves = 31 and depth = 6\n",
      "[LightGBM] [Debug] Trained a tree with leaves = 31 and depth = 6\n",
      "[LightGBM] [Debug] Trained a tree with leaves = 31 and depth = 6\n",
      "[LightGBM] [Warning] No further splits with positive gain, best gain: -inf\n",
      "[LightGBM] [Debug] Trained a tree with leaves = 21 and depth = 6\n",
      "[LightGBM] [Debug] Trained a tree with leaves = 31 and depth = 6\n",
      "[LightGBM] [Debug] Trained a tree with leaves = 31 and depth = 6\n",
      "[LightGBM] [Debug] Trained a tree with leaves = 31 and depth = 6\n",
      "[LightGBM] [Debug] Trained a tree with leaves = 31 and depth = 6\n",
      "[LightGBM] [Debug] Trained a tree with leaves = 31 and depth = 6\n",
      "[LightGBM] [Debug] Trained a tree with leaves = 31 and depth = 6\n",
      "[LightGBM] [Warning] No further splits with positive gain, best gain: -inf\n",
      "[LightGBM] [Debug] Trained a tree with leaves = 27 and depth = 6\n",
      "[LightGBM] [Debug] Trained a tree with leaves = 31 and depth = 6\n",
      "[LightGBM] [Debug] Trained a tree with leaves = 31 and depth = 6\n",
      "[LightGBM] [Debug] Trained a tree with leaves = 31 and depth = 6\n",
      "[LightGBM] [Debug] Trained a tree with leaves = 31 and depth = 6\n",
      "[LightGBM] [Debug] Trained a tree with leaves = 31 and depth = 6\n",
      "[LightGBM] [Debug] Trained a tree with leaves = 31 and depth = 6\n",
      "[LightGBM] [Debug] Trained a tree with leaves = 31 and depth = 6\n",
      "[LightGBM] [Debug] Trained a tree with leaves = 31 and depth = 6\n",
      "[LightGBM] [Debug] Trained a tree with leaves = 31 and depth = 6\n",
      "[LightGBM] [Debug] Trained a tree with leaves = 31 and depth = 6\n",
      "[LightGBM] [Debug] Trained a tree with leaves = 31 and depth = 6\n",
      "[LightGBM] [Debug] Trained a tree with leaves = 31 and depth = 6\n",
      "[LightGBM] [Debug] Trained a tree with leaves = 31 and depth = 6\n",
      "[LightGBM] [Debug] Trained a tree with leaves = 31 and depth = 6\n",
      "[LightGBM] [Debug] Trained a tree with leaves = 31 and depth = 6\n",
      "[LightGBM] [Debug] Trained a tree with leaves = 31 and depth = 6\n",
      "[LightGBM] [Debug] Trained a tree with leaves = 31 and depth = 6\n",
      "[LightGBM] [Debug] Trained a tree with leaves = 31 and depth = 6\n",
      "[LightGBM] [Debug] Trained a tree with leaves = 31 and depth = 6\n",
      "[LightGBM] [Debug] Trained a tree with leaves = 31 and depth = 6\n",
      "[LightGBM] [Debug] Trained a tree with leaves = 31 and depth = 6\n",
      "[LightGBM] [Debug] Trained a tree with leaves = 31 and depth = 6\n",
      "[LightGBM] [Debug] Trained a tree with leaves = 31 and depth = 6\n",
      "[LightGBM] [Debug] Trained a tree with leaves = 31 and depth = 6\n",
      "[LightGBM] [Debug] Trained a tree with leaves = 31 and depth = 6\n",
      "[LightGBM] [Debug] Trained a tree with leaves = 31 and depth = 6\n"
     ]
    },
    {
     "name": "stdout",
     "output_type": "stream",
     "text": [
      "[LightGBM] [Debug] Trained a tree with leaves = 31 and depth = 6\n",
      "[LightGBM] [Debug] Trained a tree with leaves = 31 and depth = 6\n",
      "[LightGBM] [Warning] No further splits with positive gain, best gain: -inf\n",
      "[LightGBM] [Debug] Trained a tree with leaves = 30 and depth = 6\n",
      "[LightGBM] [Debug] Trained a tree with leaves = 31 and depth = 6\n",
      "[LightGBM] [Debug] Trained a tree with leaves = 31 and depth = 6\n",
      "[LightGBM] [Debug] Trained a tree with leaves = 31 and depth = 6\n",
      "[LightGBM] [Debug] Trained a tree with leaves = 31 and depth = 6\n",
      "[LightGBM] [Warning] No further splits with positive gain, best gain: -inf\n",
      "[LightGBM] [Debug] Trained a tree with leaves = 22 and depth = 6\n",
      "[LightGBM] [Debug] Trained a tree with leaves = 31 and depth = 6\n",
      "[LightGBM] [Debug] Trained a tree with leaves = 31 and depth = 6\n",
      "[LightGBM] [Debug] Trained a tree with leaves = 31 and depth = 6\n",
      "[LightGBM] [Debug] Trained a tree with leaves = 31 and depth = 6\n",
      "[LightGBM] [Debug] Trained a tree with leaves = 31 and depth = 6\n",
      "[LightGBM] [Debug] Trained a tree with leaves = 31 and depth = 6\n",
      "[LightGBM] [Debug] Trained a tree with leaves = 31 and depth = 6\n",
      "[LightGBM] [Debug] Trained a tree with leaves = 31 and depth = 6\n",
      "[LightGBM] [Debug] Trained a tree with leaves = 31 and depth = 6\n",
      "[LightGBM] [Debug] Trained a tree with leaves = 31 and depth = 6\n",
      "[LightGBM] [Debug] Trained a tree with leaves = 31 and depth = 6\n",
      "[LightGBM] [Debug] Trained a tree with leaves = 31 and depth = 6\n",
      "[LightGBM] [Debug] Trained a tree with leaves = 31 and depth = 6\n",
      "[LightGBM] [Debug] Trained a tree with leaves = 31 and depth = 6\n",
      "[LightGBM] [Warning] Accuracy may be bad since you didn't explicitly set num_leaves OR 2^max_depth > num_leaves. (num_leaves=31).\n",
      "[LightGBM] [Warning] Accuracy may be bad since you didn't explicitly set num_leaves OR 2^max_depth > num_leaves. (num_leaves=31).\n",
      "[LightGBM] [Debug] Dataset::GetMultiBinFromSparseFeatures: sparse rate 0.760539\n",
      "[LightGBM] [Debug] Dataset::GetMultiBinFromAllFeatures: sparse rate 0.180382\n",
      "[LightGBM] [Debug] init for col-wise cost 0.091692 seconds, init for row-wise cost 0.004203 seconds\n",
      "[LightGBM] [Warning] Auto-choosing row-wise multi-threading, the overhead of testing was 0.093403 seconds.\n",
      "You can set `force_row_wise=true` to remove the overhead.\n",
      "And if memory is not enough, you can set `force_col_wise=true`.\n",
      "[LightGBM] [Debug] Using Dense Multi-Val Bin\n",
      "[LightGBM] [Info] Total Bins 583\n",
      "[LightGBM] [Info] Number of data points in the train set: 195777, number of used features: 9\n",
      "[LightGBM] [Info] Start training from score 4627.612855\n",
      "[LightGBM] [Debug] Trained a tree with leaves = 31 and depth = 6\n",
      "[LightGBM] [Debug] Trained a tree with leaves = 31 and depth = 6\n",
      "[LightGBM] [Debug] Trained a tree with leaves = 31 and depth = 6\n",
      "[LightGBM] [Debug] Trained a tree with leaves = 31 and depth = 6\n",
      "[LightGBM] [Debug] Trained a tree with leaves = 31 and depth = 6\n",
      "[LightGBM] [Debug] Trained a tree with leaves = 31 and depth = 6\n",
      "[LightGBM] [Debug] Trained a tree with leaves = 31 and depth = 6\n",
      "[LightGBM] [Debug] Trained a tree with leaves = 31 and depth = 6\n",
      "[LightGBM] [Debug] Trained a tree with leaves = 31 and depth = 6\n",
      "[LightGBM] [Debug] Trained a tree with leaves = 31 and depth = 6\n",
      "[LightGBM] [Debug] Trained a tree with leaves = 31 and depth = 6\n",
      "[LightGBM] [Debug] Trained a tree with leaves = 31 and depth = 6\n",
      "[LightGBM] [Debug] Trained a tree with leaves = 31 and depth = 6\n",
      "[LightGBM] [Debug] Trained a tree with leaves = 31 and depth = 6\n",
      "[LightGBM] [Debug] Trained a tree with leaves = 31 and depth = 6\n",
      "[LightGBM] [Debug] Trained a tree with leaves = 31 and depth = 6\n",
      "[LightGBM] [Debug] Trained a tree with leaves = 31 and depth = 6\n",
      "[LightGBM] [Debug] Trained a tree with leaves = 31 and depth = 6\n",
      "[LightGBM] [Debug] Trained a tree with leaves = 31 and depth = 6\n",
      "[LightGBM] [Debug] Trained a tree with leaves = 31 and depth = 6\n",
      "[LightGBM] [Debug] Trained a tree with leaves = 31 and depth = 6\n",
      "[LightGBM] [Debug] Trained a tree with leaves = 31 and depth = 6\n",
      "[LightGBM] [Debug] Trained a tree with leaves = 31 and depth = 6\n",
      "[LightGBM] [Debug] Trained a tree with leaves = 31 and depth = 6\n",
      "[LightGBM] [Debug] Trained a tree with leaves = 31 and depth = 6\n",
      "[LightGBM] [Debug] Trained a tree with leaves = 31 and depth = 6\n",
      "[LightGBM] [Debug] Trained a tree with leaves = 31 and depth = 6\n",
      "[LightGBM] [Debug] Trained a tree with leaves = 31 and depth = 6\n",
      "[LightGBM] [Debug] Trained a tree with leaves = 31 and depth = 6\n",
      "[LightGBM] [Debug] Trained a tree with leaves = 31 and depth = 6\n",
      "[LightGBM] [Debug] Trained a tree with leaves = 31 and depth = 6\n",
      "[LightGBM] [Debug] Trained a tree with leaves = 31 and depth = 6\n",
      "[LightGBM] [Debug] Trained a tree with leaves = 31 and depth = 6\n",
      "[LightGBM] [Debug] Trained a tree with leaves = 31 and depth = 6\n",
      "[LightGBM] [Debug] Trained a tree with leaves = 31 and depth = 6\n",
      "[LightGBM] [Debug] Trained a tree with leaves = 31 and depth = 6\n",
      "[LightGBM] [Debug] Trained a tree with leaves = 31 and depth = 6\n",
      "[LightGBM] [Debug] Trained a tree with leaves = 31 and depth = 6\n",
      "[LightGBM] [Debug] Trained a tree with leaves = 31 and depth = 6\n",
      "[LightGBM] [Debug] Trained a tree with leaves = 31 and depth = 6\n",
      "[LightGBM] [Debug] Trained a tree with leaves = 31 and depth = 6\n",
      "[LightGBM] [Debug] Trained a tree with leaves = 31 and depth = 6\n",
      "[LightGBM] [Debug] Trained a tree with leaves = 31 and depth = 6\n",
      "[LightGBM] [Debug] Trained a tree with leaves = 31 and depth = 6\n",
      "[LightGBM] [Debug] Trained a tree with leaves = 31 and depth = 6\n",
      "[LightGBM] [Debug] Trained a tree with leaves = 31 and depth = 6\n",
      "[LightGBM] [Debug] Trained a tree with leaves = 31 and depth = 6\n",
      "[LightGBM] [Debug] Trained a tree with leaves = 31 and depth = 6\n",
      "[LightGBM] [Debug] Trained a tree with leaves = 31 and depth = 6\n",
      "[LightGBM] [Debug] Trained a tree with leaves = 31 and depth = 6\n",
      "[LightGBM] [Debug] Trained a tree with leaves = 31 and depth = 6\n",
      "[LightGBM] [Debug] Trained a tree with leaves = 31 and depth = 6\n",
      "[LightGBM] [Debug] Trained a tree with leaves = 31 and depth = 6\n",
      "[LightGBM] [Debug] Trained a tree with leaves = 31 and depth = 6\n",
      "[LightGBM] [Debug] Trained a tree with leaves = 31 and depth = 6\n",
      "[LightGBM] [Debug] Trained a tree with leaves = 31 and depth = 6\n",
      "[LightGBM] [Debug] Trained a tree with leaves = 31 and depth = 6\n",
      "[LightGBM] [Debug] Trained a tree with leaves = 31 and depth = 6\n",
      "[LightGBM] [Debug] Trained a tree with leaves = 31 and depth = 6\n",
      "[LightGBM] [Debug] Trained a tree with leaves = 31 and depth = 6\n",
      "[LightGBM] [Debug] Trained a tree with leaves = 31 and depth = 6\n",
      "[LightGBM] [Debug] Trained a tree with leaves = 31 and depth = 6\n",
      "[LightGBM] [Debug] Trained a tree with leaves = 31 and depth = 6\n",
      "[LightGBM] [Debug] Trained a tree with leaves = 31 and depth = 6\n",
      "[LightGBM] [Debug] Trained a tree with leaves = 31 and depth = 6\n",
      "[LightGBM] [Debug] Trained a tree with leaves = 31 and depth = 6\n",
      "[LightGBM] [Debug] Trained a tree with leaves = 31 and depth = 6\n",
      "[LightGBM] [Debug] Trained a tree with leaves = 31 and depth = 6\n",
      "[LightGBM] [Debug] Trained a tree with leaves = 31 and depth = 6\n",
      "[LightGBM] [Debug] Trained a tree with leaves = 31 and depth = 6\n",
      "[LightGBM] [Debug] Trained a tree with leaves = 31 and depth = 6\n",
      "[LightGBM] [Debug] Trained a tree with leaves = 31 and depth = 6\n",
      "[LightGBM] [Debug] Trained a tree with leaves = 31 and depth = 6\n",
      "[LightGBM] [Debug] Trained a tree with leaves = 31 and depth = 6\n",
      "[LightGBM] [Debug] Trained a tree with leaves = 31 and depth = 6\n",
      "[LightGBM] [Debug] Trained a tree with leaves = 31 and depth = 6\n",
      "[LightGBM] [Debug] Trained a tree with leaves = 31 and depth = 6\n",
      "[LightGBM] [Debug] Trained a tree with leaves = 31 and depth = 6\n",
      "[LightGBM] [Debug] Trained a tree with leaves = 31 and depth = 6\n",
      "[LightGBM] [Debug] Trained a tree with leaves = 31 and depth = 6\n",
      "[LightGBM] [Debug] Trained a tree with leaves = 31 and depth = 6\n",
      "[LightGBM] [Debug] Trained a tree with leaves = 31 and depth = 6\n",
      "[LightGBM] [Debug] Trained a tree with leaves = 31 and depth = 6\n",
      "[LightGBM] [Debug] Trained a tree with leaves = 31 and depth = 6\n",
      "[LightGBM] [Debug] Trained a tree with leaves = 31 and depth = 6\n",
      "[LightGBM] [Debug] Trained a tree with leaves = 31 and depth = 6\n",
      "[LightGBM] [Debug] Trained a tree with leaves = 31 and depth = 6\n",
      "[LightGBM] [Debug] Trained a tree with leaves = 31 and depth = 6\n",
      "[LightGBM] [Debug] Trained a tree with leaves = 31 and depth = 6\n"
     ]
    },
    {
     "name": "stdout",
     "output_type": "stream",
     "text": [
      "[LightGBM] [Debug] Trained a tree with leaves = 31 and depth = 6\n",
      "[LightGBM] [Debug] Trained a tree with leaves = 31 and depth = 6\n",
      "[LightGBM] [Debug] Trained a tree with leaves = 31 and depth = 6\n",
      "[LightGBM] [Debug] Trained a tree with leaves = 31 and depth = 6\n",
      "[LightGBM] [Debug] Trained a tree with leaves = 31 and depth = 6\n",
      "[LightGBM] [Debug] Trained a tree with leaves = 31 and depth = 6\n",
      "[LightGBM] [Debug] Trained a tree with leaves = 31 and depth = 6\n",
      "[LightGBM] [Debug] Trained a tree with leaves = 31 and depth = 6\n",
      "[LightGBM] [Debug] Trained a tree with leaves = 31 and depth = 6\n",
      "[LightGBM] [Debug] Trained a tree with leaves = 31 and depth = 6\n",
      "[LightGBM] [Debug] Trained a tree with leaves = 31 and depth = 6\n",
      "[LightGBM] [Debug] Trained a tree with leaves = 31 and depth = 6\n",
      "[LightGBM] [Debug] Trained a tree with leaves = 31 and depth = 6\n",
      "[LightGBM] [Debug] Trained a tree with leaves = 31 and depth = 6\n",
      "[LightGBM] [Debug] Trained a tree with leaves = 31 and depth = 6\n",
      "[LightGBM] [Debug] Trained a tree with leaves = 31 and depth = 6\n",
      "[LightGBM] [Debug] Trained a tree with leaves = 31 and depth = 6\n",
      "[LightGBM] [Debug] Trained a tree with leaves = 31 and depth = 6\n",
      "[LightGBM] [Debug] Trained a tree with leaves = 31 and depth = 6\n",
      "[LightGBM] [Debug] Trained a tree with leaves = 31 and depth = 6\n",
      "[LightGBM] [Debug] Trained a tree with leaves = 31 and depth = 6\n",
      "[LightGBM] [Debug] Trained a tree with leaves = 31 and depth = 6\n",
      "[LightGBM] [Debug] Trained a tree with leaves = 31 and depth = 6\n",
      "[LightGBM] [Debug] Trained a tree with leaves = 31 and depth = 6\n",
      "[LightGBM] [Debug] Trained a tree with leaves = 31 and depth = 6\n",
      "[LightGBM] [Debug] Trained a tree with leaves = 31 and depth = 6\n",
      "[LightGBM] [Debug] Trained a tree with leaves = 31 and depth = 6\n",
      "[LightGBM] [Debug] Trained a tree with leaves = 31 and depth = 6\n",
      "[LightGBM] [Debug] Trained a tree with leaves = 31 and depth = 6\n",
      "[LightGBM] [Debug] Trained a tree with leaves = 31 and depth = 6\n",
      "[LightGBM] [Debug] Trained a tree with leaves = 31 and depth = 6\n",
      "[LightGBM] [Debug] Trained a tree with leaves = 31 and depth = 6\n",
      "[LightGBM] [Debug] Trained a tree with leaves = 31 and depth = 6\n",
      "[LightGBM] [Debug] Trained a tree with leaves = 31 and depth = 6\n",
      "[LightGBM] [Debug] Trained a tree with leaves = 31 and depth = 6\n",
      "[LightGBM] [Debug] Trained a tree with leaves = 31 and depth = 6\n",
      "[LightGBM] [Debug] Trained a tree with leaves = 31 and depth = 6\n",
      "[LightGBM] [Warning] No further splits with positive gain, best gain: -inf\n",
      "[LightGBM] [Debug] Trained a tree with leaves = 28 and depth = 6\n",
      "[LightGBM] [Debug] Trained a tree with leaves = 31 and depth = 6\n",
      "[LightGBM] [Debug] Trained a tree with leaves = 31 and depth = 6\n",
      "[LightGBM] [Debug] Trained a tree with leaves = 31 and depth = 6\n",
      "[LightGBM] [Debug] Trained a tree with leaves = 31 and depth = 6\n",
      "[LightGBM] [Debug] Trained a tree with leaves = 31 and depth = 6\n",
      "[LightGBM] [Debug] Trained a tree with leaves = 31 and depth = 6\n",
      "[LightGBM] [Debug] Trained a tree with leaves = 31 and depth = 6\n",
      "[LightGBM] [Debug] Trained a tree with leaves = 31 and depth = 6\n",
      "[LightGBM] [Debug] Trained a tree with leaves = 31 and depth = 6\n",
      "[LightGBM] [Debug] Trained a tree with leaves = 31 and depth = 6\n",
      "[LightGBM] [Debug] Trained a tree with leaves = 31 and depth = 6\n",
      "[LightGBM] [Warning] No further splits with positive gain, best gain: -inf\n",
      "[LightGBM] [Debug] Trained a tree with leaves = 29 and depth = 6\n",
      "[LightGBM] [Debug] Trained a tree with leaves = 31 and depth = 6\n",
      "[LightGBM] [Debug] Trained a tree with leaves = 31 and depth = 6\n",
      "[LightGBM] [Debug] Trained a tree with leaves = 31 and depth = 6\n",
      "[LightGBM] [Debug] Trained a tree with leaves = 31 and depth = 6\n",
      "[LightGBM] [Debug] Trained a tree with leaves = 31 and depth = 6\n",
      "[LightGBM] [Debug] Trained a tree with leaves = 31 and depth = 6\n",
      "[LightGBM] [Debug] Trained a tree with leaves = 31 and depth = 6\n",
      "[LightGBM] [Warning] No further splits with positive gain, best gain: -inf\n",
      "[LightGBM] [Debug] Trained a tree with leaves = 24 and depth = 6\n",
      "[LightGBM] [Debug] Trained a tree with leaves = 31 and depth = 6\n",
      "[LightGBM] [Debug] Trained a tree with leaves = 31 and depth = 6\n",
      "[LightGBM] [Debug] Trained a tree with leaves = 31 and depth = 6\n",
      "[LightGBM] [Debug] Trained a tree with leaves = 31 and depth = 6\n",
      "[LightGBM] [Debug] Trained a tree with leaves = 31 and depth = 6\n",
      "[LightGBM] [Debug] Trained a tree with leaves = 31 and depth = 6\n",
      "[LightGBM] [Debug] Trained a tree with leaves = 31 and depth = 6\n",
      "[LightGBM] [Debug] Trained a tree with leaves = 31 and depth = 6\n",
      "[LightGBM] [Warning] No further splits with positive gain, best gain: -inf\n",
      "[LightGBM] [Debug] Trained a tree with leaves = 25 and depth = 6\n",
      "[LightGBM] [Debug] Trained a tree with leaves = 31 and depth = 6\n",
      "[LightGBM] [Debug] Trained a tree with leaves = 31 and depth = 6\n",
      "[LightGBM] [Debug] Trained a tree with leaves = 31 and depth = 6\n",
      "[LightGBM] [Debug] Trained a tree with leaves = 31 and depth = 6\n",
      "[LightGBM] [Debug] Trained a tree with leaves = 31 and depth = 6\n",
      "[LightGBM] [Debug] Trained a tree with leaves = 31 and depth = 6\n",
      "[LightGBM] [Debug] Trained a tree with leaves = 31 and depth = 6\n",
      "[LightGBM] [Debug] Trained a tree with leaves = 31 and depth = 6\n",
      "[LightGBM] [Debug] Trained a tree with leaves = 31 and depth = 6\n",
      "[LightGBM] [Debug] Trained a tree with leaves = 31 and depth = 6\n",
      "[LightGBM] [Debug] Trained a tree with leaves = 31 and depth = 6\n",
      "[LightGBM] [Debug] Trained a tree with leaves = 31 and depth = 6\n",
      "[LightGBM] [Debug] Trained a tree with leaves = 31 and depth = 6\n",
      "[LightGBM] [Debug] Trained a tree with leaves = 31 and depth = 6\n",
      "[LightGBM] [Debug] Trained a tree with leaves = 31 and depth = 6\n",
      "[LightGBM] [Debug] Trained a tree with leaves = 31 and depth = 6\n",
      "[LightGBM] [Debug] Trained a tree with leaves = 31 and depth = 6\n",
      "[LightGBM] [Debug] Trained a tree with leaves = 31 and depth = 6\n",
      "[LightGBM] [Warning] No further splits with positive gain, best gain: -inf\n",
      "[LightGBM] [Debug] Trained a tree with leaves = 21 and depth = 6\n",
      "[LightGBM] [Debug] Trained a tree with leaves = 31 and depth = 6\n",
      "[LightGBM] [Debug] Trained a tree with leaves = 31 and depth = 6\n",
      "[LightGBM] [Debug] Trained a tree with leaves = 31 and depth = 6\n",
      "[LightGBM] [Debug] Trained a tree with leaves = 31 and depth = 6\n",
      "[LightGBM] [Debug] Trained a tree with leaves = 31 and depth = 6\n",
      "[LightGBM] [Debug] Trained a tree with leaves = 31 and depth = 6\n",
      "[LightGBM] [Debug] Trained a tree with leaves = 31 and depth = 6\n",
      "[LightGBM] [Debug] Trained a tree with leaves = 31 and depth = 6\n",
      "[LightGBM] [Debug] Trained a tree with leaves = 31 and depth = 6\n",
      "[LightGBM] [Debug] Trained a tree with leaves = 31 and depth = 6\n",
      "[LightGBM] [Debug] Trained a tree with leaves = 31 and depth = 6\n",
      "[LightGBM] [Debug] Trained a tree with leaves = 31 and depth = 6\n",
      "[LightGBM] [Debug] Trained a tree with leaves = 31 and depth = 6\n",
      "[LightGBM] [Debug] Trained a tree with leaves = 31 and depth = 6\n",
      "[LightGBM] [Debug] Trained a tree with leaves = 31 and depth = 6\n",
      "[LightGBM] [Debug] Trained a tree with leaves = 31 and depth = 6\n",
      "[LightGBM] [Debug] Trained a tree with leaves = 31 and depth = 6\n",
      "[LightGBM] [Debug] Trained a tree with leaves = 31 and depth = 6\n",
      "[LightGBM] [Debug] Trained a tree with leaves = 31 and depth = 6\n",
      "[LightGBM] [Warning] No further splits with positive gain, best gain: -inf\n",
      "[LightGBM] [Debug] Trained a tree with leaves = 21 and depth = 6\n",
      "[LightGBM] [Debug] Trained a tree with leaves = 31 and depth = 6\n",
      "[LightGBM] [Debug] Trained a tree with leaves = 31 and depth = 6\n",
      "[LightGBM] [Debug] Trained a tree with leaves = 31 and depth = 6\n",
      "[LightGBM] [Debug] Trained a tree with leaves = 31 and depth = 6\n",
      "[LightGBM] [Debug] Trained a tree with leaves = 31 and depth = 6\n",
      "[LightGBM] [Debug] Trained a tree with leaves = 31 and depth = 6\n",
      "[LightGBM] [Warning] No further splits with positive gain, best gain: -inf\n",
      "[LightGBM] [Debug] Trained a tree with leaves = 27 and depth = 6\n",
      "[LightGBM] [Debug] Trained a tree with leaves = 31 and depth = 6\n",
      "[LightGBM] [Debug] Trained a tree with leaves = 31 and depth = 6\n",
      "[LightGBM] [Debug] Trained a tree with leaves = 31 and depth = 6\n",
      "[LightGBM] [Debug] Trained a tree with leaves = 31 and depth = 6\n",
      "[LightGBM] [Debug] Trained a tree with leaves = 31 and depth = 6\n",
      "[LightGBM] [Debug] Trained a tree with leaves = 31 and depth = 6\n",
      "[LightGBM] [Debug] Trained a tree with leaves = 31 and depth = 6\n",
      "[LightGBM] [Debug] Trained a tree with leaves = 31 and depth = 6\n",
      "[LightGBM] [Debug] Trained a tree with leaves = 31 and depth = 6\n"
     ]
    },
    {
     "name": "stdout",
     "output_type": "stream",
     "text": [
      "[LightGBM] [Debug] Trained a tree with leaves = 31 and depth = 6\n",
      "[LightGBM] [Debug] Trained a tree with leaves = 31 and depth = 6\n",
      "[LightGBM] [Debug] Trained a tree with leaves = 31 and depth = 6\n",
      "[LightGBM] [Debug] Trained a tree with leaves = 31 and depth = 6\n",
      "[LightGBM] [Debug] Trained a tree with leaves = 31 and depth = 6\n",
      "[LightGBM] [Debug] Trained a tree with leaves = 31 and depth = 6\n",
      "[LightGBM] [Debug] Trained a tree with leaves = 31 and depth = 6\n",
      "[LightGBM] [Debug] Trained a tree with leaves = 31 and depth = 6\n",
      "[LightGBM] [Debug] Trained a tree with leaves = 31 and depth = 6\n",
      "[LightGBM] [Debug] Trained a tree with leaves = 31 and depth = 6\n",
      "[LightGBM] [Debug] Trained a tree with leaves = 31 and depth = 6\n",
      "[LightGBM] [Debug] Trained a tree with leaves = 31 and depth = 6\n",
      "[LightGBM] [Debug] Trained a tree with leaves = 31 and depth = 6\n",
      "[LightGBM] [Debug] Trained a tree with leaves = 31 and depth = 6\n",
      "[LightGBM] [Debug] Trained a tree with leaves = 31 and depth = 6\n",
      "[LightGBM] [Debug] Trained a tree with leaves = 31 and depth = 6\n",
      "[LightGBM] [Debug] Trained a tree with leaves = 31 and depth = 6\n",
      "[LightGBM] [Debug] Trained a tree with leaves = 31 and depth = 6\n",
      "[LightGBM] [Debug] Trained a tree with leaves = 31 and depth = 6\n",
      "[LightGBM] [Warning] No further splits with positive gain, best gain: -inf\n",
      "[LightGBM] [Debug] Trained a tree with leaves = 30 and depth = 6\n",
      "[LightGBM] [Debug] Trained a tree with leaves = 31 and depth = 6\n",
      "[LightGBM] [Debug] Trained a tree with leaves = 31 and depth = 6\n",
      "[LightGBM] [Debug] Trained a tree with leaves = 31 and depth = 6\n",
      "[LightGBM] [Debug] Trained a tree with leaves = 31 and depth = 6\n",
      "[LightGBM] [Warning] No further splits with positive gain, best gain: -inf\n",
      "[LightGBM] [Debug] Trained a tree with leaves = 22 and depth = 6\n",
      "[LightGBM] [Debug] Trained a tree with leaves = 31 and depth = 6\n",
      "[LightGBM] [Debug] Trained a tree with leaves = 31 and depth = 6\n",
      "[LightGBM] [Debug] Trained a tree with leaves = 31 and depth = 6\n",
      "[LightGBM] [Debug] Trained a tree with leaves = 31 and depth = 6\n",
      "[LightGBM] [Debug] Trained a tree with leaves = 31 and depth = 6\n",
      "[LightGBM] [Debug] Trained a tree with leaves = 31 and depth = 6\n",
      "[LightGBM] [Debug] Trained a tree with leaves = 31 and depth = 6\n",
      "[LightGBM] [Debug] Trained a tree with leaves = 31 and depth = 6\n",
      "[LightGBM] [Debug] Trained a tree with leaves = 31 and depth = 6\n",
      "[LightGBM] [Debug] Trained a tree with leaves = 31 and depth = 6\n",
      "[LightGBM] [Debug] Trained a tree with leaves = 31 and depth = 6\n",
      "[LightGBM] [Debug] Trained a tree with leaves = 31 and depth = 6\n",
      "[LightGBM] [Debug] Trained a tree with leaves = 31 and depth = 6\n",
      "[LightGBM] [Debug] Trained a tree with leaves = 31 and depth = 6\n",
      "[LightGBM] [Debug] Trained a tree with leaves = 31 and depth = 6\n",
      "[LightGBM] [Warning] No further splits with positive gain, best gain: -inf\n",
      "[LightGBM] [Debug] Trained a tree with leaves = 29 and depth = 6\n",
      "[LightGBM] [Debug] Trained a tree with leaves = 31 and depth = 6\n",
      "[LightGBM] [Debug] Trained a tree with leaves = 31 and depth = 6\n",
      "[LightGBM] [Warning] No further splits with positive gain, best gain: -inf\n",
      "[LightGBM] [Debug] Trained a tree with leaves = 23 and depth = 6\n",
      "[LightGBM] [Debug] Trained a tree with leaves = 31 and depth = 6\n",
      "[LightGBM] [Debug] Trained a tree with leaves = 31 and depth = 6\n",
      "[LightGBM] [Debug] Trained a tree with leaves = 31 and depth = 6\n",
      "[LightGBM] [Debug] Trained a tree with leaves = 31 and depth = 6\n",
      "[LightGBM] [Debug] Trained a tree with leaves = 31 and depth = 6\n",
      "[LightGBM] [Warning] No further splits with positive gain, best gain: -inf\n",
      "[LightGBM] [Debug] Trained a tree with leaves = 15 and depth = 6\n",
      "[LightGBM] [Debug] Trained a tree with leaves = 31 and depth = 6\n",
      "[LightGBM] [Debug] Trained a tree with leaves = 31 and depth = 6\n",
      "[LightGBM] [Debug] Trained a tree with leaves = 31 and depth = 6\n",
      "[LightGBM] [Debug] Trained a tree with leaves = 31 and depth = 6\n",
      "[LightGBM] [Debug] Trained a tree with leaves = 31 and depth = 6\n",
      "[LightGBM] [Debug] Trained a tree with leaves = 31 and depth = 6\n",
      "[LightGBM] [Warning] No further splits with positive gain, best gain: -inf\n",
      "[LightGBM] [Debug] Trained a tree with leaves = 30 and depth = 6\n",
      "[LightGBM] [Debug] Trained a tree with leaves = 31 and depth = 6\n",
      "[LightGBM] [Debug] Trained a tree with leaves = 31 and depth = 6\n",
      "[LightGBM] [Debug] Trained a tree with leaves = 31 and depth = 6\n",
      "[LightGBM] [Debug] Trained a tree with leaves = 31 and depth = 6\n",
      "[LightGBM] [Debug] Trained a tree with leaves = 31 and depth = 6\n",
      "[LightGBM] [Debug] Trained a tree with leaves = 31 and depth = 6\n",
      "[LightGBM] [Debug] Trained a tree with leaves = 31 and depth = 6\n",
      "[LightGBM] [Debug] Trained a tree with leaves = 31 and depth = 6\n",
      "[LightGBM] [Debug] Trained a tree with leaves = 31 and depth = 6\n",
      "[LightGBM] [Debug] Trained a tree with leaves = 31 and depth = 6\n",
      "[LightGBM] [Debug] Trained a tree with leaves = 31 and depth = 6\n",
      "[LightGBM] [Debug] Trained a tree with leaves = 31 and depth = 6\n",
      "[LightGBM] [Warning] No further splits with positive gain, best gain: -inf\n",
      "[LightGBM] [Debug] Trained a tree with leaves = 15 and depth = 6\n",
      "[LightGBM] [Debug] Trained a tree with leaves = 31 and depth = 6\n",
      "[LightGBM] [Debug] Trained a tree with leaves = 31 and depth = 6\n",
      "[LightGBM] [Debug] Trained a tree with leaves = 31 and depth = 6\n",
      "[LightGBM] [Debug] Trained a tree with leaves = 31 and depth = 6\n",
      "[LightGBM] [Debug] Trained a tree with leaves = 31 and depth = 6\n",
      "[LightGBM] [Debug] Trained a tree with leaves = 31 and depth = 6\n",
      "[LightGBM] [Debug] Trained a tree with leaves = 31 and depth = 6\n",
      "[LightGBM] [Debug] Trained a tree with leaves = 31 and depth = 6\n",
      "[LightGBM] [Debug] Trained a tree with leaves = 31 and depth = 6\n",
      "[LightGBM] [Debug] Trained a tree with leaves = 31 and depth = 6\n",
      "[LightGBM] [Debug] Trained a tree with leaves = 31 and depth = 6\n",
      "[LightGBM] [Debug] Trained a tree with leaves = 31 and depth = 6\n",
      "[LightGBM] [Debug] Trained a tree with leaves = 31 and depth = 6\n",
      "[LightGBM] [Debug] Trained a tree with leaves = 31 and depth = 6\n",
      "[LightGBM] [Debug] Trained a tree with leaves = 31 and depth = 6\n",
      "[LightGBM] [Debug] Trained a tree with leaves = 31 and depth = 6\n",
      "[LightGBM] [Debug] Trained a tree with leaves = 31 and depth = 6\n",
      "[LightGBM] [Debug] Trained a tree with leaves = 31 and depth = 6\n",
      "[LightGBM] [Debug] Trained a tree with leaves = 31 and depth = 6\n"
     ]
    }
   ],
   "source": [
    "model_gb = None\n",
    "rmse_gb = 10000\n",
    "time_fit_gb = 0\n",
    "time_pred_gb = 0\n",
    "for depth in range(4, 7):\n",
    "    for est in range(100,301,50):\n",
    "        model = LGBMRegressor(random_state=12345, max_depth=depth, n_estimators=est, n_jobs=-1, verbose=10)\n",
    "        start = time.time()\n",
    "        model.fit(features_train,target_train)\n",
    "        time_fit_gb_temp = time.time() - start\n",
    "        start = time.time()\n",
    "        predicted_validate = model.predict(features_validate)\n",
    "        time_pred_gb_temp = time.time() - start\n",
    "        rmse = mean_squared_error(target_validate, predicted_validate, squared=False)\n",
    "        if rmse < rmse_gb:\n",
    "            model_gb = model\n",
    "            rmse_gb = rmse\n",
    "            time_fit_gb = time_fit_gb_temp\n",
    "            time_pred_gb = time_pred_gb_temp"
   ]
  },
  {
   "cell_type": "code",
   "execution_count": 40,
   "metadata": {
    "scrolled": true
   },
   "outputs": [
    {
     "name": "stdout",
     "output_type": "stream",
     "text": [
      "Для градиентного бустинга\n",
      "с максимальной глубиной\t\t\t 6\n",
      "и количеством итераций (estimators)\t 300\n",
      "RMSE = \t\t\t\t\t 1656.3\n",
      "Время на обучение \t\t\t 12.692 секунд\n",
      "Время на предсказание\t\t\t 1.3128 секунд\n"
     ]
    }
   ],
   "source": [
    "print('Для градиентного бустинга\\nс максимальной глубиной\\t\\t\\t', model_gb.max_depth)\n",
    "print('и количеством итераций (estimators)\\t', model_gb.n_estimators)\n",
    "print('RMSE = \\t\\t\\t\\t\\t {:.5}'.format(rmse_gb))\n",
    "print('Время на обучение \\t\\t\\t {:.5} секунд'.format(time_fit_gb))\n",
    "print('Время на предсказание\\t\\t\\t {:.5} секунд'.format(time_pred_gb))"
   ]
  },
  {
   "cell_type": "markdown",
   "metadata": {},
   "source": [
    "### Обучение и оценка качества модели случайного леса"
   ]
  },
  {
   "cell_type": "markdown",
   "metadata": {},
   "source": [
    "Обучим модель случайного леса, перебирая максимальную глубину деревьев и количество деревьев. "
   ]
  },
  {
   "cell_type": "code",
   "execution_count": 41,
   "metadata": {
    "scrolled": true
   },
   "outputs": [
    {
     "name": "stdout",
     "output_type": "stream",
     "text": [
      "building tree 1 of 100\n",
      "building tree 2 of 100\n",
      "building tree 3 of 100\n",
      "building tree 4 of 100\n"
     ]
    },
    {
     "name": "stderr",
     "output_type": "stream",
     "text": [
      "[Parallel(n_jobs=-1)]: Using backend SequentialBackend with 1 concurrent workers.\n",
      "[Parallel(n_jobs=-1)]: Done   1 out of   1 | elapsed:    0.1s remaining:    0.0s\n",
      "[Parallel(n_jobs=-1)]: Done   2 out of   2 | elapsed:    0.1s remaining:    0.0s\n",
      "[Parallel(n_jobs=-1)]: Done   3 out of   3 | elapsed:    0.1s remaining:    0.0s\n",
      "[Parallel(n_jobs=-1)]: Done   4 out of   4 | elapsed:    0.2s remaining:    0.0s\n"
     ]
    },
    {
     "name": "stdout",
     "output_type": "stream",
     "text": [
      "building tree 5 of 100\n",
      "building tree 6 of 100\n",
      "building tree 7 of 100\n",
      "building tree 8 of 100\n",
      "building tree 9 of 100\n"
     ]
    },
    {
     "name": "stderr",
     "output_type": "stream",
     "text": [
      "[Parallel(n_jobs=-1)]: Done   5 out of   5 | elapsed:    0.3s remaining:    0.0s\n",
      "[Parallel(n_jobs=-1)]: Done   6 out of   6 | elapsed:    0.3s remaining:    0.0s\n",
      "[Parallel(n_jobs=-1)]: Done   7 out of   7 | elapsed:    0.3s remaining:    0.0s\n",
      "[Parallel(n_jobs=-1)]: Done   8 out of   8 | elapsed:    0.4s remaining:    0.0s\n",
      "[Parallel(n_jobs=-1)]: Done   9 out of   9 | elapsed:    0.4s remaining:    0.0s\n"
     ]
    },
    {
     "name": "stdout",
     "output_type": "stream",
     "text": [
      "building tree 10 of 100\n",
      "building tree 11 of 100\n",
      "building tree 12 of 100\n",
      "building tree 13 of 100\n",
      "building tree 14 of 100\n",
      "building tree 15 of 100\n",
      "building tree 16 of 100\n",
      "building tree 17 of 100\n",
      "building tree 18 of 100\n",
      "building tree 19 of 100\n",
      "building tree 20 of 100\n",
      "building tree 21 of 100\n",
      "building tree 22 of 100\n",
      "building tree 23 of 100\n",
      "building tree 24 of 100\n",
      "building tree 25 of 100\n",
      "building tree 26 of 100\n",
      "building tree 27 of 100\n",
      "building tree 28 of 100\n",
      "building tree 29 of 100\n",
      "building tree 30 of 100\n",
      "building tree 31 of 100\n",
      "building tree 32 of 100\n",
      "building tree 33 of 100\n",
      "building tree 34 of 100\n",
      "building tree 35 of 100\n",
      "building tree 36 of 100\n",
      "building tree 37 of 100\n",
      "building tree 38 of 100\n",
      "building tree 39 of 100\n",
      "building tree 40 of 100\n",
      "building tree 41 of 100\n",
      "building tree 42 of 100\n",
      "building tree 43 of 100\n",
      "building tree 44 of 100\n",
      "building tree 45 of 100\n",
      "building tree 46 of 100\n",
      "building tree 47 of 100\n",
      "building tree 48 of 100\n",
      "building tree 49 of 100\n",
      "building tree 50 of 100\n",
      "building tree 51 of 100\n",
      "building tree 52 of 100\n",
      "building tree 53 of 100\n",
      "building tree 54 of 100\n",
      "building tree 55 of 100\n",
      "building tree 56 of 100\n",
      "building tree 57 of 100\n",
      "building tree 58 of 100\n",
      "building tree 59 of 100\n",
      "building tree 60 of 100\n",
      "building tree 61 of 100\n",
      "building tree 62 of 100\n",
      "building tree 63 of 100\n",
      "building tree 64 of 100\n",
      "building tree 65 of 100\n",
      "building tree 66 of 100\n",
      "building tree 67 of 100\n",
      "building tree 68 of 100\n",
      "building tree 69 of 100\n",
      "building tree 70 of 100\n",
      "building tree 71 of 100\n",
      "building tree 72 of 100\n",
      "building tree 73 of 100\n",
      "building tree 74 of 100\n",
      "building tree 75 of 100\n",
      "building tree 76 of 100\n",
      "building tree 77 of 100\n",
      "building tree 78 of 100\n",
      "building tree 79 of 100\n",
      "building tree 80 of 100\n",
      "building tree 81 of 100\n",
      "building tree 82 of 100\n",
      "building tree 83 of 100\n",
      "building tree 84 of 100\n",
      "building tree 85 of 100\n",
      "building tree 86 of 100\n",
      "building tree 87 of 100\n",
      "building tree 88 of 100\n",
      "building tree 89 of 100\n",
      "building tree 90 of 100\n",
      "building tree 91 of 100\n",
      "building tree 92 of 100\n",
      "building tree 93 of 100\n",
      "building tree 94 of 100\n",
      "building tree 95 of 100\n",
      "building tree 96 of 100\n",
      "building tree 97 of 100\n",
      "building tree 98 of 100\n",
      "building tree 99 of 100\n",
      "building tree 100 of 100\n"
     ]
    },
    {
     "name": "stderr",
     "output_type": "stream",
     "text": [
      "[Parallel(n_jobs=-1)]: Done 100 out of 100 | elapsed:    4.7s finished\n",
      "[Parallel(n_jobs=1)]: Using backend SequentialBackend with 1 concurrent workers.\n",
      "[Parallel(n_jobs=1)]: Done   1 out of   1 | elapsed:    0.0s remaining:    0.0s\n",
      "[Parallel(n_jobs=1)]: Done   2 out of   2 | elapsed:    0.0s remaining:    0.0s\n",
      "[Parallel(n_jobs=1)]: Done   3 out of   3 | elapsed:    0.0s remaining:    0.0s\n",
      "[Parallel(n_jobs=1)]: Done   4 out of   4 | elapsed:    0.0s remaining:    0.0s\n",
      "[Parallel(n_jobs=1)]: Done   5 out of   5 | elapsed:    0.0s remaining:    0.0s\n",
      "[Parallel(n_jobs=1)]: Done   6 out of   6 | elapsed:    0.0s remaining:    0.0s\n",
      "[Parallel(n_jobs=1)]: Done   7 out of   7 | elapsed:    0.0s remaining:    0.0s\n",
      "[Parallel(n_jobs=1)]: Done   8 out of   8 | elapsed:    0.0s remaining:    0.0s\n",
      "[Parallel(n_jobs=1)]: Done   9 out of   9 | elapsed:    0.0s remaining:    0.0s\n",
      "[Parallel(n_jobs=1)]: Done 100 out of 100 | elapsed:    0.2s finished\n",
      "[Parallel(n_jobs=-1)]: Using backend SequentialBackend with 1 concurrent workers.\n",
      "[Parallel(n_jobs=-1)]: Done   1 out of   1 | elapsed:    0.0s remaining:    0.0s\n",
      "[Parallel(n_jobs=-1)]: Done   2 out of   2 | elapsed:    0.1s remaining:    0.0s\n",
      "[Parallel(n_jobs=-1)]: Done   3 out of   3 | elapsed:    0.1s remaining:    0.0s\n",
      "[Parallel(n_jobs=-1)]: Done   4 out of   4 | elapsed:    0.2s remaining:    0.0s\n"
     ]
    },
    {
     "name": "stdout",
     "output_type": "stream",
     "text": [
      "building tree 1 of 150\n",
      "building tree 2 of 150\n",
      "building tree 3 of 150\n",
      "building tree 4 of 150\n",
      "building tree 5 of 150\n"
     ]
    },
    {
     "name": "stderr",
     "output_type": "stream",
     "text": [
      "[Parallel(n_jobs=-1)]: Done   5 out of   5 | elapsed:    0.2s remaining:    0.0s\n",
      "[Parallel(n_jobs=-1)]: Done   6 out of   6 | elapsed:    0.3s remaining:    0.0s\n",
      "[Parallel(n_jobs=-1)]: Done   7 out of   7 | elapsed:    0.3s remaining:    0.0s\n",
      "[Parallel(n_jobs=-1)]: Done   8 out of   8 | elapsed:    0.4s remaining:    0.0s\n",
      "[Parallel(n_jobs=-1)]: Done   9 out of   9 | elapsed:    0.4s remaining:    0.0s\n"
     ]
    },
    {
     "name": "stdout",
     "output_type": "stream",
     "text": [
      "building tree 6 of 150\n",
      "building tree 7 of 150\n",
      "building tree 8 of 150\n",
      "building tree 9 of 150\n",
      "building tree 10 of 150\n",
      "building tree 11 of 150\n",
      "building tree 12 of 150\n",
      "building tree 13 of 150\n",
      "building tree 14 of 150\n",
      "building tree 15 of 150\n",
      "building tree 16 of 150\n",
      "building tree 17 of 150\n",
      "building tree 18 of 150\n",
      "building tree 19 of 150\n",
      "building tree 20 of 150\n",
      "building tree 21 of 150\n",
      "building tree 22 of 150\n",
      "building tree 23 of 150\n",
      "building tree 24 of 150\n",
      "building tree 25 of 150\n",
      "building tree 26 of 150\n",
      "building tree 27 of 150\n",
      "building tree 28 of 150\n",
      "building tree 29 of 150\n",
      "building tree 30 of 150\n",
      "building tree 31 of 150\n",
      "building tree 32 of 150\n",
      "building tree 33 of 150\n",
      "building tree 34 of 150\n",
      "building tree 35 of 150\n",
      "building tree 36 of 150\n",
      "building tree 37 of 150\n",
      "building tree 38 of 150\n",
      "building tree 39 of 150\n",
      "building tree 40 of 150\n",
      "building tree 41 of 150\n",
      "building tree 42 of 150\n",
      "building tree 43 of 150\n",
      "building tree 44 of 150\n",
      "building tree 45 of 150\n",
      "building tree 46 of 150\n",
      "building tree 47 of 150\n",
      "building tree 48 of 150\n",
      "building tree 49 of 150\n",
      "building tree 50 of 150\n",
      "building tree 51 of 150\n",
      "building tree 52 of 150\n",
      "building tree 53 of 150\n",
      "building tree 54 of 150\n",
      "building tree 55 of 150\n",
      "building tree 56 of 150\n",
      "building tree 57 of 150\n",
      "building tree 58 of 150\n",
      "building tree 59 of 150\n",
      "building tree 60 of 150\n",
      "building tree 61 of 150\n",
      "building tree 62 of 150\n",
      "building tree 63 of 150\n",
      "building tree 64 of 150\n",
      "building tree 65 of 150\n",
      "building tree 66 of 150\n",
      "building tree 67 of 150\n",
      "building tree 68 of 150\n",
      "building tree 69 of 150\n",
      "building tree 70 of 150\n",
      "building tree 71 of 150\n",
      "building tree 72 of 150\n",
      "building tree 73 of 150\n",
      "building tree 74 of 150\n",
      "building tree 75 of 150\n",
      "building tree 76 of 150\n",
      "building tree 77 of 150\n",
      "building tree 78 of 150\n",
      "building tree 79 of 150\n",
      "building tree 80 of 150\n",
      "building tree 81 of 150\n",
      "building tree 82 of 150\n",
      "building tree 83 of 150\n",
      "building tree 84 of 150\n",
      "building tree 85 of 150\n",
      "building tree 86 of 150\n",
      "building tree 87 of 150\n",
      "building tree 88 of 150\n",
      "building tree 89 of 150\n",
      "building tree 90 of 150\n",
      "building tree 91 of 150\n",
      "building tree 92 of 150\n",
      "building tree 93 of 150\n",
      "building tree 94 of 150\n",
      "building tree 95 of 150\n",
      "building tree 96 of 150\n",
      "building tree 97 of 150\n",
      "building tree 98 of 150\n",
      "building tree 99 of 150\n",
      "building tree 100 of 150\n",
      "building tree 101 of 150\n",
      "building tree 102 of 150\n",
      "building tree 103 of 150\n",
      "building tree 104 of 150\n",
      "building tree 105 of 150\n",
      "building tree 106 of 150\n",
      "building tree 107 of 150\n",
      "building tree 108 of 150\n",
      "building tree 109 of 150\n",
      "building tree 110 of 150\n",
      "building tree 111 of 150\n",
      "building tree 112 of 150\n",
      "building tree 113 of 150\n",
      "building tree 114 of 150\n",
      "building tree 115 of 150\n",
      "building tree 116 of 150\n",
      "building tree 117 of 150\n",
      "building tree 118 of 150\n",
      "building tree 119 of 150\n",
      "building tree 120 of 150\n",
      "building tree 121 of 150\n",
      "building tree 122 of 150\n",
      "building tree 123 of 150\n",
      "building tree 124 of 150\n",
      "building tree 125 of 150\n",
      "building tree 126 of 150\n",
      "building tree 127 of 150\n",
      "building tree 128 of 150\n",
      "building tree 129 of 150\n",
      "building tree 130 of 150\n",
      "building tree 131 of 150\n",
      "building tree 132 of 150\n",
      "building tree 133 of 150\n",
      "building tree 134 of 150\n",
      "building tree 135 of 150\n",
      "building tree 136 of 150\n",
      "building tree 137 of 150\n",
      "building tree 138 of 150\n",
      "building tree 139 of 150\n",
      "building tree 140 of 150\n",
      "building tree 141 of 150\n",
      "building tree 142 of 150\n",
      "building tree 143 of 150\n",
      "building tree 144 of 150\n",
      "building tree 145 of 150\n",
      "building tree 146 of 150\n",
      "building tree 147 of 150\n",
      "building tree 148 of 150\n",
      "building tree 149 of 150\n",
      "building tree 150 of 150\n"
     ]
    },
    {
     "name": "stderr",
     "output_type": "stream",
     "text": [
      "[Parallel(n_jobs=-1)]: Done 150 out of 150 | elapsed:    7.2s finished\n",
      "[Parallel(n_jobs=1)]: Using backend SequentialBackend with 1 concurrent workers.\n",
      "[Parallel(n_jobs=1)]: Done   1 out of   1 | elapsed:    0.0s remaining:    0.0s\n",
      "[Parallel(n_jobs=1)]: Done   2 out of   2 | elapsed:    0.0s remaining:    0.0s\n",
      "[Parallel(n_jobs=1)]: Done   3 out of   3 | elapsed:    0.0s remaining:    0.0s\n",
      "[Parallel(n_jobs=1)]: Done   4 out of   4 | elapsed:    0.0s remaining:    0.0s\n",
      "[Parallel(n_jobs=1)]: Done   5 out of   5 | elapsed:    0.0s remaining:    0.0s\n",
      "[Parallel(n_jobs=1)]: Done   6 out of   6 | elapsed:    0.0s remaining:    0.0s\n",
      "[Parallel(n_jobs=1)]: Done   7 out of   7 | elapsed:    0.0s remaining:    0.0s\n",
      "[Parallel(n_jobs=1)]: Done   8 out of   8 | elapsed:    0.0s remaining:    0.0s\n",
      "[Parallel(n_jobs=1)]: Done   9 out of   9 | elapsed:    0.0s remaining:    0.0s\n",
      "[Parallel(n_jobs=1)]: Done 150 out of 150 | elapsed:    0.3s finished\n",
      "[Parallel(n_jobs=-1)]: Using backend SequentialBackend with 1 concurrent workers.\n",
      "[Parallel(n_jobs=-1)]: Done   1 out of   1 | elapsed:    0.0s remaining:    0.0s\n",
      "[Parallel(n_jobs=-1)]: Done   2 out of   2 | elapsed:    0.1s remaining:    0.0s\n"
     ]
    },
    {
     "name": "stdout",
     "output_type": "stream",
     "text": [
      "building tree 1 of 200\n",
      "building tree 2 of 200\n",
      "building tree 3 of 200\n",
      "building tree 4 of 200\n",
      "building tree 5 of 200\n"
     ]
    },
    {
     "name": "stderr",
     "output_type": "stream",
     "text": [
      "[Parallel(n_jobs=-1)]: Done   3 out of   3 | elapsed:    0.1s remaining:    0.0s\n",
      "[Parallel(n_jobs=-1)]: Done   4 out of   4 | elapsed:    0.2s remaining:    0.0s\n",
      "[Parallel(n_jobs=-1)]: Done   5 out of   5 | elapsed:    0.2s remaining:    0.0s\n",
      "[Parallel(n_jobs=-1)]: Done   6 out of   6 | elapsed:    0.3s remaining:    0.0s\n",
      "[Parallel(n_jobs=-1)]: Done   7 out of   7 | elapsed:    0.3s remaining:    0.0s\n"
     ]
    },
    {
     "name": "stdout",
     "output_type": "stream",
     "text": [
      "building tree 6 of 200\n",
      "building tree 7 of 200\n",
      "building tree 8 of 200\n",
      "building tree 9 of 200\n",
      "building tree 10 of 200\n"
     ]
    },
    {
     "name": "stderr",
     "output_type": "stream",
     "text": [
      "[Parallel(n_jobs=-1)]: Done   8 out of   8 | elapsed:    0.4s remaining:    0.0s\n",
      "[Parallel(n_jobs=-1)]: Done   9 out of   9 | elapsed:    0.4s remaining:    0.0s\n"
     ]
    },
    {
     "name": "stdout",
     "output_type": "stream",
     "text": [
      "building tree 11 of 200\n",
      "building tree 12 of 200\n",
      "building tree 13 of 200\n",
      "building tree 14 of 200\n",
      "building tree 15 of 200\n",
      "building tree 16 of 200\n",
      "building tree 17 of 200\n",
      "building tree 18 of 200\n",
      "building tree 19 of 200\n",
      "building tree 20 of 200\n",
      "building tree 21 of 200\n",
      "building tree 22 of 200\n",
      "building tree 23 of 200\n",
      "building tree 24 of 200\n",
      "building tree 25 of 200\n",
      "building tree 26 of 200\n",
      "building tree 27 of 200\n",
      "building tree 28 of 200\n",
      "building tree 29 of 200\n",
      "building tree 30 of 200\n",
      "building tree 31 of 200\n",
      "building tree 32 of 200\n",
      "building tree 33 of 200\n",
      "building tree 34 of 200\n",
      "building tree 35 of 200\n",
      "building tree 36 of 200\n",
      "building tree 37 of 200\n",
      "building tree 38 of 200\n",
      "building tree 39 of 200\n",
      "building tree 40 of 200\n",
      "building tree 41 of 200\n",
      "building tree 42 of 200\n",
      "building tree 43 of 200\n",
      "building tree 44 of 200\n",
      "building tree 45 of 200\n",
      "building tree 46 of 200\n",
      "building tree 47 of 200\n",
      "building tree 48 of 200\n",
      "building tree 49 of 200\n",
      "building tree 50 of 200\n",
      "building tree 51 of 200\n",
      "building tree 52 of 200\n",
      "building tree 53 of 200\n",
      "building tree 54 of 200\n",
      "building tree 55 of 200\n",
      "building tree 56 of 200\n",
      "building tree 57 of 200\n",
      "building tree 58 of 200\n",
      "building tree 59 of 200\n",
      "building tree 60 of 200\n",
      "building tree 61 of 200\n",
      "building tree 62 of 200\n",
      "building tree 63 of 200\n",
      "building tree 64 of 200\n",
      "building tree 65 of 200\n",
      "building tree 66 of 200\n",
      "building tree 67 of 200\n",
      "building tree 68 of 200\n",
      "building tree 69 of 200\n",
      "building tree 70 of 200\n",
      "building tree 71 of 200\n",
      "building tree 72 of 200\n",
      "building tree 73 of 200\n",
      "building tree 74 of 200\n",
      "building tree 75 of 200\n",
      "building tree 76 of 200\n",
      "building tree 77 of 200\n",
      "building tree 78 of 200\n",
      "building tree 79 of 200\n",
      "building tree 80 of 200\n",
      "building tree 81 of 200\n",
      "building tree 82 of 200\n",
      "building tree 83 of 200\n",
      "building tree 84 of 200\n",
      "building tree 85 of 200\n",
      "building tree 86 of 200\n",
      "building tree 87 of 200\n",
      "building tree 88 of 200\n",
      "building tree 89 of 200\n",
      "building tree 90 of 200\n",
      "building tree 91 of 200\n",
      "building tree 92 of 200\n",
      "building tree 93 of 200\n",
      "building tree 94 of 200\n",
      "building tree 95 of 200\n",
      "building tree 96 of 200\n",
      "building tree 97 of 200\n",
      "building tree 98 of 200\n",
      "building tree 99 of 200\n",
      "building tree 100 of 200\n",
      "building tree 101 of 200\n",
      "building tree 102 of 200\n",
      "building tree 103 of 200\n",
      "building tree 104 of 200\n",
      "building tree 105 of 200\n",
      "building tree 106 of 200\n",
      "building tree 107 of 200\n",
      "building tree 108 of 200\n",
      "building tree 109 of 200\n",
      "building tree 110 of 200\n",
      "building tree 111 of 200\n",
      "building tree 112 of 200\n",
      "building tree 113 of 200\n",
      "building tree 114 of 200\n",
      "building tree 115 of 200\n",
      "building tree 116 of 200\n",
      "building tree 117 of 200\n",
      "building tree 118 of 200\n",
      "building tree 119 of 200\n",
      "building tree 120 of 200\n",
      "building tree 121 of 200\n",
      "building tree 122 of 200\n",
      "building tree 123 of 200\n",
      "building tree 124 of 200\n",
      "building tree 125 of 200\n",
      "building tree 126 of 200\n",
      "building tree 127 of 200\n",
      "building tree 128 of 200\n",
      "building tree 129 of 200\n",
      "building tree 130 of 200\n",
      "building tree 131 of 200\n",
      "building tree 132 of 200\n",
      "building tree 133 of 200\n",
      "building tree 134 of 200\n",
      "building tree 135 of 200\n",
      "building tree 136 of 200\n",
      "building tree 137 of 200\n",
      "building tree 138 of 200\n",
      "building tree 139 of 200\n",
      "building tree 140 of 200\n",
      "building tree 141 of 200\n",
      "building tree 142 of 200\n",
      "building tree 143 of 200\n",
      "building tree 144 of 200\n",
      "building tree 145 of 200\n",
      "building tree 146 of 200\n",
      "building tree 147 of 200\n",
      "building tree 148 of 200\n",
      "building tree 149 of 200\n",
      "building tree 150 of 200\n",
      "building tree 151 of 200\n",
      "building tree 152 of 200\n",
      "building tree 153 of 200\n",
      "building tree 154 of 200\n",
      "building tree 155 of 200\n",
      "building tree 156 of 200\n",
      "building tree 157 of 200\n",
      "building tree 158 of 200\n",
      "building tree 159 of 200\n",
      "building tree 160 of 200\n",
      "building tree 161 of 200\n",
      "building tree 162 of 200\n",
      "building tree 163 of 200\n",
      "building tree 164 of 200\n",
      "building tree 165 of 200\n",
      "building tree 166 of 200\n",
      "building tree 167 of 200\n",
      "building tree 168 of 200\n",
      "building tree 169 of 200\n",
      "building tree 170 of 200\n",
      "building tree 171 of 200\n",
      "building tree 172 of 200\n",
      "building tree 173 of 200\n",
      "building tree 174 of 200\n",
      "building tree 175 of 200\n",
      "building tree 176 of 200\n",
      "building tree 177 of 200\n",
      "building tree 178 of 200\n",
      "building tree 179 of 200\n",
      "building tree 180 of 200\n",
      "building tree 181 of 200\n",
      "building tree 182 of 200\n",
      "building tree 183 of 200\n",
      "building tree 184 of 200\n",
      "building tree 185 of 200\n",
      "building tree 186 of 200\n",
      "building tree 187 of 200\n",
      "building tree 188 of 200\n",
      "building tree 189 of 200\n",
      "building tree 190 of 200\n",
      "building tree 191 of 200\n",
      "building tree 192 of 200\n",
      "building tree 193 of 200\n",
      "building tree 194 of 200\n",
      "building tree 195 of 200\n",
      "building tree 196 of 200\n",
      "building tree 197 of 200\n",
      "building tree 198 of 200\n",
      "building tree 199 of 200\n",
      "building tree 200 of 200\n"
     ]
    },
    {
     "name": "stderr",
     "output_type": "stream",
     "text": [
      "[Parallel(n_jobs=-1)]: Done 200 out of 200 | elapsed:    9.8s finished\n",
      "[Parallel(n_jobs=1)]: Using backend SequentialBackend with 1 concurrent workers.\n",
      "[Parallel(n_jobs=1)]: Done   1 out of   1 | elapsed:    0.0s remaining:    0.0s\n",
      "[Parallel(n_jobs=1)]: Done   2 out of   2 | elapsed:    0.0s remaining:    0.0s\n",
      "[Parallel(n_jobs=1)]: Done   3 out of   3 | elapsed:    0.0s remaining:    0.0s\n",
      "[Parallel(n_jobs=1)]: Done   4 out of   4 | elapsed:    0.0s remaining:    0.0s\n",
      "[Parallel(n_jobs=1)]: Done   5 out of   5 | elapsed:    0.0s remaining:    0.0s\n",
      "[Parallel(n_jobs=1)]: Done   6 out of   6 | elapsed:    0.0s remaining:    0.0s\n",
      "[Parallel(n_jobs=1)]: Done   7 out of   7 | elapsed:    0.0s remaining:    0.0s\n",
      "[Parallel(n_jobs=1)]: Done   8 out of   8 | elapsed:    0.0s remaining:    0.0s\n",
      "[Parallel(n_jobs=1)]: Done   9 out of   9 | elapsed:    0.0s remaining:    0.0s\n",
      "[Parallel(n_jobs=1)]: Done 200 out of 200 | elapsed:    0.4s finished\n",
      "[Parallel(n_jobs=-1)]: Using backend SequentialBackend with 1 concurrent workers.\n",
      "[Parallel(n_jobs=-1)]: Done   1 out of   1 | elapsed:    0.0s remaining:    0.0s\n",
      "[Parallel(n_jobs=-1)]: Done   2 out of   2 | elapsed:    0.1s remaining:    0.0s\n"
     ]
    },
    {
     "name": "stdout",
     "output_type": "stream",
     "text": [
      "building tree 1 of 250\n",
      "building tree 2 of 250\n",
      "building tree 3 of 250\n",
      "building tree 4 of 250\n"
     ]
    },
    {
     "name": "stderr",
     "output_type": "stream",
     "text": [
      "[Parallel(n_jobs=-1)]: Done   3 out of   3 | elapsed:    0.2s remaining:    0.0s\n",
      "[Parallel(n_jobs=-1)]: Done   4 out of   4 | elapsed:    0.2s remaining:    0.0s\n",
      "[Parallel(n_jobs=-1)]: Done   5 out of   5 | elapsed:    0.3s remaining:    0.0s\n",
      "[Parallel(n_jobs=-1)]: Done   6 out of   6 | elapsed:    0.3s remaining:    0.0s\n",
      "[Parallel(n_jobs=-1)]: Done   7 out of   7 | elapsed:    0.4s remaining:    0.0s\n"
     ]
    },
    {
     "name": "stdout",
     "output_type": "stream",
     "text": [
      "building tree 5 of 250\n",
      "building tree 6 of 250\n",
      "building tree 7 of 250\n",
      "building tree 8 of 250\n",
      "building tree 9 of 250\n"
     ]
    },
    {
     "name": "stderr",
     "output_type": "stream",
     "text": [
      "[Parallel(n_jobs=-1)]: Done   8 out of   8 | elapsed:    0.4s remaining:    0.0s\n",
      "[Parallel(n_jobs=-1)]: Done   9 out of   9 | elapsed:    0.4s remaining:    0.0s\n"
     ]
    },
    {
     "name": "stdout",
     "output_type": "stream",
     "text": [
      "building tree 10 of 250\n",
      "building tree 11 of 250\n",
      "building tree 12 of 250\n",
      "building tree 13 of 250\n",
      "building tree 14 of 250\n",
      "building tree 15 of 250\n",
      "building tree 16 of 250\n",
      "building tree 17 of 250\n",
      "building tree 18 of 250\n",
      "building tree 19 of 250\n",
      "building tree 20 of 250\n",
      "building tree 21 of 250\n",
      "building tree 22 of 250\n",
      "building tree 23 of 250\n",
      "building tree 24 of 250\n",
      "building tree 25 of 250\n",
      "building tree 26 of 250\n",
      "building tree 27 of 250\n",
      "building tree 28 of 250\n",
      "building tree 29 of 250\n",
      "building tree 30 of 250\n",
      "building tree 31 of 250\n",
      "building tree 32 of 250\n",
      "building tree 33 of 250\n",
      "building tree 34 of 250\n",
      "building tree 35 of 250\n",
      "building tree 36 of 250\n",
      "building tree 37 of 250\n",
      "building tree 38 of 250\n",
      "building tree 39 of 250\n",
      "building tree 40 of 250\n",
      "building tree 41 of 250\n",
      "building tree 42 of 250\n",
      "building tree 43 of 250\n",
      "building tree 44 of 250\n",
      "building tree 45 of 250\n",
      "building tree 46 of 250\n",
      "building tree 47 of 250\n",
      "building tree 48 of 250\n",
      "building tree 49 of 250\n",
      "building tree 50 of 250\n",
      "building tree 51 of 250\n",
      "building tree 52 of 250\n",
      "building tree 53 of 250\n",
      "building tree 54 of 250\n",
      "building tree 55 of 250\n",
      "building tree 56 of 250\n",
      "building tree 57 of 250\n",
      "building tree 58 of 250\n",
      "building tree 59 of 250\n",
      "building tree 60 of 250\n",
      "building tree 61 of 250\n",
      "building tree 62 of 250\n",
      "building tree 63 of 250\n",
      "building tree 64 of 250\n",
      "building tree 65 of 250\n",
      "building tree 66 of 250\n",
      "building tree 67 of 250\n",
      "building tree 68 of 250\n",
      "building tree 69 of 250\n",
      "building tree 70 of 250\n",
      "building tree 71 of 250\n",
      "building tree 72 of 250\n",
      "building tree 73 of 250\n",
      "building tree 74 of 250\n",
      "building tree 75 of 250\n",
      "building tree 76 of 250\n",
      "building tree 77 of 250\n",
      "building tree 78 of 250\n",
      "building tree 79 of 250\n",
      "building tree 80 of 250\n",
      "building tree 81 of 250\n",
      "building tree 82 of 250\n",
      "building tree 83 of 250\n",
      "building tree 84 of 250\n",
      "building tree 85 of 250\n",
      "building tree 86 of 250\n",
      "building tree 87 of 250\n",
      "building tree 88 of 250\n",
      "building tree 89 of 250\n",
      "building tree 90 of 250\n",
      "building tree 91 of 250\n",
      "building tree 92 of 250\n",
      "building tree 93 of 250\n",
      "building tree 94 of 250\n",
      "building tree 95 of 250\n",
      "building tree 96 of 250\n",
      "building tree 97 of 250\n",
      "building tree 98 of 250\n",
      "building tree 99 of 250\n",
      "building tree 100 of 250\n",
      "building tree 101 of 250\n",
      "building tree 102 of 250\n",
      "building tree 103 of 250\n",
      "building tree 104 of 250\n",
      "building tree 105 of 250\n",
      "building tree 106 of 250\n",
      "building tree 107 of 250\n",
      "building tree 108 of 250\n",
      "building tree 109 of 250\n",
      "building tree 110 of 250\n",
      "building tree 111 of 250\n",
      "building tree 112 of 250\n",
      "building tree 113 of 250\n",
      "building tree 114 of 250\n",
      "building tree 115 of 250\n",
      "building tree 116 of 250\n",
      "building tree 117 of 250\n",
      "building tree 118 of 250\n",
      "building tree 119 of 250\n",
      "building tree 120 of 250\n",
      "building tree 121 of 250\n",
      "building tree 122 of 250\n",
      "building tree 123 of 250\n",
      "building tree 124 of 250\n",
      "building tree 125 of 250\n",
      "building tree 126 of 250\n",
      "building tree 127 of 250\n",
      "building tree 128 of 250\n",
      "building tree 129 of 250\n",
      "building tree 130 of 250\n",
      "building tree 131 of 250\n",
      "building tree 132 of 250\n",
      "building tree 133 of 250\n",
      "building tree 134 of 250\n",
      "building tree 135 of 250\n",
      "building tree 136 of 250\n",
      "building tree 137 of 250\n",
      "building tree 138 of 250\n",
      "building tree 139 of 250\n",
      "building tree 140 of 250\n",
      "building tree 141 of 250\n",
      "building tree 142 of 250\n",
      "building tree 143 of 250\n",
      "building tree 144 of 250\n",
      "building tree 145 of 250\n",
      "building tree 146 of 250\n",
      "building tree 147 of 250\n",
      "building tree 148 of 250\n",
      "building tree 149 of 250\n",
      "building tree 150 of 250\n",
      "building tree 151 of 250\n",
      "building tree 152 of 250\n",
      "building tree 153 of 250\n",
      "building tree 154 of 250\n",
      "building tree 155 of 250\n",
      "building tree 156 of 250\n",
      "building tree 157 of 250\n",
      "building tree 158 of 250\n",
      "building tree 159 of 250\n",
      "building tree 160 of 250\n",
      "building tree 161 of 250\n",
      "building tree 162 of 250\n",
      "building tree 163 of 250\n",
      "building tree 164 of 250\n",
      "building tree 165 of 250\n",
      "building tree 166 of 250\n",
      "building tree 167 of 250\n",
      "building tree 168 of 250\n",
      "building tree 169 of 250\n",
      "building tree 170 of 250\n",
      "building tree 171 of 250\n",
      "building tree 172 of 250\n",
      "building tree 173 of 250\n",
      "building tree 174 of 250\n",
      "building tree 175 of 250\n",
      "building tree 176 of 250\n",
      "building tree 177 of 250\n",
      "building tree 178 of 250\n",
      "building tree 179 of 250\n",
      "building tree 180 of 250\n",
      "building tree 181 of 250\n",
      "building tree 182 of 250\n",
      "building tree 183 of 250\n",
      "building tree 184 of 250\n",
      "building tree 185 of 250\n",
      "building tree 186 of 250\n",
      "building tree 187 of 250\n",
      "building tree 188 of 250\n",
      "building tree 189 of 250\n",
      "building tree 190 of 250\n",
      "building tree 191 of 250\n",
      "building tree 192 of 250\n",
      "building tree 193 of 250\n",
      "building tree 194 of 250\n",
      "building tree 195 of 250\n",
      "building tree 196 of 250\n",
      "building tree 197 of 250\n",
      "building tree 198 of 250\n",
      "building tree 199 of 250\n",
      "building tree 200 of 250\n",
      "building tree 201 of 250\n",
      "building tree 202 of 250\n",
      "building tree 203 of 250\n",
      "building tree 204 of 250\n",
      "building tree 205 of 250\n",
      "building tree 206 of 250\n",
      "building tree 207 of 250\n",
      "building tree 208 of 250\n",
      "building tree 209 of 250\n",
      "building tree 210 of 250\n",
      "building tree 211 of 250\n",
      "building tree 212 of 250\n",
      "building tree 213 of 250\n",
      "building tree 214 of 250\n",
      "building tree 215 of 250\n",
      "building tree 216 of 250\n",
      "building tree 217 of 250\n",
      "building tree 218 of 250\n",
      "building tree 219 of 250\n",
      "building tree 220 of 250\n",
      "building tree 221 of 250\n",
      "building tree 222 of 250\n",
      "building tree 223 of 250\n",
      "building tree 224 of 250\n",
      "building tree 225 of 250\n",
      "building tree 226 of 250\n",
      "building tree 227 of 250\n",
      "building tree 228 of 250\n",
      "building tree 229 of 250\n",
      "building tree 230 of 250\n",
      "building tree 231 of 250\n",
      "building tree 232 of 250\n",
      "building tree 233 of 250\n",
      "building tree 234 of 250\n",
      "building tree 235 of 250\n",
      "building tree 236 of 250\n",
      "building tree 237 of 250\n",
      "building tree 238 of 250\n",
      "building tree 239 of 250\n",
      "building tree 240 of 250\n",
      "building tree 241 of 250\n",
      "building tree 242 of 250\n",
      "building tree 243 of 250\n",
      "building tree 244 of 250\n",
      "building tree 245 of 250\n",
      "building tree 246 of 250\n",
      "building tree 247 of 250\n",
      "building tree 248 of 250\n",
      "building tree 249 of 250\n",
      "building tree 250 of 250\n"
     ]
    },
    {
     "name": "stderr",
     "output_type": "stream",
     "text": [
      "[Parallel(n_jobs=-1)]: Done 250 out of 250 | elapsed:   12.2s finished\n",
      "[Parallel(n_jobs=1)]: Using backend SequentialBackend with 1 concurrent workers.\n",
      "[Parallel(n_jobs=1)]: Done   1 out of   1 | elapsed:    0.0s remaining:    0.0s\n",
      "[Parallel(n_jobs=1)]: Done   2 out of   2 | elapsed:    0.0s remaining:    0.0s\n",
      "[Parallel(n_jobs=1)]: Done   3 out of   3 | elapsed:    0.0s remaining:    0.0s\n",
      "[Parallel(n_jobs=1)]: Done   4 out of   4 | elapsed:    0.0s remaining:    0.0s\n",
      "[Parallel(n_jobs=1)]: Done   5 out of   5 | elapsed:    0.0s remaining:    0.0s\n",
      "[Parallel(n_jobs=1)]: Done   6 out of   6 | elapsed:    0.0s remaining:    0.0s\n",
      "[Parallel(n_jobs=1)]: Done   7 out of   7 | elapsed:    0.0s remaining:    0.0s\n",
      "[Parallel(n_jobs=1)]: Done   8 out of   8 | elapsed:    0.0s remaining:    0.0s\n",
      "[Parallel(n_jobs=1)]: Done   9 out of   9 | elapsed:    0.0s remaining:    0.0s\n",
      "[Parallel(n_jobs=1)]: Done 250 out of 250 | elapsed:    0.5s finished\n",
      "[Parallel(n_jobs=-1)]: Using backend SequentialBackend with 1 concurrent workers.\n",
      "[Parallel(n_jobs=-1)]: Done   1 out of   1 | elapsed:    0.0s remaining:    0.0s\n",
      "[Parallel(n_jobs=-1)]: Done   2 out of   2 | elapsed:    0.1s remaining:    0.0s\n"
     ]
    },
    {
     "name": "stdout",
     "output_type": "stream",
     "text": [
      "building tree 1 of 300\n",
      "building tree 2 of 300\n",
      "building tree 3 of 300\n",
      "building tree 4 of 300\n",
      "building tree 5 of 300\n"
     ]
    },
    {
     "name": "stderr",
     "output_type": "stream",
     "text": [
      "[Parallel(n_jobs=-1)]: Done   3 out of   3 | elapsed:    0.1s remaining:    0.0s\n",
      "[Parallel(n_jobs=-1)]: Done   4 out of   4 | elapsed:    0.2s remaining:    0.0s\n",
      "[Parallel(n_jobs=-1)]: Done   5 out of   5 | elapsed:    0.2s remaining:    0.0s\n",
      "[Parallel(n_jobs=-1)]: Done   6 out of   6 | elapsed:    0.3s remaining:    0.0s\n",
      "[Parallel(n_jobs=-1)]: Done   7 out of   7 | elapsed:    0.3s remaining:    0.0s\n"
     ]
    },
    {
     "name": "stdout",
     "output_type": "stream",
     "text": [
      "building tree 6 of 300\n",
      "building tree 7 of 300\n",
      "building tree 8 of 300\n",
      "building tree 9 of 300\n",
      "building tree 10 of 300\n"
     ]
    },
    {
     "name": "stderr",
     "output_type": "stream",
     "text": [
      "[Parallel(n_jobs=-1)]: Done   8 out of   8 | elapsed:    0.4s remaining:    0.0s\n",
      "[Parallel(n_jobs=-1)]: Done   9 out of   9 | elapsed:    0.4s remaining:    0.0s\n"
     ]
    },
    {
     "name": "stdout",
     "output_type": "stream",
     "text": [
      "building tree 11 of 300\n",
      "building tree 12 of 300\n",
      "building tree 13 of 300\n",
      "building tree 14 of 300\n",
      "building tree 15 of 300\n",
      "building tree 16 of 300\n",
      "building tree 17 of 300\n",
      "building tree 18 of 300\n",
      "building tree 19 of 300\n",
      "building tree 20 of 300\n",
      "building tree 21 of 300\n",
      "building tree 22 of 300\n",
      "building tree 23 of 300\n",
      "building tree 24 of 300\n",
      "building tree 25 of 300\n",
      "building tree 26 of 300\n",
      "building tree 27 of 300\n",
      "building tree 28 of 300\n",
      "building tree 29 of 300\n",
      "building tree 30 of 300\n",
      "building tree 31 of 300\n",
      "building tree 32 of 300\n",
      "building tree 33 of 300\n",
      "building tree 34 of 300\n",
      "building tree 35 of 300\n",
      "building tree 36 of 300\n",
      "building tree 37 of 300\n",
      "building tree 38 of 300\n",
      "building tree 39 of 300\n",
      "building tree 40 of 300\n",
      "building tree 41 of 300\n",
      "building tree 42 of 300\n",
      "building tree 43 of 300\n",
      "building tree 44 of 300\n",
      "building tree 45 of 300\n",
      "building tree 46 of 300\n",
      "building tree 47 of 300\n",
      "building tree 48 of 300\n",
      "building tree 49 of 300\n",
      "building tree 50 of 300\n",
      "building tree 51 of 300\n",
      "building tree 52 of 300\n",
      "building tree 53 of 300\n",
      "building tree 54 of 300\n",
      "building tree 55 of 300\n",
      "building tree 56 of 300\n",
      "building tree 57 of 300\n",
      "building tree 58 of 300\n",
      "building tree 59 of 300\n",
      "building tree 60 of 300\n",
      "building tree 61 of 300\n",
      "building tree 62 of 300\n",
      "building tree 63 of 300\n",
      "building tree 64 of 300\n",
      "building tree 65 of 300\n",
      "building tree 66 of 300\n",
      "building tree 67 of 300\n",
      "building tree 68 of 300\n",
      "building tree 69 of 300\n",
      "building tree 70 of 300\n",
      "building tree 71 of 300\n",
      "building tree 72 of 300\n",
      "building tree 73 of 300\n",
      "building tree 74 of 300\n",
      "building tree 75 of 300\n",
      "building tree 76 of 300\n",
      "building tree 77 of 300\n",
      "building tree 78 of 300\n",
      "building tree 79 of 300\n",
      "building tree 80 of 300\n",
      "building tree 81 of 300\n",
      "building tree 82 of 300\n",
      "building tree 83 of 300\n",
      "building tree 84 of 300\n",
      "building tree 85 of 300\n",
      "building tree 86 of 300\n",
      "building tree 87 of 300\n",
      "building tree 88 of 300\n",
      "building tree 89 of 300\n",
      "building tree 90 of 300\n",
      "building tree 91 of 300\n",
      "building tree 92 of 300\n",
      "building tree 93 of 300\n",
      "building tree 94 of 300\n",
      "building tree 95 of 300\n",
      "building tree 96 of 300\n",
      "building tree 97 of 300\n",
      "building tree 98 of 300\n",
      "building tree 99 of 300\n",
      "building tree 100 of 300\n",
      "building tree 101 of 300\n",
      "building tree 102 of 300\n",
      "building tree 103 of 300\n",
      "building tree 104 of 300\n",
      "building tree 105 of 300\n",
      "building tree 106 of 300\n",
      "building tree 107 of 300\n",
      "building tree 108 of 300\n",
      "building tree 109 of 300\n",
      "building tree 110 of 300\n",
      "building tree 111 of 300\n",
      "building tree 112 of 300\n",
      "building tree 113 of 300\n",
      "building tree 114 of 300\n",
      "building tree 115 of 300\n",
      "building tree 116 of 300\n",
      "building tree 117 of 300\n",
      "building tree 118 of 300\n",
      "building tree 119 of 300\n",
      "building tree 120 of 300\n",
      "building tree 121 of 300\n",
      "building tree 122 of 300\n",
      "building tree 123 of 300\n",
      "building tree 124 of 300\n",
      "building tree 125 of 300\n",
      "building tree 126 of 300\n",
      "building tree 127 of 300\n",
      "building tree 128 of 300\n",
      "building tree 129 of 300\n",
      "building tree 130 of 300\n",
      "building tree 131 of 300\n",
      "building tree 132 of 300\n",
      "building tree 133 of 300\n",
      "building tree 134 of 300\n",
      "building tree 135 of 300\n",
      "building tree 136 of 300\n",
      "building tree 137 of 300\n",
      "building tree 138 of 300\n",
      "building tree 139 of 300\n",
      "building tree 140 of 300\n",
      "building tree 141 of 300\n",
      "building tree 142 of 300\n",
      "building tree 143 of 300\n",
      "building tree 144 of 300\n",
      "building tree 145 of 300\n",
      "building tree 146 of 300\n",
      "building tree 147 of 300\n",
      "building tree 148 of 300\n",
      "building tree 149 of 300\n",
      "building tree 150 of 300\n",
      "building tree 151 of 300\n",
      "building tree 152 of 300\n",
      "building tree 153 of 300\n",
      "building tree 154 of 300\n",
      "building tree 155 of 300\n",
      "building tree 156 of 300\n",
      "building tree 157 of 300\n",
      "building tree 158 of 300\n",
      "building tree 159 of 300\n",
      "building tree 160 of 300\n",
      "building tree 161 of 300\n",
      "building tree 162 of 300\n",
      "building tree 163 of 300\n",
      "building tree 164 of 300\n",
      "building tree 165 of 300\n",
      "building tree 166 of 300\n",
      "building tree 167 of 300\n",
      "building tree 168 of 300\n",
      "building tree 169 of 300\n",
      "building tree 170 of 300\n",
      "building tree 171 of 300\n",
      "building tree 172 of 300\n",
      "building tree 173 of 300\n",
      "building tree 174 of 300\n",
      "building tree 175 of 300\n",
      "building tree 176 of 300\n",
      "building tree 177 of 300\n",
      "building tree 178 of 300\n",
      "building tree 179 of 300\n",
      "building tree 180 of 300\n",
      "building tree 181 of 300\n",
      "building tree 182 of 300\n",
      "building tree 183 of 300\n",
      "building tree 184 of 300\n",
      "building tree 185 of 300\n",
      "building tree 186 of 300\n",
      "building tree 187 of 300\n",
      "building tree 188 of 300\n",
      "building tree 189 of 300\n",
      "building tree 190 of 300\n",
      "building tree 191 of 300\n",
      "building tree 192 of 300\n",
      "building tree 193 of 300\n",
      "building tree 194 of 300\n",
      "building tree 195 of 300\n",
      "building tree 196 of 300\n",
      "building tree 197 of 300\n",
      "building tree 198 of 300\n",
      "building tree 199 of 300\n",
      "building tree 200 of 300\n",
      "building tree 201 of 300\n",
      "building tree 202 of 300\n",
      "building tree 203 of 300\n",
      "building tree 204 of 300\n",
      "building tree 205 of 300\n",
      "building tree 206 of 300\n",
      "building tree 207 of 300\n",
      "building tree 208 of 300\n",
      "building tree 209 of 300\n",
      "building tree 210 of 300\n",
      "building tree 211 of 300\n",
      "building tree 212 of 300\n",
      "building tree 213 of 300\n",
      "building tree 214 of 300\n",
      "building tree 215 of 300\n",
      "building tree 216 of 300\n",
      "building tree 217 of 300\n",
      "building tree 218 of 300\n",
      "building tree 219 of 300\n",
      "building tree 220 of 300\n",
      "building tree 221 of 300\n",
      "building tree 222 of 300\n",
      "building tree 223 of 300\n",
      "building tree 224 of 300\n",
      "building tree 225 of 300\n",
      "building tree 226 of 300\n",
      "building tree 227 of 300\n",
      "building tree 228 of 300\n",
      "building tree 229 of 300\n",
      "building tree 230 of 300\n",
      "building tree 231 of 300\n",
      "building tree 232 of 300\n",
      "building tree 233 of 300\n",
      "building tree 234 of 300\n",
      "building tree 235 of 300\n",
      "building tree 236 of 300\n",
      "building tree 237 of 300\n",
      "building tree 238 of 300\n",
      "building tree 239 of 300\n",
      "building tree 240 of 300\n",
      "building tree 241 of 300\n",
      "building tree 242 of 300\n",
      "building tree 243 of 300\n",
      "building tree 244 of 300\n",
      "building tree 245 of 300\n",
      "building tree 246 of 300\n",
      "building tree 247 of 300\n",
      "building tree 248 of 300\n",
      "building tree 249 of 300\n",
      "building tree 250 of 300\n",
      "building tree 251 of 300\n",
      "building tree 252 of 300\n",
      "building tree 253 of 300\n",
      "building tree 254 of 300\n",
      "building tree 255 of 300\n",
      "building tree 256 of 300\n",
      "building tree 257 of 300\n",
      "building tree 258 of 300\n",
      "building tree 259 of 300\n",
      "building tree 260 of 300\n",
      "building tree 261 of 300\n",
      "building tree 262 of 300\n",
      "building tree 263 of 300\n",
      "building tree 264 of 300\n",
      "building tree 265 of 300\n",
      "building tree 266 of 300\n",
      "building tree 267 of 300\n",
      "building tree 268 of 300\n",
      "building tree 269 of 300\n",
      "building tree 270 of 300\n",
      "building tree 271 of 300\n",
      "building tree 272 of 300\n",
      "building tree 273 of 300\n",
      "building tree 274 of 300\n",
      "building tree 275 of 300\n",
      "building tree 276 of 300\n",
      "building tree 277 of 300\n",
      "building tree 278 of 300\n",
      "building tree 279 of 300\n",
      "building tree 280 of 300\n",
      "building tree 281 of 300\n",
      "building tree 282 of 300\n",
      "building tree 283 of 300\n",
      "building tree 284 of 300\n",
      "building tree 285 of 300\n",
      "building tree 286 of 300\n",
      "building tree 287 of 300\n",
      "building tree 288 of 300\n",
      "building tree 289 of 300\n",
      "building tree 290 of 300\n",
      "building tree 291 of 300\n",
      "building tree 292 of 300\n",
      "building tree 293 of 300\n",
      "building tree 294 of 300\n",
      "building tree 295 of 300\n",
      "building tree 296 of 300\n",
      "building tree 297 of 300\n",
      "building tree 298 of 300\n",
      "building tree 299 of 300\n",
      "building tree 300 of 300\n"
     ]
    },
    {
     "name": "stderr",
     "output_type": "stream",
     "text": [
      "[Parallel(n_jobs=-1)]: Done 300 out of 300 | elapsed:   14.8s finished\n",
      "[Parallel(n_jobs=1)]: Using backend SequentialBackend with 1 concurrent workers.\n",
      "[Parallel(n_jobs=1)]: Done   1 out of   1 | elapsed:    0.0s remaining:    0.0s\n",
      "[Parallel(n_jobs=1)]: Done   2 out of   2 | elapsed:    0.0s remaining:    0.0s\n",
      "[Parallel(n_jobs=1)]: Done   3 out of   3 | elapsed:    0.0s remaining:    0.0s\n",
      "[Parallel(n_jobs=1)]: Done   4 out of   4 | elapsed:    0.0s remaining:    0.0s\n",
      "[Parallel(n_jobs=1)]: Done   5 out of   5 | elapsed:    0.0s remaining:    0.0s\n",
      "[Parallel(n_jobs=1)]: Done   6 out of   6 | elapsed:    0.0s remaining:    0.0s\n",
      "[Parallel(n_jobs=1)]: Done   7 out of   7 | elapsed:    0.0s remaining:    0.0s\n",
      "[Parallel(n_jobs=1)]: Done   8 out of   8 | elapsed:    0.0s remaining:    0.0s\n",
      "[Parallel(n_jobs=1)]: Done   9 out of   9 | elapsed:    0.0s remaining:    0.0s\n",
      "[Parallel(n_jobs=1)]: Done 300 out of 300 | elapsed:    0.6s finished\n",
      "[Parallel(n_jobs=-1)]: Using backend SequentialBackend with 1 concurrent workers.\n",
      "[Parallel(n_jobs=-1)]: Done   1 out of   1 | elapsed:    0.1s remaining:    0.0s\n",
      "[Parallel(n_jobs=-1)]: Done   2 out of   2 | elapsed:    0.1s remaining:    0.0s\n"
     ]
    },
    {
     "name": "stdout",
     "output_type": "stream",
     "text": [
      "building tree 1 of 100\n",
      "building tree 2 of 100\n",
      "building tree 3 of 100\n",
      "building tree 4 of 100\n"
     ]
    },
    {
     "name": "stderr",
     "output_type": "stream",
     "text": [
      "[Parallel(n_jobs=-1)]: Done   3 out of   3 | elapsed:    0.2s remaining:    0.0s\n",
      "[Parallel(n_jobs=-1)]: Done   4 out of   4 | elapsed:    0.2s remaining:    0.0s\n",
      "[Parallel(n_jobs=-1)]: Done   5 out of   5 | elapsed:    0.3s remaining:    0.0s\n",
      "[Parallel(n_jobs=-1)]: Done   6 out of   6 | elapsed:    0.3s remaining:    0.0s\n"
     ]
    },
    {
     "name": "stdout",
     "output_type": "stream",
     "text": [
      "building tree 5 of 100\n",
      "building tree 6 of 100\n",
      "building tree 7 of 100\n",
      "building tree 8 of 100\n"
     ]
    },
    {
     "name": "stderr",
     "output_type": "stream",
     "text": [
      "[Parallel(n_jobs=-1)]: Done   7 out of   7 | elapsed:    0.4s remaining:    0.0s\n",
      "[Parallel(n_jobs=-1)]: Done   8 out of   8 | elapsed:    0.5s remaining:    0.0s\n",
      "[Parallel(n_jobs=-1)]: Done   9 out of   9 | elapsed:    0.5s remaining:    0.0s\n"
     ]
    },
    {
     "name": "stdout",
     "output_type": "stream",
     "text": [
      "building tree 9 of 100\n",
      "building tree 10 of 100\n",
      "building tree 11 of 100\n",
      "building tree 12 of 100\n",
      "building tree 13 of 100\n",
      "building tree 14 of 100\n",
      "building tree 15 of 100\n",
      "building tree 16 of 100\n",
      "building tree 17 of 100\n",
      "building tree 18 of 100\n",
      "building tree 19 of 100\n",
      "building tree 20 of 100\n",
      "building tree 21 of 100\n",
      "building tree 22 of 100\n",
      "building tree 23 of 100\n",
      "building tree 24 of 100\n",
      "building tree 25 of 100\n",
      "building tree 26 of 100\n",
      "building tree 27 of 100\n",
      "building tree 28 of 100\n",
      "building tree 29 of 100\n",
      "building tree 30 of 100\n",
      "building tree 31 of 100\n",
      "building tree 32 of 100\n",
      "building tree 33 of 100\n",
      "building tree 34 of 100\n",
      "building tree 35 of 100\n",
      "building tree 36 of 100\n",
      "building tree 37 of 100\n",
      "building tree 38 of 100\n",
      "building tree 39 of 100\n",
      "building tree 40 of 100\n",
      "building tree 41 of 100\n",
      "building tree 42 of 100\n",
      "building tree 43 of 100\n",
      "building tree 44 of 100\n",
      "building tree 45 of 100\n",
      "building tree 46 of 100\n",
      "building tree 47 of 100\n",
      "building tree 48 of 100\n",
      "building tree 49 of 100\n",
      "building tree 50 of 100\n",
      "building tree 51 of 100\n",
      "building tree 52 of 100\n",
      "building tree 53 of 100\n",
      "building tree 54 of 100\n",
      "building tree 55 of 100\n",
      "building tree 56 of 100\n",
      "building tree 57 of 100\n",
      "building tree 58 of 100\n",
      "building tree 59 of 100\n",
      "building tree 60 of 100\n",
      "building tree 61 of 100\n",
      "building tree 62 of 100\n",
      "building tree 63 of 100\n",
      "building tree 64 of 100\n",
      "building tree 65 of 100\n",
      "building tree 66 of 100\n",
      "building tree 67 of 100\n",
      "building tree 68 of 100\n",
      "building tree 69 of 100\n",
      "building tree 70 of 100\n",
      "building tree 71 of 100\n",
      "building tree 72 of 100\n",
      "building tree 73 of 100\n",
      "building tree 74 of 100\n",
      "building tree 75 of 100\n",
      "building tree 76 of 100\n",
      "building tree 77 of 100\n",
      "building tree 78 of 100\n",
      "building tree 79 of 100\n",
      "building tree 80 of 100\n",
      "building tree 81 of 100\n",
      "building tree 82 of 100\n",
      "building tree 83 of 100\n",
      "building tree 84 of 100\n",
      "building tree 85 of 100\n",
      "building tree 86 of 100\n",
      "building tree 87 of 100\n",
      "building tree 88 of 100\n",
      "building tree 89 of 100\n",
      "building tree 90 of 100\n",
      "building tree 91 of 100\n",
      "building tree 92 of 100\n",
      "building tree 93 of 100\n",
      "building tree 94 of 100\n",
      "building tree 95 of 100\n",
      "building tree 96 of 100\n",
      "building tree 97 of 100\n",
      "building tree 98 of 100\n",
      "building tree 99 of 100\n",
      "building tree 100 of 100\n"
     ]
    },
    {
     "name": "stderr",
     "output_type": "stream",
     "text": [
      "[Parallel(n_jobs=-1)]: Done 100 out of 100 | elapsed:    5.9s finished\n",
      "[Parallel(n_jobs=1)]: Using backend SequentialBackend with 1 concurrent workers.\n",
      "[Parallel(n_jobs=1)]: Done   1 out of   1 | elapsed:    0.0s remaining:    0.0s\n",
      "[Parallel(n_jobs=1)]: Done   2 out of   2 | elapsed:    0.0s remaining:    0.0s\n",
      "[Parallel(n_jobs=1)]: Done   3 out of   3 | elapsed:    0.0s remaining:    0.0s\n",
      "[Parallel(n_jobs=1)]: Done   4 out of   4 | elapsed:    0.0s remaining:    0.0s\n",
      "[Parallel(n_jobs=1)]: Done   5 out of   5 | elapsed:    0.0s remaining:    0.0s\n",
      "[Parallel(n_jobs=1)]: Done   6 out of   6 | elapsed:    0.0s remaining:    0.0s\n",
      "[Parallel(n_jobs=1)]: Done   7 out of   7 | elapsed:    0.0s remaining:    0.0s\n",
      "[Parallel(n_jobs=1)]: Done   8 out of   8 | elapsed:    0.0s remaining:    0.0s\n",
      "[Parallel(n_jobs=1)]: Done   9 out of   9 | elapsed:    0.0s remaining:    0.0s\n",
      "[Parallel(n_jobs=1)]: Done 100 out of 100 | elapsed:    0.2s finished\n",
      "[Parallel(n_jobs=-1)]: Using backend SequentialBackend with 1 concurrent workers.\n",
      "[Parallel(n_jobs=-1)]: Done   1 out of   1 | elapsed:    0.1s remaining:    0.0s\n",
      "[Parallel(n_jobs=-1)]: Done   2 out of   2 | elapsed:    0.1s remaining:    0.0s\n"
     ]
    },
    {
     "name": "stdout",
     "output_type": "stream",
     "text": [
      "building tree 1 of 150\n",
      "building tree 2 of 150\n",
      "building tree 3 of 150\n",
      "building tree 4 of 150\n"
     ]
    },
    {
     "name": "stderr",
     "output_type": "stream",
     "text": [
      "[Parallel(n_jobs=-1)]: Done   3 out of   3 | elapsed:    0.2s remaining:    0.0s\n",
      "[Parallel(n_jobs=-1)]: Done   4 out of   4 | elapsed:    0.2s remaining:    0.0s\n",
      "[Parallel(n_jobs=-1)]: Done   5 out of   5 | elapsed:    0.3s remaining:    0.0s\n",
      "[Parallel(n_jobs=-1)]: Done   6 out of   6 | elapsed:    0.3s remaining:    0.0s\n"
     ]
    },
    {
     "name": "stdout",
     "output_type": "stream",
     "text": [
      "building tree 5 of 150\n",
      "building tree 6 of 150\n",
      "building tree 7 of 150\n",
      "building tree 8 of 150\n"
     ]
    },
    {
     "name": "stderr",
     "output_type": "stream",
     "text": [
      "[Parallel(n_jobs=-1)]: Done   7 out of   7 | elapsed:    0.4s remaining:    0.0s\n",
      "[Parallel(n_jobs=-1)]: Done   8 out of   8 | elapsed:    0.5s remaining:    0.0s\n",
      "[Parallel(n_jobs=-1)]: Done   9 out of   9 | elapsed:    0.5s remaining:    0.0s\n"
     ]
    },
    {
     "name": "stdout",
     "output_type": "stream",
     "text": [
      "building tree 9 of 150\n",
      "building tree 10 of 150\n",
      "building tree 11 of 150\n",
      "building tree 12 of 150\n",
      "building tree 13 of 150\n",
      "building tree 14 of 150\n",
      "building tree 15 of 150\n",
      "building tree 16 of 150\n",
      "building tree 17 of 150\n",
      "building tree 18 of 150\n",
      "building tree 19 of 150\n",
      "building tree 20 of 150\n",
      "building tree 21 of 150\n",
      "building tree 22 of 150\n",
      "building tree 23 of 150\n",
      "building tree 24 of 150\n",
      "building tree 25 of 150\n",
      "building tree 26 of 150\n",
      "building tree 27 of 150\n",
      "building tree 28 of 150\n",
      "building tree 29 of 150\n",
      "building tree 30 of 150\n",
      "building tree 31 of 150\n",
      "building tree 32 of 150\n",
      "building tree 33 of 150\n",
      "building tree 34 of 150\n",
      "building tree 35 of 150\n",
      "building tree 36 of 150\n",
      "building tree 37 of 150\n",
      "building tree 38 of 150\n",
      "building tree 39 of 150\n",
      "building tree 40 of 150\n",
      "building tree 41 of 150\n",
      "building tree 42 of 150\n",
      "building tree 43 of 150\n",
      "building tree 44 of 150\n",
      "building tree 45 of 150\n",
      "building tree 46 of 150\n",
      "building tree 47 of 150\n",
      "building tree 48 of 150\n",
      "building tree 49 of 150\n",
      "building tree 50 of 150\n",
      "building tree 51 of 150\n",
      "building tree 52 of 150\n",
      "building tree 53 of 150\n",
      "building tree 54 of 150\n",
      "building tree 55 of 150\n",
      "building tree 56 of 150\n",
      "building tree 57 of 150\n",
      "building tree 58 of 150\n",
      "building tree 59 of 150\n",
      "building tree 60 of 150\n",
      "building tree 61 of 150\n",
      "building tree 62 of 150\n",
      "building tree 63 of 150\n",
      "building tree 64 of 150\n",
      "building tree 65 of 150\n",
      "building tree 66 of 150\n",
      "building tree 67 of 150\n",
      "building tree 68 of 150\n",
      "building tree 69 of 150\n",
      "building tree 70 of 150\n",
      "building tree 71 of 150\n",
      "building tree 72 of 150\n",
      "building tree 73 of 150\n",
      "building tree 74 of 150\n",
      "building tree 75 of 150\n",
      "building tree 76 of 150\n",
      "building tree 77 of 150\n",
      "building tree 78 of 150\n",
      "building tree 79 of 150\n",
      "building tree 80 of 150\n",
      "building tree 81 of 150\n",
      "building tree 82 of 150\n",
      "building tree 83 of 150\n",
      "building tree 84 of 150\n",
      "building tree 85 of 150\n",
      "building tree 86 of 150\n",
      "building tree 87 of 150\n",
      "building tree 88 of 150\n",
      "building tree 89 of 150\n",
      "building tree 90 of 150\n",
      "building tree 91 of 150\n",
      "building tree 92 of 150\n",
      "building tree 93 of 150\n",
      "building tree 94 of 150\n",
      "building tree 95 of 150\n",
      "building tree 96 of 150\n",
      "building tree 97 of 150\n",
      "building tree 98 of 150\n",
      "building tree 99 of 150\n",
      "building tree 100 of 150\n",
      "building tree 101 of 150\n",
      "building tree 102 of 150\n",
      "building tree 103 of 150\n",
      "building tree 104 of 150\n",
      "building tree 105 of 150\n",
      "building tree 106 of 150\n",
      "building tree 107 of 150\n",
      "building tree 108 of 150\n",
      "building tree 109 of 150\n",
      "building tree 110 of 150\n",
      "building tree 111 of 150\n",
      "building tree 112 of 150\n",
      "building tree 113 of 150\n",
      "building tree 114 of 150\n",
      "building tree 115 of 150\n",
      "building tree 116 of 150\n",
      "building tree 117 of 150\n",
      "building tree 118 of 150\n",
      "building tree 119 of 150\n",
      "building tree 120 of 150\n",
      "building tree 121 of 150\n",
      "building tree 122 of 150\n",
      "building tree 123 of 150\n",
      "building tree 124 of 150\n",
      "building tree 125 of 150\n",
      "building tree 126 of 150\n",
      "building tree 127 of 150\n",
      "building tree 128 of 150\n",
      "building tree 129 of 150\n",
      "building tree 130 of 150\n",
      "building tree 131 of 150\n",
      "building tree 132 of 150\n",
      "building tree 133 of 150\n",
      "building tree 134 of 150\n",
      "building tree 135 of 150\n",
      "building tree 136 of 150\n",
      "building tree 137 of 150\n",
      "building tree 138 of 150\n",
      "building tree 139 of 150\n",
      "building tree 140 of 150\n",
      "building tree 141 of 150\n",
      "building tree 142 of 150\n",
      "building tree 143 of 150\n",
      "building tree 144 of 150\n",
      "building tree 145 of 150\n",
      "building tree 146 of 150\n",
      "building tree 147 of 150\n",
      "building tree 148 of 150\n",
      "building tree 149 of 150\n",
      "building tree 150 of 150\n"
     ]
    },
    {
     "name": "stderr",
     "output_type": "stream",
     "text": [
      "[Parallel(n_jobs=-1)]: Done 150 out of 150 | elapsed:    8.6s finished\n",
      "[Parallel(n_jobs=1)]: Using backend SequentialBackend with 1 concurrent workers.\n",
      "[Parallel(n_jobs=1)]: Done   1 out of   1 | elapsed:    0.0s remaining:    0.0s\n",
      "[Parallel(n_jobs=1)]: Done   2 out of   2 | elapsed:    0.0s remaining:    0.0s\n",
      "[Parallel(n_jobs=1)]: Done   3 out of   3 | elapsed:    0.0s remaining:    0.0s\n",
      "[Parallel(n_jobs=1)]: Done   4 out of   4 | elapsed:    0.0s remaining:    0.0s\n",
      "[Parallel(n_jobs=1)]: Done   5 out of   5 | elapsed:    0.0s remaining:    0.0s\n",
      "[Parallel(n_jobs=1)]: Done   6 out of   6 | elapsed:    0.0s remaining:    0.0s\n",
      "[Parallel(n_jobs=1)]: Done   7 out of   7 | elapsed:    0.0s remaining:    0.0s\n",
      "[Parallel(n_jobs=1)]: Done   8 out of   8 | elapsed:    0.0s remaining:    0.0s\n",
      "[Parallel(n_jobs=1)]: Done   9 out of   9 | elapsed:    0.0s remaining:    0.0s\n",
      "[Parallel(n_jobs=1)]: Done 150 out of 150 | elapsed:    0.4s finished\n",
      "[Parallel(n_jobs=-1)]: Using backend SequentialBackend with 1 concurrent workers.\n",
      "[Parallel(n_jobs=-1)]: Done   1 out of   1 | elapsed:    0.1s remaining:    0.0s\n",
      "[Parallel(n_jobs=-1)]: Done   2 out of   2 | elapsed:    0.1s remaining:    0.0s\n"
     ]
    },
    {
     "name": "stdout",
     "output_type": "stream",
     "text": [
      "building tree 1 of 200\n",
      "building tree 2 of 200\n",
      "building tree 3 of 200\n",
      "building tree 4 of 200\n"
     ]
    },
    {
     "name": "stderr",
     "output_type": "stream",
     "text": [
      "[Parallel(n_jobs=-1)]: Done   3 out of   3 | elapsed:    0.2s remaining:    0.0s\n",
      "[Parallel(n_jobs=-1)]: Done   4 out of   4 | elapsed:    0.2s remaining:    0.0s\n",
      "[Parallel(n_jobs=-1)]: Done   5 out of   5 | elapsed:    0.3s remaining:    0.0s\n",
      "[Parallel(n_jobs=-1)]: Done   6 out of   6 | elapsed:    0.3s remaining:    0.0s\n"
     ]
    },
    {
     "name": "stdout",
     "output_type": "stream",
     "text": [
      "building tree 5 of 200\n",
      "building tree 6 of 200\n",
      "building tree 7 of 200\n",
      "building tree 8 of 200\n"
     ]
    },
    {
     "name": "stderr",
     "output_type": "stream",
     "text": [
      "[Parallel(n_jobs=-1)]: Done   7 out of   7 | elapsed:    0.4s remaining:    0.0s\n",
      "[Parallel(n_jobs=-1)]: Done   8 out of   8 | elapsed:    0.5s remaining:    0.0s\n",
      "[Parallel(n_jobs=-1)]: Done   9 out of   9 | elapsed:    0.5s remaining:    0.0s\n"
     ]
    },
    {
     "name": "stdout",
     "output_type": "stream",
     "text": [
      "building tree 9 of 200\n",
      "building tree 10 of 200\n",
      "building tree 11 of 200\n",
      "building tree 12 of 200\n",
      "building tree 13 of 200\n",
      "building tree 14 of 200\n",
      "building tree 15 of 200\n",
      "building tree 16 of 200\n",
      "building tree 17 of 200\n",
      "building tree 18 of 200\n",
      "building tree 19 of 200\n",
      "building tree 20 of 200\n",
      "building tree 21 of 200\n",
      "building tree 22 of 200\n",
      "building tree 23 of 200\n",
      "building tree 24 of 200\n",
      "building tree 25 of 200\n",
      "building tree 26 of 200\n",
      "building tree 27 of 200\n",
      "building tree 28 of 200\n",
      "building tree 29 of 200\n",
      "building tree 30 of 200\n",
      "building tree 31 of 200\n",
      "building tree 32 of 200\n",
      "building tree 33 of 200\n",
      "building tree 34 of 200\n",
      "building tree 35 of 200\n",
      "building tree 36 of 200\n",
      "building tree 37 of 200\n",
      "building tree 38 of 200\n",
      "building tree 39 of 200\n",
      "building tree 40 of 200\n",
      "building tree 41 of 200\n",
      "building tree 42 of 200\n",
      "building tree 43 of 200\n",
      "building tree 44 of 200\n",
      "building tree 45 of 200\n",
      "building tree 46 of 200\n",
      "building tree 47 of 200\n",
      "building tree 48 of 200\n",
      "building tree 49 of 200\n",
      "building tree 50 of 200\n",
      "building tree 51 of 200\n",
      "building tree 52 of 200\n",
      "building tree 53 of 200\n",
      "building tree 54 of 200\n",
      "building tree 55 of 200\n",
      "building tree 56 of 200\n",
      "building tree 57 of 200\n",
      "building tree 58 of 200\n",
      "building tree 59 of 200\n",
      "building tree 60 of 200\n",
      "building tree 61 of 200\n",
      "building tree 62 of 200\n",
      "building tree 63 of 200\n",
      "building tree 64 of 200\n",
      "building tree 65 of 200\n",
      "building tree 66 of 200\n",
      "building tree 67 of 200\n",
      "building tree 68 of 200\n",
      "building tree 69 of 200\n",
      "building tree 70 of 200\n",
      "building tree 71 of 200\n",
      "building tree 72 of 200\n",
      "building tree 73 of 200\n",
      "building tree 74 of 200\n",
      "building tree 75 of 200\n",
      "building tree 76 of 200\n",
      "building tree 77 of 200\n",
      "building tree 78 of 200\n",
      "building tree 79 of 200\n",
      "building tree 80 of 200\n",
      "building tree 81 of 200\n",
      "building tree 82 of 200\n",
      "building tree 83 of 200\n",
      "building tree 84 of 200\n",
      "building tree 85 of 200\n",
      "building tree 86 of 200\n",
      "building tree 87 of 200\n",
      "building tree 88 of 200\n",
      "building tree 89 of 200\n",
      "building tree 90 of 200\n",
      "building tree 91 of 200\n",
      "building tree 92 of 200\n",
      "building tree 93 of 200\n",
      "building tree 94 of 200\n",
      "building tree 95 of 200\n",
      "building tree 96 of 200\n",
      "building tree 97 of 200\n",
      "building tree 98 of 200\n",
      "building tree 99 of 200\n",
      "building tree 100 of 200\n",
      "building tree 101 of 200\n",
      "building tree 102 of 200\n",
      "building tree 103 of 200\n",
      "building tree 104 of 200\n",
      "building tree 105 of 200\n",
      "building tree 106 of 200\n",
      "building tree 107 of 200\n",
      "building tree 108 of 200\n",
      "building tree 109 of 200\n",
      "building tree 110 of 200\n",
      "building tree 111 of 200\n",
      "building tree 112 of 200\n",
      "building tree 113 of 200\n",
      "building tree 114 of 200\n",
      "building tree 115 of 200\n",
      "building tree 116 of 200\n",
      "building tree 117 of 200\n",
      "building tree 118 of 200\n",
      "building tree 119 of 200\n",
      "building tree 120 of 200\n",
      "building tree 121 of 200\n",
      "building tree 122 of 200\n",
      "building tree 123 of 200\n",
      "building tree 124 of 200\n",
      "building tree 125 of 200\n",
      "building tree 126 of 200\n",
      "building tree 127 of 200\n",
      "building tree 128 of 200\n",
      "building tree 129 of 200\n",
      "building tree 130 of 200\n",
      "building tree 131 of 200\n",
      "building tree 132 of 200\n",
      "building tree 133 of 200\n",
      "building tree 134 of 200\n",
      "building tree 135 of 200\n",
      "building tree 136 of 200\n",
      "building tree 137 of 200\n",
      "building tree 138 of 200\n",
      "building tree 139 of 200\n",
      "building tree 140 of 200\n",
      "building tree 141 of 200\n",
      "building tree 142 of 200\n",
      "building tree 143 of 200\n",
      "building tree 144 of 200\n",
      "building tree 145 of 200\n",
      "building tree 146 of 200\n",
      "building tree 147 of 200\n",
      "building tree 148 of 200\n",
      "building tree 149 of 200\n",
      "building tree 150 of 200\n",
      "building tree 151 of 200\n",
      "building tree 152 of 200\n",
      "building tree 153 of 200\n",
      "building tree 154 of 200\n",
      "building tree 155 of 200\n",
      "building tree 156 of 200\n",
      "building tree 157 of 200\n",
      "building tree 158 of 200\n",
      "building tree 159 of 200\n",
      "building tree 160 of 200\n",
      "building tree 161 of 200\n",
      "building tree 162 of 200\n",
      "building tree 163 of 200\n",
      "building tree 164 of 200\n",
      "building tree 165 of 200\n",
      "building tree 166 of 200\n",
      "building tree 167 of 200\n",
      "building tree 168 of 200\n",
      "building tree 169 of 200\n",
      "building tree 170 of 200\n",
      "building tree 171 of 200\n",
      "building tree 172 of 200\n",
      "building tree 173 of 200\n",
      "building tree 174 of 200\n",
      "building tree 175 of 200\n",
      "building tree 176 of 200\n",
      "building tree 177 of 200\n",
      "building tree 178 of 200\n",
      "building tree 179 of 200\n",
      "building tree 180 of 200\n",
      "building tree 181 of 200\n",
      "building tree 182 of 200\n",
      "building tree 183 of 200\n",
      "building tree 184 of 200\n",
      "building tree 185 of 200\n",
      "building tree 186 of 200\n",
      "building tree 187 of 200\n",
      "building tree 188 of 200\n",
      "building tree 189 of 200\n",
      "building tree 190 of 200\n",
      "building tree 191 of 200\n",
      "building tree 192 of 200\n",
      "building tree 193 of 200\n",
      "building tree 194 of 200\n",
      "building tree 195 of 200\n",
      "building tree 196 of 200\n",
      "building tree 197 of 200\n",
      "building tree 198 of 200\n",
      "building tree 199 of 200\n",
      "building tree 200 of 200\n"
     ]
    },
    {
     "name": "stderr",
     "output_type": "stream",
     "text": [
      "[Parallel(n_jobs=-1)]: Done 200 out of 200 | elapsed:   11.6s finished\n",
      "[Parallel(n_jobs=1)]: Using backend SequentialBackend with 1 concurrent workers.\n",
      "[Parallel(n_jobs=1)]: Done   1 out of   1 | elapsed:    0.0s remaining:    0.0s\n",
      "[Parallel(n_jobs=1)]: Done   2 out of   2 | elapsed:    0.0s remaining:    0.0s\n",
      "[Parallel(n_jobs=1)]: Done   3 out of   3 | elapsed:    0.0s remaining:    0.0s\n",
      "[Parallel(n_jobs=1)]: Done   4 out of   4 | elapsed:    0.0s remaining:    0.0s\n",
      "[Parallel(n_jobs=1)]: Done   5 out of   5 | elapsed:    0.0s remaining:    0.0s\n",
      "[Parallel(n_jobs=1)]: Done   6 out of   6 | elapsed:    0.0s remaining:    0.0s\n",
      "[Parallel(n_jobs=1)]: Done   7 out of   7 | elapsed:    0.0s remaining:    0.0s\n",
      "[Parallel(n_jobs=1)]: Done   8 out of   8 | elapsed:    0.0s remaining:    0.0s\n",
      "[Parallel(n_jobs=1)]: Done   9 out of   9 | elapsed:    0.0s remaining:    0.0s\n",
      "[Parallel(n_jobs=1)]: Done 200 out of 200 | elapsed:    0.5s finished\n",
      "[Parallel(n_jobs=-1)]: Using backend SequentialBackend with 1 concurrent workers.\n",
      "[Parallel(n_jobs=-1)]: Done   1 out of   1 | elapsed:    0.1s remaining:    0.0s\n",
      "[Parallel(n_jobs=-1)]: Done   2 out of   2 | elapsed:    0.1s remaining:    0.0s\n"
     ]
    },
    {
     "name": "stdout",
     "output_type": "stream",
     "text": [
      "building tree 1 of 250\n",
      "building tree 2 of 250\n",
      "building tree 3 of 250\n",
      "building tree 4 of 250\n"
     ]
    },
    {
     "name": "stderr",
     "output_type": "stream",
     "text": [
      "[Parallel(n_jobs=-1)]: Done   3 out of   3 | elapsed:    0.2s remaining:    0.0s\n",
      "[Parallel(n_jobs=-1)]: Done   4 out of   4 | elapsed:    0.2s remaining:    0.0s\n",
      "[Parallel(n_jobs=-1)]: Done   5 out of   5 | elapsed:    0.3s remaining:    0.0s\n",
      "[Parallel(n_jobs=-1)]: Done   6 out of   6 | elapsed:    0.3s remaining:    0.0s\n"
     ]
    },
    {
     "name": "stdout",
     "output_type": "stream",
     "text": [
      "building tree 5 of 250\n",
      "building tree 6 of 250\n",
      "building tree 7 of 250\n",
      "building tree 8 of 250\n"
     ]
    },
    {
     "name": "stderr",
     "output_type": "stream",
     "text": [
      "[Parallel(n_jobs=-1)]: Done   7 out of   7 | elapsed:    0.4s remaining:    0.0s\n",
      "[Parallel(n_jobs=-1)]: Done   8 out of   8 | elapsed:    0.4s remaining:    0.0s\n",
      "[Parallel(n_jobs=-1)]: Done   9 out of   9 | elapsed:    0.5s remaining:    0.0s\n"
     ]
    },
    {
     "name": "stdout",
     "output_type": "stream",
     "text": [
      "building tree 9 of 250\n",
      "building tree 10 of 250\n",
      "building tree 11 of 250\n",
      "building tree 12 of 250\n",
      "building tree 13 of 250\n",
      "building tree 14 of 250\n",
      "building tree 15 of 250\n",
      "building tree 16 of 250\n",
      "building tree 17 of 250\n",
      "building tree 18 of 250\n",
      "building tree 19 of 250\n",
      "building tree 20 of 250\n",
      "building tree 21 of 250\n",
      "building tree 22 of 250\n",
      "building tree 23 of 250\n",
      "building tree 24 of 250\n",
      "building tree 25 of 250\n",
      "building tree 26 of 250\n",
      "building tree 27 of 250\n",
      "building tree 28 of 250\n",
      "building tree 29 of 250\n",
      "building tree 30 of 250\n",
      "building tree 31 of 250\n",
      "building tree 32 of 250\n",
      "building tree 33 of 250\n",
      "building tree 34 of 250\n",
      "building tree 35 of 250\n",
      "building tree 36 of 250\n",
      "building tree 37 of 250\n",
      "building tree 38 of 250\n",
      "building tree 39 of 250\n",
      "building tree 40 of 250\n",
      "building tree 41 of 250\n",
      "building tree 42 of 250\n",
      "building tree 43 of 250\n",
      "building tree 44 of 250\n",
      "building tree 45 of 250\n",
      "building tree 46 of 250\n",
      "building tree 47 of 250\n",
      "building tree 48 of 250\n",
      "building tree 49 of 250\n",
      "building tree 50 of 250\n",
      "building tree 51 of 250\n",
      "building tree 52 of 250\n",
      "building tree 53 of 250\n",
      "building tree 54 of 250\n",
      "building tree 55 of 250\n",
      "building tree 56 of 250\n",
      "building tree 57 of 250\n",
      "building tree 58 of 250\n",
      "building tree 59 of 250\n",
      "building tree 60 of 250\n",
      "building tree 61 of 250\n",
      "building tree 62 of 250\n",
      "building tree 63 of 250\n",
      "building tree 64 of 250\n",
      "building tree 65 of 250\n",
      "building tree 66 of 250\n",
      "building tree 67 of 250\n",
      "building tree 68 of 250\n",
      "building tree 69 of 250\n",
      "building tree 70 of 250\n",
      "building tree 71 of 250\n",
      "building tree 72 of 250\n",
      "building tree 73 of 250\n",
      "building tree 74 of 250\n",
      "building tree 75 of 250\n",
      "building tree 76 of 250\n",
      "building tree 77 of 250\n",
      "building tree 78 of 250\n",
      "building tree 79 of 250\n",
      "building tree 80 of 250\n",
      "building tree 81 of 250\n",
      "building tree 82 of 250\n",
      "building tree 83 of 250\n",
      "building tree 84 of 250\n",
      "building tree 85 of 250\n",
      "building tree 86 of 250\n",
      "building tree 87 of 250\n",
      "building tree 88 of 250\n",
      "building tree 89 of 250\n",
      "building tree 90 of 250\n",
      "building tree 91 of 250\n",
      "building tree 92 of 250\n",
      "building tree 93 of 250\n",
      "building tree 94 of 250\n",
      "building tree 95 of 250\n",
      "building tree 96 of 250\n",
      "building tree 97 of 250\n",
      "building tree 98 of 250\n",
      "building tree 99 of 250\n",
      "building tree 100 of 250\n",
      "building tree 101 of 250\n",
      "building tree 102 of 250\n",
      "building tree 103 of 250\n",
      "building tree 104 of 250\n",
      "building tree 105 of 250\n",
      "building tree 106 of 250\n",
      "building tree 107 of 250\n",
      "building tree 108 of 250\n",
      "building tree 109 of 250\n",
      "building tree 110 of 250\n",
      "building tree 111 of 250\n",
      "building tree 112 of 250\n",
      "building tree 113 of 250\n",
      "building tree 114 of 250\n",
      "building tree 115 of 250\n",
      "building tree 116 of 250\n",
      "building tree 117 of 250\n",
      "building tree 118 of 250\n",
      "building tree 119 of 250\n",
      "building tree 120 of 250\n",
      "building tree 121 of 250\n",
      "building tree 122 of 250\n",
      "building tree 123 of 250\n",
      "building tree 124 of 250\n",
      "building tree 125 of 250\n",
      "building tree 126 of 250\n",
      "building tree 127 of 250\n",
      "building tree 128 of 250\n",
      "building tree 129 of 250\n",
      "building tree 130 of 250\n",
      "building tree 131 of 250\n",
      "building tree 132 of 250\n",
      "building tree 133 of 250\n",
      "building tree 134 of 250\n",
      "building tree 135 of 250\n",
      "building tree 136 of 250\n",
      "building tree 137 of 250\n",
      "building tree 138 of 250\n",
      "building tree 139 of 250\n",
      "building tree 140 of 250\n",
      "building tree 141 of 250\n",
      "building tree 142 of 250\n",
      "building tree 143 of 250\n",
      "building tree 144 of 250\n",
      "building tree 145 of 250\n",
      "building tree 146 of 250\n",
      "building tree 147 of 250\n",
      "building tree 148 of 250\n",
      "building tree 149 of 250\n",
      "building tree 150 of 250\n",
      "building tree 151 of 250\n",
      "building tree 152 of 250\n",
      "building tree 153 of 250\n",
      "building tree 154 of 250\n",
      "building tree 155 of 250\n",
      "building tree 156 of 250\n",
      "building tree 157 of 250\n",
      "building tree 158 of 250\n",
      "building tree 159 of 250\n",
      "building tree 160 of 250\n",
      "building tree 161 of 250\n",
      "building tree 162 of 250\n",
      "building tree 163 of 250\n",
      "building tree 164 of 250\n",
      "building tree 165 of 250\n",
      "building tree 166 of 250\n",
      "building tree 167 of 250\n",
      "building tree 168 of 250\n",
      "building tree 169 of 250\n",
      "building tree 170 of 250\n",
      "building tree 171 of 250\n",
      "building tree 172 of 250\n",
      "building tree 173 of 250\n",
      "building tree 174 of 250\n",
      "building tree 175 of 250\n",
      "building tree 176 of 250\n",
      "building tree 177 of 250\n",
      "building tree 178 of 250\n",
      "building tree 179 of 250\n",
      "building tree 180 of 250\n",
      "building tree 181 of 250\n",
      "building tree 182 of 250\n",
      "building tree 183 of 250\n",
      "building tree 184 of 250\n",
      "building tree 185 of 250\n",
      "building tree 186 of 250\n",
      "building tree 187 of 250\n",
      "building tree 188 of 250\n",
      "building tree 189 of 250\n",
      "building tree 190 of 250\n",
      "building tree 191 of 250\n",
      "building tree 192 of 250\n",
      "building tree 193 of 250\n",
      "building tree 194 of 250\n",
      "building tree 195 of 250\n",
      "building tree 196 of 250\n",
      "building tree 197 of 250\n",
      "building tree 198 of 250\n",
      "building tree 199 of 250\n",
      "building tree 200 of 250\n",
      "building tree 201 of 250\n",
      "building tree 202 of 250\n",
      "building tree 203 of 250\n",
      "building tree 204 of 250\n",
      "building tree 205 of 250\n",
      "building tree 206 of 250\n",
      "building tree 207 of 250\n",
      "building tree 208 of 250\n",
      "building tree 209 of 250\n",
      "building tree 210 of 250\n",
      "building tree 211 of 250\n",
      "building tree 212 of 250\n",
      "building tree 213 of 250\n",
      "building tree 214 of 250\n",
      "building tree 215 of 250\n",
      "building tree 216 of 250\n",
      "building tree 217 of 250\n",
      "building tree 218 of 250\n",
      "building tree 219 of 250\n",
      "building tree 220 of 250\n",
      "building tree 221 of 250\n",
      "building tree 222 of 250\n",
      "building tree 223 of 250\n",
      "building tree 224 of 250\n",
      "building tree 225 of 250\n",
      "building tree 226 of 250\n",
      "building tree 227 of 250\n",
      "building tree 228 of 250\n",
      "building tree 229 of 250\n",
      "building tree 230 of 250\n",
      "building tree 231 of 250\n",
      "building tree 232 of 250\n",
      "building tree 233 of 250\n",
      "building tree 234 of 250\n",
      "building tree 235 of 250\n",
      "building tree 236 of 250\n",
      "building tree 237 of 250\n",
      "building tree 238 of 250\n",
      "building tree 239 of 250\n",
      "building tree 240 of 250\n",
      "building tree 241 of 250\n",
      "building tree 242 of 250\n",
      "building tree 243 of 250\n",
      "building tree 244 of 250\n",
      "building tree 245 of 250\n",
      "building tree 246 of 250\n",
      "building tree 247 of 250\n",
      "building tree 248 of 250\n",
      "building tree 249 of 250\n",
      "building tree 250 of 250\n"
     ]
    },
    {
     "name": "stderr",
     "output_type": "stream",
     "text": [
      "[Parallel(n_jobs=-1)]: Done 250 out of 250 | elapsed:   14.8s finished\n",
      "[Parallel(n_jobs=1)]: Using backend SequentialBackend with 1 concurrent workers.\n",
      "[Parallel(n_jobs=1)]: Done   1 out of   1 | elapsed:    0.0s remaining:    0.0s\n",
      "[Parallel(n_jobs=1)]: Done   2 out of   2 | elapsed:    0.0s remaining:    0.0s\n",
      "[Parallel(n_jobs=1)]: Done   3 out of   3 | elapsed:    0.0s remaining:    0.0s\n",
      "[Parallel(n_jobs=1)]: Done   4 out of   4 | elapsed:    0.0s remaining:    0.0s\n",
      "[Parallel(n_jobs=1)]: Done   5 out of   5 | elapsed:    0.0s remaining:    0.0s\n",
      "[Parallel(n_jobs=1)]: Done   6 out of   6 | elapsed:    0.0s remaining:    0.0s\n",
      "[Parallel(n_jobs=1)]: Done   7 out of   7 | elapsed:    0.0s remaining:    0.0s\n",
      "[Parallel(n_jobs=1)]: Done   8 out of   8 | elapsed:    0.0s remaining:    0.0s\n",
      "[Parallel(n_jobs=1)]: Done   9 out of   9 | elapsed:    0.0s remaining:    0.0s\n",
      "[Parallel(n_jobs=1)]: Done 250 out of 250 | elapsed:    0.6s finished\n",
      "[Parallel(n_jobs=-1)]: Using backend SequentialBackend with 1 concurrent workers.\n",
      "[Parallel(n_jobs=-1)]: Done   1 out of   1 | elapsed:    0.1s remaining:    0.0s\n",
      "[Parallel(n_jobs=-1)]: Done   2 out of   2 | elapsed:    0.1s remaining:    0.0s\n"
     ]
    },
    {
     "name": "stdout",
     "output_type": "stream",
     "text": [
      "building tree 1 of 300\n",
      "building tree 2 of 300\n",
      "building tree 3 of 300\n",
      "building tree 4 of 300\n"
     ]
    },
    {
     "name": "stderr",
     "output_type": "stream",
     "text": [
      "[Parallel(n_jobs=-1)]: Done   3 out of   3 | elapsed:    0.2s remaining:    0.0s\n",
      "[Parallel(n_jobs=-1)]: Done   4 out of   4 | elapsed:    0.2s remaining:    0.0s\n",
      "[Parallel(n_jobs=-1)]: Done   5 out of   5 | elapsed:    0.3s remaining:    0.0s\n",
      "[Parallel(n_jobs=-1)]: Done   6 out of   6 | elapsed:    0.3s remaining:    0.0s\n"
     ]
    },
    {
     "name": "stdout",
     "output_type": "stream",
     "text": [
      "building tree 5 of 300\n",
      "building tree 6 of 300\n",
      "building tree 7 of 300\n",
      "building tree 8 of 300\n"
     ]
    },
    {
     "name": "stderr",
     "output_type": "stream",
     "text": [
      "[Parallel(n_jobs=-1)]: Done   7 out of   7 | elapsed:    0.4s remaining:    0.0s\n",
      "[Parallel(n_jobs=-1)]: Done   8 out of   8 | elapsed:    0.4s remaining:    0.0s\n",
      "[Parallel(n_jobs=-1)]: Done   9 out of   9 | elapsed:    0.5s remaining:    0.0s\n"
     ]
    },
    {
     "name": "stdout",
     "output_type": "stream",
     "text": [
      "building tree 9 of 300\n",
      "building tree 10 of 300\n",
      "building tree 11 of 300\n",
      "building tree 12 of 300\n",
      "building tree 13 of 300\n",
      "building tree 14 of 300\n",
      "building tree 15 of 300\n",
      "building tree 16 of 300\n",
      "building tree 17 of 300\n",
      "building tree 18 of 300\n",
      "building tree 19 of 300\n",
      "building tree 20 of 300\n",
      "building tree 21 of 300\n",
      "building tree 22 of 300\n",
      "building tree 23 of 300\n",
      "building tree 24 of 300\n",
      "building tree 25 of 300\n",
      "building tree 26 of 300\n",
      "building tree 27 of 300\n",
      "building tree 28 of 300\n",
      "building tree 29 of 300\n",
      "building tree 30 of 300\n",
      "building tree 31 of 300\n",
      "building tree 32 of 300\n",
      "building tree 33 of 300\n",
      "building tree 34 of 300\n",
      "building tree 35 of 300\n",
      "building tree 36 of 300\n",
      "building tree 37 of 300\n",
      "building tree 38 of 300\n",
      "building tree 39 of 300\n",
      "building tree 40 of 300\n",
      "building tree 41 of 300\n",
      "building tree 42 of 300\n",
      "building tree 43 of 300\n",
      "building tree 44 of 300\n",
      "building tree 45 of 300\n",
      "building tree 46 of 300\n",
      "building tree 47 of 300\n",
      "building tree 48 of 300\n",
      "building tree 49 of 300\n",
      "building tree 50 of 300\n",
      "building tree 51 of 300\n",
      "building tree 52 of 300\n",
      "building tree 53 of 300\n",
      "building tree 54 of 300\n",
      "building tree 55 of 300\n",
      "building tree 56 of 300\n",
      "building tree 57 of 300\n",
      "building tree 58 of 300\n",
      "building tree 59 of 300\n",
      "building tree 60 of 300\n",
      "building tree 61 of 300\n",
      "building tree 62 of 300\n",
      "building tree 63 of 300\n",
      "building tree 64 of 300\n",
      "building tree 65 of 300\n",
      "building tree 66 of 300\n",
      "building tree 67 of 300\n",
      "building tree 68 of 300\n",
      "building tree 69 of 300\n",
      "building tree 70 of 300\n",
      "building tree 71 of 300\n",
      "building tree 72 of 300\n",
      "building tree 73 of 300\n",
      "building tree 74 of 300\n",
      "building tree 75 of 300\n",
      "building tree 76 of 300\n",
      "building tree 77 of 300\n",
      "building tree 78 of 300\n",
      "building tree 79 of 300\n",
      "building tree 80 of 300\n",
      "building tree 81 of 300\n",
      "building tree 82 of 300\n",
      "building tree 83 of 300\n",
      "building tree 84 of 300\n",
      "building tree 85 of 300\n",
      "building tree 86 of 300\n",
      "building tree 87 of 300\n",
      "building tree 88 of 300\n",
      "building tree 89 of 300\n",
      "building tree 90 of 300\n",
      "building tree 91 of 300\n",
      "building tree 92 of 300\n",
      "building tree 93 of 300\n",
      "building tree 94 of 300\n",
      "building tree 95 of 300\n",
      "building tree 96 of 300\n",
      "building tree 97 of 300\n",
      "building tree 98 of 300\n",
      "building tree 99 of 300\n",
      "building tree 100 of 300\n",
      "building tree 101 of 300\n",
      "building tree 102 of 300\n",
      "building tree 103 of 300\n",
      "building tree 104 of 300\n",
      "building tree 105 of 300\n",
      "building tree 106 of 300\n",
      "building tree 107 of 300\n",
      "building tree 108 of 300\n",
      "building tree 109 of 300\n",
      "building tree 110 of 300\n",
      "building tree 111 of 300\n",
      "building tree 112 of 300\n",
      "building tree 113 of 300\n",
      "building tree 114 of 300\n",
      "building tree 115 of 300\n",
      "building tree 116 of 300\n",
      "building tree 117 of 300\n",
      "building tree 118 of 300\n",
      "building tree 119 of 300\n",
      "building tree 120 of 300\n",
      "building tree 121 of 300\n",
      "building tree 122 of 300\n",
      "building tree 123 of 300\n",
      "building tree 124 of 300\n",
      "building tree 125 of 300\n",
      "building tree 126 of 300\n",
      "building tree 127 of 300\n",
      "building tree 128 of 300\n",
      "building tree 129 of 300\n",
      "building tree 130 of 300\n",
      "building tree 131 of 300\n",
      "building tree 132 of 300\n",
      "building tree 133 of 300\n",
      "building tree 134 of 300\n",
      "building tree 135 of 300\n",
      "building tree 136 of 300\n",
      "building tree 137 of 300\n",
      "building tree 138 of 300\n",
      "building tree 139 of 300\n",
      "building tree 140 of 300\n",
      "building tree 141 of 300\n",
      "building tree 142 of 300\n",
      "building tree 143 of 300\n",
      "building tree 144 of 300\n",
      "building tree 145 of 300\n",
      "building tree 146 of 300\n",
      "building tree 147 of 300\n",
      "building tree 148 of 300\n",
      "building tree 149 of 300\n",
      "building tree 150 of 300\n",
      "building tree 151 of 300\n",
      "building tree 152 of 300\n",
      "building tree 153 of 300\n",
      "building tree 154 of 300\n",
      "building tree 155 of 300\n",
      "building tree 156 of 300\n",
      "building tree 157 of 300\n",
      "building tree 158 of 300\n",
      "building tree 159 of 300\n",
      "building tree 160 of 300\n",
      "building tree 161 of 300\n",
      "building tree 162 of 300\n",
      "building tree 163 of 300\n",
      "building tree 164 of 300\n",
      "building tree 165 of 300\n",
      "building tree 166 of 300\n",
      "building tree 167 of 300\n",
      "building tree 168 of 300\n",
      "building tree 169 of 300\n",
      "building tree 170 of 300\n",
      "building tree 171 of 300\n",
      "building tree 172 of 300\n",
      "building tree 173 of 300\n",
      "building tree 174 of 300\n",
      "building tree 175 of 300\n",
      "building tree 176 of 300\n",
      "building tree 177 of 300\n",
      "building tree 178 of 300\n",
      "building tree 179 of 300\n",
      "building tree 180 of 300\n",
      "building tree 181 of 300\n",
      "building tree 182 of 300\n",
      "building tree 183 of 300\n",
      "building tree 184 of 300\n",
      "building tree 185 of 300\n",
      "building tree 186 of 300\n",
      "building tree 187 of 300\n",
      "building tree 188 of 300\n",
      "building tree 189 of 300\n",
      "building tree 190 of 300\n",
      "building tree 191 of 300\n",
      "building tree 192 of 300\n",
      "building tree 193 of 300\n",
      "building tree 194 of 300\n",
      "building tree 195 of 300\n",
      "building tree 196 of 300\n",
      "building tree 197 of 300\n",
      "building tree 198 of 300\n",
      "building tree 199 of 300\n",
      "building tree 200 of 300\n",
      "building tree 201 of 300\n",
      "building tree 202 of 300\n",
      "building tree 203 of 300\n",
      "building tree 204 of 300\n",
      "building tree 205 of 300\n",
      "building tree 206 of 300\n",
      "building tree 207 of 300\n",
      "building tree 208 of 300\n",
      "building tree 209 of 300\n",
      "building tree 210 of 300\n",
      "building tree 211 of 300\n",
      "building tree 212 of 300\n",
      "building tree 213 of 300\n",
      "building tree 214 of 300\n",
      "building tree 215 of 300\n",
      "building tree 216 of 300\n",
      "building tree 217 of 300\n",
      "building tree 218 of 300\n",
      "building tree 219 of 300\n",
      "building tree 220 of 300\n",
      "building tree 221 of 300\n",
      "building tree 222 of 300\n",
      "building tree 223 of 300\n",
      "building tree 224 of 300\n",
      "building tree 225 of 300\n",
      "building tree 226 of 300\n",
      "building tree 227 of 300\n",
      "building tree 228 of 300\n",
      "building tree 229 of 300\n",
      "building tree 230 of 300\n",
      "building tree 231 of 300\n",
      "building tree 232 of 300\n",
      "building tree 233 of 300\n",
      "building tree 234 of 300\n",
      "building tree 235 of 300\n",
      "building tree 236 of 300\n",
      "building tree 237 of 300\n",
      "building tree 238 of 300\n",
      "building tree 239 of 300\n",
      "building tree 240 of 300\n",
      "building tree 241 of 300\n",
      "building tree 242 of 300\n",
      "building tree 243 of 300\n",
      "building tree 244 of 300\n",
      "building tree 245 of 300\n",
      "building tree 246 of 300\n",
      "building tree 247 of 300\n",
      "building tree 248 of 300\n",
      "building tree 249 of 300\n",
      "building tree 250 of 300\n",
      "building tree 251 of 300\n",
      "building tree 252 of 300\n",
      "building tree 253 of 300\n",
      "building tree 254 of 300\n",
      "building tree 255 of 300\n",
      "building tree 256 of 300\n",
      "building tree 257 of 300\n",
      "building tree 258 of 300\n",
      "building tree 259 of 300\n",
      "building tree 260 of 300\n",
      "building tree 261 of 300\n",
      "building tree 262 of 300\n",
      "building tree 263 of 300\n",
      "building tree 264 of 300\n",
      "building tree 265 of 300\n",
      "building tree 266 of 300\n",
      "building tree 267 of 300\n",
      "building tree 268 of 300\n",
      "building tree 269 of 300\n",
      "building tree 270 of 300\n",
      "building tree 271 of 300\n",
      "building tree 272 of 300\n",
      "building tree 273 of 300\n",
      "building tree 274 of 300\n",
      "building tree 275 of 300\n",
      "building tree 276 of 300\n",
      "building tree 277 of 300\n",
      "building tree 278 of 300\n",
      "building tree 279 of 300\n",
      "building tree 280 of 300\n",
      "building tree 281 of 300\n",
      "building tree 282 of 300\n",
      "building tree 283 of 300\n",
      "building tree 284 of 300\n",
      "building tree 285 of 300\n",
      "building tree 286 of 300\n",
      "building tree 287 of 300\n",
      "building tree 288 of 300\n",
      "building tree 289 of 300\n",
      "building tree 290 of 300\n",
      "building tree 291 of 300\n",
      "building tree 292 of 300\n",
      "building tree 293 of 300\n",
      "building tree 294 of 300\n",
      "building tree 295 of 300\n",
      "building tree 296 of 300\n",
      "building tree 297 of 300\n",
      "building tree 298 of 300\n",
      "building tree 299 of 300\n",
      "building tree 300 of 300\n"
     ]
    },
    {
     "name": "stderr",
     "output_type": "stream",
     "text": [
      "[Parallel(n_jobs=-1)]: Done 300 out of 300 | elapsed:   17.6s finished\n",
      "[Parallel(n_jobs=1)]: Using backend SequentialBackend with 1 concurrent workers.\n",
      "[Parallel(n_jobs=1)]: Done   1 out of   1 | elapsed:    0.0s remaining:    0.0s\n",
      "[Parallel(n_jobs=1)]: Done   2 out of   2 | elapsed:    0.0s remaining:    0.0s\n",
      "[Parallel(n_jobs=1)]: Done   3 out of   3 | elapsed:    0.0s remaining:    0.0s\n",
      "[Parallel(n_jobs=1)]: Done   4 out of   4 | elapsed:    0.0s remaining:    0.0s\n",
      "[Parallel(n_jobs=1)]: Done   5 out of   5 | elapsed:    0.0s remaining:    0.0s\n",
      "[Parallel(n_jobs=1)]: Done   6 out of   6 | elapsed:    0.0s remaining:    0.0s\n",
      "[Parallel(n_jobs=1)]: Done   7 out of   7 | elapsed:    0.0s remaining:    0.0s\n",
      "[Parallel(n_jobs=1)]: Done   8 out of   8 | elapsed:    0.0s remaining:    0.0s\n",
      "[Parallel(n_jobs=1)]: Done   9 out of   9 | elapsed:    0.0s remaining:    0.0s\n",
      "[Parallel(n_jobs=1)]: Done 300 out of 300 | elapsed:    0.7s finished\n",
      "[Parallel(n_jobs=-1)]: Using backend SequentialBackend with 1 concurrent workers.\n",
      "[Parallel(n_jobs=-1)]: Done   1 out of   1 | elapsed:    0.1s remaining:    0.0s\n",
      "[Parallel(n_jobs=-1)]: Done   2 out of   2 | elapsed:    0.1s remaining:    0.0s\n"
     ]
    },
    {
     "name": "stdout",
     "output_type": "stream",
     "text": [
      "building tree 1 of 100\n",
      "building tree 2 of 100\n",
      "building tree 3 of 100\n",
      "building tree 4 of 100\n"
     ]
    },
    {
     "name": "stderr",
     "output_type": "stream",
     "text": [
      "[Parallel(n_jobs=-1)]: Done   3 out of   3 | elapsed:    0.2s remaining:    0.0s\n",
      "[Parallel(n_jobs=-1)]: Done   4 out of   4 | elapsed:    0.3s remaining:    0.0s\n",
      "[Parallel(n_jobs=-1)]: Done   5 out of   5 | elapsed:    0.3s remaining:    0.0s\n"
     ]
    },
    {
     "name": "stdout",
     "output_type": "stream",
     "text": [
      "building tree 5 of 100\n",
      "building tree 6 of 100\n",
      "building tree 7 of 100\n"
     ]
    },
    {
     "name": "stderr",
     "output_type": "stream",
     "text": [
      "[Parallel(n_jobs=-1)]: Done   6 out of   6 | elapsed:    0.4s remaining:    0.0s\n",
      "[Parallel(n_jobs=-1)]: Done   7 out of   7 | elapsed:    0.5s remaining:    0.0s\n",
      "[Parallel(n_jobs=-1)]: Done   8 out of   8 | elapsed:    0.5s remaining:    0.0s\n",
      "[Parallel(n_jobs=-1)]: Done   9 out of   9 | elapsed:    0.6s remaining:    0.0s\n"
     ]
    },
    {
     "name": "stdout",
     "output_type": "stream",
     "text": [
      "building tree 8 of 100\n",
      "building tree 9 of 100\n",
      "building tree 10 of 100\n",
      "building tree 11 of 100\n",
      "building tree 12 of 100\n",
      "building tree 13 of 100\n",
      "building tree 14 of 100\n",
      "building tree 15 of 100\n",
      "building tree 16 of 100\n",
      "building tree 17 of 100\n",
      "building tree 18 of 100\n",
      "building tree 19 of 100\n",
      "building tree 20 of 100\n",
      "building tree 21 of 100\n",
      "building tree 22 of 100\n",
      "building tree 23 of 100\n",
      "building tree 24 of 100\n",
      "building tree 25 of 100\n",
      "building tree 26 of 100\n",
      "building tree 27 of 100\n",
      "building tree 28 of 100\n",
      "building tree 29 of 100\n",
      "building tree 30 of 100\n",
      "building tree 31 of 100\n",
      "building tree 32 of 100\n",
      "building tree 33 of 100\n",
      "building tree 34 of 100\n",
      "building tree 35 of 100\n",
      "building tree 36 of 100\n",
      "building tree 37 of 100\n",
      "building tree 38 of 100\n",
      "building tree 39 of 100\n",
      "building tree 40 of 100\n",
      "building tree 41 of 100\n",
      "building tree 42 of 100\n",
      "building tree 43 of 100\n",
      "building tree 44 of 100\n",
      "building tree 45 of 100\n",
      "building tree 46 of 100\n",
      "building tree 47 of 100\n",
      "building tree 48 of 100\n",
      "building tree 49 of 100\n",
      "building tree 50 of 100\n",
      "building tree 51 of 100\n",
      "building tree 52 of 100\n",
      "building tree 53 of 100\n",
      "building tree 54 of 100\n",
      "building tree 55 of 100\n",
      "building tree 56 of 100\n",
      "building tree 57 of 100\n",
      "building tree 58 of 100\n",
      "building tree 59 of 100\n",
      "building tree 60 of 100\n",
      "building tree 61 of 100\n",
      "building tree 62 of 100\n",
      "building tree 63 of 100\n",
      "building tree 64 of 100\n",
      "building tree 65 of 100\n",
      "building tree 66 of 100\n",
      "building tree 67 of 100\n",
      "building tree 68 of 100\n",
      "building tree 69 of 100\n",
      "building tree 70 of 100\n",
      "building tree 71 of 100\n",
      "building tree 72 of 100\n",
      "building tree 73 of 100\n",
      "building tree 74 of 100\n",
      "building tree 75 of 100\n",
      "building tree 76 of 100\n",
      "building tree 77 of 100\n",
      "building tree 78 of 100\n",
      "building tree 79 of 100\n",
      "building tree 80 of 100\n",
      "building tree 81 of 100\n",
      "building tree 82 of 100\n",
      "building tree 83 of 100\n",
      "building tree 84 of 100\n",
      "building tree 85 of 100\n",
      "building tree 86 of 100\n",
      "building tree 87 of 100\n",
      "building tree 88 of 100\n",
      "building tree 89 of 100\n",
      "building tree 90 of 100\n",
      "building tree 91 of 100\n",
      "building tree 92 of 100\n",
      "building tree 93 of 100\n",
      "building tree 94 of 100\n",
      "building tree 95 of 100\n",
      "building tree 96 of 100\n",
      "building tree 97 of 100\n",
      "building tree 98 of 100\n",
      "building tree 99 of 100\n",
      "building tree 100 of 100\n"
     ]
    },
    {
     "name": "stderr",
     "output_type": "stream",
     "text": [
      "[Parallel(n_jobs=-1)]: Done 100 out of 100 | elapsed:    6.6s finished\n",
      "[Parallel(n_jobs=1)]: Using backend SequentialBackend with 1 concurrent workers.\n",
      "[Parallel(n_jobs=1)]: Done   1 out of   1 | elapsed:    0.0s remaining:    0.0s\n",
      "[Parallel(n_jobs=1)]: Done   2 out of   2 | elapsed:    0.0s remaining:    0.0s\n",
      "[Parallel(n_jobs=1)]: Done   3 out of   3 | elapsed:    0.0s remaining:    0.0s\n",
      "[Parallel(n_jobs=1)]: Done   4 out of   4 | elapsed:    0.0s remaining:    0.0s\n",
      "[Parallel(n_jobs=1)]: Done   5 out of   5 | elapsed:    0.0s remaining:    0.0s\n",
      "[Parallel(n_jobs=1)]: Done   6 out of   6 | elapsed:    0.0s remaining:    0.0s\n",
      "[Parallel(n_jobs=1)]: Done   7 out of   7 | elapsed:    0.0s remaining:    0.0s\n",
      "[Parallel(n_jobs=1)]: Done   8 out of   8 | elapsed:    0.0s remaining:    0.0s\n",
      "[Parallel(n_jobs=1)]: Done   9 out of   9 | elapsed:    0.0s remaining:    0.0s\n",
      "[Parallel(n_jobs=1)]: Done 100 out of 100 | elapsed:    0.3s finished\n",
      "[Parallel(n_jobs=-1)]: Using backend SequentialBackend with 1 concurrent workers.\n",
      "[Parallel(n_jobs=-1)]: Done   1 out of   1 | elapsed:    0.1s remaining:    0.0s\n",
      "[Parallel(n_jobs=-1)]: Done   2 out of   2 | elapsed:    0.1s remaining:    0.0s\n"
     ]
    },
    {
     "name": "stdout",
     "output_type": "stream",
     "text": [
      "building tree 1 of 150\n",
      "building tree 2 of 150\n",
      "building tree 3 of 150\n",
      "building tree 4 of 150\n"
     ]
    },
    {
     "name": "stderr",
     "output_type": "stream",
     "text": [
      "[Parallel(n_jobs=-1)]: Done   3 out of   3 | elapsed:    0.2s remaining:    0.0s\n",
      "[Parallel(n_jobs=-1)]: Done   4 out of   4 | elapsed:    0.2s remaining:    0.0s\n",
      "[Parallel(n_jobs=-1)]: Done   5 out of   5 | elapsed:    0.3s remaining:    0.0s\n",
      "[Parallel(n_jobs=-1)]: Done   6 out of   6 | elapsed:    0.4s remaining:    0.0s\n"
     ]
    },
    {
     "name": "stdout",
     "output_type": "stream",
     "text": [
      "building tree 5 of 150\n",
      "building tree 6 of 150\n",
      "building tree 7 of 150\n",
      "building tree 8 of 150\n"
     ]
    },
    {
     "name": "stderr",
     "output_type": "stream",
     "text": [
      "[Parallel(n_jobs=-1)]: Done   7 out of   7 | elapsed:    0.4s remaining:    0.0s\n",
      "[Parallel(n_jobs=-1)]: Done   8 out of   8 | elapsed:    0.5s remaining:    0.0s\n",
      "[Parallel(n_jobs=-1)]: Done   9 out of   9 | elapsed:    0.6s remaining:    0.0s\n"
     ]
    },
    {
     "name": "stdout",
     "output_type": "stream",
     "text": [
      "building tree 9 of 150\n",
      "building tree 10 of 150\n",
      "building tree 11 of 150\n",
      "building tree 12 of 150\n",
      "building tree 13 of 150\n",
      "building tree 14 of 150\n",
      "building tree 15 of 150\n",
      "building tree 16 of 150\n",
      "building tree 17 of 150\n",
      "building tree 18 of 150\n",
      "building tree 19 of 150\n",
      "building tree 20 of 150\n",
      "building tree 21 of 150\n",
      "building tree 22 of 150\n",
      "building tree 23 of 150\n",
      "building tree 24 of 150\n",
      "building tree 25 of 150\n",
      "building tree 26 of 150\n",
      "building tree 27 of 150\n",
      "building tree 28 of 150\n",
      "building tree 29 of 150\n",
      "building tree 30 of 150\n",
      "building tree 31 of 150\n",
      "building tree 32 of 150\n",
      "building tree 33 of 150\n",
      "building tree 34 of 150\n",
      "building tree 35 of 150\n",
      "building tree 36 of 150\n",
      "building tree 37 of 150\n",
      "building tree 38 of 150\n",
      "building tree 39 of 150\n",
      "building tree 40 of 150\n",
      "building tree 41 of 150\n",
      "building tree 42 of 150\n",
      "building tree 43 of 150\n",
      "building tree 44 of 150\n",
      "building tree 45 of 150\n",
      "building tree 46 of 150\n",
      "building tree 47 of 150\n",
      "building tree 48 of 150\n",
      "building tree 49 of 150\n",
      "building tree 50 of 150\n",
      "building tree 51 of 150\n",
      "building tree 52 of 150\n",
      "building tree 53 of 150\n",
      "building tree 54 of 150\n",
      "building tree 55 of 150\n",
      "building tree 56 of 150\n",
      "building tree 57 of 150\n",
      "building tree 58 of 150\n",
      "building tree 59 of 150\n",
      "building tree 60 of 150\n",
      "building tree 61 of 150\n",
      "building tree 62 of 150\n",
      "building tree 63 of 150\n",
      "building tree 64 of 150\n",
      "building tree 65 of 150\n",
      "building tree 66 of 150\n",
      "building tree 67 of 150\n",
      "building tree 68 of 150\n",
      "building tree 69 of 150\n",
      "building tree 70 of 150\n",
      "building tree 71 of 150\n",
      "building tree 72 of 150\n",
      "building tree 73 of 150\n",
      "building tree 74 of 150\n",
      "building tree 75 of 150\n",
      "building tree 76 of 150\n",
      "building tree 77 of 150\n",
      "building tree 78 of 150\n",
      "building tree 79 of 150\n",
      "building tree 80 of 150\n",
      "building tree 81 of 150\n",
      "building tree 82 of 150\n",
      "building tree 83 of 150\n",
      "building tree 84 of 150\n",
      "building tree 85 of 150\n",
      "building tree 86 of 150\n",
      "building tree 87 of 150\n",
      "building tree 88 of 150\n",
      "building tree 89 of 150\n",
      "building tree 90 of 150\n",
      "building tree 91 of 150\n",
      "building tree 92 of 150\n",
      "building tree 93 of 150\n",
      "building tree 94 of 150\n",
      "building tree 95 of 150\n",
      "building tree 96 of 150\n",
      "building tree 97 of 150\n",
      "building tree 98 of 150\n",
      "building tree 99 of 150\n",
      "building tree 100 of 150\n",
      "building tree 101 of 150\n",
      "building tree 102 of 150\n",
      "building tree 103 of 150\n",
      "building tree 104 of 150\n",
      "building tree 105 of 150\n",
      "building tree 106 of 150\n",
      "building tree 107 of 150\n",
      "building tree 108 of 150\n",
      "building tree 109 of 150\n",
      "building tree 110 of 150\n",
      "building tree 111 of 150\n",
      "building tree 112 of 150\n",
      "building tree 113 of 150\n",
      "building tree 114 of 150\n",
      "building tree 115 of 150\n",
      "building tree 116 of 150\n",
      "building tree 117 of 150\n",
      "building tree 118 of 150\n",
      "building tree 119 of 150\n",
      "building tree 120 of 150\n",
      "building tree 121 of 150\n",
      "building tree 122 of 150\n",
      "building tree 123 of 150\n",
      "building tree 124 of 150\n",
      "building tree 125 of 150\n",
      "building tree 126 of 150\n",
      "building tree 127 of 150\n",
      "building tree 128 of 150\n",
      "building tree 129 of 150\n",
      "building tree 130 of 150\n",
      "building tree 131 of 150\n",
      "building tree 132 of 150\n",
      "building tree 133 of 150\n",
      "building tree 134 of 150\n",
      "building tree 135 of 150\n",
      "building tree 136 of 150\n",
      "building tree 137 of 150\n",
      "building tree 138 of 150\n",
      "building tree 139 of 150\n",
      "building tree 140 of 150\n",
      "building tree 141 of 150\n",
      "building tree 142 of 150\n",
      "building tree 143 of 150\n",
      "building tree 144 of 150\n",
      "building tree 145 of 150\n",
      "building tree 146 of 150\n",
      "building tree 147 of 150\n",
      "building tree 148 of 150\n",
      "building tree 149 of 150\n",
      "building tree 150 of 150\n"
     ]
    },
    {
     "name": "stderr",
     "output_type": "stream",
     "text": [
      "[Parallel(n_jobs=-1)]: Done 150 out of 150 | elapsed:    9.8s finished\n",
      "[Parallel(n_jobs=1)]: Using backend SequentialBackend with 1 concurrent workers.\n",
      "[Parallel(n_jobs=1)]: Done   1 out of   1 | elapsed:    0.0s remaining:    0.0s\n",
      "[Parallel(n_jobs=1)]: Done   2 out of   2 | elapsed:    0.0s remaining:    0.0s\n",
      "[Parallel(n_jobs=1)]: Done   3 out of   3 | elapsed:    0.0s remaining:    0.0s\n",
      "[Parallel(n_jobs=1)]: Done   4 out of   4 | elapsed:    0.0s remaining:    0.0s\n",
      "[Parallel(n_jobs=1)]: Done   5 out of   5 | elapsed:    0.0s remaining:    0.0s\n",
      "[Parallel(n_jobs=1)]: Done   6 out of   6 | elapsed:    0.0s remaining:    0.0s\n",
      "[Parallel(n_jobs=1)]: Done   7 out of   7 | elapsed:    0.0s remaining:    0.0s\n",
      "[Parallel(n_jobs=1)]: Done   8 out of   8 | elapsed:    0.0s remaining:    0.0s\n",
      "[Parallel(n_jobs=1)]: Done   9 out of   9 | elapsed:    0.0s remaining:    0.0s\n",
      "[Parallel(n_jobs=1)]: Done 150 out of 150 | elapsed:    0.4s finished\n",
      "[Parallel(n_jobs=-1)]: Using backend SequentialBackend with 1 concurrent workers.\n",
      "[Parallel(n_jobs=-1)]: Done   1 out of   1 | elapsed:    0.1s remaining:    0.0s\n",
      "[Parallel(n_jobs=-1)]: Done   2 out of   2 | elapsed:    0.1s remaining:    0.0s\n"
     ]
    },
    {
     "name": "stdout",
     "output_type": "stream",
     "text": [
      "building tree 1 of 200\n",
      "building tree 2 of 200\n",
      "building tree 3 of 200\n",
      "building tree 4 of 200\n"
     ]
    },
    {
     "name": "stderr",
     "output_type": "stream",
     "text": [
      "[Parallel(n_jobs=-1)]: Done   3 out of   3 | elapsed:    0.2s remaining:    0.0s\n",
      "[Parallel(n_jobs=-1)]: Done   4 out of   4 | elapsed:    0.3s remaining:    0.0s\n",
      "[Parallel(n_jobs=-1)]: Done   5 out of   5 | elapsed:    0.3s remaining:    0.0s\n",
      "[Parallel(n_jobs=-1)]: Done   6 out of   6 | elapsed:    0.4s remaining:    0.0s\n"
     ]
    },
    {
     "name": "stdout",
     "output_type": "stream",
     "text": [
      "building tree 5 of 200\n",
      "building tree 6 of 200\n",
      "building tree 7 of 200\n"
     ]
    },
    {
     "name": "stderr",
     "output_type": "stream",
     "text": [
      "[Parallel(n_jobs=-1)]: Done   7 out of   7 | elapsed:    0.5s remaining:    0.0s\n",
      "[Parallel(n_jobs=-1)]: Done   8 out of   8 | elapsed:    0.5s remaining:    0.0s\n",
      "[Parallel(n_jobs=-1)]: Done   9 out of   9 | elapsed:    0.6s remaining:    0.0s\n"
     ]
    },
    {
     "name": "stdout",
     "output_type": "stream",
     "text": [
      "building tree 8 of 200\n",
      "building tree 9 of 200\n",
      "building tree 10 of 200\n",
      "building tree 11 of 200\n",
      "building tree 12 of 200\n",
      "building tree 13 of 200\n",
      "building tree 14 of 200\n",
      "building tree 15 of 200\n",
      "building tree 16 of 200\n",
      "building tree 17 of 200\n",
      "building tree 18 of 200\n",
      "building tree 19 of 200\n",
      "building tree 20 of 200\n",
      "building tree 21 of 200\n",
      "building tree 22 of 200\n",
      "building tree 23 of 200\n",
      "building tree 24 of 200\n",
      "building tree 25 of 200\n",
      "building tree 26 of 200\n",
      "building tree 27 of 200\n",
      "building tree 28 of 200\n",
      "building tree 29 of 200\n",
      "building tree 30 of 200\n",
      "building tree 31 of 200\n",
      "building tree 32 of 200\n",
      "building tree 33 of 200\n",
      "building tree 34 of 200\n",
      "building tree 35 of 200\n",
      "building tree 36 of 200\n",
      "building tree 37 of 200\n",
      "building tree 38 of 200\n",
      "building tree 39 of 200\n",
      "building tree 40 of 200\n",
      "building tree 41 of 200\n",
      "building tree 42 of 200\n",
      "building tree 43 of 200\n",
      "building tree 44 of 200\n",
      "building tree 45 of 200\n",
      "building tree 46 of 200\n",
      "building tree 47 of 200\n",
      "building tree 48 of 200\n",
      "building tree 49 of 200\n",
      "building tree 50 of 200\n",
      "building tree 51 of 200\n",
      "building tree 52 of 200\n",
      "building tree 53 of 200\n",
      "building tree 54 of 200\n",
      "building tree 55 of 200\n",
      "building tree 56 of 200\n",
      "building tree 57 of 200\n",
      "building tree 58 of 200\n",
      "building tree 59 of 200\n",
      "building tree 60 of 200\n",
      "building tree 61 of 200\n",
      "building tree 62 of 200\n",
      "building tree 63 of 200\n",
      "building tree 64 of 200\n",
      "building tree 65 of 200\n",
      "building tree 66 of 200\n",
      "building tree 67 of 200\n",
      "building tree 68 of 200\n",
      "building tree 69 of 200\n",
      "building tree 70 of 200\n",
      "building tree 71 of 200\n",
      "building tree 72 of 200\n",
      "building tree 73 of 200\n",
      "building tree 74 of 200\n",
      "building tree 75 of 200\n",
      "building tree 76 of 200\n",
      "building tree 77 of 200\n",
      "building tree 78 of 200\n",
      "building tree 79 of 200\n",
      "building tree 80 of 200\n",
      "building tree 81 of 200\n",
      "building tree 82 of 200\n",
      "building tree 83 of 200\n",
      "building tree 84 of 200\n",
      "building tree 85 of 200\n",
      "building tree 86 of 200\n",
      "building tree 87 of 200\n",
      "building tree 88 of 200\n",
      "building tree 89 of 200\n",
      "building tree 90 of 200\n",
      "building tree 91 of 200\n",
      "building tree 92 of 200\n",
      "building tree 93 of 200\n",
      "building tree 94 of 200\n",
      "building tree 95 of 200\n",
      "building tree 96 of 200\n",
      "building tree 97 of 200\n",
      "building tree 98 of 200\n",
      "building tree 99 of 200\n",
      "building tree 100 of 200\n",
      "building tree 101 of 200\n",
      "building tree 102 of 200\n",
      "building tree 103 of 200\n",
      "building tree 104 of 200\n",
      "building tree 105 of 200\n",
      "building tree 106 of 200\n",
      "building tree 107 of 200\n",
      "building tree 108 of 200\n",
      "building tree 109 of 200\n",
      "building tree 110 of 200\n",
      "building tree 111 of 200\n",
      "building tree 112 of 200\n",
      "building tree 113 of 200\n",
      "building tree 114 of 200\n",
      "building tree 115 of 200\n",
      "building tree 116 of 200\n",
      "building tree 117 of 200\n",
      "building tree 118 of 200\n",
      "building tree 119 of 200\n",
      "building tree 120 of 200\n",
      "building tree 121 of 200\n",
      "building tree 122 of 200\n",
      "building tree 123 of 200\n",
      "building tree 124 of 200\n",
      "building tree 125 of 200\n",
      "building tree 126 of 200\n",
      "building tree 127 of 200\n",
      "building tree 128 of 200\n",
      "building tree 129 of 200\n",
      "building tree 130 of 200\n",
      "building tree 131 of 200\n",
      "building tree 132 of 200\n",
      "building tree 133 of 200\n",
      "building tree 134 of 200\n",
      "building tree 135 of 200\n",
      "building tree 136 of 200\n",
      "building tree 137 of 200\n",
      "building tree 138 of 200\n",
      "building tree 139 of 200\n",
      "building tree 140 of 200\n",
      "building tree 141 of 200\n",
      "building tree 142 of 200\n",
      "building tree 143 of 200\n",
      "building tree 144 of 200\n",
      "building tree 145 of 200\n",
      "building tree 146 of 200\n",
      "building tree 147 of 200\n",
      "building tree 148 of 200\n",
      "building tree 149 of 200\n",
      "building tree 150 of 200\n",
      "building tree 151 of 200\n",
      "building tree 152 of 200\n",
      "building tree 153 of 200\n",
      "building tree 154 of 200\n",
      "building tree 155 of 200\n",
      "building tree 156 of 200\n",
      "building tree 157 of 200\n",
      "building tree 158 of 200\n",
      "building tree 159 of 200\n",
      "building tree 160 of 200\n",
      "building tree 161 of 200\n",
      "building tree 162 of 200\n",
      "building tree 163 of 200\n",
      "building tree 164 of 200\n",
      "building tree 165 of 200\n",
      "building tree 166 of 200\n",
      "building tree 167 of 200\n",
      "building tree 168 of 200\n",
      "building tree 169 of 200\n",
      "building tree 170 of 200\n",
      "building tree 171 of 200\n",
      "building tree 172 of 200\n",
      "building tree 173 of 200\n",
      "building tree 174 of 200\n",
      "building tree 175 of 200\n",
      "building tree 176 of 200\n",
      "building tree 177 of 200\n",
      "building tree 178 of 200\n",
      "building tree 179 of 200\n",
      "building tree 180 of 200\n",
      "building tree 181 of 200\n",
      "building tree 182 of 200\n",
      "building tree 183 of 200\n",
      "building tree 184 of 200\n",
      "building tree 185 of 200\n",
      "building tree 186 of 200\n",
      "building tree 187 of 200\n",
      "building tree 188 of 200\n",
      "building tree 189 of 200\n",
      "building tree 190 of 200\n",
      "building tree 191 of 200\n",
      "building tree 192 of 200\n",
      "building tree 193 of 200\n",
      "building tree 194 of 200\n",
      "building tree 195 of 200\n",
      "building tree 196 of 200\n",
      "building tree 197 of 200\n",
      "building tree 198 of 200\n",
      "building tree 199 of 200\n",
      "building tree 200 of 200\n"
     ]
    },
    {
     "name": "stderr",
     "output_type": "stream",
     "text": [
      "[Parallel(n_jobs=-1)]: Done 200 out of 200 | elapsed:   13.2s finished\n",
      "[Parallel(n_jobs=1)]: Using backend SequentialBackend with 1 concurrent workers.\n",
      "[Parallel(n_jobs=1)]: Done   1 out of   1 | elapsed:    0.0s remaining:    0.0s\n",
      "[Parallel(n_jobs=1)]: Done   2 out of   2 | elapsed:    0.0s remaining:    0.0s\n",
      "[Parallel(n_jobs=1)]: Done   3 out of   3 | elapsed:    0.0s remaining:    0.0s\n",
      "[Parallel(n_jobs=1)]: Done   4 out of   4 | elapsed:    0.0s remaining:    0.0s\n",
      "[Parallel(n_jobs=1)]: Done   5 out of   5 | elapsed:    0.0s remaining:    0.0s\n",
      "[Parallel(n_jobs=1)]: Done   6 out of   6 | elapsed:    0.0s remaining:    0.0s\n",
      "[Parallel(n_jobs=1)]: Done   7 out of   7 | elapsed:    0.0s remaining:    0.0s\n",
      "[Parallel(n_jobs=1)]: Done   8 out of   8 | elapsed:    0.0s remaining:    0.0s\n",
      "[Parallel(n_jobs=1)]: Done   9 out of   9 | elapsed:    0.0s remaining:    0.0s\n",
      "[Parallel(n_jobs=1)]: Done 200 out of 200 | elapsed:    0.6s finished\n",
      "[Parallel(n_jobs=-1)]: Using backend SequentialBackend with 1 concurrent workers.\n",
      "[Parallel(n_jobs=-1)]: Done   1 out of   1 | elapsed:    0.1s remaining:    0.0s\n"
     ]
    },
    {
     "name": "stdout",
     "output_type": "stream",
     "text": [
      "building tree 1 of 250\n",
      "building tree 2 of 250\n",
      "building tree 3 of 250\n",
      "building tree 4 of 250\n"
     ]
    },
    {
     "name": "stderr",
     "output_type": "stream",
     "text": [
      "[Parallel(n_jobs=-1)]: Done   2 out of   2 | elapsed:    0.1s remaining:    0.0s\n",
      "[Parallel(n_jobs=-1)]: Done   3 out of   3 | elapsed:    0.2s remaining:    0.0s\n",
      "[Parallel(n_jobs=-1)]: Done   4 out of   4 | elapsed:    0.3s remaining:    0.0s\n",
      "[Parallel(n_jobs=-1)]: Done   5 out of   5 | elapsed:    0.3s remaining:    0.0s\n"
     ]
    },
    {
     "name": "stdout",
     "output_type": "stream",
     "text": [
      "building tree 5 of 250\n",
      "building tree 6 of 250\n",
      "building tree 7 of 250\n",
      "building tree 8 of 250\n"
     ]
    },
    {
     "name": "stderr",
     "output_type": "stream",
     "text": [
      "[Parallel(n_jobs=-1)]: Done   6 out of   6 | elapsed:    0.4s remaining:    0.0s\n",
      "[Parallel(n_jobs=-1)]: Done   7 out of   7 | elapsed:    0.4s remaining:    0.0s\n",
      "[Parallel(n_jobs=-1)]: Done   8 out of   8 | elapsed:    0.5s remaining:    0.0s\n",
      "[Parallel(n_jobs=-1)]: Done   9 out of   9 | elapsed:    0.6s remaining:    0.0s\n"
     ]
    },
    {
     "name": "stdout",
     "output_type": "stream",
     "text": [
      "building tree 9 of 250\n",
      "building tree 10 of 250\n",
      "building tree 11 of 250\n",
      "building tree 12 of 250\n",
      "building tree 13 of 250\n",
      "building tree 14 of 250\n",
      "building tree 15 of 250\n",
      "building tree 16 of 250\n",
      "building tree 17 of 250\n",
      "building tree 18 of 250\n",
      "building tree 19 of 250\n",
      "building tree 20 of 250\n",
      "building tree 21 of 250\n",
      "building tree 22 of 250\n",
      "building tree 23 of 250\n",
      "building tree 24 of 250\n",
      "building tree 25 of 250\n",
      "building tree 26 of 250\n",
      "building tree 27 of 250\n",
      "building tree 28 of 250\n",
      "building tree 29 of 250\n",
      "building tree 30 of 250\n",
      "building tree 31 of 250\n",
      "building tree 32 of 250\n",
      "building tree 33 of 250\n",
      "building tree 34 of 250\n",
      "building tree 35 of 250\n",
      "building tree 36 of 250\n",
      "building tree 37 of 250\n",
      "building tree 38 of 250\n",
      "building tree 39 of 250\n",
      "building tree 40 of 250\n",
      "building tree 41 of 250\n",
      "building tree 42 of 250\n",
      "building tree 43 of 250\n",
      "building tree 44 of 250\n",
      "building tree 45 of 250\n",
      "building tree 46 of 250\n",
      "building tree 47 of 250\n",
      "building tree 48 of 250\n",
      "building tree 49 of 250\n",
      "building tree 50 of 250\n",
      "building tree 51 of 250\n",
      "building tree 52 of 250\n",
      "building tree 53 of 250\n",
      "building tree 54 of 250\n",
      "building tree 55 of 250\n",
      "building tree 56 of 250\n",
      "building tree 57 of 250\n",
      "building tree 58 of 250\n",
      "building tree 59 of 250\n",
      "building tree 60 of 250\n",
      "building tree 61 of 250\n",
      "building tree 62 of 250\n",
      "building tree 63 of 250\n",
      "building tree 64 of 250\n",
      "building tree 65 of 250\n",
      "building tree 66 of 250\n",
      "building tree 67 of 250\n",
      "building tree 68 of 250\n",
      "building tree 69 of 250\n",
      "building tree 70 of 250\n",
      "building tree 71 of 250\n",
      "building tree 72 of 250\n",
      "building tree 73 of 250\n",
      "building tree 74 of 250\n",
      "building tree 75 of 250\n",
      "building tree 76 of 250\n",
      "building tree 77 of 250\n",
      "building tree 78 of 250\n",
      "building tree 79 of 250\n",
      "building tree 80 of 250\n",
      "building tree 81 of 250\n",
      "building tree 82 of 250\n",
      "building tree 83 of 250\n",
      "building tree 84 of 250\n",
      "building tree 85 of 250\n",
      "building tree 86 of 250\n",
      "building tree 87 of 250\n",
      "building tree 88 of 250\n",
      "building tree 89 of 250\n",
      "building tree 90 of 250\n",
      "building tree 91 of 250\n",
      "building tree 92 of 250\n",
      "building tree 93 of 250\n",
      "building tree 94 of 250\n",
      "building tree 95 of 250\n",
      "building tree 96 of 250\n",
      "building tree 97 of 250\n",
      "building tree 98 of 250\n",
      "building tree 99 of 250\n",
      "building tree 100 of 250\n",
      "building tree 101 of 250\n",
      "building tree 102 of 250\n",
      "building tree 103 of 250\n",
      "building tree 104 of 250\n",
      "building tree 105 of 250\n",
      "building tree 106 of 250\n",
      "building tree 107 of 250\n",
      "building tree 108 of 250\n",
      "building tree 109 of 250\n",
      "building tree 110 of 250\n",
      "building tree 111 of 250\n",
      "building tree 112 of 250\n",
      "building tree 113 of 250\n",
      "building tree 114 of 250\n",
      "building tree 115 of 250\n",
      "building tree 116 of 250\n",
      "building tree 117 of 250\n",
      "building tree 118 of 250\n",
      "building tree 119 of 250\n",
      "building tree 120 of 250\n",
      "building tree 121 of 250\n",
      "building tree 122 of 250\n",
      "building tree 123 of 250\n",
      "building tree 124 of 250\n",
      "building tree 125 of 250\n",
      "building tree 126 of 250\n",
      "building tree 127 of 250\n",
      "building tree 128 of 250\n",
      "building tree 129 of 250\n",
      "building tree 130 of 250\n",
      "building tree 131 of 250\n",
      "building tree 132 of 250\n",
      "building tree 133 of 250\n",
      "building tree 134 of 250\n",
      "building tree 135 of 250\n",
      "building tree 136 of 250\n",
      "building tree 137 of 250\n",
      "building tree 138 of 250\n",
      "building tree 139 of 250\n",
      "building tree 140 of 250\n",
      "building tree 141 of 250\n",
      "building tree 142 of 250\n",
      "building tree 143 of 250\n",
      "building tree 144 of 250\n",
      "building tree 145 of 250\n",
      "building tree 146 of 250\n",
      "building tree 147 of 250\n",
      "building tree 148 of 250\n",
      "building tree 149 of 250\n",
      "building tree 150 of 250\n",
      "building tree 151 of 250\n",
      "building tree 152 of 250\n",
      "building tree 153 of 250\n",
      "building tree 154 of 250\n",
      "building tree 155 of 250\n",
      "building tree 156 of 250\n",
      "building tree 157 of 250\n",
      "building tree 158 of 250\n",
      "building tree 159 of 250\n",
      "building tree 160 of 250\n",
      "building tree 161 of 250\n",
      "building tree 162 of 250\n",
      "building tree 163 of 250\n",
      "building tree 164 of 250\n",
      "building tree 165 of 250\n",
      "building tree 166 of 250\n",
      "building tree 167 of 250\n",
      "building tree 168 of 250\n",
      "building tree 169 of 250\n",
      "building tree 170 of 250\n",
      "building tree 171 of 250\n",
      "building tree 172 of 250\n",
      "building tree 173 of 250\n",
      "building tree 174 of 250\n",
      "building tree 175 of 250\n",
      "building tree 176 of 250\n",
      "building tree 177 of 250\n",
      "building tree 178 of 250\n",
      "building tree 179 of 250\n",
      "building tree 180 of 250\n",
      "building tree 181 of 250\n",
      "building tree 182 of 250\n",
      "building tree 183 of 250\n",
      "building tree 184 of 250\n",
      "building tree 185 of 250\n",
      "building tree 186 of 250\n",
      "building tree 187 of 250\n",
      "building tree 188 of 250\n",
      "building tree 189 of 250\n",
      "building tree 190 of 250\n",
      "building tree 191 of 250\n",
      "building tree 192 of 250\n",
      "building tree 193 of 250\n",
      "building tree 194 of 250\n",
      "building tree 195 of 250\n",
      "building tree 196 of 250\n",
      "building tree 197 of 250\n",
      "building tree 198 of 250\n",
      "building tree 199 of 250\n",
      "building tree 200 of 250\n",
      "building tree 201 of 250\n",
      "building tree 202 of 250\n",
      "building tree 203 of 250\n",
      "building tree 204 of 250\n",
      "building tree 205 of 250\n",
      "building tree 206 of 250\n",
      "building tree 207 of 250\n",
      "building tree 208 of 250\n",
      "building tree 209 of 250\n",
      "building tree 210 of 250\n",
      "building tree 211 of 250\n",
      "building tree 212 of 250\n",
      "building tree 213 of 250\n",
      "building tree 214 of 250\n",
      "building tree 215 of 250\n",
      "building tree 216 of 250\n",
      "building tree 217 of 250\n",
      "building tree 218 of 250\n",
      "building tree 219 of 250\n",
      "building tree 220 of 250\n",
      "building tree 221 of 250\n",
      "building tree 222 of 250\n",
      "building tree 223 of 250\n",
      "building tree 224 of 250\n",
      "building tree 225 of 250\n",
      "building tree 226 of 250\n",
      "building tree 227 of 250\n",
      "building tree 228 of 250\n",
      "building tree 229 of 250\n",
      "building tree 230 of 250\n",
      "building tree 231 of 250\n",
      "building tree 232 of 250\n",
      "building tree 233 of 250\n",
      "building tree 234 of 250\n",
      "building tree 235 of 250\n",
      "building tree 236 of 250\n",
      "building tree 237 of 250\n",
      "building tree 238 of 250\n",
      "building tree 239 of 250\n",
      "building tree 240 of 250\n",
      "building tree 241 of 250\n",
      "building tree 242 of 250\n",
      "building tree 243 of 250\n",
      "building tree 244 of 250\n",
      "building tree 245 of 250\n",
      "building tree 246 of 250\n",
      "building tree 247 of 250\n",
      "building tree 248 of 250\n",
      "building tree 249 of 250\n",
      "building tree 250 of 250\n"
     ]
    },
    {
     "name": "stderr",
     "output_type": "stream",
     "text": [
      "[Parallel(n_jobs=-1)]: Done 250 out of 250 | elapsed:   16.7s finished\n",
      "[Parallel(n_jobs=1)]: Using backend SequentialBackend with 1 concurrent workers.\n",
      "[Parallel(n_jobs=1)]: Done   1 out of   1 | elapsed:    0.0s remaining:    0.0s\n",
      "[Parallel(n_jobs=1)]: Done   2 out of   2 | elapsed:    0.0s remaining:    0.0s\n",
      "[Parallel(n_jobs=1)]: Done   3 out of   3 | elapsed:    0.0s remaining:    0.0s\n",
      "[Parallel(n_jobs=1)]: Done   4 out of   4 | elapsed:    0.0s remaining:    0.0s\n",
      "[Parallel(n_jobs=1)]: Done   5 out of   5 | elapsed:    0.0s remaining:    0.0s\n",
      "[Parallel(n_jobs=1)]: Done   6 out of   6 | elapsed:    0.0s remaining:    0.0s\n",
      "[Parallel(n_jobs=1)]: Done   7 out of   7 | elapsed:    0.0s remaining:    0.0s\n",
      "[Parallel(n_jobs=1)]: Done   8 out of   8 | elapsed:    0.0s remaining:    0.0s\n",
      "[Parallel(n_jobs=1)]: Done   9 out of   9 | elapsed:    0.0s remaining:    0.0s\n",
      "[Parallel(n_jobs=1)]: Done 250 out of 250 | elapsed:    0.7s finished\n",
      "[Parallel(n_jobs=-1)]: Using backend SequentialBackend with 1 concurrent workers.\n",
      "[Parallel(n_jobs=-1)]: Done   1 out of   1 | elapsed:    0.1s remaining:    0.0s\n"
     ]
    },
    {
     "name": "stdout",
     "output_type": "stream",
     "text": [
      "building tree 1 of 300\n",
      "building tree 2 of 300\n",
      "building tree 3 of 300\n",
      "building tree 4 of 300\n"
     ]
    },
    {
     "name": "stderr",
     "output_type": "stream",
     "text": [
      "[Parallel(n_jobs=-1)]: Done   2 out of   2 | elapsed:    0.1s remaining:    0.0s\n",
      "[Parallel(n_jobs=-1)]: Done   3 out of   3 | elapsed:    0.2s remaining:    0.0s\n",
      "[Parallel(n_jobs=-1)]: Done   4 out of   4 | elapsed:    0.3s remaining:    0.0s\n"
     ]
    },
    {
     "name": "stdout",
     "output_type": "stream",
     "text": [
      "building tree 5 of 300\n",
      "building tree 6 of 300\n",
      "building tree 7 of 300\n",
      "building tree 8 of 300\n"
     ]
    },
    {
     "name": "stderr",
     "output_type": "stream",
     "text": [
      "[Parallel(n_jobs=-1)]: Done   5 out of   5 | elapsed:    0.3s remaining:    0.0s\n",
      "[Parallel(n_jobs=-1)]: Done   6 out of   6 | elapsed:    0.4s remaining:    0.0s\n",
      "[Parallel(n_jobs=-1)]: Done   7 out of   7 | elapsed:    0.5s remaining:    0.0s\n",
      "[Parallel(n_jobs=-1)]: Done   8 out of   8 | elapsed:    0.5s remaining:    0.0s\n"
     ]
    },
    {
     "name": "stdout",
     "output_type": "stream",
     "text": [
      "building tree 9 of 300\n",
      "building tree 10 of 300\n",
      "building tree 11 of 300\n"
     ]
    },
    {
     "name": "stderr",
     "output_type": "stream",
     "text": [
      "[Parallel(n_jobs=-1)]: Done   9 out of   9 | elapsed:    0.6s remaining:    0.0s\n"
     ]
    },
    {
     "name": "stdout",
     "output_type": "stream",
     "text": [
      "building tree 12 of 300\n",
      "building tree 13 of 300\n",
      "building tree 14 of 300\n",
      "building tree 15 of 300\n",
      "building tree 16 of 300\n",
      "building tree 17 of 300\n",
      "building tree 18 of 300\n",
      "building tree 19 of 300\n",
      "building tree 20 of 300\n",
      "building tree 21 of 300\n",
      "building tree 22 of 300\n",
      "building tree 23 of 300\n",
      "building tree 24 of 300\n",
      "building tree 25 of 300\n",
      "building tree 26 of 300\n",
      "building tree 27 of 300\n",
      "building tree 28 of 300\n",
      "building tree 29 of 300\n",
      "building tree 30 of 300\n",
      "building tree 31 of 300\n",
      "building tree 32 of 300\n",
      "building tree 33 of 300\n",
      "building tree 34 of 300\n",
      "building tree 35 of 300\n",
      "building tree 36 of 300\n",
      "building tree 37 of 300\n",
      "building tree 38 of 300\n",
      "building tree 39 of 300\n",
      "building tree 40 of 300\n",
      "building tree 41 of 300\n",
      "building tree 42 of 300\n",
      "building tree 43 of 300\n",
      "building tree 44 of 300\n",
      "building tree 45 of 300\n",
      "building tree 46 of 300\n",
      "building tree 47 of 300\n",
      "building tree 48 of 300\n",
      "building tree 49 of 300\n",
      "building tree 50 of 300\n",
      "building tree 51 of 300\n",
      "building tree 52 of 300\n",
      "building tree 53 of 300\n",
      "building tree 54 of 300\n",
      "building tree 55 of 300\n",
      "building tree 56 of 300\n",
      "building tree 57 of 300\n",
      "building tree 58 of 300\n",
      "building tree 59 of 300\n",
      "building tree 60 of 300\n",
      "building tree 61 of 300\n",
      "building tree 62 of 300\n",
      "building tree 63 of 300\n",
      "building tree 64 of 300\n",
      "building tree 65 of 300\n",
      "building tree 66 of 300\n",
      "building tree 67 of 300\n",
      "building tree 68 of 300\n",
      "building tree 69 of 300\n",
      "building tree 70 of 300\n",
      "building tree 71 of 300\n",
      "building tree 72 of 300\n",
      "building tree 73 of 300\n",
      "building tree 74 of 300\n",
      "building tree 75 of 300\n",
      "building tree 76 of 300\n",
      "building tree 77 of 300\n",
      "building tree 78 of 300\n",
      "building tree 79 of 300\n",
      "building tree 80 of 300\n",
      "building tree 81 of 300\n",
      "building tree 82 of 300\n",
      "building tree 83 of 300\n",
      "building tree 84 of 300\n",
      "building tree 85 of 300\n",
      "building tree 86 of 300\n",
      "building tree 87 of 300\n",
      "building tree 88 of 300\n",
      "building tree 89 of 300\n",
      "building tree 90 of 300\n",
      "building tree 91 of 300\n",
      "building tree 92 of 300\n",
      "building tree 93 of 300\n",
      "building tree 94 of 300\n",
      "building tree 95 of 300\n",
      "building tree 96 of 300\n",
      "building tree 97 of 300\n",
      "building tree 98 of 300\n",
      "building tree 99 of 300\n",
      "building tree 100 of 300\n",
      "building tree 101 of 300\n",
      "building tree 102 of 300\n",
      "building tree 103 of 300\n",
      "building tree 104 of 300\n",
      "building tree 105 of 300\n",
      "building tree 106 of 300\n",
      "building tree 107 of 300\n",
      "building tree 108 of 300\n",
      "building tree 109 of 300\n",
      "building tree 110 of 300\n",
      "building tree 111 of 300\n",
      "building tree 112 of 300\n",
      "building tree 113 of 300\n",
      "building tree 114 of 300\n",
      "building tree 115 of 300\n",
      "building tree 116 of 300\n",
      "building tree 117 of 300\n",
      "building tree 118 of 300\n",
      "building tree 119 of 300\n",
      "building tree 120 of 300\n",
      "building tree 121 of 300\n",
      "building tree 122 of 300\n",
      "building tree 123 of 300\n",
      "building tree 124 of 300\n",
      "building tree 125 of 300\n",
      "building tree 126 of 300\n",
      "building tree 127 of 300\n",
      "building tree 128 of 300\n",
      "building tree 129 of 300\n",
      "building tree 130 of 300\n",
      "building tree 131 of 300\n",
      "building tree 132 of 300\n",
      "building tree 133 of 300\n",
      "building tree 134 of 300\n",
      "building tree 135 of 300\n",
      "building tree 136 of 300\n",
      "building tree 137 of 300\n",
      "building tree 138 of 300\n",
      "building tree 139 of 300\n",
      "building tree 140 of 300\n",
      "building tree 141 of 300\n",
      "building tree 142 of 300\n",
      "building tree 143 of 300\n",
      "building tree 144 of 300\n",
      "building tree 145 of 300\n",
      "building tree 146 of 300\n",
      "building tree 147 of 300\n",
      "building tree 148 of 300\n",
      "building tree 149 of 300\n",
      "building tree 150 of 300\n",
      "building tree 151 of 300\n",
      "building tree 152 of 300\n",
      "building tree 153 of 300\n",
      "building tree 154 of 300\n",
      "building tree 155 of 300\n",
      "building tree 156 of 300\n",
      "building tree 157 of 300\n",
      "building tree 158 of 300\n",
      "building tree 159 of 300\n",
      "building tree 160 of 300\n",
      "building tree 161 of 300\n",
      "building tree 162 of 300\n",
      "building tree 163 of 300\n",
      "building tree 164 of 300\n",
      "building tree 165 of 300\n",
      "building tree 166 of 300\n",
      "building tree 167 of 300\n",
      "building tree 168 of 300\n",
      "building tree 169 of 300\n",
      "building tree 170 of 300\n",
      "building tree 171 of 300\n",
      "building tree 172 of 300\n",
      "building tree 173 of 300\n",
      "building tree 174 of 300\n",
      "building tree 175 of 300\n",
      "building tree 176 of 300\n",
      "building tree 177 of 300\n",
      "building tree 178 of 300\n",
      "building tree 179 of 300\n",
      "building tree 180 of 300\n",
      "building tree 181 of 300\n",
      "building tree 182 of 300\n",
      "building tree 183 of 300\n",
      "building tree 184 of 300\n",
      "building tree 185 of 300\n",
      "building tree 186 of 300\n",
      "building tree 187 of 300\n",
      "building tree 188 of 300\n",
      "building tree 189 of 300\n",
      "building tree 190 of 300\n",
      "building tree 191 of 300\n",
      "building tree 192 of 300\n",
      "building tree 193 of 300\n",
      "building tree 194 of 300\n",
      "building tree 195 of 300\n",
      "building tree 196 of 300\n",
      "building tree 197 of 300\n",
      "building tree 198 of 300\n",
      "building tree 199 of 300\n",
      "building tree 200 of 300\n",
      "building tree 201 of 300\n",
      "building tree 202 of 300\n",
      "building tree 203 of 300\n",
      "building tree 204 of 300\n",
      "building tree 205 of 300\n",
      "building tree 206 of 300\n",
      "building tree 207 of 300\n",
      "building tree 208 of 300\n",
      "building tree 209 of 300\n",
      "building tree 210 of 300\n",
      "building tree 211 of 300\n",
      "building tree 212 of 300\n",
      "building tree 213 of 300\n",
      "building tree 214 of 300\n",
      "building tree 215 of 300\n",
      "building tree 216 of 300\n",
      "building tree 217 of 300\n",
      "building tree 218 of 300\n",
      "building tree 219 of 300\n",
      "building tree 220 of 300\n",
      "building tree 221 of 300\n",
      "building tree 222 of 300\n",
      "building tree 223 of 300\n",
      "building tree 224 of 300\n",
      "building tree 225 of 300\n",
      "building tree 226 of 300\n",
      "building tree 227 of 300\n",
      "building tree 228 of 300\n",
      "building tree 229 of 300\n",
      "building tree 230 of 300\n",
      "building tree 231 of 300\n",
      "building tree 232 of 300\n",
      "building tree 233 of 300\n",
      "building tree 234 of 300\n",
      "building tree 235 of 300\n",
      "building tree 236 of 300\n",
      "building tree 237 of 300\n",
      "building tree 238 of 300\n",
      "building tree 239 of 300\n",
      "building tree 240 of 300\n",
      "building tree 241 of 300\n",
      "building tree 242 of 300\n",
      "building tree 243 of 300\n",
      "building tree 244 of 300\n",
      "building tree 245 of 300\n",
      "building tree 246 of 300\n",
      "building tree 247 of 300\n",
      "building tree 248 of 300\n",
      "building tree 249 of 300\n",
      "building tree 250 of 300\n",
      "building tree 251 of 300\n",
      "building tree 252 of 300\n",
      "building tree 253 of 300\n",
      "building tree 254 of 300\n",
      "building tree 255 of 300\n",
      "building tree 256 of 300\n",
      "building tree 257 of 300\n",
      "building tree 258 of 300\n",
      "building tree 259 of 300\n",
      "building tree 260 of 300\n",
      "building tree 261 of 300\n",
      "building tree 262 of 300\n",
      "building tree 263 of 300\n",
      "building tree 264 of 300\n",
      "building tree 265 of 300\n",
      "building tree 266 of 300\n",
      "building tree 267 of 300\n",
      "building tree 268 of 300\n",
      "building tree 269 of 300\n",
      "building tree 270 of 300\n",
      "building tree 271 of 300\n",
      "building tree 272 of 300\n",
      "building tree 273 of 300\n",
      "building tree 274 of 300\n",
      "building tree 275 of 300\n",
      "building tree 276 of 300\n",
      "building tree 277 of 300\n",
      "building tree 278 of 300\n",
      "building tree 279 of 300\n",
      "building tree 280 of 300\n",
      "building tree 281 of 300\n",
      "building tree 282 of 300\n",
      "building tree 283 of 300\n",
      "building tree 284 of 300\n",
      "building tree 285 of 300\n",
      "building tree 286 of 300\n",
      "building tree 287 of 300\n",
      "building tree 288 of 300\n",
      "building tree 289 of 300\n",
      "building tree 290 of 300\n",
      "building tree 291 of 300\n",
      "building tree 292 of 300\n",
      "building tree 293 of 300\n",
      "building tree 294 of 300\n",
      "building tree 295 of 300\n",
      "building tree 296 of 300\n",
      "building tree 297 of 300\n",
      "building tree 298 of 300\n",
      "building tree 299 of 300\n",
      "building tree 300 of 300\n"
     ]
    },
    {
     "name": "stderr",
     "output_type": "stream",
     "text": [
      "[Parallel(n_jobs=-1)]: Done 300 out of 300 | elapsed:   20.7s finished\n",
      "[Parallel(n_jobs=1)]: Using backend SequentialBackend with 1 concurrent workers.\n",
      "[Parallel(n_jobs=1)]: Done   1 out of   1 | elapsed:    0.0s remaining:    0.0s\n",
      "[Parallel(n_jobs=1)]: Done   2 out of   2 | elapsed:    0.0s remaining:    0.0s\n",
      "[Parallel(n_jobs=1)]: Done   3 out of   3 | elapsed:    0.0s remaining:    0.0s\n",
      "[Parallel(n_jobs=1)]: Done   4 out of   4 | elapsed:    0.0s remaining:    0.0s\n",
      "[Parallel(n_jobs=1)]: Done   5 out of   5 | elapsed:    0.0s remaining:    0.0s\n",
      "[Parallel(n_jobs=1)]: Done   6 out of   6 | elapsed:    0.0s remaining:    0.0s\n",
      "[Parallel(n_jobs=1)]: Done   7 out of   7 | elapsed:    0.0s remaining:    0.0s\n",
      "[Parallel(n_jobs=1)]: Done   8 out of   8 | elapsed:    0.0s remaining:    0.0s\n",
      "[Parallel(n_jobs=1)]: Done   9 out of   9 | elapsed:    0.0s remaining:    0.0s\n",
      "[Parallel(n_jobs=1)]: Done 300 out of 300 | elapsed:    0.9s finished\n",
      "[Parallel(n_jobs=-1)]: Using backend SequentialBackend with 1 concurrent workers.\n",
      "[Parallel(n_jobs=-1)]: Done   1 out of   1 | elapsed:    0.1s remaining:    0.0s\n",
      "[Parallel(n_jobs=-1)]: Done   2 out of   2 | elapsed:    0.1s remaining:    0.0s\n"
     ]
    },
    {
     "name": "stdout",
     "output_type": "stream",
     "text": [
      "building tree 1 of 100\n",
      "building tree 2 of 100\n",
      "building tree 3 of 100\n"
     ]
    },
    {
     "name": "stderr",
     "output_type": "stream",
     "text": [
      "[Parallel(n_jobs=-1)]: Done   3 out of   3 | elapsed:    0.2s remaining:    0.0s\n",
      "[Parallel(n_jobs=-1)]: Done   4 out of   4 | elapsed:    0.3s remaining:    0.0s\n",
      "[Parallel(n_jobs=-1)]: Done   5 out of   5 | elapsed:    0.4s remaining:    0.0s\n"
     ]
    },
    {
     "name": "stdout",
     "output_type": "stream",
     "text": [
      "building tree 4 of 100\n",
      "building tree 5 of 100\n",
      "building tree 6 of 100\n"
     ]
    },
    {
     "name": "stderr",
     "output_type": "stream",
     "text": [
      "[Parallel(n_jobs=-1)]: Done   6 out of   6 | elapsed:    0.4s remaining:    0.0s\n",
      "[Parallel(n_jobs=-1)]: Done   7 out of   7 | elapsed:    0.5s remaining:    0.0s\n",
      "[Parallel(n_jobs=-1)]: Done   8 out of   8 | elapsed:    0.6s remaining:    0.0s\n"
     ]
    },
    {
     "name": "stdout",
     "output_type": "stream",
     "text": [
      "building tree 7 of 100\n",
      "building tree 8 of 100\n",
      "building tree 9 of 100\n"
     ]
    },
    {
     "name": "stderr",
     "output_type": "stream",
     "text": [
      "[Parallel(n_jobs=-1)]: Done   9 out of   9 | elapsed:    0.6s remaining:    0.0s\n"
     ]
    },
    {
     "name": "stdout",
     "output_type": "stream",
     "text": [
      "building tree 10 of 100\n",
      "building tree 11 of 100\n",
      "building tree 12 of 100\n",
      "building tree 13 of 100\n",
      "building tree 14 of 100\n",
      "building tree 15 of 100\n",
      "building tree 16 of 100\n",
      "building tree 17 of 100\n",
      "building tree 18 of 100\n",
      "building tree 19 of 100\n",
      "building tree 20 of 100\n",
      "building tree 21 of 100\n",
      "building tree 22 of 100\n",
      "building tree 23 of 100\n",
      "building tree 24 of 100\n",
      "building tree 25 of 100\n",
      "building tree 26 of 100\n",
      "building tree 27 of 100\n",
      "building tree 28 of 100\n",
      "building tree 29 of 100\n",
      "building tree 30 of 100\n",
      "building tree 31 of 100\n",
      "building tree 32 of 100\n",
      "building tree 33 of 100\n",
      "building tree 34 of 100\n",
      "building tree 35 of 100\n",
      "building tree 36 of 100\n",
      "building tree 37 of 100\n",
      "building tree 38 of 100\n",
      "building tree 39 of 100\n",
      "building tree 40 of 100\n",
      "building tree 41 of 100\n",
      "building tree 42 of 100\n",
      "building tree 43 of 100\n",
      "building tree 44 of 100\n",
      "building tree 45 of 100\n",
      "building tree 46 of 100\n",
      "building tree 47 of 100\n",
      "building tree 48 of 100\n",
      "building tree 49 of 100\n",
      "building tree 50 of 100\n",
      "building tree 51 of 100\n",
      "building tree 52 of 100\n",
      "building tree 53 of 100\n",
      "building tree 54 of 100\n",
      "building tree 55 of 100\n",
      "building tree 56 of 100\n",
      "building tree 57 of 100\n",
      "building tree 58 of 100\n",
      "building tree 59 of 100\n",
      "building tree 60 of 100\n",
      "building tree 61 of 100\n",
      "building tree 62 of 100\n",
      "building tree 63 of 100\n",
      "building tree 64 of 100\n",
      "building tree 65 of 100\n",
      "building tree 66 of 100\n",
      "building tree 67 of 100\n",
      "building tree 68 of 100\n",
      "building tree 69 of 100\n",
      "building tree 70 of 100\n",
      "building tree 71 of 100\n",
      "building tree 72 of 100\n",
      "building tree 73 of 100\n",
      "building tree 74 of 100\n",
      "building tree 75 of 100\n",
      "building tree 76 of 100\n",
      "building tree 77 of 100\n",
      "building tree 78 of 100\n",
      "building tree 79 of 100\n",
      "building tree 80 of 100\n",
      "building tree 81 of 100\n",
      "building tree 82 of 100\n",
      "building tree 83 of 100\n",
      "building tree 84 of 100\n",
      "building tree 85 of 100\n",
      "building tree 86 of 100\n",
      "building tree 87 of 100\n",
      "building tree 88 of 100\n",
      "building tree 89 of 100\n",
      "building tree 90 of 100\n",
      "building tree 91 of 100\n",
      "building tree 92 of 100\n",
      "building tree 93 of 100\n",
      "building tree 94 of 100\n",
      "building tree 95 of 100\n",
      "building tree 96 of 100\n",
      "building tree 97 of 100\n",
      "building tree 98 of 100\n",
      "building tree 99 of 100\n",
      "building tree 100 of 100\n"
     ]
    },
    {
     "name": "stderr",
     "output_type": "stream",
     "text": [
      "[Parallel(n_jobs=-1)]: Done 100 out of 100 | elapsed:    7.3s finished\n",
      "[Parallel(n_jobs=1)]: Using backend SequentialBackend with 1 concurrent workers.\n",
      "[Parallel(n_jobs=1)]: Done   1 out of   1 | elapsed:    0.0s remaining:    0.0s\n",
      "[Parallel(n_jobs=1)]: Done   2 out of   2 | elapsed:    0.0s remaining:    0.0s\n",
      "[Parallel(n_jobs=1)]: Done   3 out of   3 | elapsed:    0.0s remaining:    0.0s\n",
      "[Parallel(n_jobs=1)]: Done   4 out of   4 | elapsed:    0.0s remaining:    0.0s\n",
      "[Parallel(n_jobs=1)]: Done   5 out of   5 | elapsed:    0.0s remaining:    0.0s\n",
      "[Parallel(n_jobs=1)]: Done   6 out of   6 | elapsed:    0.0s remaining:    0.0s\n",
      "[Parallel(n_jobs=1)]: Done   7 out of   7 | elapsed:    0.0s remaining:    0.0s\n",
      "[Parallel(n_jobs=1)]: Done   8 out of   8 | elapsed:    0.0s remaining:    0.0s\n",
      "[Parallel(n_jobs=1)]: Done   9 out of   9 | elapsed:    0.0s remaining:    0.0s\n",
      "[Parallel(n_jobs=1)]: Done 100 out of 100 | elapsed:    0.3s finished\n",
      "[Parallel(n_jobs=-1)]: Using backend SequentialBackend with 1 concurrent workers.\n",
      "[Parallel(n_jobs=-1)]: Done   1 out of   1 | elapsed:    0.1s remaining:    0.0s\n"
     ]
    },
    {
     "name": "stdout",
     "output_type": "stream",
     "text": [
      "building tree 1 of 150\n",
      "building tree 2 of 150\n",
      "building tree 3 of 150\n"
     ]
    },
    {
     "name": "stderr",
     "output_type": "stream",
     "text": [
      "[Parallel(n_jobs=-1)]: Done   2 out of   2 | elapsed:    0.2s remaining:    0.0s\n",
      "[Parallel(n_jobs=-1)]: Done   3 out of   3 | elapsed:    0.2s remaining:    0.0s\n",
      "[Parallel(n_jobs=-1)]: Done   4 out of   4 | elapsed:    0.3s remaining:    0.0s\n"
     ]
    },
    {
     "name": "stdout",
     "output_type": "stream",
     "text": [
      "building tree 4 of 150\n",
      "building tree 5 of 150\n",
      "building tree 6 of 150\n"
     ]
    },
    {
     "name": "stderr",
     "output_type": "stream",
     "text": [
      "[Parallel(n_jobs=-1)]: Done   5 out of   5 | elapsed:    0.4s remaining:    0.0s\n",
      "[Parallel(n_jobs=-1)]: Done   6 out of   6 | elapsed:    0.5s remaining:    0.0s\n",
      "[Parallel(n_jobs=-1)]: Done   7 out of   7 | elapsed:    0.5s remaining:    0.0s\n"
     ]
    },
    {
     "name": "stdout",
     "output_type": "stream",
     "text": [
      "building tree 7 of 150\n",
      "building tree 8 of 150\n",
      "building tree 9 of 150\n"
     ]
    },
    {
     "name": "stderr",
     "output_type": "stream",
     "text": [
      "[Parallel(n_jobs=-1)]: Done   8 out of   8 | elapsed:    0.6s remaining:    0.0s\n",
      "[Parallel(n_jobs=-1)]: Done   9 out of   9 | elapsed:    0.7s remaining:    0.0s\n"
     ]
    },
    {
     "name": "stdout",
     "output_type": "stream",
     "text": [
      "building tree 10 of 150\n",
      "building tree 11 of 150\n",
      "building tree 12 of 150\n",
      "building tree 13 of 150\n",
      "building tree 14 of 150\n",
      "building tree 15 of 150\n",
      "building tree 16 of 150\n",
      "building tree 17 of 150\n",
      "building tree 18 of 150\n",
      "building tree 19 of 150\n",
      "building tree 20 of 150\n",
      "building tree 21 of 150\n",
      "building tree 22 of 150\n",
      "building tree 23 of 150\n",
      "building tree 24 of 150\n",
      "building tree 25 of 150\n",
      "building tree 26 of 150\n",
      "building tree 27 of 150\n",
      "building tree 28 of 150\n",
      "building tree 29 of 150\n",
      "building tree 30 of 150\n",
      "building tree 31 of 150\n",
      "building tree 32 of 150\n",
      "building tree 33 of 150\n",
      "building tree 34 of 150\n",
      "building tree 35 of 150\n",
      "building tree 36 of 150\n",
      "building tree 37 of 150\n",
      "building tree 38 of 150\n",
      "building tree 39 of 150\n",
      "building tree 40 of 150\n",
      "building tree 41 of 150\n",
      "building tree 42 of 150\n",
      "building tree 43 of 150\n",
      "building tree 44 of 150\n",
      "building tree 45 of 150\n",
      "building tree 46 of 150\n",
      "building tree 47 of 150\n",
      "building tree 48 of 150\n",
      "building tree 49 of 150\n",
      "building tree 50 of 150\n",
      "building tree 51 of 150\n",
      "building tree 52 of 150\n",
      "building tree 53 of 150\n",
      "building tree 54 of 150\n",
      "building tree 55 of 150\n",
      "building tree 56 of 150\n",
      "building tree 57 of 150\n",
      "building tree 58 of 150\n",
      "building tree 59 of 150\n",
      "building tree 60 of 150\n",
      "building tree 61 of 150\n",
      "building tree 62 of 150\n",
      "building tree 63 of 150\n",
      "building tree 64 of 150\n",
      "building tree 65 of 150\n",
      "building tree 66 of 150\n",
      "building tree 67 of 150\n",
      "building tree 68 of 150\n",
      "building tree 69 of 150\n",
      "building tree 70 of 150\n",
      "building tree 71 of 150\n",
      "building tree 72 of 150\n",
      "building tree 73 of 150\n",
      "building tree 74 of 150\n",
      "building tree 75 of 150\n",
      "building tree 76 of 150\n",
      "building tree 77 of 150\n",
      "building tree 78 of 150\n",
      "building tree 79 of 150\n",
      "building tree 80 of 150\n",
      "building tree 81 of 150\n",
      "building tree 82 of 150\n",
      "building tree 83 of 150\n",
      "building tree 84 of 150\n",
      "building tree 85 of 150\n",
      "building tree 86 of 150\n",
      "building tree 87 of 150\n",
      "building tree 88 of 150\n",
      "building tree 89 of 150\n",
      "building tree 90 of 150\n",
      "building tree 91 of 150\n",
      "building tree 92 of 150\n",
      "building tree 93 of 150\n",
      "building tree 94 of 150\n",
      "building tree 95 of 150\n",
      "building tree 96 of 150\n",
      "building tree 97 of 150\n",
      "building tree 98 of 150\n",
      "building tree 99 of 150\n",
      "building tree 100 of 150\n",
      "building tree 101 of 150\n",
      "building tree 102 of 150\n",
      "building tree 103 of 150\n",
      "building tree 104 of 150\n",
      "building tree 105 of 150\n",
      "building tree 106 of 150\n",
      "building tree 107 of 150\n",
      "building tree 108 of 150\n",
      "building tree 109 of 150\n",
      "building tree 110 of 150\n",
      "building tree 111 of 150\n",
      "building tree 112 of 150\n",
      "building tree 113 of 150\n",
      "building tree 114 of 150\n",
      "building tree 115 of 150\n",
      "building tree 116 of 150\n",
      "building tree 117 of 150\n",
      "building tree 118 of 150\n",
      "building tree 119 of 150\n",
      "building tree 120 of 150\n",
      "building tree 121 of 150\n",
      "building tree 122 of 150\n",
      "building tree 123 of 150\n",
      "building tree 124 of 150\n",
      "building tree 125 of 150\n",
      "building tree 126 of 150\n",
      "building tree 127 of 150\n",
      "building tree 128 of 150\n",
      "building tree 129 of 150\n",
      "building tree 130 of 150\n",
      "building tree 131 of 150\n",
      "building tree 132 of 150\n",
      "building tree 133 of 150\n",
      "building tree 134 of 150\n",
      "building tree 135 of 150\n",
      "building tree 136 of 150\n",
      "building tree 137 of 150\n",
      "building tree 138 of 150\n",
      "building tree 139 of 150\n",
      "building tree 140 of 150\n",
      "building tree 141 of 150\n",
      "building tree 142 of 150\n",
      "building tree 143 of 150\n",
      "building tree 144 of 150\n",
      "building tree 145 of 150\n",
      "building tree 146 of 150\n",
      "building tree 147 of 150\n",
      "building tree 148 of 150\n",
      "building tree 149 of 150\n",
      "building tree 150 of 150\n"
     ]
    },
    {
     "name": "stderr",
     "output_type": "stream",
     "text": [
      "[Parallel(n_jobs=-1)]: Done 150 out of 150 | elapsed:   11.4s finished\n",
      "[Parallel(n_jobs=1)]: Using backend SequentialBackend with 1 concurrent workers.\n",
      "[Parallel(n_jobs=1)]: Done   1 out of   1 | elapsed:    0.0s remaining:    0.0s\n",
      "[Parallel(n_jobs=1)]: Done   2 out of   2 | elapsed:    0.0s remaining:    0.0s\n",
      "[Parallel(n_jobs=1)]: Done   3 out of   3 | elapsed:    0.0s remaining:    0.0s\n",
      "[Parallel(n_jobs=1)]: Done   4 out of   4 | elapsed:    0.0s remaining:    0.0s\n",
      "[Parallel(n_jobs=1)]: Done   5 out of   5 | elapsed:    0.0s remaining:    0.0s\n",
      "[Parallel(n_jobs=1)]: Done   6 out of   6 | elapsed:    0.0s remaining:    0.0s\n",
      "[Parallel(n_jobs=1)]: Done   7 out of   7 | elapsed:    0.0s remaining:    0.0s\n",
      "[Parallel(n_jobs=1)]: Done   8 out of   8 | elapsed:    0.0s remaining:    0.0s\n",
      "[Parallel(n_jobs=1)]: Done   9 out of   9 | elapsed:    0.0s remaining:    0.0s\n",
      "[Parallel(n_jobs=1)]: Done 150 out of 150 | elapsed:    0.5s finished\n",
      "[Parallel(n_jobs=-1)]: Using backend SequentialBackend with 1 concurrent workers.\n",
      "[Parallel(n_jobs=-1)]: Done   1 out of   1 | elapsed:    0.1s remaining:    0.0s\n"
     ]
    },
    {
     "name": "stdout",
     "output_type": "stream",
     "text": [
      "building tree 1 of 200\n",
      "building tree 2 of 200\n",
      "building tree 3 of 200\n"
     ]
    },
    {
     "name": "stderr",
     "output_type": "stream",
     "text": [
      "[Parallel(n_jobs=-1)]: Done   2 out of   2 | elapsed:    0.1s remaining:    0.0s\n",
      "[Parallel(n_jobs=-1)]: Done   3 out of   3 | elapsed:    0.2s remaining:    0.0s\n",
      "[Parallel(n_jobs=-1)]: Done   4 out of   4 | elapsed:    0.3s remaining:    0.0s\n"
     ]
    },
    {
     "name": "stdout",
     "output_type": "stream",
     "text": [
      "building tree 4 of 200\n",
      "building tree 5 of 200\n",
      "building tree 6 of 200\n"
     ]
    },
    {
     "name": "stderr",
     "output_type": "stream",
     "text": [
      "[Parallel(n_jobs=-1)]: Done   5 out of   5 | elapsed:    0.4s remaining:    0.0s\n",
      "[Parallel(n_jobs=-1)]: Done   6 out of   6 | elapsed:    0.4s remaining:    0.0s\n",
      "[Parallel(n_jobs=-1)]: Done   7 out of   7 | elapsed:    0.5s remaining:    0.0s\n"
     ]
    },
    {
     "name": "stdout",
     "output_type": "stream",
     "text": [
      "building tree 7 of 200\n",
      "building tree 8 of 200\n",
      "building tree 9 of 200\n"
     ]
    },
    {
     "name": "stderr",
     "output_type": "stream",
     "text": [
      "[Parallel(n_jobs=-1)]: Done   8 out of   8 | elapsed:    0.6s remaining:    0.0s\n",
      "[Parallel(n_jobs=-1)]: Done   9 out of   9 | elapsed:    0.6s remaining:    0.0s\n"
     ]
    },
    {
     "name": "stdout",
     "output_type": "stream",
     "text": [
      "building tree 10 of 200\n",
      "building tree 11 of 200\n",
      "building tree 12 of 200\n",
      "building tree 13 of 200\n",
      "building tree 14 of 200\n",
      "building tree 15 of 200\n",
      "building tree 16 of 200\n",
      "building tree 17 of 200\n",
      "building tree 18 of 200\n",
      "building tree 19 of 200\n",
      "building tree 20 of 200\n",
      "building tree 21 of 200\n",
      "building tree 22 of 200\n",
      "building tree 23 of 200\n",
      "building tree 24 of 200\n",
      "building tree 25 of 200\n",
      "building tree 26 of 200\n",
      "building tree 27 of 200\n",
      "building tree 28 of 200\n",
      "building tree 29 of 200\n",
      "building tree 30 of 200\n",
      "building tree 31 of 200\n",
      "building tree 32 of 200\n",
      "building tree 33 of 200\n",
      "building tree 34 of 200\n",
      "building tree 35 of 200\n",
      "building tree 36 of 200\n",
      "building tree 37 of 200\n",
      "building tree 38 of 200\n",
      "building tree 39 of 200\n",
      "building tree 40 of 200\n",
      "building tree 41 of 200\n",
      "building tree 42 of 200\n",
      "building tree 43 of 200\n",
      "building tree 44 of 200\n",
      "building tree 45 of 200\n",
      "building tree 46 of 200\n",
      "building tree 47 of 200\n",
      "building tree 48 of 200\n",
      "building tree 49 of 200\n",
      "building tree 50 of 200\n",
      "building tree 51 of 200\n",
      "building tree 52 of 200\n",
      "building tree 53 of 200\n",
      "building tree 54 of 200\n",
      "building tree 55 of 200\n",
      "building tree 56 of 200\n",
      "building tree 57 of 200\n",
      "building tree 58 of 200\n",
      "building tree 59 of 200\n",
      "building tree 60 of 200\n",
      "building tree 61 of 200\n",
      "building tree 62 of 200\n",
      "building tree 63 of 200\n",
      "building tree 64 of 200\n",
      "building tree 65 of 200\n",
      "building tree 66 of 200\n",
      "building tree 67 of 200\n",
      "building tree 68 of 200\n",
      "building tree 69 of 200\n",
      "building tree 70 of 200\n",
      "building tree 71 of 200\n",
      "building tree 72 of 200\n",
      "building tree 73 of 200\n",
      "building tree 74 of 200\n",
      "building tree 75 of 200\n",
      "building tree 76 of 200\n",
      "building tree 77 of 200\n",
      "building tree 78 of 200\n",
      "building tree 79 of 200\n",
      "building tree 80 of 200\n",
      "building tree 81 of 200\n",
      "building tree 82 of 200\n",
      "building tree 83 of 200\n",
      "building tree 84 of 200\n",
      "building tree 85 of 200\n",
      "building tree 86 of 200\n",
      "building tree 87 of 200\n",
      "building tree 88 of 200\n",
      "building tree 89 of 200\n",
      "building tree 90 of 200\n",
      "building tree 91 of 200\n",
      "building tree 92 of 200\n",
      "building tree 93 of 200\n",
      "building tree 94 of 200\n",
      "building tree 95 of 200\n",
      "building tree 96 of 200\n",
      "building tree 97 of 200\n",
      "building tree 98 of 200\n",
      "building tree 99 of 200\n",
      "building tree 100 of 200\n",
      "building tree 101 of 200\n",
      "building tree 102 of 200\n",
      "building tree 103 of 200\n",
      "building tree 104 of 200\n",
      "building tree 105 of 200\n",
      "building tree 106 of 200\n",
      "building tree 107 of 200\n",
      "building tree 108 of 200\n",
      "building tree 109 of 200\n",
      "building tree 110 of 200\n",
      "building tree 111 of 200\n",
      "building tree 112 of 200\n",
      "building tree 113 of 200\n",
      "building tree 114 of 200\n",
      "building tree 115 of 200\n",
      "building tree 116 of 200\n",
      "building tree 117 of 200\n",
      "building tree 118 of 200\n",
      "building tree 119 of 200\n",
      "building tree 120 of 200\n",
      "building tree 121 of 200\n",
      "building tree 122 of 200\n",
      "building tree 123 of 200\n",
      "building tree 124 of 200\n",
      "building tree 125 of 200\n",
      "building tree 126 of 200\n",
      "building tree 127 of 200\n",
      "building tree 128 of 200\n",
      "building tree 129 of 200\n",
      "building tree 130 of 200\n",
      "building tree 131 of 200\n",
      "building tree 132 of 200\n",
      "building tree 133 of 200\n",
      "building tree 134 of 200\n",
      "building tree 135 of 200\n",
      "building tree 136 of 200\n",
      "building tree 137 of 200\n",
      "building tree 138 of 200\n",
      "building tree 139 of 200\n",
      "building tree 140 of 200\n",
      "building tree 141 of 200\n",
      "building tree 142 of 200\n",
      "building tree 143 of 200\n",
      "building tree 144 of 200\n",
      "building tree 145 of 200\n",
      "building tree 146 of 200\n",
      "building tree 147 of 200\n",
      "building tree 148 of 200\n",
      "building tree 149 of 200\n",
      "building tree 150 of 200\n",
      "building tree 151 of 200\n",
      "building tree 152 of 200\n",
      "building tree 153 of 200\n",
      "building tree 154 of 200\n",
      "building tree 155 of 200\n",
      "building tree 156 of 200\n",
      "building tree 157 of 200\n",
      "building tree 158 of 200\n",
      "building tree 159 of 200\n",
      "building tree 160 of 200\n",
      "building tree 161 of 200\n",
      "building tree 162 of 200\n",
      "building tree 163 of 200\n",
      "building tree 164 of 200\n",
      "building tree 165 of 200\n",
      "building tree 166 of 200\n",
      "building tree 167 of 200\n",
      "building tree 168 of 200\n",
      "building tree 169 of 200\n",
      "building tree 170 of 200\n",
      "building tree 171 of 200\n",
      "building tree 172 of 200\n",
      "building tree 173 of 200\n",
      "building tree 174 of 200\n",
      "building tree 175 of 200\n",
      "building tree 176 of 200\n",
      "building tree 177 of 200\n",
      "building tree 178 of 200\n",
      "building tree 179 of 200\n",
      "building tree 180 of 200\n",
      "building tree 181 of 200\n",
      "building tree 182 of 200\n",
      "building tree 183 of 200\n",
      "building tree 184 of 200\n",
      "building tree 185 of 200\n",
      "building tree 186 of 200\n",
      "building tree 187 of 200\n",
      "building tree 188 of 200\n",
      "building tree 189 of 200\n",
      "building tree 190 of 200\n",
      "building tree 191 of 200\n",
      "building tree 192 of 200\n",
      "building tree 193 of 200\n",
      "building tree 194 of 200\n",
      "building tree 195 of 200\n",
      "building tree 196 of 200\n",
      "building tree 197 of 200\n",
      "building tree 198 of 200\n",
      "building tree 199 of 200\n",
      "building tree 200 of 200\n"
     ]
    },
    {
     "name": "stderr",
     "output_type": "stream",
     "text": [
      "[Parallel(n_jobs=-1)]: Done 200 out of 200 | elapsed:   15.1s finished\n",
      "[Parallel(n_jobs=1)]: Using backend SequentialBackend with 1 concurrent workers.\n",
      "[Parallel(n_jobs=1)]: Done   1 out of   1 | elapsed:    0.0s remaining:    0.0s\n",
      "[Parallel(n_jobs=1)]: Done   2 out of   2 | elapsed:    0.0s remaining:    0.0s\n",
      "[Parallel(n_jobs=1)]: Done   3 out of   3 | elapsed:    0.0s remaining:    0.0s\n",
      "[Parallel(n_jobs=1)]: Done   4 out of   4 | elapsed:    0.0s remaining:    0.0s\n",
      "[Parallel(n_jobs=1)]: Done   5 out of   5 | elapsed:    0.0s remaining:    0.0s\n",
      "[Parallel(n_jobs=1)]: Done   6 out of   6 | elapsed:    0.0s remaining:    0.0s\n",
      "[Parallel(n_jobs=1)]: Done   7 out of   7 | elapsed:    0.0s remaining:    0.0s\n",
      "[Parallel(n_jobs=1)]: Done   8 out of   8 | elapsed:    0.0s remaining:    0.0s\n",
      "[Parallel(n_jobs=1)]: Done   9 out of   9 | elapsed:    0.0s remaining:    0.0s\n",
      "[Parallel(n_jobs=1)]: Done 200 out of 200 | elapsed:    0.7s finished\n",
      "[Parallel(n_jobs=-1)]: Using backend SequentialBackend with 1 concurrent workers.\n",
      "[Parallel(n_jobs=-1)]: Done   1 out of   1 | elapsed:    0.1s remaining:    0.0s\n"
     ]
    },
    {
     "name": "stdout",
     "output_type": "stream",
     "text": [
      "building tree 1 of 250\n",
      "building tree 2 of 250\n",
      "building tree 3 of 250\n"
     ]
    },
    {
     "name": "stderr",
     "output_type": "stream",
     "text": [
      "[Parallel(n_jobs=-1)]: Done   2 out of   2 | elapsed:    0.2s remaining:    0.0s\n",
      "[Parallel(n_jobs=-1)]: Done   3 out of   3 | elapsed:    0.3s remaining:    0.0s\n",
      "[Parallel(n_jobs=-1)]: Done   4 out of   4 | elapsed:    0.3s remaining:    0.0s\n"
     ]
    },
    {
     "name": "stdout",
     "output_type": "stream",
     "text": [
      "building tree 4 of 250\n",
      "building tree 5 of 250\n",
      "building tree 6 of 250\n"
     ]
    },
    {
     "name": "stderr",
     "output_type": "stream",
     "text": [
      "[Parallel(n_jobs=-1)]: Done   5 out of   5 | elapsed:    0.4s remaining:    0.0s\n",
      "[Parallel(n_jobs=-1)]: Done   6 out of   6 | elapsed:    0.5s remaining:    0.0s\n",
      "[Parallel(n_jobs=-1)]: Done   7 out of   7 | elapsed:    0.5s remaining:    0.0s\n"
     ]
    },
    {
     "name": "stdout",
     "output_type": "stream",
     "text": [
      "building tree 7 of 250\n",
      "building tree 8 of 250\n",
      "building tree 9 of 250\n"
     ]
    },
    {
     "name": "stderr",
     "output_type": "stream",
     "text": [
      "[Parallel(n_jobs=-1)]: Done   8 out of   8 | elapsed:    0.6s remaining:    0.0s\n",
      "[Parallel(n_jobs=-1)]: Done   9 out of   9 | elapsed:    0.7s remaining:    0.0s\n"
     ]
    },
    {
     "name": "stdout",
     "output_type": "stream",
     "text": [
      "building tree 10 of 250\n",
      "building tree 11 of 250\n",
      "building tree 12 of 250\n",
      "building tree 13 of 250\n",
      "building tree 14 of 250\n",
      "building tree 15 of 250\n",
      "building tree 16 of 250\n",
      "building tree 17 of 250\n",
      "building tree 18 of 250\n",
      "building tree 19 of 250\n",
      "building tree 20 of 250\n",
      "building tree 21 of 250\n",
      "building tree 22 of 250\n",
      "building tree 23 of 250\n",
      "building tree 24 of 250\n",
      "building tree 25 of 250\n",
      "building tree 26 of 250\n",
      "building tree 27 of 250\n",
      "building tree 28 of 250\n",
      "building tree 29 of 250\n",
      "building tree 30 of 250\n",
      "building tree 31 of 250\n",
      "building tree 32 of 250\n",
      "building tree 33 of 250\n",
      "building tree 34 of 250\n",
      "building tree 35 of 250\n",
      "building tree 36 of 250\n",
      "building tree 37 of 250\n",
      "building tree 38 of 250\n",
      "building tree 39 of 250\n",
      "building tree 40 of 250\n",
      "building tree 41 of 250\n",
      "building tree 42 of 250\n",
      "building tree 43 of 250\n",
      "building tree 44 of 250\n",
      "building tree 45 of 250\n",
      "building tree 46 of 250\n",
      "building tree 47 of 250\n",
      "building tree 48 of 250\n",
      "building tree 49 of 250\n",
      "building tree 50 of 250\n",
      "building tree 51 of 250\n",
      "building tree 52 of 250\n",
      "building tree 53 of 250\n",
      "building tree 54 of 250\n",
      "building tree 55 of 250\n",
      "building tree 56 of 250\n",
      "building tree 57 of 250\n",
      "building tree 58 of 250\n",
      "building tree 59 of 250\n",
      "building tree 60 of 250\n",
      "building tree 61 of 250\n",
      "building tree 62 of 250\n",
      "building tree 63 of 250\n",
      "building tree 64 of 250\n",
      "building tree 65 of 250\n",
      "building tree 66 of 250\n",
      "building tree 67 of 250\n",
      "building tree 68 of 250\n",
      "building tree 69 of 250\n",
      "building tree 70 of 250\n",
      "building tree 71 of 250\n",
      "building tree 72 of 250\n",
      "building tree 73 of 250\n",
      "building tree 74 of 250\n",
      "building tree 75 of 250\n",
      "building tree 76 of 250\n",
      "building tree 77 of 250\n",
      "building tree 78 of 250\n",
      "building tree 79 of 250\n",
      "building tree 80 of 250\n",
      "building tree 81 of 250\n",
      "building tree 82 of 250\n",
      "building tree 83 of 250\n",
      "building tree 84 of 250\n",
      "building tree 85 of 250\n",
      "building tree 86 of 250\n",
      "building tree 87 of 250\n",
      "building tree 88 of 250\n",
      "building tree 89 of 250\n",
      "building tree 90 of 250\n",
      "building tree 91 of 250\n",
      "building tree 92 of 250\n",
      "building tree 93 of 250\n",
      "building tree 94 of 250\n",
      "building tree 95 of 250\n",
      "building tree 96 of 250\n",
      "building tree 97 of 250\n",
      "building tree 98 of 250\n",
      "building tree 99 of 250\n",
      "building tree 100 of 250\n",
      "building tree 101 of 250\n",
      "building tree 102 of 250\n",
      "building tree 103 of 250\n",
      "building tree 104 of 250\n",
      "building tree 105 of 250\n",
      "building tree 106 of 250\n",
      "building tree 107 of 250\n",
      "building tree 108 of 250\n",
      "building tree 109 of 250\n",
      "building tree 110 of 250\n",
      "building tree 111 of 250\n",
      "building tree 112 of 250\n",
      "building tree 113 of 250\n",
      "building tree 114 of 250\n",
      "building tree 115 of 250\n",
      "building tree 116 of 250\n",
      "building tree 117 of 250\n",
      "building tree 118 of 250\n",
      "building tree 119 of 250\n",
      "building tree 120 of 250\n",
      "building tree 121 of 250\n",
      "building tree 122 of 250\n",
      "building tree 123 of 250\n",
      "building tree 124 of 250\n",
      "building tree 125 of 250\n",
      "building tree 126 of 250\n",
      "building tree 127 of 250\n",
      "building tree 128 of 250\n",
      "building tree 129 of 250\n",
      "building tree 130 of 250\n",
      "building tree 131 of 250\n",
      "building tree 132 of 250\n",
      "building tree 133 of 250\n",
      "building tree 134 of 250\n",
      "building tree 135 of 250\n",
      "building tree 136 of 250\n",
      "building tree 137 of 250\n",
      "building tree 138 of 250\n",
      "building tree 139 of 250\n",
      "building tree 140 of 250\n",
      "building tree 141 of 250\n",
      "building tree 142 of 250\n",
      "building tree 143 of 250\n",
      "building tree 144 of 250\n",
      "building tree 145 of 250\n",
      "building tree 146 of 250\n",
      "building tree 147 of 250\n",
      "building tree 148 of 250\n",
      "building tree 149 of 250\n",
      "building tree 150 of 250\n",
      "building tree 151 of 250\n",
      "building tree 152 of 250\n",
      "building tree 153 of 250\n",
      "building tree 154 of 250\n",
      "building tree 155 of 250\n",
      "building tree 156 of 250\n",
      "building tree 157 of 250\n",
      "building tree 158 of 250\n",
      "building tree 159 of 250\n",
      "building tree 160 of 250\n",
      "building tree 161 of 250\n",
      "building tree 162 of 250\n",
      "building tree 163 of 250\n",
      "building tree 164 of 250\n",
      "building tree 165 of 250\n",
      "building tree 166 of 250\n",
      "building tree 167 of 250\n",
      "building tree 168 of 250\n",
      "building tree 169 of 250\n",
      "building tree 170 of 250\n",
      "building tree 171 of 250\n",
      "building tree 172 of 250\n",
      "building tree 173 of 250\n",
      "building tree 174 of 250\n",
      "building tree 175 of 250\n",
      "building tree 176 of 250\n",
      "building tree 177 of 250\n",
      "building tree 178 of 250\n",
      "building tree 179 of 250\n",
      "building tree 180 of 250\n",
      "building tree 181 of 250\n",
      "building tree 182 of 250\n",
      "building tree 183 of 250\n",
      "building tree 184 of 250\n",
      "building tree 185 of 250\n",
      "building tree 186 of 250\n",
      "building tree 187 of 250\n",
      "building tree 188 of 250\n",
      "building tree 189 of 250\n",
      "building tree 190 of 250\n",
      "building tree 191 of 250\n",
      "building tree 192 of 250\n",
      "building tree 193 of 250\n",
      "building tree 194 of 250\n",
      "building tree 195 of 250\n",
      "building tree 196 of 250\n",
      "building tree 197 of 250\n",
      "building tree 198 of 250\n",
      "building tree 199 of 250\n",
      "building tree 200 of 250\n",
      "building tree 201 of 250\n",
      "building tree 202 of 250\n",
      "building tree 203 of 250\n",
      "building tree 204 of 250\n",
      "building tree 205 of 250\n",
      "building tree 206 of 250\n",
      "building tree 207 of 250\n",
      "building tree 208 of 250\n",
      "building tree 209 of 250\n",
      "building tree 210 of 250\n",
      "building tree 211 of 250\n",
      "building tree 212 of 250\n",
      "building tree 213 of 250\n",
      "building tree 214 of 250\n",
      "building tree 215 of 250\n",
      "building tree 216 of 250\n",
      "building tree 217 of 250\n",
      "building tree 218 of 250\n",
      "building tree 219 of 250\n",
      "building tree 220 of 250\n",
      "building tree 221 of 250\n",
      "building tree 222 of 250\n",
      "building tree 223 of 250\n",
      "building tree 224 of 250\n",
      "building tree 225 of 250\n",
      "building tree 226 of 250\n",
      "building tree 227 of 250\n",
      "building tree 228 of 250\n",
      "building tree 229 of 250\n",
      "building tree 230 of 250\n",
      "building tree 231 of 250\n",
      "building tree 232 of 250\n",
      "building tree 233 of 250\n",
      "building tree 234 of 250\n",
      "building tree 235 of 250\n",
      "building tree 236 of 250\n",
      "building tree 237 of 250\n",
      "building tree 238 of 250\n",
      "building tree 239 of 250\n",
      "building tree 240 of 250\n",
      "building tree 241 of 250\n",
      "building tree 242 of 250\n",
      "building tree 243 of 250\n",
      "building tree 244 of 250\n",
      "building tree 245 of 250\n",
      "building tree 246 of 250\n",
      "building tree 247 of 250\n",
      "building tree 248 of 250\n",
      "building tree 249 of 250\n",
      "building tree 250 of 250\n"
     ]
    },
    {
     "name": "stderr",
     "output_type": "stream",
     "text": [
      "[Parallel(n_jobs=-1)]: Done 250 out of 250 | elapsed:   18.7s finished\n",
      "[Parallel(n_jobs=1)]: Using backend SequentialBackend with 1 concurrent workers.\n",
      "[Parallel(n_jobs=1)]: Done   1 out of   1 | elapsed:    0.0s remaining:    0.0s\n",
      "[Parallel(n_jobs=1)]: Done   2 out of   2 | elapsed:    0.0s remaining:    0.0s\n",
      "[Parallel(n_jobs=1)]: Done   3 out of   3 | elapsed:    0.0s remaining:    0.0s\n",
      "[Parallel(n_jobs=1)]: Done   4 out of   4 | elapsed:    0.0s remaining:    0.0s\n",
      "[Parallel(n_jobs=1)]: Done   5 out of   5 | elapsed:    0.0s remaining:    0.0s\n",
      "[Parallel(n_jobs=1)]: Done   6 out of   6 | elapsed:    0.0s remaining:    0.0s\n",
      "[Parallel(n_jobs=1)]: Done   7 out of   7 | elapsed:    0.0s remaining:    0.0s\n",
      "[Parallel(n_jobs=1)]: Done   8 out of   8 | elapsed:    0.0s remaining:    0.0s\n",
      "[Parallel(n_jobs=1)]: Done   9 out of   9 | elapsed:    0.0s remaining:    0.0s\n",
      "[Parallel(n_jobs=1)]: Done 250 out of 250 | elapsed:    0.8s finished\n",
      "[Parallel(n_jobs=-1)]: Using backend SequentialBackend with 1 concurrent workers.\n",
      "[Parallel(n_jobs=-1)]: Done   1 out of   1 | elapsed:    0.1s remaining:    0.0s\n"
     ]
    },
    {
     "name": "stdout",
     "output_type": "stream",
     "text": [
      "building tree 1 of 300\n",
      "building tree 2 of 300\n",
      "building tree 3 of 300\n"
     ]
    },
    {
     "name": "stderr",
     "output_type": "stream",
     "text": [
      "[Parallel(n_jobs=-1)]: Done   2 out of   2 | elapsed:    0.1s remaining:    0.0s\n",
      "[Parallel(n_jobs=-1)]: Done   3 out of   3 | elapsed:    0.2s remaining:    0.0s\n",
      "[Parallel(n_jobs=-1)]: Done   4 out of   4 | elapsed:    0.3s remaining:    0.0s\n"
     ]
    },
    {
     "name": "stdout",
     "output_type": "stream",
     "text": [
      "building tree 4 of 300\n",
      "building tree 5 of 300\n",
      "building tree 6 of 300\n"
     ]
    },
    {
     "name": "stderr",
     "output_type": "stream",
     "text": [
      "[Parallel(n_jobs=-1)]: Done   5 out of   5 | elapsed:    0.4s remaining:    0.0s\n",
      "[Parallel(n_jobs=-1)]: Done   6 out of   6 | elapsed:    0.5s remaining:    0.0s\n",
      "[Parallel(n_jobs=-1)]: Done   7 out of   7 | elapsed:    0.6s remaining:    0.0s\n"
     ]
    },
    {
     "name": "stdout",
     "output_type": "stream",
     "text": [
      "building tree 7 of 300\n",
      "building tree 8 of 300\n",
      "building tree 9 of 300\n"
     ]
    },
    {
     "name": "stderr",
     "output_type": "stream",
     "text": [
      "[Parallel(n_jobs=-1)]: Done   8 out of   8 | elapsed:    0.7s remaining:    0.0s\n",
      "[Parallel(n_jobs=-1)]: Done   9 out of   9 | elapsed:    0.7s remaining:    0.0s\n"
     ]
    },
    {
     "name": "stdout",
     "output_type": "stream",
     "text": [
      "building tree 10 of 300\n",
      "building tree 11 of 300\n",
      "building tree 12 of 300\n",
      "building tree 13 of 300\n",
      "building tree 14 of 300\n",
      "building tree 15 of 300\n",
      "building tree 16 of 300\n",
      "building tree 17 of 300\n",
      "building tree 18 of 300\n",
      "building tree 19 of 300\n",
      "building tree 20 of 300\n",
      "building tree 21 of 300\n",
      "building tree 22 of 300\n",
      "building tree 23 of 300\n",
      "building tree 24 of 300\n",
      "building tree 25 of 300\n",
      "building tree 26 of 300\n",
      "building tree 27 of 300\n",
      "building tree 28 of 300\n",
      "building tree 29 of 300\n",
      "building tree 30 of 300\n",
      "building tree 31 of 300\n",
      "building tree 32 of 300\n",
      "building tree 33 of 300\n",
      "building tree 34 of 300\n",
      "building tree 35 of 300\n",
      "building tree 36 of 300\n",
      "building tree 37 of 300\n",
      "building tree 38 of 300\n",
      "building tree 39 of 300\n",
      "building tree 40 of 300\n",
      "building tree 41 of 300\n",
      "building tree 42 of 300\n",
      "building tree 43 of 300\n",
      "building tree 44 of 300\n",
      "building tree 45 of 300\n",
      "building tree 46 of 300\n",
      "building tree 47 of 300\n",
      "building tree 48 of 300\n",
      "building tree 49 of 300\n",
      "building tree 50 of 300\n",
      "building tree 51 of 300\n",
      "building tree 52 of 300\n",
      "building tree 53 of 300\n",
      "building tree 54 of 300\n",
      "building tree 55 of 300\n",
      "building tree 56 of 300\n",
      "building tree 57 of 300\n",
      "building tree 58 of 300\n",
      "building tree 59 of 300\n",
      "building tree 60 of 300\n",
      "building tree 61 of 300\n",
      "building tree 62 of 300\n",
      "building tree 63 of 300\n",
      "building tree 64 of 300\n",
      "building tree 65 of 300\n",
      "building tree 66 of 300\n",
      "building tree 67 of 300\n",
      "building tree 68 of 300\n",
      "building tree 69 of 300\n",
      "building tree 70 of 300\n",
      "building tree 71 of 300\n",
      "building tree 72 of 300\n",
      "building tree 73 of 300\n",
      "building tree 74 of 300\n",
      "building tree 75 of 300\n",
      "building tree 76 of 300\n",
      "building tree 77 of 300\n",
      "building tree 78 of 300\n",
      "building tree 79 of 300\n",
      "building tree 80 of 300\n",
      "building tree 81 of 300\n",
      "building tree 82 of 300\n",
      "building tree 83 of 300\n",
      "building tree 84 of 300\n",
      "building tree 85 of 300\n",
      "building tree 86 of 300\n",
      "building tree 87 of 300\n",
      "building tree 88 of 300\n",
      "building tree 89 of 300\n",
      "building tree 90 of 300\n",
      "building tree 91 of 300\n",
      "building tree 92 of 300\n",
      "building tree 93 of 300\n",
      "building tree 94 of 300\n",
      "building tree 95 of 300\n",
      "building tree 96 of 300\n",
      "building tree 97 of 300\n",
      "building tree 98 of 300\n",
      "building tree 99 of 300\n",
      "building tree 100 of 300\n",
      "building tree 101 of 300\n",
      "building tree 102 of 300\n",
      "building tree 103 of 300\n",
      "building tree 104 of 300\n",
      "building tree 105 of 300\n",
      "building tree 106 of 300\n",
      "building tree 107 of 300\n",
      "building tree 108 of 300\n",
      "building tree 109 of 300\n",
      "building tree 110 of 300\n",
      "building tree 111 of 300\n",
      "building tree 112 of 300\n",
      "building tree 113 of 300\n",
      "building tree 114 of 300\n",
      "building tree 115 of 300\n",
      "building tree 116 of 300\n",
      "building tree 117 of 300\n",
      "building tree 118 of 300\n",
      "building tree 119 of 300\n",
      "building tree 120 of 300\n",
      "building tree 121 of 300\n",
      "building tree 122 of 300\n",
      "building tree 123 of 300\n",
      "building tree 124 of 300\n",
      "building tree 125 of 300\n",
      "building tree 126 of 300\n",
      "building tree 127 of 300\n",
      "building tree 128 of 300\n",
      "building tree 129 of 300\n",
      "building tree 130 of 300\n",
      "building tree 131 of 300\n",
      "building tree 132 of 300\n",
      "building tree 133 of 300\n",
      "building tree 134 of 300\n",
      "building tree 135 of 300\n",
      "building tree 136 of 300\n",
      "building tree 137 of 300\n",
      "building tree 138 of 300\n",
      "building tree 139 of 300\n",
      "building tree 140 of 300\n",
      "building tree 141 of 300\n",
      "building tree 142 of 300\n",
      "building tree 143 of 300\n",
      "building tree 144 of 300\n",
      "building tree 145 of 300\n",
      "building tree 146 of 300\n",
      "building tree 147 of 300\n",
      "building tree 148 of 300\n",
      "building tree 149 of 300\n",
      "building tree 150 of 300\n",
      "building tree 151 of 300\n",
      "building tree 152 of 300\n",
      "building tree 153 of 300\n",
      "building tree 154 of 300\n",
      "building tree 155 of 300\n",
      "building tree 156 of 300\n",
      "building tree 157 of 300\n",
      "building tree 158 of 300\n",
      "building tree 159 of 300\n",
      "building tree 160 of 300\n",
      "building tree 161 of 300\n",
      "building tree 162 of 300\n",
      "building tree 163 of 300\n",
      "building tree 164 of 300\n",
      "building tree 165 of 300\n",
      "building tree 166 of 300\n",
      "building tree 167 of 300\n",
      "building tree 168 of 300\n",
      "building tree 169 of 300\n",
      "building tree 170 of 300\n",
      "building tree 171 of 300\n",
      "building tree 172 of 300\n",
      "building tree 173 of 300\n",
      "building tree 174 of 300\n",
      "building tree 175 of 300\n",
      "building tree 176 of 300\n",
      "building tree 177 of 300\n",
      "building tree 178 of 300\n",
      "building tree 179 of 300\n",
      "building tree 180 of 300\n",
      "building tree 181 of 300\n",
      "building tree 182 of 300\n",
      "building tree 183 of 300\n",
      "building tree 184 of 300\n",
      "building tree 185 of 300\n",
      "building tree 186 of 300\n",
      "building tree 187 of 300\n",
      "building tree 188 of 300\n",
      "building tree 189 of 300\n",
      "building tree 190 of 300\n",
      "building tree 191 of 300\n",
      "building tree 192 of 300\n",
      "building tree 193 of 300\n",
      "building tree 194 of 300\n",
      "building tree 195 of 300\n",
      "building tree 196 of 300\n",
      "building tree 197 of 300\n",
      "building tree 198 of 300\n",
      "building tree 199 of 300\n",
      "building tree 200 of 300\n",
      "building tree 201 of 300\n",
      "building tree 202 of 300\n",
      "building tree 203 of 300\n",
      "building tree 204 of 300\n",
      "building tree 205 of 300\n",
      "building tree 206 of 300\n",
      "building tree 207 of 300\n",
      "building tree 208 of 300\n",
      "building tree 209 of 300\n",
      "building tree 210 of 300\n",
      "building tree 211 of 300\n",
      "building tree 212 of 300\n",
      "building tree 213 of 300\n",
      "building tree 214 of 300\n",
      "building tree 215 of 300\n",
      "building tree 216 of 300\n",
      "building tree 217 of 300\n",
      "building tree 218 of 300\n",
      "building tree 219 of 300\n",
      "building tree 220 of 300\n",
      "building tree 221 of 300\n",
      "building tree 222 of 300\n",
      "building tree 223 of 300\n",
      "building tree 224 of 300\n",
      "building tree 225 of 300\n",
      "building tree 226 of 300\n",
      "building tree 227 of 300\n",
      "building tree 228 of 300\n",
      "building tree 229 of 300\n",
      "building tree 230 of 300\n",
      "building tree 231 of 300\n",
      "building tree 232 of 300\n",
      "building tree 233 of 300\n",
      "building tree 234 of 300\n",
      "building tree 235 of 300\n",
      "building tree 236 of 300\n",
      "building tree 237 of 300\n",
      "building tree 238 of 300\n",
      "building tree 239 of 300\n",
      "building tree 240 of 300\n",
      "building tree 241 of 300\n",
      "building tree 242 of 300\n",
      "building tree 243 of 300\n",
      "building tree 244 of 300\n",
      "building tree 245 of 300\n",
      "building tree 246 of 300\n",
      "building tree 247 of 300\n",
      "building tree 248 of 300\n",
      "building tree 249 of 300\n",
      "building tree 250 of 300\n",
      "building tree 251 of 300\n",
      "building tree 252 of 300\n",
      "building tree 253 of 300\n",
      "building tree 254 of 300\n",
      "building tree 255 of 300\n",
      "building tree 256 of 300\n",
      "building tree 257 of 300\n",
      "building tree 258 of 300\n",
      "building tree 259 of 300\n",
      "building tree 260 of 300\n",
      "building tree 261 of 300\n",
      "building tree 262 of 300\n",
      "building tree 263 of 300\n",
      "building tree 264 of 300\n",
      "building tree 265 of 300\n",
      "building tree 266 of 300\n",
      "building tree 267 of 300\n",
      "building tree 268 of 300\n",
      "building tree 269 of 300\n",
      "building tree 270 of 300\n",
      "building tree 271 of 300\n",
      "building tree 272 of 300\n",
      "building tree 273 of 300\n",
      "building tree 274 of 300\n",
      "building tree 275 of 300\n",
      "building tree 276 of 300\n",
      "building tree 277 of 300\n",
      "building tree 278 of 300\n",
      "building tree 279 of 300\n",
      "building tree 280 of 300\n",
      "building tree 281 of 300\n",
      "building tree 282 of 300\n",
      "building tree 283 of 300\n",
      "building tree 284 of 300\n",
      "building tree 285 of 300\n",
      "building tree 286 of 300\n",
      "building tree 287 of 300\n",
      "building tree 288 of 300\n",
      "building tree 289 of 300\n",
      "building tree 290 of 300\n",
      "building tree 291 of 300\n",
      "building tree 292 of 300\n",
      "building tree 293 of 300\n",
      "building tree 294 of 300\n",
      "building tree 295 of 300\n",
      "building tree 296 of 300\n",
      "building tree 297 of 300\n",
      "building tree 298 of 300\n",
      "building tree 299 of 300\n",
      "building tree 300 of 300\n"
     ]
    },
    {
     "name": "stderr",
     "output_type": "stream",
     "text": [
      "[Parallel(n_jobs=-1)]: Done 300 out of 300 | elapsed:   22.6s finished\n",
      "[Parallel(n_jobs=1)]: Using backend SequentialBackend with 1 concurrent workers.\n",
      "[Parallel(n_jobs=1)]: Done   1 out of   1 | elapsed:    0.0s remaining:    0.0s\n",
      "[Parallel(n_jobs=1)]: Done   2 out of   2 | elapsed:    0.0s remaining:    0.0s\n",
      "[Parallel(n_jobs=1)]: Done   3 out of   3 | elapsed:    0.0s remaining:    0.0s\n",
      "[Parallel(n_jobs=1)]: Done   4 out of   4 | elapsed:    0.0s remaining:    0.0s\n",
      "[Parallel(n_jobs=1)]: Done   5 out of   5 | elapsed:    0.0s remaining:    0.0s\n",
      "[Parallel(n_jobs=1)]: Done   6 out of   6 | elapsed:    0.0s remaining:    0.0s\n",
      "[Parallel(n_jobs=1)]: Done   7 out of   7 | elapsed:    0.0s remaining:    0.0s\n",
      "[Parallel(n_jobs=1)]: Done   8 out of   8 | elapsed:    0.0s remaining:    0.0s\n",
      "[Parallel(n_jobs=1)]: Done   9 out of   9 | elapsed:    0.0s remaining:    0.0s\n",
      "[Parallel(n_jobs=1)]: Done 300 out of 300 | elapsed:    1.1s finished\n"
     ]
    }
   ],
   "source": [
    "model_rf = None\n",
    "rmse_rf = 10000\n",
    "time_fit_rf = 0\n",
    "time_pred_rf = 0\n",
    "for depth in range(4, 8):\n",
    "    for est in range(100,301,50):\n",
    "        model = RandomForestRegressor(random_state=1234, max_depth=depth, n_estimators=est, \n",
    "                                      criterion='friedman_mse', max_features='sqrt', n_jobs=-1, verbose=10)\n",
    "        start = time.time()\n",
    "        model.fit(features_train,target_train)\n",
    "        time_fit_rf_temp = time.time() - start\n",
    "        start = time.time()\n",
    "        predicted_validate = model.predict(features_validate)\n",
    "        time_pred_rf_temp = time.time() - start\n",
    "        rmse = mean_squared_error(target_validate, predicted_validate, squared=False)\n",
    "        if rmse < rmse_rf:\n",
    "            model_rf = model\n",
    "            rmse_rf = rmse\n",
    "            time_fit_rf = time_fit_rf_temp\n",
    "            time_pred_rf = time_pred_rf_temp"
   ]
  },
  {
   "cell_type": "code",
   "execution_count": 42,
   "metadata": {},
   "outputs": [
    {
     "name": "stdout",
     "output_type": "stream",
     "text": [
      "Для случайного леса\n",
      "с максимальной глубиной\t\t\t 7\n",
      "и количеством деревьев (estimators)\t 250\n",
      "RMSE = \t\t\t\t\t 2092.5\n",
      "Время на обучение \t\t\t 18.795 секунд\n",
      "Время на предсказание\t\t\t 0.83478 секунд\n"
     ]
    }
   ],
   "source": [
    "print('Для случайного леса\\nс максимальной глубиной\\t\\t\\t', model_rf.max_depth)\n",
    "print('и количеством деревьев (estimators)\\t', model_rf.n_estimators)\n",
    "print('RMSE = \\t\\t\\t\\t\\t {:.5}'.format(rmse_rf))\n",
    "print('Время на обучение \\t\\t\\t {:.5} секунд'.format(time_fit_rf))\n",
    "print('Время на предсказание\\t\\t\\t {:.5} секунд'.format(time_pred_rf))"
   ]
  },
  {
   "cell_type": "markdown",
   "metadata": {},
   "source": [
    "### Обучение и оценка качества модели линейной регрессии"
   ]
  },
  {
   "cell_type": "markdown",
   "metadata": {},
   "source": [
    "Обучим и оценим качество модели линейной регрессии. Чтобы улучшить результаты, стандартизируем численные признаки и перекодируем категориальные признаки прямым методом."
   ]
  },
  {
   "cell_type": "code",
   "execution_count": 43,
   "metadata": {},
   "outputs": [],
   "source": [
    "# производим обратную трансформацию порядкового кодирования\n",
    "features_train.loc[:,cols] = encoder.inverse_transform(features_train[cols])\n",
    "features_validate.loc[:,cols] = encoder.inverse_transform(features_validate[cols])"
   ]
  },
  {
   "cell_type": "code",
   "execution_count": 45,
   "metadata": {},
   "outputs": [],
   "source": [
    "# стандартизируем численные признаки\n",
    "cols_std = ['registration_year','power','kilometer']\n",
    "scaler_std = StandardScaler()\n",
    "features_train.loc[:,cols_std] = scaler_std.fit_transform(features_train[cols_std]) # обучаем и трансформируем\n",
    "features_validate.loc[:,cols_std] = scaler_std.transform(features_validate[cols_std]) # только трансформируем"
   ]
  },
  {
   "cell_type": "code",
   "execution_count": 58,
   "metadata": {},
   "outputs": [
    {
     "data": {
      "text/html": [
       "<div>\n",
       "<style scoped>\n",
       "    .dataframe tbody tr th:only-of-type {\n",
       "        vertical-align: middle;\n",
       "    }\n",
       "\n",
       "    .dataframe tbody tr th {\n",
       "        vertical-align: top;\n",
       "    }\n",
       "\n",
       "    .dataframe thead th {\n",
       "        text-align: right;\n",
       "    }\n",
       "</style>\n",
       "<table border=\"1\" class=\"dataframe\">\n",
       "  <thead>\n",
       "    <tr style=\"text-align: right;\">\n",
       "      <th></th>\n",
       "      <th>vehicle_type</th>\n",
       "      <th>registration_year</th>\n",
       "      <th>gearbox</th>\n",
       "      <th>power</th>\n",
       "      <th>model</th>\n",
       "      <th>kilometer</th>\n",
       "      <th>fuel_type</th>\n",
       "      <th>brand</th>\n",
       "      <th>repaired</th>\n",
       "    </tr>\n",
       "  </thead>\n",
       "  <tbody>\n",
       "    <tr>\n",
       "      <th>6151</th>\n",
       "      <td>bus</td>\n",
       "      <td>0.19</td>\n",
       "      <td>auto</td>\n",
       "      <td>-0.27</td>\n",
       "      <td>touran</td>\n",
       "      <td>0.58</td>\n",
       "      <td>gasoline</td>\n",
       "      <td>volkswagen</td>\n",
       "      <td>no</td>\n",
       "    </tr>\n",
       "    <tr>\n",
       "      <th>330453</th>\n",
       "      <td>wagon</td>\n",
       "      <td>-0.90</td>\n",
       "      <td>manual</td>\n",
       "      <td>-0.56</td>\n",
       "      <td>golf</td>\n",
       "      <td>0.58</td>\n",
       "      <td>petrol</td>\n",
       "      <td>volkswagen</td>\n",
       "      <td>no</td>\n",
       "    </tr>\n",
       "    <tr>\n",
       "      <th>58085</th>\n",
       "      <td>suv</td>\n",
       "      <td>0.82</td>\n",
       "      <td>manual</td>\n",
       "      <td>0.32</td>\n",
       "      <td>kuga</td>\n",
       "      <td>-1.84</td>\n",
       "      <td>gasoline</td>\n",
       "      <td>ford</td>\n",
       "      <td>no</td>\n",
       "    </tr>\n",
       "    <tr>\n",
       "      <th>327852</th>\n",
       "      <td>small</td>\n",
       "      <td>0.82</td>\n",
       "      <td>manual</td>\n",
       "      <td>-1.14</td>\n",
       "      <td>fabia</td>\n",
       "      <td>-0.76</td>\n",
       "      <td>petrol</td>\n",
       "      <td>skoda</td>\n",
       "      <td>no</td>\n",
       "    </tr>\n",
       "    <tr>\n",
       "      <th>81242</th>\n",
       "      <td>sedan</td>\n",
       "      <td>-1.37</td>\n",
       "      <td>manual</td>\n",
       "      <td>-1.14</td>\n",
       "      <td>golf</td>\n",
       "      <td>0.58</td>\n",
       "      <td>petrol</td>\n",
       "      <td>volkswagen</td>\n",
       "      <td>no</td>\n",
       "    </tr>\n",
       "    <tr>\n",
       "      <th>342714</th>\n",
       "      <td>small</td>\n",
       "      <td>-1.52</td>\n",
       "      <td>manual</td>\n",
       "      <td>-1.43</td>\n",
       "      <td>polo</td>\n",
       "      <td>0.58</td>\n",
       "      <td>petrol</td>\n",
       "      <td>volkswagen</td>\n",
       "      <td>no</td>\n",
       "    </tr>\n",
       "    <tr>\n",
       "      <th>50884</th>\n",
       "      <td>sedan</td>\n",
       "      <td>0.51</td>\n",
       "      <td>manual</td>\n",
       "      <td>0.11</td>\n",
       "      <td>mondeo</td>\n",
       "      <td>-1.30</td>\n",
       "      <td>petrol</td>\n",
       "      <td>ford</td>\n",
       "      <td>unknown</td>\n",
       "    </tr>\n",
       "    <tr>\n",
       "      <th>231108</th>\n",
       "      <td>sedan</td>\n",
       "      <td>0.04</td>\n",
       "      <td>manual</td>\n",
       "      <td>0.22</td>\n",
       "      <td>passat</td>\n",
       "      <td>0.58</td>\n",
       "      <td>petrol</td>\n",
       "      <td>volkswagen</td>\n",
       "      <td>no</td>\n",
       "    </tr>\n",
       "    <tr>\n",
       "      <th>132944</th>\n",
       "      <td>sedan</td>\n",
       "      <td>0.51</td>\n",
       "      <td>auto</td>\n",
       "      <td>5.16</td>\n",
       "      <td>unknown</td>\n",
       "      <td>0.58</td>\n",
       "      <td>petrol</td>\n",
       "      <td>mercedes_benz</td>\n",
       "      <td>no</td>\n",
       "    </tr>\n",
       "    <tr>\n",
       "      <th>231292</th>\n",
       "      <td>sedan</td>\n",
       "      <td>1.60</td>\n",
       "      <td>manual</td>\n",
       "      <td>0.42</td>\n",
       "      <td>qashqai</td>\n",
       "      <td>-2.65</td>\n",
       "      <td>petrol</td>\n",
       "      <td>nissan</td>\n",
       "      <td>no</td>\n",
       "    </tr>\n",
       "  </tbody>\n",
       "</table>\n",
       "</div>"
      ],
      "text/plain": [
       "       vehicle_type  registration_year gearbox  power    model  kilometer  \\\n",
       "6151            bus               0.19    auto  -0.27   touran       0.58   \n",
       "330453        wagon              -0.90  manual  -0.56     golf       0.58   \n",
       "58085           suv               0.82  manual   0.32     kuga      -1.84   \n",
       "327852        small               0.82  manual  -1.14    fabia      -0.76   \n",
       "81242         sedan              -1.37  manual  -1.14     golf       0.58   \n",
       "342714        small              -1.52  manual  -1.43     polo       0.58   \n",
       "50884         sedan               0.51  manual   0.11   mondeo      -1.30   \n",
       "231108        sedan               0.04  manual   0.22   passat       0.58   \n",
       "132944        sedan               0.51    auto   5.16  unknown       0.58   \n",
       "231292        sedan               1.60  manual   0.42  qashqai      -2.65   \n",
       "\n",
       "       fuel_type          brand repaired  \n",
       "6151    gasoline     volkswagen       no  \n",
       "330453    petrol     volkswagen       no  \n",
       "58085   gasoline           ford       no  \n",
       "327852    petrol          skoda       no  \n",
       "81242     petrol     volkswagen       no  \n",
       "342714    petrol     volkswagen       no  \n",
       "50884     petrol           ford  unknown  \n",
       "231108    petrol     volkswagen       no  \n",
       "132944    petrol  mercedes_benz       no  \n",
       "231292    petrol         nissan       no  "
      ]
     },
     "execution_count": 58,
     "metadata": {},
     "output_type": "execute_result"
    }
   ],
   "source": [
    "features_validate.head(10)"
   ]
  },
  {
   "cell_type": "code",
   "execution_count": 47,
   "metadata": {},
   "outputs": [],
   "source": [
    "# прямое кодирование признаков с помощью OneHotEncoder\n",
    "# воспользуемся трансформером, чтобы не пришлось дополнительно соединять закодированные признаки с числовыми\n",
    "transformer_ohe = make_column_transformer(\n",
    "    (OneHotEncoder(handle_unknown='ignore'), cols),\n",
    "    remainder='passthrough')\n",
    "\n",
    "features_train_ohe = pd.DataFrame(transformer_ohe.fit_transform(features_train).toarray(), \n",
    "                                  columns=transformer_ohe.get_feature_names())\n",
    "features_validate_ohe = pd.DataFrame(transformer_ohe.transform(features_validate).toarray(), \n",
    "                                  columns=transformer_ohe.get_feature_names())"
   ]
  },
  {
   "cell_type": "code",
   "execution_count": 48,
   "metadata": {},
   "outputs": [
    {
     "name": "stdout",
     "output_type": "stream",
     "text": [
      "Обучающая :\t (195777, 313)\n",
      "Валидационная :\t (65259, 313)\n"
     ]
    }
   ],
   "source": [
    "# проверяем размерность\n",
    "print('Обучающая :\\t',features_train_ohe.shape)\n",
    "print('Валидационная :\\t',features_validate_ohe.shape)"
   ]
  },
  {
   "cell_type": "code",
   "execution_count": 49,
   "metadata": {},
   "outputs": [],
   "source": [
    "model_lr = LinearRegression(n_jobs=-1)\n",
    "start = time.time()\n",
    "model_lr.fit(features_train_ohe,target_train)\n",
    "time_fit_lr = time.time() - start\n",
    "start = time.time()\n",
    "predicted_validate = model_lr.predict(features_validate_ohe)\n",
    "time_pred_lr = time.time() - start\n",
    "rmse_lr = mean_squared_error(target_validate, predicted_validate, squared=False)"
   ]
  },
  {
   "cell_type": "code",
   "execution_count": 50,
   "metadata": {},
   "outputs": [
    {
     "name": "stdout",
     "output_type": "stream",
     "text": [
      "Для линейной регрессии\n",
      "RMSE = \t\t\t\t\t 2620.7\n",
      "Время на обучение \t\t\t 20.034 секунд\n",
      "Время на предсказание\t\t\t 0.11607 секунд\n"
     ]
    }
   ],
   "source": [
    "print('Для линейной регрессии')\n",
    "print('RMSE = \\t\\t\\t\\t\\t {:.5}'.format(rmse_lr))\n",
    "print('Время на обучение \\t\\t\\t {:.5} секунд'.format(time_fit_lr))\n",
    "print('Время на предсказание\\t\\t\\t {:.5} секунд'.format(time_pred_lr))"
   ]
  },
  {
   "cell_type": "markdown",
   "metadata": {},
   "source": [
    "### Сравнение качества моделей"
   ]
  },
  {
   "cell_type": "markdown",
   "metadata": {},
   "source": [
    "Сопоставим метрики построенных нами моделей"
   ]
  },
  {
   "cell_type": "code",
   "execution_count": 51,
   "metadata": {},
   "outputs": [],
   "source": [
    "quality = pd.DataFrame([['Градиентный бустинг', rmse_gb, time_fit_gb, time_pred_gb],\n",
    "                       ['Случайный лес', rmse_rf, time_fit_rf, time_pred_rf],\n",
    "                       ['Линейная регрессия', rmse_lr, time_fit_lr, time_pred_lr]],\n",
    "    columns=['Модель', 'RMSE','Обучение, сек','Предсказание, сек'])\n",
    "pd.options.display.float_format = '{:.2f}'.format"
   ]
  },
  {
   "cell_type": "code",
   "execution_count": 52,
   "metadata": {},
   "outputs": [
    {
     "data": {
      "text/html": [
       "<div>\n",
       "<style scoped>\n",
       "    .dataframe tbody tr th:only-of-type {\n",
       "        vertical-align: middle;\n",
       "    }\n",
       "\n",
       "    .dataframe tbody tr th {\n",
       "        vertical-align: top;\n",
       "    }\n",
       "\n",
       "    .dataframe thead th {\n",
       "        text-align: right;\n",
       "    }\n",
       "</style>\n",
       "<table border=\"1\" class=\"dataframe\">\n",
       "  <thead>\n",
       "    <tr style=\"text-align: right;\">\n",
       "      <th></th>\n",
       "      <th>Модель</th>\n",
       "      <th>RMSE</th>\n",
       "      <th>Обучение, сек</th>\n",
       "      <th>Предсказание, сек</th>\n",
       "    </tr>\n",
       "  </thead>\n",
       "  <tbody>\n",
       "    <tr>\n",
       "      <th>0</th>\n",
       "      <td>Градиентный бустинг</td>\n",
       "      <td>1656.35</td>\n",
       "      <td>12.69</td>\n",
       "      <td>1.31</td>\n",
       "    </tr>\n",
       "    <tr>\n",
       "      <th>1</th>\n",
       "      <td>Случайный лес</td>\n",
       "      <td>2092.54</td>\n",
       "      <td>18.80</td>\n",
       "      <td>0.83</td>\n",
       "    </tr>\n",
       "    <tr>\n",
       "      <th>2</th>\n",
       "      <td>Линейная регрессия</td>\n",
       "      <td>2620.72</td>\n",
       "      <td>20.03</td>\n",
       "      <td>0.12</td>\n",
       "    </tr>\n",
       "  </tbody>\n",
       "</table>\n",
       "</div>"
      ],
      "text/plain": [
       "                Модель    RMSE  Обучение, сек  Предсказание, сек\n",
       "0  Градиентный бустинг 1656.35          12.69               1.31\n",
       "1        Случайный лес 2092.54          18.80               0.83\n",
       "2   Линейная регрессия 2620.72          20.03               0.12"
      ]
     },
     "execution_count": 52,
     "metadata": {},
     "output_type": "execute_result"
    }
   ],
   "source": [
    "quality"
   ]
  },
  {
   "cell_type": "markdown",
   "metadata": {},
   "source": [
    "**Промежуточный вывод**  \n",
    "Наилучшее значение метрики качества RMSE (1656) показала модель градиентного бустинга с максимальной глубиной 6 и количеством итераций (estimators) 300.\n",
    "У модель случайного леса с максимальной глубиной 7 и количеством деревьев (estimators) 250 выше (хуже) RMSE: 2092 (на 28%). Также в ~1.5 раза дольше обучалась (20 секунд против 13 у градиентного бустинга). Однако случайный лес чуть быстрее давал предсказание: 0.83 секунды против 1.3 (градиентный бустинг на 34% медленнее).  \n",
    "Модель линейной регрессии дольше обучилась, хотя дала предсказание почти мгновенно (менее 0,1 секунды), однако RMSE оказалась выше требуемого: 2620 вместо 2500.  \n",
    "Учитывая, что мы делали прогноз по базе данных анкет почти за год, выигрыш случайного леса в прогнозировании (0,5 секунды) кажется недостаточным, чтобы компенсировать проигрыш в скорости обучения и RMSE. Потому мы выберем модель градиентного бустинга"
   ]
  },
  {
   "cell_type": "markdown",
   "metadata": {},
   "source": [
    "## Анализ моделей"
   ]
  },
  {
   "cell_type": "markdown",
   "metadata": {},
   "source": [
    "### Проверка качества лучшей модели на тестовой выборке"
   ]
  },
  {
   "cell_type": "markdown",
   "metadata": {},
   "source": [
    "Проверим метрику RMSE и время предсказания для выбранной нами лучшей модели градиентного бустинга на тестовой выборке."
   ]
  },
  {
   "cell_type": "code",
   "execution_count": 53,
   "metadata": {},
   "outputs": [],
   "source": [
    "# перед началом закодируем категориальные признаки в тестовой выборке\n",
    "features_test.loc[:,cols] = encoder.transform(features_test[cols])"
   ]
  },
  {
   "cell_type": "code",
   "execution_count": 54,
   "metadata": {},
   "outputs": [],
   "source": [
    "start = time.time()\n",
    "predicted_test = model_gb.predict(features_test)\n",
    "time_pred_final = time.time() - start\n",
    "rmse_final = mean_squared_error(target_test, predicted_test, squared=False)"
   ]
  },
  {
   "cell_type": "code",
   "execution_count": 55,
   "metadata": {},
   "outputs": [
    {
     "name": "stdout",
     "output_type": "stream",
     "text": [
      "Для выбранной нами модели градиентного бустинга\n",
      "RMSE = \t\t\t 1620.5\n",
      "Время на предсказание\t 1.3287 секунд\n"
     ]
    }
   ],
   "source": [
    "print('Для выбранной нами модели градиентного бустинга')\n",
    "print('RMSE = \\t\\t\\t {:.5}'.format(rmse_final))\n",
    "print('Время на предсказание\\t {:.5} секунд'.format(time_pred_final))"
   ]
  },
  {
   "cell_type": "markdown",
   "metadata": {},
   "source": [
    "RMSE и время, затраченное на предсказание, почти не отличаются от значений, полученных на валидационной выборке. Это указывает на стабильность (не переобученность) модели."
   ]
  },
  {
   "cell_type": "markdown",
   "metadata": {},
   "source": [
    "### Проверка лучшей модели на адекватность"
   ]
  },
  {
   "cell_type": "markdown",
   "metadata": {},
   "source": [
    "Сравним выбранную нами модель градиентного бустинга со случайной моделью, чьи предсказания всегда равны среднему значению целевого признака в обучающей выборке"
   ]
  },
  {
   "cell_type": "code",
   "execution_count": 56,
   "metadata": {},
   "outputs": [],
   "source": [
    "model_dummy = DummyRegressor(strategy='mean')\n",
    "model_dummy.fit(features_train,target_train)\n",
    "predicted_dummy = model_dummy.predict(features_test)\n",
    "rmse_dummy = mean_squared_error(target_test, predicted_dummy, squared=False)"
   ]
  },
  {
   "cell_type": "code",
   "execution_count": 57,
   "metadata": {},
   "outputs": [
    {
     "name": "stdout",
     "output_type": "stream",
     "text": [
      "Для простой модели\n",
      "RMSE = 4531.8\n"
     ]
    }
   ],
   "source": [
    "print('Для простой модели')\n",
    "print('RMSE = {:.5}'.format(rmse_dummy))"
   ]
  },
  {
   "cell_type": "markdown",
   "metadata": {},
   "source": [
    "**Промежуточный вывод**  \n",
    "Целевой показатель качества достигнут (RMSE = 1620).  \n",
    "Выбранная модель прошла проверку на адекватность в сравнении с простой случайной моделью (RMSE модели градиентного бустинга в 2,75 раз ниже)."
   ]
  },
  {
   "cell_type": "markdown",
   "metadata": {},
   "source": [
    "## Общий вывод"
   ]
  },
  {
   "cell_type": "markdown",
   "metadata": {},
   "source": [
    "1. Явные пропуски обнаружены в 20% объектов. В основном это касается информации о том, ремонтировалась ли машина. Возможно, такие подробности, как тип коробки передач, тип топлива и тип кузова действительно казались авторам анкет излишними в сравнении с маркой (указана всегда) и моделью автомобиля. Однако даже модель пропущена в ~5,6% случаев. Стоит уточнить, не возник ли сбой при выгрузке данных\n",
    "2. В признаках мощности, месяца регистрации и цены присутствовали неявные пропуски - нулевые значения. \n",
    "3. Количество фотографий для всех объектов равно нулю - вероятно, произошла ошибка при формировании или выгрузке данных.\n",
    "4. Мы исключили неинформативные признаки: дата скачивания анкеты, месяц регистрации автомобиля, дата создания анкеты и дата последней активности пользователя.\n",
    "5. Мы исключили почтовый индекс владельца анкеты. Хотя цена может отличаться в далёких друг от друга регионах, следует соотнести индексы с более крупной территориальной единицей. В дальнейшем можно проделать такую работу.  \n",
    "6. Наилучшее значение метрики качества RMSE (1656) показала модель градиентного бустинга с максимальной глубиной 6 и количеством итераций (estimators) 300. Она обучалась 13 секунд и давала предсказание за 1,3 секунды.  \n",
    "7. Модель случайного леса с максимальной глубиной 7 и количеством деревьев (estimators) 250 хуже RMSE: 2092 (на 28%). Также она в ~1.5 раза дольше обучалась (20 секунд). Хотя случайный лес чуть быстрее давал предсказание (0.8 секунды), мы работали с массивом анкет почти за год, так что такой выигрыш кажется недостаточным.\n",
    "8. Модель линейной регрессии предсказывает почти мгновенно, но даёт неудовлетворителньое качество RMSE: 2620 (при требуемых 2500).\n",
    "9. Метрики модели градиентного бустинга на тестовой выборке почти идентичны метрикам на валидационной выборке, что свидетельствует о стабильности (не переобученности) модели. RMSE равна 1620 при требуемых 2500. Модель прошла проверку на адекватность в сравнении со случайной моделью."
   ]
  },
  {
   "cell_type": "code",
   "execution_count": null,
   "metadata": {},
   "outputs": [],
   "source": []
  }
 ],
 "metadata": {
  "ExecuteTimeLog": [
   {
    "duration": 1480,
    "start_time": "2023-01-17T13:10:10.415Z"
   },
   {
    "duration": 3138,
    "start_time": "2023-01-17T13:10:12.370Z"
   },
   {
    "duration": 20,
    "start_time": "2023-01-17T13:10:37.935Z"
   },
   {
    "duration": 1010,
    "start_time": "2023-01-17T13:11:15.895Z"
   },
   {
    "duration": 19,
    "start_time": "2023-01-17T13:11:17.962Z"
   },
   {
    "duration": 107,
    "start_time": "2023-01-17T13:11:28.161Z"
   },
   {
    "duration": 1060,
    "start_time": "2023-01-17T13:12:46.713Z"
   },
   {
    "duration": 17,
    "start_time": "2023-01-17T13:12:49.076Z"
   },
   {
    "duration": 3,
    "start_time": "2023-01-17T13:14:14.911Z"
   },
   {
    "duration": 104,
    "start_time": "2023-01-17T13:20:42.325Z"
   },
   {
    "duration": 15,
    "start_time": "2023-01-17T13:20:52.950Z"
   },
   {
    "duration": 19,
    "start_time": "2023-01-17T13:21:28.085Z"
   },
   {
    "duration": 31,
    "start_time": "2023-01-17T13:21:33.357Z"
   },
   {
    "duration": 24,
    "start_time": "2023-01-17T13:21:37.040Z"
   },
   {
    "duration": 20,
    "start_time": "2023-01-17T13:22:26.322Z"
   },
   {
    "duration": 24,
    "start_time": "2023-01-17T13:22:33.325Z"
   },
   {
    "duration": 24,
    "start_time": "2023-01-17T13:22:37.341Z"
   },
   {
    "duration": 17,
    "start_time": "2023-01-17T13:23:00.234Z"
   },
   {
    "duration": 47,
    "start_time": "2023-01-17T13:24:15.928Z"
   },
   {
    "duration": 117,
    "start_time": "2023-01-17T13:24:23.092Z"
   },
   {
    "duration": 5,
    "start_time": "2023-01-17T13:31:49.260Z"
   },
   {
    "duration": 6,
    "start_time": "2023-01-17T13:32:24.246Z"
   },
   {
    "duration": 392,
    "start_time": "2023-01-17T13:32:28.266Z"
   },
   {
    "duration": 5,
    "start_time": "2023-01-17T13:32:45.641Z"
   },
   {
    "duration": 313,
    "start_time": "2023-01-17T13:32:46.584Z"
   },
   {
    "duration": 83,
    "start_time": "2023-01-17T13:33:34.112Z"
   },
   {
    "duration": 12,
    "start_time": "2023-01-17T13:35:45.488Z"
   },
   {
    "duration": 9,
    "start_time": "2023-01-17T13:36:24.609Z"
   },
   {
    "duration": 13729,
    "start_time": "2023-01-17T13:39:06.773Z"
   },
   {
    "duration": 10485,
    "start_time": "2023-01-17T13:39:27.806Z"
   },
   {
    "duration": 325,
    "start_time": "2023-01-17T13:40:59.926Z"
   },
   {
    "duration": 25,
    "start_time": "2023-01-17T13:41:43.524Z"
   },
   {
    "duration": 42,
    "start_time": "2023-01-17T13:42:12.732Z"
   },
   {
    "duration": 240,
    "start_time": "2023-01-17T13:42:25.328Z"
   },
   {
    "duration": 4,
    "start_time": "2023-01-17T13:45:43.555Z"
   },
   {
    "duration": 39,
    "start_time": "2023-01-17T13:45:44.027Z"
   },
   {
    "duration": 1240,
    "start_time": "2023-01-17T13:48:27.710Z"
   },
   {
    "duration": 1078,
    "start_time": "2023-01-17T13:48:28.952Z"
   },
   {
    "duration": 20,
    "start_time": "2023-01-17T13:48:30.032Z"
   },
   {
    "duration": 98,
    "start_time": "2023-01-17T13:48:30.055Z"
   },
   {
    "duration": 66,
    "start_time": "2023-01-17T13:48:30.155Z"
   },
   {
    "duration": 5,
    "start_time": "2023-01-17T13:48:30.222Z"
   },
   {
    "duration": 312,
    "start_time": "2023-01-17T13:48:30.229Z"
   },
   {
    "duration": 9,
    "start_time": "2023-01-17T13:48:34.002Z"
   },
   {
    "duration": 6,
    "start_time": "2023-01-17T13:54:10.141Z"
   },
   {
    "duration": 8,
    "start_time": "2023-01-17T13:54:19.565Z"
   },
   {
    "duration": 107,
    "start_time": "2023-01-17T13:54:30.708Z"
   },
   {
    "duration": 8,
    "start_time": "2023-01-17T13:54:35.315Z"
   },
   {
    "duration": 9,
    "start_time": "2023-01-17T13:54:47.139Z"
   },
   {
    "duration": 8,
    "start_time": "2023-01-17T13:55:17.312Z"
   },
   {
    "duration": 8,
    "start_time": "2023-01-17T13:55:23.993Z"
   },
   {
    "duration": 8,
    "start_time": "2023-01-17T13:55:34.436Z"
   },
   {
    "duration": 1302,
    "start_time": "2023-01-17T13:57:03.110Z"
   },
   {
    "duration": 759,
    "start_time": "2023-01-17T13:58:12.757Z"
   },
   {
    "duration": 985,
    "start_time": "2023-01-17T13:59:05.180Z"
   },
   {
    "duration": 4110,
    "start_time": "2023-01-17T14:00:10.817Z"
   },
   {
    "duration": 4260,
    "start_time": "2023-01-17T14:00:42.813Z"
   },
   {
    "duration": 892,
    "start_time": "2023-01-17T14:04:41.562Z"
   },
   {
    "duration": 767,
    "start_time": "2023-01-17T14:04:52.279Z"
   },
   {
    "duration": 1646,
    "start_time": "2023-01-17T14:05:13.527Z"
   },
   {
    "duration": 6,
    "start_time": "2023-01-17T14:05:20.405Z"
   },
   {
    "duration": 790,
    "start_time": "2023-01-17T14:05:26.528Z"
   },
   {
    "duration": 17,
    "start_time": "2023-01-17T14:05:51.975Z"
   },
   {
    "duration": 18,
    "start_time": "2023-01-17T14:06:02.656Z"
   },
   {
    "duration": 24,
    "start_time": "2023-01-17T14:06:07.911Z"
   },
   {
    "duration": 21,
    "start_time": "2023-01-17T14:06:15.222Z"
   },
   {
    "duration": 2909,
    "start_time": "2023-01-17T14:06:21.494Z"
   },
   {
    "duration": 43,
    "start_time": "2023-01-17T14:07:20.526Z"
   },
   {
    "duration": 128,
    "start_time": "2023-01-17T14:09:37.906Z"
   },
   {
    "duration": 5,
    "start_time": "2023-01-17T14:10:07.152Z"
   },
   {
    "duration": 392,
    "start_time": "2023-01-17T14:10:12.675Z"
   },
   {
    "duration": 9,
    "start_time": "2023-01-17T14:10:47.183Z"
   },
   {
    "duration": 9,
    "start_time": "2023-01-17T14:10:51.485Z"
   },
   {
    "duration": 12,
    "start_time": "2023-01-17T14:10:56.933Z"
   },
   {
    "duration": 9,
    "start_time": "2023-01-17T14:11:02.565Z"
   },
   {
    "duration": 12,
    "start_time": "2023-01-17T14:11:15.244Z"
   },
   {
    "duration": 39,
    "start_time": "2023-01-17T14:11:23.048Z"
   },
   {
    "duration": 5,
    "start_time": "2023-01-17T14:12:37.904Z"
   },
   {
    "duration": 323,
    "start_time": "2023-01-17T14:12:38.788Z"
   },
   {
    "duration": 5,
    "start_time": "2023-01-17T14:13:47.199Z"
   },
   {
    "duration": 20,
    "start_time": "2023-01-17T14:13:48.094Z"
   },
   {
    "duration": 5,
    "start_time": "2023-01-17T14:14:23.887Z"
   },
   {
    "duration": 57,
    "start_time": "2023-01-17T14:14:24.446Z"
   },
   {
    "duration": 59,
    "start_time": "2023-01-17T14:19:19.910Z"
   },
   {
    "duration": 10,
    "start_time": "2023-01-17T14:19:26.253Z"
   },
   {
    "duration": 10,
    "start_time": "2023-01-17T14:19:49.010Z"
   },
   {
    "duration": 20,
    "start_time": "2023-01-17T14:20:19.305Z"
   },
   {
    "duration": 11,
    "start_time": "2023-01-17T14:29:00.159Z"
   },
   {
    "duration": 3,
    "start_time": "2023-01-17T14:29:48.197Z"
   },
   {
    "duration": 3,
    "start_time": "2023-01-17T14:29:51.274Z"
   },
   {
    "duration": 205,
    "start_time": "2023-01-17T14:33:01.234Z"
   },
   {
    "duration": 263,
    "start_time": "2023-01-17T14:33:30.583Z"
   },
   {
    "duration": 32,
    "start_time": "2023-01-17T14:34:22.466Z"
   },
   {
    "duration": 56,
    "start_time": "2023-01-17T14:34:39.625Z"
   },
   {
    "duration": 47,
    "start_time": "2023-01-17T14:34:46.715Z"
   },
   {
    "duration": 3,
    "start_time": "2023-01-17T14:35:16.373Z"
   },
   {
    "duration": 21,
    "start_time": "2023-01-17T14:36:57.608Z"
   },
   {
    "duration": 5,
    "start_time": "2023-01-17T14:40:11.242Z"
   },
   {
    "duration": 10,
    "start_time": "2023-01-17T14:40:34.086Z"
   },
   {
    "duration": 13,
    "start_time": "2023-01-17T14:40:41.556Z"
   },
   {
    "duration": 152,
    "start_time": "2023-01-17T14:43:11.540Z"
   },
   {
    "duration": 141,
    "start_time": "2023-01-17T14:43:28.327Z"
   },
   {
    "duration": 34,
    "start_time": "2023-01-17T14:43:43.211Z"
   },
   {
    "duration": 30,
    "start_time": "2023-01-17T14:44:02.321Z"
   },
   {
    "duration": 6,
    "start_time": "2023-01-17T14:44:51.024Z"
   },
   {
    "duration": 84,
    "start_time": "2023-01-17T14:44:55.370Z"
   },
   {
    "duration": 33,
    "start_time": "2023-01-17T14:47:51.230Z"
   },
   {
    "duration": 325,
    "start_time": "2023-01-17T14:54:15.976Z"
   },
   {
    "duration": 285,
    "start_time": "2023-01-17T14:54:27.677Z"
   },
   {
    "duration": 331,
    "start_time": "2023-01-17T14:54:31.668Z"
   },
   {
    "duration": 328,
    "start_time": "2023-01-17T14:54:40.898Z"
   },
   {
    "duration": 61,
    "start_time": "2023-01-17T14:55:25.929Z"
   },
   {
    "duration": 40,
    "start_time": "2023-01-17T14:55:33.699Z"
   },
   {
    "duration": 47,
    "start_time": "2023-01-17T14:55:59.588Z"
   },
   {
    "duration": 55,
    "start_time": "2023-01-17T14:56:10.835Z"
   },
   {
    "duration": 34,
    "start_time": "2023-01-17T14:56:20.228Z"
   },
   {
    "duration": 34,
    "start_time": "2023-01-17T14:56:27.818Z"
   },
   {
    "duration": 5,
    "start_time": "2023-01-17T14:56:39.908Z"
   },
   {
    "duration": 8,
    "start_time": "2023-01-17T14:56:44.259Z"
   },
   {
    "duration": 51,
    "start_time": "2023-01-17T14:56:57.118Z"
   },
   {
    "duration": 56,
    "start_time": "2023-01-17T14:57:44.725Z"
   },
   {
    "duration": 1259,
    "start_time": "2023-01-17T14:58:02.654Z"
   },
   {
    "duration": 283,
    "start_time": "2023-01-17T14:58:23.007Z"
   },
   {
    "duration": 684,
    "start_time": "2023-01-17T14:58:32.351Z"
   },
   {
    "duration": 7,
    "start_time": "2023-01-17T14:59:00.137Z"
   },
   {
    "duration": 48,
    "start_time": "2023-01-17T14:59:20.740Z"
   },
   {
    "duration": 3,
    "start_time": "2023-01-17T15:00:16.105Z"
   },
   {
    "duration": 276,
    "start_time": "2023-01-17T15:00:27.956Z"
   },
   {
    "duration": 34,
    "start_time": "2023-01-17T15:00:39.902Z"
   },
   {
    "duration": 2,
    "start_time": "2023-01-17T15:01:36.869Z"
   },
   {
    "duration": 270,
    "start_time": "2023-01-17T15:01:59.291Z"
   },
   {
    "duration": 34,
    "start_time": "2023-01-17T15:02:01.783Z"
   },
   {
    "duration": 4,
    "start_time": "2023-01-17T15:02:26.966Z"
   },
   {
    "duration": 45,
    "start_time": "2023-01-17T15:04:11.475Z"
   },
   {
    "duration": 840,
    "start_time": "2023-01-17T15:05:20.037Z"
   },
   {
    "duration": 247,
    "start_time": "2023-01-17T15:05:33.588Z"
   },
   {
    "duration": 50,
    "start_time": "2023-01-17T15:06:30.324Z"
   },
   {
    "duration": 42,
    "start_time": "2023-01-17T15:07:01.424Z"
   },
   {
    "duration": 1312,
    "start_time": "2023-01-17T15:07:26.347Z"
   },
   {
    "duration": 1161,
    "start_time": "2023-01-17T15:07:27.661Z"
   },
   {
    "duration": 22,
    "start_time": "2023-01-17T15:07:28.824Z"
   },
   {
    "duration": 105,
    "start_time": "2023-01-17T15:07:28.849Z"
   },
   {
    "duration": 63,
    "start_time": "2023-01-17T15:07:28.957Z"
   },
   {
    "duration": 5,
    "start_time": "2023-01-17T15:07:29.021Z"
   },
   {
    "duration": 316,
    "start_time": "2023-01-17T15:07:29.029Z"
   },
   {
    "duration": 9,
    "start_time": "2023-01-17T15:07:29.347Z"
   },
   {
    "duration": 5,
    "start_time": "2023-01-17T15:07:29.358Z"
   },
   {
    "duration": 330,
    "start_time": "2023-01-17T15:07:29.381Z"
   },
   {
    "duration": 4,
    "start_time": "2023-01-17T15:07:29.713Z"
   },
   {
    "duration": 49,
    "start_time": "2023-01-17T15:07:29.719Z"
   },
   {
    "duration": 34,
    "start_time": "2023-01-17T15:07:29.781Z"
   },
   {
    "duration": 32,
    "start_time": "2023-01-17T15:07:33.412Z"
   },
   {
    "duration": 893,
    "start_time": "2023-01-17T15:07:43.598Z"
   },
   {
    "duration": 229,
    "start_time": "2023-01-17T15:07:48.051Z"
   },
   {
    "duration": 5,
    "start_time": "2023-01-17T15:09:09.713Z"
   },
   {
    "duration": 236,
    "start_time": "2023-01-17T15:09:15.917Z"
   },
   {
    "duration": 1163,
    "start_time": "2023-01-17T15:44:12.509Z"
   },
   {
    "duration": 1092,
    "start_time": "2023-01-17T15:44:13.674Z"
   },
   {
    "duration": 28,
    "start_time": "2023-01-17T15:44:14.768Z"
   },
   {
    "duration": 96,
    "start_time": "2023-01-17T15:44:14.798Z"
   },
   {
    "duration": 53,
    "start_time": "2023-01-17T15:44:14.896Z"
   },
   {
    "duration": 6,
    "start_time": "2023-01-17T15:44:14.951Z"
   },
   {
    "duration": 337,
    "start_time": "2023-01-17T15:44:14.959Z"
   },
   {
    "duration": 8,
    "start_time": "2023-01-17T15:44:15.298Z"
   },
   {
    "duration": 5,
    "start_time": "2023-01-17T15:44:15.308Z"
   },
   {
    "duration": 334,
    "start_time": "2023-01-17T15:44:15.316Z"
   },
   {
    "duration": 4,
    "start_time": "2023-01-17T15:44:15.652Z"
   },
   {
    "duration": 59,
    "start_time": "2023-01-17T15:44:15.657Z"
   },
   {
    "duration": 33,
    "start_time": "2023-01-17T15:44:15.718Z"
   },
   {
    "duration": 1029,
    "start_time": "2023-01-17T15:44:15.753Z"
   },
   {
    "duration": 230,
    "start_time": "2023-01-17T15:44:16.784Z"
   },
   {
    "duration": 17,
    "start_time": "2023-01-17T17:21:18.729Z"
   },
   {
    "duration": 47,
    "start_time": "2023-01-17T19:01:46.819Z"
   },
   {
    "duration": 100,
    "start_time": "2023-01-17T19:02:59.394Z"
   },
   {
    "duration": 11,
    "start_time": "2023-01-17T19:03:25.169Z"
   },
   {
    "duration": 4,
    "start_time": "2023-01-17T19:03:47.888Z"
   },
   {
    "duration": 310,
    "start_time": "2023-01-17T19:09:53.451Z"
   },
   {
    "duration": 110,
    "start_time": "2023-01-17T19:09:55.395Z"
   },
   {
    "duration": 349,
    "start_time": "2023-01-17T19:09:56.750Z"
   },
   {
    "duration": 52,
    "start_time": "2023-01-17T19:11:51.871Z"
   },
   {
    "duration": 52,
    "start_time": "2023-01-17T19:15:13.319Z"
   },
   {
    "duration": 25,
    "start_time": "2023-01-17T19:15:17.600Z"
   },
   {
    "duration": 278,
    "start_time": "2023-01-17T19:16:13.254Z"
   },
   {
    "duration": 320,
    "start_time": "2023-01-17T19:16:35.249Z"
   },
   {
    "duration": 276,
    "start_time": "2023-01-17T19:17:14.973Z"
   },
   {
    "duration": 313,
    "start_time": "2023-01-17T19:18:10.037Z"
   },
   {
    "duration": 283,
    "start_time": "2023-01-17T19:18:12.442Z"
   },
   {
    "duration": 767,
    "start_time": "2023-01-17T19:29:48.546Z"
   },
   {
    "duration": 20,
    "start_time": "2023-01-17T19:29:54.644Z"
   },
   {
    "duration": 12,
    "start_time": "2023-01-17T19:30:37.532Z"
   },
   {
    "duration": 11,
    "start_time": "2023-01-17T19:30:50.921Z"
   },
   {
    "duration": 29,
    "start_time": "2023-01-17T19:36:38.568Z"
   },
   {
    "duration": 22,
    "start_time": "2023-01-17T19:36:45.025Z"
   },
   {
    "duration": 92,
    "start_time": "2023-01-17T19:37:05.355Z"
   },
   {
    "duration": 860,
    "start_time": "2023-01-17T19:37:55.748Z"
   },
   {
    "duration": 8,
    "start_time": "2023-01-17T19:39:17.225Z"
   },
   {
    "duration": 4,
    "start_time": "2023-01-17T19:39:25.307Z"
   },
   {
    "duration": 4,
    "start_time": "2023-01-17T19:39:28.740Z"
   },
   {
    "duration": 7,
    "start_time": "2023-01-17T19:39:47.890Z"
   },
   {
    "duration": 5,
    "start_time": "2023-01-17T19:40:20.106Z"
   },
   {
    "duration": 6,
    "start_time": "2023-01-17T19:40:25.152Z"
   },
   {
    "duration": 11,
    "start_time": "2023-01-17T19:40:30.959Z"
   },
   {
    "duration": 7,
    "start_time": "2023-01-17T19:42:11.299Z"
   },
   {
    "duration": 1156,
    "start_time": "2023-01-17T19:43:20.913Z"
   },
   {
    "duration": 1001,
    "start_time": "2023-01-17T19:43:22.071Z"
   },
   {
    "duration": 25,
    "start_time": "2023-01-17T19:43:23.074Z"
   },
   {
    "duration": 97,
    "start_time": "2023-01-17T19:43:23.101Z"
   },
   {
    "duration": 46,
    "start_time": "2023-01-17T19:43:23.200Z"
   },
   {
    "duration": 4,
    "start_time": "2023-01-17T19:43:23.247Z"
   },
   {
    "duration": 295,
    "start_time": "2023-01-17T19:43:23.253Z"
   },
   {
    "duration": 10,
    "start_time": "2023-01-17T19:43:23.550Z"
   },
   {
    "duration": 14,
    "start_time": "2023-01-17T19:43:23.562Z"
   },
   {
    "duration": 336,
    "start_time": "2023-01-17T19:43:23.583Z"
   },
   {
    "duration": 866,
    "start_time": "2023-01-17T19:43:23.921Z"
   },
   {
    "duration": 0,
    "start_time": "2023-01-17T19:43:24.796Z"
   },
   {
    "duration": 0,
    "start_time": "2023-01-17T19:43:24.797Z"
   },
   {
    "duration": 0,
    "start_time": "2023-01-17T19:43:24.798Z"
   },
   {
    "duration": 0,
    "start_time": "2023-01-17T19:43:24.800Z"
   },
   {
    "duration": 0,
    "start_time": "2023-01-17T19:43:24.802Z"
   },
   {
    "duration": 0,
    "start_time": "2023-01-17T19:43:24.803Z"
   },
   {
    "duration": 0,
    "start_time": "2023-01-17T19:43:24.805Z"
   },
   {
    "duration": 0,
    "start_time": "2023-01-17T19:43:24.806Z"
   },
   {
    "duration": 0,
    "start_time": "2023-01-17T19:43:24.809Z"
   },
   {
    "duration": 0,
    "start_time": "2023-01-17T19:43:24.810Z"
   },
   {
    "duration": 0,
    "start_time": "2023-01-17T19:43:24.812Z"
   },
   {
    "duration": 0,
    "start_time": "2023-01-17T19:43:24.814Z"
   },
   {
    "duration": 0,
    "start_time": "2023-01-17T19:43:24.815Z"
   },
   {
    "duration": 0,
    "start_time": "2023-01-17T19:43:24.816Z"
   },
   {
    "duration": 0,
    "start_time": "2023-01-17T19:43:24.818Z"
   },
   {
    "duration": 11,
    "start_time": "2023-01-17T19:43:40.876Z"
   },
   {
    "duration": 3,
    "start_time": "2023-01-17T19:43:46.328Z"
   },
   {
    "duration": 38,
    "start_time": "2023-01-17T19:43:47.111Z"
   },
   {
    "duration": 45,
    "start_time": "2023-01-17T19:43:48.911Z"
   },
   {
    "duration": 896,
    "start_time": "2023-01-17T19:43:49.412Z"
   },
   {
    "duration": 256,
    "start_time": "2023-01-17T19:43:50.310Z"
   },
   {
    "duration": 142,
    "start_time": "2023-01-17T19:43:50.568Z"
   },
   {
    "duration": 56,
    "start_time": "2023-01-17T19:43:50.712Z"
   },
   {
    "duration": 319,
    "start_time": "2023-01-17T19:43:52.398Z"
   },
   {
    "duration": 275,
    "start_time": "2023-01-17T19:43:53.239Z"
   },
   {
    "duration": 303,
    "start_time": "2023-01-17T19:43:53.916Z"
   },
   {
    "duration": 286,
    "start_time": "2023-01-17T19:43:54.221Z"
   },
   {
    "duration": 22,
    "start_time": "2023-01-17T19:43:55.905Z"
   },
   {
    "duration": 68,
    "start_time": "2023-01-17T19:43:56.326Z"
   },
   {
    "duration": 599,
    "start_time": "2023-01-17T19:43:59.308Z"
   },
   {
    "duration": 638,
    "start_time": "2023-01-17T19:44:11.412Z"
   },
   {
    "duration": 1288,
    "start_time": "2023-01-18T12:42:08.650Z"
   },
   {
    "duration": 3140,
    "start_time": "2023-01-18T12:42:09.940Z"
   },
   {
    "duration": 18,
    "start_time": "2023-01-18T12:42:13.082Z"
   },
   {
    "duration": 85,
    "start_time": "2023-01-18T12:42:13.102Z"
   },
   {
    "duration": 70,
    "start_time": "2023-01-18T12:42:13.190Z"
   },
   {
    "duration": 6,
    "start_time": "2023-01-18T12:42:13.262Z"
   },
   {
    "duration": 297,
    "start_time": "2023-01-18T12:42:13.270Z"
   },
   {
    "duration": 9,
    "start_time": "2023-01-18T12:42:13.568Z"
   },
   {
    "duration": 4,
    "start_time": "2023-01-18T12:42:13.578Z"
   },
   {
    "duration": 316,
    "start_time": "2023-01-18T12:42:13.584Z"
   },
   {
    "duration": 10,
    "start_time": "2023-01-18T12:42:13.902Z"
   },
   {
    "duration": 5,
    "start_time": "2023-01-18T12:42:13.914Z"
   },
   {
    "duration": 61,
    "start_time": "2023-01-18T12:42:13.921Z"
   },
   {
    "duration": 35,
    "start_time": "2023-01-18T12:42:13.985Z"
   },
   {
    "duration": 864,
    "start_time": "2023-01-18T12:42:14.022Z"
   },
   {
    "duration": 235,
    "start_time": "2023-01-18T12:42:14.888Z"
   },
   {
    "duration": 147,
    "start_time": "2023-01-18T12:42:15.125Z"
   },
   {
    "duration": 74,
    "start_time": "2023-01-18T12:42:15.274Z"
   },
   {
    "duration": 361,
    "start_time": "2023-01-18T12:42:15.351Z"
   },
   {
    "duration": 322,
    "start_time": "2023-01-18T12:42:15.714Z"
   },
   {
    "duration": 277,
    "start_time": "2023-01-18T12:42:16.037Z"
   },
   {
    "duration": 267,
    "start_time": "2023-01-18T12:42:16.316Z"
   },
   {
    "duration": 21,
    "start_time": "2023-01-18T12:42:16.585Z"
   },
   {
    "duration": 92,
    "start_time": "2023-01-18T12:42:16.608Z"
   },
   {
    "duration": 567,
    "start_time": "2023-01-18T12:42:16.702Z"
   },
   {
    "duration": 6,
    "start_time": "2023-01-18T12:42:20.652Z"
   },
   {
    "duration": 99,
    "start_time": "2023-01-18T12:43:28.664Z"
   },
   {
    "duration": 94,
    "start_time": "2023-01-18T12:43:36.321Z"
   },
   {
    "duration": 21,
    "start_time": "2023-01-18T12:43:51.227Z"
   },
   {
    "duration": 6,
    "start_time": "2023-01-18T12:44:02.223Z"
   },
   {
    "duration": 6,
    "start_time": "2023-01-18T12:44:07.316Z"
   },
   {
    "duration": 23,
    "start_time": "2023-01-18T12:44:10.493Z"
   },
   {
    "duration": 7,
    "start_time": "2023-01-18T12:44:14.958Z"
   },
   {
    "duration": 27,
    "start_time": "2023-01-18T12:44:21.293Z"
   },
   {
    "duration": 1478,
    "start_time": "2023-01-18T12:45:54.333Z"
   },
   {
    "duration": 864,
    "start_time": "2023-01-18T12:46:15.842Z"
   },
   {
    "duration": 20,
    "start_time": "2023-01-18T12:46:46.516Z"
   },
   {
    "duration": 52,
    "start_time": "2023-01-18T12:51:40.407Z"
   },
   {
    "duration": 44,
    "start_time": "2023-01-18T12:51:51.071Z"
   },
   {
    "duration": 31,
    "start_time": "2023-01-18T12:52:16.289Z"
   },
   {
    "duration": 157,
    "start_time": "2023-01-18T12:54:23.202Z"
   },
   {
    "duration": 314,
    "start_time": "2023-01-18T12:54:37.412Z"
   },
   {
    "duration": 1068,
    "start_time": "2023-01-18T12:55:15.811Z"
   },
   {
    "duration": 992,
    "start_time": "2023-01-18T12:55:16.882Z"
   },
   {
    "duration": 19,
    "start_time": "2023-01-18T12:55:17.875Z"
   },
   {
    "duration": 140,
    "start_time": "2023-01-18T12:55:17.895Z"
   },
   {
    "duration": 48,
    "start_time": "2023-01-18T12:55:18.047Z"
   },
   {
    "duration": 4,
    "start_time": "2023-01-18T12:55:18.096Z"
   },
   {
    "duration": 295,
    "start_time": "2023-01-18T12:55:18.102Z"
   },
   {
    "duration": 7,
    "start_time": "2023-01-18T12:55:18.399Z"
   },
   {
    "duration": 8,
    "start_time": "2023-01-18T12:55:18.407Z"
   },
   {
    "duration": 312,
    "start_time": "2023-01-18T12:55:18.417Z"
   },
   {
    "duration": 18,
    "start_time": "2023-01-18T12:55:18.731Z"
   },
   {
    "duration": 4,
    "start_time": "2023-01-18T12:55:18.751Z"
   },
   {
    "duration": 47,
    "start_time": "2023-01-18T12:55:18.757Z"
   },
   {
    "duration": 61,
    "start_time": "2023-01-18T12:55:18.806Z"
   },
   {
    "duration": 873,
    "start_time": "2023-01-18T12:55:18.869Z"
   },
   {
    "duration": 236,
    "start_time": "2023-01-18T12:55:19.744Z"
   },
   {
    "duration": 126,
    "start_time": "2023-01-18T12:55:19.982Z"
   },
   {
    "duration": 66,
    "start_time": "2023-01-18T12:55:20.110Z"
   },
   {
    "duration": 339,
    "start_time": "2023-01-18T12:55:20.178Z"
   },
   {
    "duration": 300,
    "start_time": "2023-01-18T12:55:20.519Z"
   },
   {
    "duration": 351,
    "start_time": "2023-01-18T12:55:20.821Z"
   },
   {
    "duration": 254,
    "start_time": "2023-01-18T12:55:21.174Z"
   },
   {
    "duration": 28,
    "start_time": "2023-01-18T12:55:21.430Z"
   },
   {
    "duration": 95,
    "start_time": "2023-01-18T12:55:21.460Z"
   },
   {
    "duration": 633,
    "start_time": "2023-01-18T12:55:21.557Z"
   },
   {
    "duration": 34,
    "start_time": "2023-01-18T12:55:22.192Z"
   },
   {
    "duration": 196,
    "start_time": "2023-01-18T12:55:22.228Z"
   },
   {
    "duration": 405,
    "start_time": "2023-01-18T12:55:22.426Z"
   },
   {
    "duration": 33,
    "start_time": "2023-01-18T12:55:22.833Z"
   },
   {
    "duration": 376,
    "start_time": "2023-01-18T12:55:53.830Z"
   },
   {
    "duration": 1320,
    "start_time": "2023-01-18T12:59:43.156Z"
   },
   {
    "duration": 1136,
    "start_time": "2023-01-18T12:59:44.479Z"
   },
   {
    "duration": 31,
    "start_time": "2023-01-18T12:59:45.619Z"
   },
   {
    "duration": 127,
    "start_time": "2023-01-18T12:59:45.652Z"
   },
   {
    "duration": 51,
    "start_time": "2023-01-18T12:59:45.782Z"
   },
   {
    "duration": 23,
    "start_time": "2023-01-18T12:59:45.836Z"
   },
   {
    "duration": 320,
    "start_time": "2023-01-18T12:59:45.865Z"
   },
   {
    "duration": 9,
    "start_time": "2023-01-18T12:59:46.187Z"
   },
   {
    "duration": 4,
    "start_time": "2023-01-18T12:59:46.198Z"
   },
   {
    "duration": 357,
    "start_time": "2023-01-18T12:59:46.203Z"
   },
   {
    "duration": 13,
    "start_time": "2023-01-18T12:59:46.562Z"
   },
   {
    "duration": 4,
    "start_time": "2023-01-18T12:59:46.578Z"
   },
   {
    "duration": 45,
    "start_time": "2023-01-18T12:59:46.584Z"
   },
   {
    "duration": 59,
    "start_time": "2023-01-18T12:59:46.632Z"
   },
   {
    "duration": 1016,
    "start_time": "2023-01-18T12:59:46.692Z"
   },
   {
    "duration": 268,
    "start_time": "2023-01-18T12:59:47.710Z"
   },
   {
    "duration": 137,
    "start_time": "2023-01-18T12:59:47.980Z"
   },
   {
    "duration": 68,
    "start_time": "2023-01-18T12:59:48.119Z"
   },
   {
    "duration": 332,
    "start_time": "2023-01-18T12:59:48.192Z"
   },
   {
    "duration": 310,
    "start_time": "2023-01-18T12:59:48.526Z"
   },
   {
    "duration": 349,
    "start_time": "2023-01-18T12:59:48.838Z"
   },
   {
    "duration": 258,
    "start_time": "2023-01-18T12:59:49.189Z"
   },
   {
    "duration": 27,
    "start_time": "2023-01-18T12:59:49.451Z"
   },
   {
    "duration": 103,
    "start_time": "2023-01-18T12:59:49.480Z"
   },
   {
    "duration": 639,
    "start_time": "2023-01-18T12:59:49.585Z"
   },
   {
    "duration": 24,
    "start_time": "2023-01-18T12:59:50.226Z"
   },
   {
    "duration": 107,
    "start_time": "2023-01-18T12:59:50.251Z"
   },
   {
    "duration": 22,
    "start_time": "2023-01-18T12:59:50.360Z"
   },
   {
    "duration": 1107,
    "start_time": "2023-01-18T13:01:23.987Z"
   },
   {
    "duration": 253,
    "start_time": "2023-01-18T13:04:57.436Z"
   },
   {
    "duration": 153,
    "start_time": "2023-01-18T13:05:03.095Z"
   },
   {
    "duration": 49,
    "start_time": "2023-01-18T13:05:23.152Z"
   },
   {
    "duration": 156,
    "start_time": "2023-01-18T13:05:24.249Z"
   },
   {
    "duration": 195,
    "start_time": "2023-01-18T13:05:45.163Z"
   },
   {
    "duration": 232,
    "start_time": "2023-01-18T13:06:04.054Z"
   },
   {
    "duration": 191,
    "start_time": "2023-01-18T13:06:13.245Z"
   },
   {
    "duration": 177,
    "start_time": "2023-01-18T13:06:26.065Z"
   },
   {
    "duration": 163,
    "start_time": "2023-01-18T13:06:29.615Z"
   },
   {
    "duration": 523,
    "start_time": "2023-01-18T13:06:46.853Z"
   },
   {
    "duration": 266,
    "start_time": "2023-01-18T13:06:54.411Z"
   },
   {
    "duration": 277,
    "start_time": "2023-01-18T13:06:57.597Z"
   },
   {
    "duration": 44,
    "start_time": "2023-01-18T13:08:51.964Z"
   },
   {
    "duration": 265,
    "start_time": "2023-01-18T13:09:03.674Z"
   },
   {
    "duration": 84,
    "start_time": "2023-01-18T14:47:47.593Z"
   },
   {
    "duration": 205,
    "start_time": "2023-01-18T14:49:25.707Z"
   },
   {
    "duration": 1016,
    "start_time": "2023-01-18T14:50:27.889Z"
   },
   {
    "duration": 26,
    "start_time": "2023-01-18T14:50:33.837Z"
   },
   {
    "duration": 16,
    "start_time": "2023-01-18T14:50:37.331Z"
   },
   {
    "duration": 17,
    "start_time": "2023-01-18T14:55:15.685Z"
   },
   {
    "duration": 21,
    "start_time": "2023-01-18T14:55:47.574Z"
   },
   {
    "duration": 90,
    "start_time": "2023-01-18T14:56:31.897Z"
   },
   {
    "duration": 4,
    "start_time": "2023-01-18T14:56:45.032Z"
   },
   {
    "duration": 22,
    "start_time": "2023-01-18T15:03:36.560Z"
   },
   {
    "duration": 4,
    "start_time": "2023-01-18T16:52:40.074Z"
   },
   {
    "duration": 3,
    "start_time": "2023-01-18T16:59:06.571Z"
   },
   {
    "duration": 5,
    "start_time": "2023-01-18T17:10:12.312Z"
   },
   {
    "duration": 5,
    "start_time": "2023-01-18T17:11:39.252Z"
   },
   {
    "duration": 4,
    "start_time": "2023-01-18T17:13:11.812Z"
   },
   {
    "duration": 21,
    "start_time": "2023-01-18T19:22:03.216Z"
   },
   {
    "duration": 43,
    "start_time": "2023-01-18T19:22:28.250Z"
   },
   {
    "duration": 110064,
    "start_time": "2023-01-18T19:22:36.270Z"
   },
   {
    "duration": 0,
    "start_time": "2023-01-18T19:24:26.335Z"
   },
   {
    "duration": 169549,
    "start_time": "2023-01-18T19:25:30.799Z"
   },
   {
    "duration": 5,
    "start_time": "2023-01-18T19:28:20.351Z"
   },
   {
    "duration": 237874,
    "start_time": "2023-01-18T19:28:20.358Z"
   },
   {
    "duration": 5,
    "start_time": "2023-01-18T19:32:18.233Z"
   },
   {
    "duration": 11,
    "start_time": "2023-01-18T19:33:02.078Z"
   },
   {
    "duration": 49,
    "start_time": "2023-01-18T19:33:07.356Z"
   },
   {
    "duration": 3,
    "start_time": "2023-01-18T19:33:08.646Z"
   },
   {
    "duration": 1396,
    "start_time": "2023-01-18T19:47:18.752Z"
   },
   {
    "duration": 4,
    "start_time": "2023-01-18T19:47:21.095Z"
   },
   {
    "duration": 4,
    "start_time": "2023-01-18T19:52:33.192Z"
   },
   {
    "duration": 4,
    "start_time": "2023-01-18T19:52:34.054Z"
   },
   {
    "duration": 1372,
    "start_time": "2023-01-18T20:19:27.637Z"
   },
   {
    "duration": 952,
    "start_time": "2023-01-18T20:19:29.010Z"
   },
   {
    "duration": 18,
    "start_time": "2023-01-18T20:19:29.963Z"
   },
   {
    "duration": 113,
    "start_time": "2023-01-18T20:19:29.983Z"
   },
   {
    "duration": 56,
    "start_time": "2023-01-18T20:19:30.098Z"
   },
   {
    "duration": 5,
    "start_time": "2023-01-18T20:19:30.155Z"
   },
   {
    "duration": 278,
    "start_time": "2023-01-18T20:19:30.161Z"
   },
   {
    "duration": 10,
    "start_time": "2023-01-18T20:19:30.441Z"
   },
   {
    "duration": 20,
    "start_time": "2023-01-18T20:19:30.453Z"
   },
   {
    "duration": 301,
    "start_time": "2023-01-18T20:19:30.475Z"
   },
   {
    "duration": 8,
    "start_time": "2023-01-18T20:19:30.778Z"
   },
   {
    "duration": 14,
    "start_time": "2023-01-18T20:19:30.787Z"
   },
   {
    "duration": 49,
    "start_time": "2023-01-18T20:19:30.802Z"
   },
   {
    "duration": 33,
    "start_time": "2023-01-18T20:19:30.855Z"
   },
   {
    "duration": 967,
    "start_time": "2023-01-18T20:19:30.890Z"
   },
   {
    "duration": 239,
    "start_time": "2023-01-18T20:19:31.859Z"
   },
   {
    "duration": 116,
    "start_time": "2023-01-18T20:19:32.099Z"
   },
   {
    "duration": 59,
    "start_time": "2023-01-18T20:19:32.217Z"
   },
   {
    "duration": 297,
    "start_time": "2023-01-18T20:19:32.278Z"
   },
   {
    "duration": 311,
    "start_time": "2023-01-18T20:19:32.577Z"
   },
   {
    "duration": 327,
    "start_time": "2023-01-18T20:19:32.890Z"
   },
   {
    "duration": 257,
    "start_time": "2023-01-18T20:19:33.219Z"
   },
   {
    "duration": 22,
    "start_time": "2023-01-18T20:19:33.478Z"
   },
   {
    "duration": 128,
    "start_time": "2023-01-18T20:19:33.502Z"
   },
   {
    "duration": 559,
    "start_time": "2023-01-18T20:19:33.631Z"
   },
   {
    "duration": 19,
    "start_time": "2023-01-18T20:19:34.192Z"
   },
   {
    "duration": 64,
    "start_time": "2023-01-18T20:19:34.213Z"
   },
   {
    "duration": 44,
    "start_time": "2023-01-18T20:19:34.279Z"
   },
   {
    "duration": 190,
    "start_time": "2023-01-18T20:19:34.325Z"
   },
   {
    "duration": 45,
    "start_time": "2023-01-18T20:19:34.517Z"
   },
   {
    "duration": 281,
    "start_time": "2023-01-18T20:19:34.564Z"
   },
   {
    "duration": 1072,
    "start_time": "2023-01-18T20:19:34.846Z"
   },
   {
    "duration": 19,
    "start_time": "2023-01-18T20:19:35.920Z"
   },
   {
    "duration": 27,
    "start_time": "2023-01-18T20:19:35.940Z"
   },
   {
    "duration": 99,
    "start_time": "2023-01-18T20:19:35.968Z"
   },
   {
    "duration": 6,
    "start_time": "2023-01-18T20:19:36.069Z"
   },
   {
    "duration": 1347,
    "start_time": "2023-01-18T20:20:12.117Z"
   },
   {
    "duration": 1063,
    "start_time": "2023-01-18T20:20:13.466Z"
   },
   {
    "duration": 27,
    "start_time": "2023-01-18T20:20:14.530Z"
   },
   {
    "duration": 116,
    "start_time": "2023-01-18T20:20:14.559Z"
   },
   {
    "duration": 49,
    "start_time": "2023-01-18T20:20:14.678Z"
   },
   {
    "duration": 5,
    "start_time": "2023-01-18T20:20:14.729Z"
   },
   {
    "duration": 304,
    "start_time": "2023-01-18T20:20:14.749Z"
   },
   {
    "duration": 11,
    "start_time": "2023-01-18T20:20:15.063Z"
   },
   {
    "duration": 6,
    "start_time": "2023-01-18T20:20:15.076Z"
   },
   {
    "duration": 380,
    "start_time": "2023-01-18T20:20:15.084Z"
   },
   {
    "duration": 10,
    "start_time": "2023-01-18T20:20:15.468Z"
   },
   {
    "duration": 16,
    "start_time": "2023-01-18T20:20:15.480Z"
   },
   {
    "duration": 73,
    "start_time": "2023-01-18T20:20:15.498Z"
   },
   {
    "duration": 50,
    "start_time": "2023-01-18T20:20:15.576Z"
   },
   {
    "duration": 1086,
    "start_time": "2023-01-18T20:20:15.628Z"
   },
   {
    "duration": 241,
    "start_time": "2023-01-18T20:20:16.717Z"
   },
   {
    "duration": 119,
    "start_time": "2023-01-18T20:20:16.959Z"
   },
   {
    "duration": 0,
    "start_time": "2023-01-18T20:20:17.080Z"
   },
   {
    "duration": 0,
    "start_time": "2023-01-18T20:20:17.081Z"
   },
   {
    "duration": 0,
    "start_time": "2023-01-18T20:20:17.082Z"
   },
   {
    "duration": 0,
    "start_time": "2023-01-18T20:20:17.084Z"
   },
   {
    "duration": 0,
    "start_time": "2023-01-18T20:20:17.085Z"
   },
   {
    "duration": 0,
    "start_time": "2023-01-18T20:20:17.087Z"
   },
   {
    "duration": 0,
    "start_time": "2023-01-18T20:20:17.087Z"
   },
   {
    "duration": 0,
    "start_time": "2023-01-18T20:20:17.089Z"
   },
   {
    "duration": 0,
    "start_time": "2023-01-18T20:20:17.090Z"
   },
   {
    "duration": 0,
    "start_time": "2023-01-18T20:20:17.091Z"
   },
   {
    "duration": 0,
    "start_time": "2023-01-18T20:20:17.092Z"
   },
   {
    "duration": 0,
    "start_time": "2023-01-18T20:20:17.093Z"
   },
   {
    "duration": 0,
    "start_time": "2023-01-18T20:20:17.095Z"
   },
   {
    "duration": 0,
    "start_time": "2023-01-18T20:20:17.096Z"
   },
   {
    "duration": 0,
    "start_time": "2023-01-18T20:20:17.098Z"
   },
   {
    "duration": 0,
    "start_time": "2023-01-18T20:20:17.099Z"
   },
   {
    "duration": 0,
    "start_time": "2023-01-18T20:20:17.100Z"
   },
   {
    "duration": 0,
    "start_time": "2023-01-18T20:20:17.102Z"
   },
   {
    "duration": 0,
    "start_time": "2023-01-18T20:20:17.105Z"
   },
   {
    "duration": 0,
    "start_time": "2023-01-18T20:20:17.106Z"
   },
   {
    "duration": 0,
    "start_time": "2023-01-18T20:20:17.107Z"
   },
   {
    "duration": 0,
    "start_time": "2023-01-18T20:20:17.148Z"
   },
   {
    "duration": 0,
    "start_time": "2023-01-18T20:20:17.149Z"
   },
   {
    "duration": 0,
    "start_time": "2023-01-18T20:20:17.150Z"
   },
   {
    "duration": 0,
    "start_time": "2023-01-18T20:20:17.151Z"
   },
   {
    "duration": 0,
    "start_time": "2023-01-18T20:20:17.152Z"
   },
   {
    "duration": 0,
    "start_time": "2023-01-18T20:20:17.153Z"
   },
   {
    "duration": 0,
    "start_time": "2023-01-18T20:20:17.154Z"
   },
   {
    "duration": 0,
    "start_time": "2023-01-18T20:20:17.155Z"
   },
   {
    "duration": 1317,
    "start_time": "2023-01-18T20:21:51.711Z"
   },
   {
    "duration": 1029,
    "start_time": "2023-01-18T20:21:53.032Z"
   },
   {
    "duration": 20,
    "start_time": "2023-01-18T20:21:54.063Z"
   },
   {
    "duration": 113,
    "start_time": "2023-01-18T20:21:54.084Z"
   },
   {
    "duration": 65,
    "start_time": "2023-01-18T20:21:54.199Z"
   },
   {
    "duration": 4,
    "start_time": "2023-01-18T20:21:54.266Z"
   },
   {
    "duration": 296,
    "start_time": "2023-01-18T20:21:54.272Z"
   },
   {
    "duration": 11,
    "start_time": "2023-01-18T20:21:54.570Z"
   },
   {
    "duration": 5,
    "start_time": "2023-01-18T20:21:54.583Z"
   },
   {
    "duration": 321,
    "start_time": "2023-01-18T20:21:54.590Z"
   },
   {
    "duration": 7,
    "start_time": "2023-01-18T20:21:54.913Z"
   },
   {
    "duration": 4,
    "start_time": "2023-01-18T20:21:54.921Z"
   },
   {
    "duration": 65,
    "start_time": "2023-01-18T20:21:54.926Z"
   },
   {
    "duration": 34,
    "start_time": "2023-01-18T20:21:54.994Z"
   },
   {
    "duration": 1027,
    "start_time": "2023-01-18T20:21:55.030Z"
   },
   {
    "duration": 227,
    "start_time": "2023-01-18T20:21:56.059Z"
   },
   {
    "duration": 131,
    "start_time": "2023-01-18T20:21:56.288Z"
   },
   {
    "duration": 58,
    "start_time": "2023-01-18T20:21:56.421Z"
   },
   {
    "duration": 300,
    "start_time": "2023-01-18T20:21:56.481Z"
   },
   {
    "duration": 290,
    "start_time": "2023-01-18T20:21:56.782Z"
   },
   {
    "duration": 309,
    "start_time": "2023-01-18T20:21:57.074Z"
   },
   {
    "duration": 274,
    "start_time": "2023-01-18T20:21:57.384Z"
   },
   {
    "duration": 21,
    "start_time": "2023-01-18T20:21:57.659Z"
   },
   {
    "duration": 87,
    "start_time": "2023-01-18T20:21:57.682Z"
   },
   {
    "duration": 563,
    "start_time": "2023-01-18T20:21:57.771Z"
   },
   {
    "duration": 31,
    "start_time": "2023-01-18T20:21:58.336Z"
   },
   {
    "duration": 40,
    "start_time": "2023-01-18T20:21:58.369Z"
   },
   {
    "duration": 62,
    "start_time": "2023-01-18T20:21:58.411Z"
   },
   {
    "duration": 188,
    "start_time": "2023-01-18T20:21:58.475Z"
   },
   {
    "duration": 35,
    "start_time": "2023-01-18T20:21:58.665Z"
   },
   {
    "duration": 269,
    "start_time": "2023-01-18T20:21:58.702Z"
   },
   {
    "duration": 1008,
    "start_time": "2023-01-18T20:21:58.973Z"
   },
   {
    "duration": 25,
    "start_time": "2023-01-18T20:21:59.984Z"
   },
   {
    "duration": 48,
    "start_time": "2023-01-18T20:22:00.010Z"
   },
   {
    "duration": 98,
    "start_time": "2023-01-18T20:22:00.060Z"
   },
   {
    "duration": 4,
    "start_time": "2023-01-18T20:22:00.164Z"
   },
   {
    "duration": 2584494,
    "start_time": "2023-01-18T20:22:00.171Z"
   },
   {
    "duration": 6,
    "start_time": "2023-01-18T21:05:04.667Z"
   },
   {
    "duration": 242052,
    "start_time": "2023-01-18T21:05:04.674Z"
   },
   {
    "duration": 5,
    "start_time": "2023-01-18T21:09:06.728Z"
   },
   {
    "duration": 45,
    "start_time": "2023-01-18T21:09:06.748Z"
   },
   {
    "duration": 5,
    "start_time": "2023-01-18T21:09:06.863Z"
   },
   {
    "duration": 1385,
    "start_time": "2023-01-18T21:09:06.870Z"
   },
   {
    "duration": 5,
    "start_time": "2023-01-18T21:09:08.257Z"
   },
   {
    "duration": 8,
    "start_time": "2023-01-18T21:09:08.265Z"
   },
   {
    "duration": 3,
    "start_time": "2023-01-18T21:09:08.275Z"
   },
   {
    "duration": 1254,
    "start_time": "2023-01-18T21:25:31.789Z"
   },
   {
    "duration": 934,
    "start_time": "2023-01-18T21:25:33.044Z"
   },
   {
    "duration": 18,
    "start_time": "2023-01-18T21:25:33.979Z"
   },
   {
    "duration": 100,
    "start_time": "2023-01-18T21:25:33.999Z"
   },
   {
    "duration": 50,
    "start_time": "2023-01-18T21:25:34.295Z"
   },
   {
    "duration": 5,
    "start_time": "2023-01-18T21:25:35.255Z"
   },
   {
    "duration": 273,
    "start_time": "2023-01-18T21:25:35.459Z"
   },
   {
    "duration": 7,
    "start_time": "2023-01-18T21:25:35.834Z"
   },
   {
    "duration": 4,
    "start_time": "2023-01-18T21:25:36.242Z"
   },
   {
    "duration": 282,
    "start_time": "2023-01-18T21:25:36.442Z"
   },
   {
    "duration": 7,
    "start_time": "2023-01-18T21:25:36.832Z"
   },
   {
    "duration": 3,
    "start_time": "2023-01-18T21:25:37.403Z"
   },
   {
    "duration": 42,
    "start_time": "2023-01-18T21:25:37.607Z"
   },
   {
    "duration": 32,
    "start_time": "2023-01-18T21:25:38.315Z"
   },
   {
    "duration": 803,
    "start_time": "2023-01-18T21:25:38.436Z"
   },
   {
    "duration": 224,
    "start_time": "2023-01-18T21:25:39.241Z"
   },
   {
    "duration": 116,
    "start_time": "2023-01-18T21:25:39.466Z"
   },
   {
    "duration": 52,
    "start_time": "2023-01-18T21:25:39.584Z"
   },
   {
    "duration": 363,
    "start_time": "2023-01-18T21:25:39.647Z"
   },
   {
    "duration": 274,
    "start_time": "2023-01-18T21:25:40.011Z"
   },
   {
    "duration": 283,
    "start_time": "2023-01-18T21:25:40.287Z"
   },
   {
    "duration": 271,
    "start_time": "2023-01-18T21:25:40.571Z"
   },
   {
    "duration": 25,
    "start_time": "2023-01-18T21:25:40.844Z"
   },
   {
    "duration": 104,
    "start_time": "2023-01-18T21:25:40.872Z"
   },
   {
    "duration": 526,
    "start_time": "2023-01-18T21:25:40.977Z"
   },
   {
    "duration": 17,
    "start_time": "2023-01-18T21:25:41.504Z"
   },
   {
    "duration": 57,
    "start_time": "2023-01-18T21:25:41.522Z"
   },
   {
    "duration": 44,
    "start_time": "2023-01-18T21:25:41.580Z"
   },
   {
    "duration": 170,
    "start_time": "2023-01-18T21:25:41.625Z"
   },
   {
    "duration": 40,
    "start_time": "2023-01-18T21:25:41.797Z"
   },
   {
    "duration": 260,
    "start_time": "2023-01-18T21:25:41.839Z"
   },
   {
    "duration": 1002,
    "start_time": "2023-01-18T21:25:42.101Z"
   },
   {
    "duration": 14,
    "start_time": "2023-01-18T21:25:43.105Z"
   },
   {
    "duration": 27,
    "start_time": "2023-01-18T21:25:43.121Z"
   },
   {
    "duration": 77,
    "start_time": "2023-01-18T21:25:43.150Z"
   },
   {
    "duration": 6,
    "start_time": "2023-01-18T21:25:43.228Z"
   },
   {
    "duration": 209613,
    "start_time": "2023-01-18T21:25:43.235Z"
   },
   {
    "duration": 5,
    "start_time": "2023-01-18T21:29:12.850Z"
   },
   {
    "duration": 231282,
    "start_time": "2023-01-18T21:29:12.856Z"
   },
   {
    "duration": 8,
    "start_time": "2023-01-18T21:33:04.140Z"
   },
   {
    "duration": 199,
    "start_time": "2023-01-18T21:33:04.150Z"
   },
   {
    "duration": 4,
    "start_time": "2023-01-18T21:33:04.353Z"
   },
   {
    "duration": 126669,
    "start_time": "2023-01-18T21:33:14.993Z"
   },
   {
    "duration": 5,
    "start_time": "2023-01-18T21:35:21.664Z"
   },
   {
    "duration": 1288,
    "start_time": "2023-01-18T21:35:35.075Z"
   },
   {
    "duration": 4,
    "start_time": "2023-01-18T21:35:36.364Z"
   },
   {
    "duration": 5,
    "start_time": "2023-01-18T21:35:36.987Z"
   },
   {
    "duration": 3,
    "start_time": "2023-01-18T21:35:37.339Z"
   },
   {
    "duration": 1572,
    "start_time": "2023-01-20T14:56:07.349Z"
   },
   {
    "duration": 3297,
    "start_time": "2023-01-20T14:56:08.923Z"
   },
   {
    "duration": 30,
    "start_time": "2023-01-20T14:56:12.222Z"
   },
   {
    "duration": 112,
    "start_time": "2023-01-20T14:56:12.255Z"
   },
   {
    "duration": 55,
    "start_time": "2023-01-20T14:56:12.369Z"
   },
   {
    "duration": 5,
    "start_time": "2023-01-20T14:56:12.437Z"
   },
   {
    "duration": 321,
    "start_time": "2023-01-20T14:56:12.444Z"
   },
   {
    "duration": 9,
    "start_time": "2023-01-20T14:56:12.767Z"
   },
   {
    "duration": 41,
    "start_time": "2023-01-20T14:56:12.779Z"
   },
   {
    "duration": 359,
    "start_time": "2023-01-20T14:56:12.823Z"
   },
   {
    "duration": 8,
    "start_time": "2023-01-20T14:56:13.184Z"
   },
   {
    "duration": 6,
    "start_time": "2023-01-20T14:56:13.193Z"
   },
   {
    "duration": 62,
    "start_time": "2023-01-20T14:56:13.201Z"
   },
   {
    "duration": 36,
    "start_time": "2023-01-20T14:56:13.266Z"
   },
   {
    "duration": 1027,
    "start_time": "2023-01-20T14:56:13.304Z"
   },
   {
    "duration": 284,
    "start_time": "2023-01-20T14:56:14.333Z"
   },
   {
    "duration": 129,
    "start_time": "2023-01-20T14:56:14.619Z"
   },
   {
    "duration": 62,
    "start_time": "2023-01-20T14:56:14.751Z"
   },
   {
    "duration": 365,
    "start_time": "2023-01-20T14:56:14.815Z"
   },
   {
    "duration": 310,
    "start_time": "2023-01-20T14:56:15.182Z"
   },
   {
    "duration": 313,
    "start_time": "2023-01-20T14:56:15.494Z"
   },
   {
    "duration": 281,
    "start_time": "2023-01-20T14:56:15.808Z"
   },
   {
    "duration": 26,
    "start_time": "2023-01-20T14:56:16.091Z"
   },
   {
    "duration": 84,
    "start_time": "2023-01-20T14:56:16.119Z"
   },
   {
    "duration": 620,
    "start_time": "2023-01-20T14:56:16.205Z"
   },
   {
    "duration": 25,
    "start_time": "2023-01-20T14:56:16.827Z"
   },
   {
    "duration": 53,
    "start_time": "2023-01-20T14:56:16.854Z"
   },
   {
    "duration": 75,
    "start_time": "2023-01-20T14:56:16.909Z"
   },
   {
    "duration": 196,
    "start_time": "2023-01-20T14:56:16.986Z"
   },
   {
    "duration": 52,
    "start_time": "2023-01-20T14:56:17.184Z"
   },
   {
    "duration": 268,
    "start_time": "2023-01-20T14:56:17.238Z"
   },
   {
    "duration": 17,
    "start_time": "2023-01-20T14:56:17.508Z"
   },
   {
    "duration": 156,
    "start_time": "2023-01-20T14:56:17.527Z"
   },
   {
    "duration": 5,
    "start_time": "2023-01-20T14:56:17.684Z"
   },
   {
    "duration": 178,
    "start_time": "2023-01-20T14:57:22.487Z"
   },
   {
    "duration": 189,
    "start_time": "2023-01-20T14:57:27.356Z"
   },
   {
    "duration": 309,
    "start_time": "2023-01-20T14:57:32.896Z"
   },
   {
    "duration": 111,
    "start_time": "2023-01-20T14:57:51.534Z"
   },
   {
    "duration": 502,
    "start_time": "2023-01-20T14:58:56.485Z"
   },
   {
    "duration": 8,
    "start_time": "2023-01-20T14:59:29.059Z"
   },
   {
    "duration": 10,
    "start_time": "2023-01-20T14:59:37.079Z"
   },
   {
    "duration": 1360,
    "start_time": "2023-01-20T15:03:45.852Z"
   },
   {
    "duration": 1020,
    "start_time": "2023-01-20T15:03:47.214Z"
   },
   {
    "duration": 20,
    "start_time": "2023-01-20T15:03:48.236Z"
   },
   {
    "duration": 113,
    "start_time": "2023-01-20T15:03:48.257Z"
   },
   {
    "duration": 72,
    "start_time": "2023-01-20T15:03:48.373Z"
   },
   {
    "duration": 5,
    "start_time": "2023-01-20T15:03:48.448Z"
   },
   {
    "duration": 333,
    "start_time": "2023-01-20T15:03:48.454Z"
   },
   {
    "duration": 8,
    "start_time": "2023-01-20T15:03:48.789Z"
   },
   {
    "duration": 11,
    "start_time": "2023-01-20T15:03:48.798Z"
   },
   {
    "duration": 336,
    "start_time": "2023-01-20T15:03:48.810Z"
   },
   {
    "duration": 9,
    "start_time": "2023-01-20T15:03:49.148Z"
   },
   {
    "duration": 22,
    "start_time": "2023-01-20T15:03:49.159Z"
   },
   {
    "duration": 64,
    "start_time": "2023-01-20T15:03:49.183Z"
   },
   {
    "duration": 32,
    "start_time": "2023-01-20T15:03:49.250Z"
   },
   {
    "duration": 955,
    "start_time": "2023-01-20T15:03:49.284Z"
   },
   {
    "duration": 232,
    "start_time": "2023-01-20T15:03:50.241Z"
   },
   {
    "duration": 120,
    "start_time": "2023-01-20T15:03:50.475Z"
   },
   {
    "duration": 63,
    "start_time": "2023-01-20T15:03:50.597Z"
   },
   {
    "duration": 302,
    "start_time": "2023-01-20T15:03:50.661Z"
   },
   {
    "duration": 291,
    "start_time": "2023-01-20T15:03:50.965Z"
   },
   {
    "duration": 304,
    "start_time": "2023-01-20T15:03:51.257Z"
   },
   {
    "duration": 264,
    "start_time": "2023-01-20T15:03:51.563Z"
   },
   {
    "duration": 27,
    "start_time": "2023-01-20T15:03:51.829Z"
   },
   {
    "duration": 89,
    "start_time": "2023-01-20T15:03:51.858Z"
   },
   {
    "duration": 591,
    "start_time": "2023-01-20T15:03:51.949Z"
   },
   {
    "duration": 19,
    "start_time": "2023-01-20T15:03:52.542Z"
   },
   {
    "duration": 52,
    "start_time": "2023-01-20T15:03:52.562Z"
   },
   {
    "duration": 71,
    "start_time": "2023-01-20T15:03:52.616Z"
   },
   {
    "duration": 188,
    "start_time": "2023-01-20T15:03:52.689Z"
   },
   {
    "duration": 44,
    "start_time": "2023-01-20T15:03:52.879Z"
   },
   {
    "duration": 19,
    "start_time": "2023-01-20T15:03:52.925Z"
   },
   {
    "duration": 39,
    "start_time": "2023-01-20T15:04:14.026Z"
   },
   {
    "duration": 246,
    "start_time": "2023-01-20T15:04:14.890Z"
   },
   {
    "duration": 17,
    "start_time": "2023-01-20T15:04:21.054Z"
   },
   {
    "duration": 136,
    "start_time": "2023-01-20T15:04:21.515Z"
   },
   {
    "duration": 5,
    "start_time": "2023-01-20T15:04:23.323Z"
   },
   {
    "duration": 1038,
    "start_time": "2023-01-20T15:04:28.521Z"
   },
   {
    "duration": 16,
    "start_time": "2023-01-20T15:04:58.998Z"
   },
   {
    "duration": 17,
    "start_time": "2023-01-20T15:05:47.177Z"
   },
   {
    "duration": 1399,
    "start_time": "2023-01-20T15:05:58.660Z"
   },
   {
    "duration": 1037,
    "start_time": "2023-01-20T15:06:00.061Z"
   },
   {
    "duration": 21,
    "start_time": "2023-01-20T15:06:01.100Z"
   },
   {
    "duration": 104,
    "start_time": "2023-01-20T15:06:01.123Z"
   },
   {
    "duration": 56,
    "start_time": "2023-01-20T15:06:01.230Z"
   },
   {
    "duration": 5,
    "start_time": "2023-01-20T15:06:01.288Z"
   },
   {
    "duration": 342,
    "start_time": "2023-01-20T15:06:01.294Z"
   },
   {
    "duration": 10,
    "start_time": "2023-01-20T15:06:01.639Z"
   },
   {
    "duration": 41,
    "start_time": "2023-01-20T15:06:01.651Z"
   },
   {
    "duration": 367,
    "start_time": "2023-01-20T15:06:01.694Z"
   },
   {
    "duration": 7,
    "start_time": "2023-01-20T15:06:02.063Z"
   },
   {
    "duration": 36,
    "start_time": "2023-01-20T15:06:02.072Z"
   },
   {
    "duration": 73,
    "start_time": "2023-01-20T15:06:02.110Z"
   },
   {
    "duration": 31,
    "start_time": "2023-01-20T15:06:02.186Z"
   },
   {
    "duration": 967,
    "start_time": "2023-01-20T15:06:02.218Z"
   },
   {
    "duration": 226,
    "start_time": "2023-01-20T15:06:03.186Z"
   },
   {
    "duration": 121,
    "start_time": "2023-01-20T15:06:03.414Z"
   },
   {
    "duration": 55,
    "start_time": "2023-01-20T15:06:03.537Z"
   },
   {
    "duration": 311,
    "start_time": "2023-01-20T15:06:03.594Z"
   },
   {
    "duration": 289,
    "start_time": "2023-01-20T15:06:03.907Z"
   },
   {
    "duration": 336,
    "start_time": "2023-01-20T15:06:04.198Z"
   },
   {
    "duration": 285,
    "start_time": "2023-01-20T15:06:04.536Z"
   },
   {
    "duration": 28,
    "start_time": "2023-01-20T15:06:04.823Z"
   },
   {
    "duration": 87,
    "start_time": "2023-01-20T15:06:04.853Z"
   },
   {
    "duration": 600,
    "start_time": "2023-01-20T15:06:04.942Z"
   },
   {
    "duration": 19,
    "start_time": "2023-01-20T15:06:05.545Z"
   },
   {
    "duration": 69,
    "start_time": "2023-01-20T15:06:05.567Z"
   },
   {
    "duration": 58,
    "start_time": "2023-01-20T15:06:05.638Z"
   },
   {
    "duration": 204,
    "start_time": "2023-01-20T15:06:05.698Z"
   },
   {
    "duration": 54,
    "start_time": "2023-01-20T15:06:05.903Z"
   },
   {
    "duration": 10,
    "start_time": "2023-01-20T15:06:05.959Z"
   },
   {
    "duration": 67,
    "start_time": "2023-01-20T15:06:05.972Z"
   },
   {
    "duration": 257,
    "start_time": "2023-01-20T15:06:06.041Z"
   },
   {
    "duration": 16,
    "start_time": "2023-01-20T15:06:06.300Z"
   },
   {
    "duration": 155,
    "start_time": "2023-01-20T15:06:06.318Z"
   },
   {
    "duration": 5,
    "start_time": "2023-01-20T15:06:06.475Z"
   },
   {
    "duration": 970,
    "start_time": "2023-01-20T15:06:06.481Z"
   },
   {
    "duration": 18,
    "start_time": "2023-01-20T15:06:17.945Z"
   },
   {
    "duration": 222869,
    "start_time": "2023-01-20T15:09:15.072Z"
   },
   {
    "duration": 5,
    "start_time": "2023-01-20T15:12:57.943Z"
   },
   {
    "duration": 137,
    "start_time": "2023-01-20T15:13:42.867Z"
   },
   {
    "duration": 30,
    "start_time": "2023-01-20T15:14:01.638Z"
   },
   {
    "duration": 14,
    "start_time": "2023-01-20T15:14:41.797Z"
   },
   {
    "duration": 10,
    "start_time": "2023-01-20T15:14:58.491Z"
   },
   {
    "duration": 11,
    "start_time": "2023-01-20T15:15:04.450Z"
   },
   {
    "duration": 11,
    "start_time": "2023-01-20T15:15:15.105Z"
   },
   {
    "duration": 236,
    "start_time": "2023-01-20T15:16:21.215Z"
   },
   {
    "duration": 86,
    "start_time": "2023-01-20T15:18:01.428Z"
   },
   {
    "duration": 216,
    "start_time": "2023-01-20T15:18:05.990Z"
   },
   {
    "duration": 79,
    "start_time": "2023-01-20T15:18:19.309Z"
   },
   {
    "duration": 248,
    "start_time": "2023-01-20T15:18:20.481Z"
   },
   {
    "duration": 1381,
    "start_time": "2023-01-20T15:18:48.447Z"
   },
   {
    "duration": 1067,
    "start_time": "2023-01-20T15:18:49.830Z"
   },
   {
    "duration": 21,
    "start_time": "2023-01-20T15:18:50.899Z"
   },
   {
    "duration": 96,
    "start_time": "2023-01-20T15:18:50.921Z"
   },
   {
    "duration": 58,
    "start_time": "2023-01-20T15:18:51.019Z"
   },
   {
    "duration": 4,
    "start_time": "2023-01-20T15:18:51.079Z"
   },
   {
    "duration": 303,
    "start_time": "2023-01-20T15:18:51.085Z"
   },
   {
    "duration": 9,
    "start_time": "2023-01-20T15:18:51.390Z"
   },
   {
    "duration": 11,
    "start_time": "2023-01-20T15:18:51.400Z"
   },
   {
    "duration": 330,
    "start_time": "2023-01-20T15:18:51.413Z"
   },
   {
    "duration": 9,
    "start_time": "2023-01-20T15:18:51.746Z"
   },
   {
    "duration": 7,
    "start_time": "2023-01-20T15:18:51.757Z"
   },
   {
    "duration": 51,
    "start_time": "2023-01-20T15:18:51.766Z"
   },
   {
    "duration": 32,
    "start_time": "2023-01-20T15:18:51.836Z"
   },
   {
    "duration": 987,
    "start_time": "2023-01-20T15:18:51.870Z"
   },
   {
    "duration": 231,
    "start_time": "2023-01-20T15:18:52.859Z"
   },
   {
    "duration": 173,
    "start_time": "2023-01-20T15:18:53.092Z"
   },
   {
    "duration": 87,
    "start_time": "2023-01-20T15:18:53.267Z"
   },
   {
    "duration": 304,
    "start_time": "2023-01-20T15:18:53.356Z"
   },
   {
    "duration": 294,
    "start_time": "2023-01-20T15:18:53.662Z"
   },
   {
    "duration": 285,
    "start_time": "2023-01-20T15:18:53.958Z"
   },
   {
    "duration": 304,
    "start_time": "2023-01-20T15:18:54.245Z"
   },
   {
    "duration": 22,
    "start_time": "2023-01-20T15:18:54.551Z"
   },
   {
    "duration": 83,
    "start_time": "2023-01-20T15:18:54.576Z"
   },
   {
    "duration": 606,
    "start_time": "2023-01-20T15:18:54.661Z"
   },
   {
    "duration": 18,
    "start_time": "2023-01-20T15:18:55.270Z"
   },
   {
    "duration": 76,
    "start_time": "2023-01-20T15:18:55.290Z"
   },
   {
    "duration": 52,
    "start_time": "2023-01-20T15:18:55.368Z"
   },
   {
    "duration": 206,
    "start_time": "2023-01-20T15:18:55.422Z"
   },
   {
    "duration": 47,
    "start_time": "2023-01-20T15:18:55.630Z"
   },
   {
    "duration": 11,
    "start_time": "2023-01-20T15:18:55.678Z"
   },
   {
    "duration": 66,
    "start_time": "2023-01-20T15:18:55.691Z"
   },
   {
    "duration": 259,
    "start_time": "2023-01-20T15:18:55.759Z"
   },
   {
    "duration": 24,
    "start_time": "2023-01-20T15:18:56.019Z"
   },
   {
    "duration": 166,
    "start_time": "2023-01-20T15:18:56.045Z"
   },
   {
    "duration": 6,
    "start_time": "2023-01-20T15:18:56.213Z"
   },
   {
    "duration": 949,
    "start_time": "2023-01-20T15:18:56.221Z"
   },
   {
    "duration": 18,
    "start_time": "2023-01-20T15:18:57.172Z"
   },
   {
    "duration": 262766,
    "start_time": "2023-01-20T15:18:57.192Z"
   },
   {
    "duration": 4,
    "start_time": "2023-01-20T15:23:19.960Z"
   },
   {
    "duration": 273622,
    "start_time": "2023-01-20T15:23:19.968Z"
   },
   {
    "duration": 5,
    "start_time": "2023-01-20T15:27:53.592Z"
   },
   {
    "duration": 4,
    "start_time": "2023-01-20T15:28:20.078Z"
   },
   {
    "duration": 144,
    "start_time": "2023-01-20T15:29:25.190Z"
   },
   {
    "duration": 12,
    "start_time": "2023-01-20T15:29:26.896Z"
   },
   {
    "duration": 177,
    "start_time": "2023-01-20T15:34:28.799Z"
   },
   {
    "duration": 15,
    "start_time": "2023-01-20T15:34:35.061Z"
   },
   {
    "duration": 609,
    "start_time": "2023-01-20T15:37:41.290Z"
   },
   {
    "duration": 5,
    "start_time": "2023-01-20T15:38:21.270Z"
   },
   {
    "duration": 28805,
    "start_time": "2023-01-20T15:38:31.669Z"
   },
   {
    "duration": 0,
    "start_time": "2023-01-20T15:39:00.475Z"
   },
   {
    "duration": 11,
    "start_time": "2023-01-20T15:44:50.582Z"
   },
   {
    "duration": 1395,
    "start_time": "2023-01-20T15:48:05.530Z"
   },
   {
    "duration": 1090,
    "start_time": "2023-01-20T15:48:06.927Z"
   },
   {
    "duration": 25,
    "start_time": "2023-01-20T15:48:08.019Z"
   },
   {
    "duration": 93,
    "start_time": "2023-01-20T15:48:08.046Z"
   },
   {
    "duration": 54,
    "start_time": "2023-01-20T15:48:08.141Z"
   },
   {
    "duration": 5,
    "start_time": "2023-01-20T15:48:08.197Z"
   },
   {
    "duration": 366,
    "start_time": "2023-01-20T15:48:08.204Z"
   },
   {
    "duration": 10,
    "start_time": "2023-01-20T15:48:08.572Z"
   },
   {
    "duration": 18,
    "start_time": "2023-01-20T15:48:08.584Z"
   },
   {
    "duration": 357,
    "start_time": "2023-01-20T15:48:08.604Z"
   },
   {
    "duration": 9,
    "start_time": "2023-01-20T15:48:08.963Z"
   },
   {
    "duration": 33,
    "start_time": "2023-01-20T15:48:08.974Z"
   },
   {
    "duration": 61,
    "start_time": "2023-01-20T15:48:09.009Z"
   },
   {
    "duration": 32,
    "start_time": "2023-01-20T15:48:09.074Z"
   },
   {
    "duration": 1026,
    "start_time": "2023-01-20T15:48:09.108Z"
   },
   {
    "duration": 237,
    "start_time": "2023-01-20T15:48:10.135Z"
   },
   {
    "duration": 163,
    "start_time": "2023-01-20T15:48:10.374Z"
   },
   {
    "duration": 73,
    "start_time": "2023-01-20T15:48:10.539Z"
   },
   {
    "duration": 312,
    "start_time": "2023-01-20T15:48:10.615Z"
   },
   {
    "duration": 273,
    "start_time": "2023-01-20T15:48:10.929Z"
   },
   {
    "duration": 306,
    "start_time": "2023-01-20T15:48:11.204Z"
   },
   {
    "duration": 312,
    "start_time": "2023-01-20T15:48:11.512Z"
   },
   {
    "duration": 24,
    "start_time": "2023-01-20T15:48:11.825Z"
   },
   {
    "duration": 86,
    "start_time": "2023-01-20T15:48:11.851Z"
   },
   {
    "duration": 585,
    "start_time": "2023-01-20T15:48:11.939Z"
   },
   {
    "duration": 23,
    "start_time": "2023-01-20T15:48:12.526Z"
   },
   {
    "duration": 61,
    "start_time": "2023-01-20T15:48:12.550Z"
   },
   {
    "duration": 50,
    "start_time": "2023-01-20T15:48:12.613Z"
   },
   {
    "duration": 208,
    "start_time": "2023-01-20T15:48:12.665Z"
   },
   {
    "duration": 45,
    "start_time": "2023-01-20T15:48:12.874Z"
   },
   {
    "duration": 23,
    "start_time": "2023-01-20T15:48:12.921Z"
   },
   {
    "duration": 57,
    "start_time": "2023-01-20T15:48:12.945Z"
   },
   {
    "duration": 259,
    "start_time": "2023-01-20T15:48:13.004Z"
   },
   {
    "duration": 17,
    "start_time": "2023-01-20T15:48:13.265Z"
   },
   {
    "duration": 170,
    "start_time": "2023-01-20T15:48:13.284Z"
   },
   {
    "duration": 5,
    "start_time": "2023-01-20T15:48:13.456Z"
   },
   {
    "duration": 1040,
    "start_time": "2023-01-20T15:48:13.463Z"
   },
   {
    "duration": 16,
    "start_time": "2023-01-20T15:48:14.505Z"
   },
   {
    "duration": 184115,
    "start_time": "2023-01-20T15:48:14.522Z"
   },
   {
    "duration": 5,
    "start_time": "2023-01-20T15:51:18.638Z"
   },
   {
    "duration": 260555,
    "start_time": "2023-01-20T15:51:18.647Z"
   },
   {
    "duration": 5,
    "start_time": "2023-01-20T15:55:39.204Z"
   },
   {
    "duration": 169,
    "start_time": "2023-01-20T15:55:39.211Z"
   },
   {
    "duration": 15,
    "start_time": "2023-01-20T15:55:39.382Z"
   },
   {
    "duration": 195,
    "start_time": "2023-01-20T15:55:39.399Z"
   },
   {
    "duration": 13,
    "start_time": "2023-01-20T15:55:39.596Z"
   },
   {
    "duration": 7,
    "start_time": "2023-01-20T15:57:34.597Z"
   },
   {
    "duration": 135,
    "start_time": "2023-01-20T15:59:46.850Z"
   },
   {
    "duration": 304,
    "start_time": "2023-01-20T16:00:22.316Z"
   },
   {
    "duration": 7603,
    "start_time": "2023-01-20T16:00:34.759Z"
   },
   {
    "duration": 362,
    "start_time": "2023-01-20T16:01:08.971Z"
   },
   {
    "duration": 4,
    "start_time": "2023-01-20T16:01:11.684Z"
   },
   {
    "duration": 7,
    "start_time": "2023-01-20T16:02:00.366Z"
   },
   {
    "duration": 7219,
    "start_time": "2023-01-20T16:02:18.367Z"
   },
   {
    "duration": 7393,
    "start_time": "2023-01-20T16:05:25.810Z"
   },
   {
    "duration": 11,
    "start_time": "2023-01-20T16:05:42.042Z"
   },
   {
    "duration": 675,
    "start_time": "2023-01-20T16:09:57.987Z"
   },
   {
    "duration": 598,
    "start_time": "2023-01-20T16:10:02.402Z"
   },
   {
    "duration": 353,
    "start_time": "2023-01-20T16:10:06.540Z"
   },
   {
    "duration": 1420,
    "start_time": "2023-01-20T16:12:46.237Z"
   },
   {
    "duration": 4,
    "start_time": "2023-01-20T16:13:14.271Z"
   },
   {
    "duration": 37369,
    "start_time": "2023-01-20T16:14:04.591Z"
   },
   {
    "duration": 81,
    "start_time": "2023-01-20T16:14:41.963Z"
   },
   {
    "duration": 193,
    "start_time": "2023-01-20T16:23:11.155Z"
   },
   {
    "duration": 1270,
    "start_time": "2023-01-20T16:23:11.970Z"
   },
   {
    "duration": 4,
    "start_time": "2023-01-20T16:23:13.786Z"
   },
   {
    "duration": 1314,
    "start_time": "2023-01-20T16:24:43.493Z"
   },
   {
    "duration": 1024,
    "start_time": "2023-01-20T16:24:44.809Z"
   },
   {
    "duration": 20,
    "start_time": "2023-01-20T16:24:45.834Z"
   },
   {
    "duration": 100,
    "start_time": "2023-01-20T16:24:45.856Z"
   },
   {
    "duration": 54,
    "start_time": "2023-01-20T16:24:45.958Z"
   },
   {
    "duration": 4,
    "start_time": "2023-01-20T16:24:46.014Z"
   },
   {
    "duration": 312,
    "start_time": "2023-01-20T16:24:46.020Z"
   },
   {
    "duration": 8,
    "start_time": "2023-01-20T16:24:46.335Z"
   },
   {
    "duration": 35,
    "start_time": "2023-01-20T16:24:46.345Z"
   },
   {
    "duration": 316,
    "start_time": "2023-01-20T16:24:46.383Z"
   },
   {
    "duration": 8,
    "start_time": "2023-01-20T16:24:46.701Z"
   },
   {
    "duration": 3,
    "start_time": "2023-01-20T16:24:46.710Z"
   },
   {
    "duration": 62,
    "start_time": "2023-01-20T16:24:46.715Z"
   },
   {
    "duration": 33,
    "start_time": "2023-01-20T16:24:46.779Z"
   },
   {
    "duration": 978,
    "start_time": "2023-01-20T16:24:46.813Z"
   },
   {
    "duration": 232,
    "start_time": "2023-01-20T16:24:47.793Z"
   },
   {
    "duration": 160,
    "start_time": "2023-01-20T16:24:48.027Z"
   },
   {
    "duration": 84,
    "start_time": "2023-01-20T16:24:48.189Z"
   },
   {
    "duration": 358,
    "start_time": "2023-01-20T16:24:48.276Z"
   },
   {
    "duration": 256,
    "start_time": "2023-01-20T16:24:48.636Z"
   },
   {
    "duration": 274,
    "start_time": "2023-01-20T16:24:48.894Z"
   },
   {
    "duration": 305,
    "start_time": "2023-01-20T16:24:49.170Z"
   },
   {
    "duration": 20,
    "start_time": "2023-01-20T16:24:49.476Z"
   },
   {
    "duration": 81,
    "start_time": "2023-01-20T16:24:49.498Z"
   },
   {
    "duration": 572,
    "start_time": "2023-01-20T16:24:49.581Z"
   },
   {
    "duration": 17,
    "start_time": "2023-01-20T16:24:50.155Z"
   },
   {
    "duration": 62,
    "start_time": "2023-01-20T16:24:50.174Z"
   },
   {
    "duration": 47,
    "start_time": "2023-01-20T16:24:50.240Z"
   },
   {
    "duration": 198,
    "start_time": "2023-01-20T16:24:50.289Z"
   },
   {
    "duration": 54,
    "start_time": "2023-01-20T16:24:50.489Z"
   },
   {
    "duration": 11,
    "start_time": "2023-01-20T16:24:50.545Z"
   },
   {
    "duration": 53,
    "start_time": "2023-01-20T16:24:50.558Z"
   },
   {
    "duration": 256,
    "start_time": "2023-01-20T16:24:50.613Z"
   },
   {
    "duration": 16,
    "start_time": "2023-01-20T16:24:50.871Z"
   },
   {
    "duration": 160,
    "start_time": "2023-01-20T16:24:50.889Z"
   },
   {
    "duration": 5,
    "start_time": "2023-01-20T16:24:51.051Z"
   },
   {
    "duration": 943,
    "start_time": "2023-01-20T16:24:51.058Z"
   },
   {
    "duration": 15,
    "start_time": "2023-01-20T16:24:52.003Z"
   },
   {
    "duration": 162217,
    "start_time": "2023-01-20T16:24:52.019Z"
   },
   {
    "duration": 5,
    "start_time": "2023-01-20T16:27:34.238Z"
   },
   {
    "duration": 257141,
    "start_time": "2023-01-20T16:27:34.245Z"
   },
   {
    "duration": 5,
    "start_time": "2023-01-20T16:31:51.388Z"
   },
   {
    "duration": 166,
    "start_time": "2023-01-20T16:31:51.394Z"
   },
   {
    "duration": 12,
    "start_time": "2023-01-20T16:31:51.562Z"
   },
   {
    "duration": 188,
    "start_time": "2023-01-20T16:31:51.576Z"
   },
   {
    "duration": 13,
    "start_time": "2023-01-20T16:31:51.766Z"
   },
   {
    "duration": 1462,
    "start_time": "2023-01-20T16:31:51.781Z"
   },
   {
    "duration": 4,
    "start_time": "2023-01-20T16:31:53.244Z"
   },
   {
    "duration": 19190,
    "start_time": "2023-01-20T16:31:53.249Z"
   },
   {
    "duration": 4,
    "start_time": "2023-01-20T16:32:12.441Z"
   },
   {
    "duration": 271,
    "start_time": "2023-01-20T16:32:12.447Z"
   },
   {
    "duration": 1330,
    "start_time": "2023-01-20T16:32:12.719Z"
   },
   {
    "duration": 4,
    "start_time": "2023-01-20T16:32:14.050Z"
   },
   {
    "duration": 7,
    "start_time": "2023-01-20T16:32:14.056Z"
   },
   {
    "duration": 4,
    "start_time": "2023-01-20T16:32:14.064Z"
   },
   {
    "duration": 48,
    "start_time": "2023-01-20T17:13:42.168Z"
   },
   {
    "duration": 4,
    "start_time": "2023-01-20T17:13:49.980Z"
   },
   {
    "duration": 9,
    "start_time": "2023-01-20T17:13:57.269Z"
   },
   {
    "duration": 5,
    "start_time": "2023-01-20T17:14:21.070Z"
   },
   {
    "duration": 8,
    "start_time": "2023-01-20T17:14:22.964Z"
   },
   {
    "duration": 5,
    "start_time": "2023-01-20T17:15:21.995Z"
   },
   {
    "duration": 9,
    "start_time": "2023-01-20T17:15:22.785Z"
   },
   {
    "duration": 6,
    "start_time": "2023-01-20T17:15:37.343Z"
   },
   {
    "duration": 7,
    "start_time": "2023-01-20T17:15:37.873Z"
   },
   {
    "duration": 1403,
    "start_time": "2023-01-20T17:16:55.208Z"
   },
   {
    "duration": 1022,
    "start_time": "2023-01-20T17:16:56.613Z"
   },
   {
    "duration": 18,
    "start_time": "2023-01-20T17:16:57.637Z"
   },
   {
    "duration": 91,
    "start_time": "2023-01-20T17:16:57.658Z"
   },
   {
    "duration": 50,
    "start_time": "2023-01-20T17:16:57.751Z"
   },
   {
    "duration": 5,
    "start_time": "2023-01-20T17:16:57.802Z"
   },
   {
    "duration": 283,
    "start_time": "2023-01-20T17:16:57.808Z"
   },
   {
    "duration": 7,
    "start_time": "2023-01-20T17:16:58.093Z"
   },
   {
    "duration": 5,
    "start_time": "2023-01-20T17:16:58.101Z"
   },
   {
    "duration": 360,
    "start_time": "2023-01-20T17:16:58.108Z"
   },
   {
    "duration": 8,
    "start_time": "2023-01-20T17:16:58.470Z"
   },
   {
    "duration": 9,
    "start_time": "2023-01-20T17:16:58.479Z"
   },
   {
    "duration": 57,
    "start_time": "2023-01-20T17:16:58.489Z"
   },
   {
    "duration": 30,
    "start_time": "2023-01-20T17:16:58.547Z"
   },
   {
    "duration": 954,
    "start_time": "2023-01-20T17:16:58.579Z"
   },
   {
    "duration": 218,
    "start_time": "2023-01-20T17:16:59.535Z"
   },
   {
    "duration": 176,
    "start_time": "2023-01-20T17:16:59.755Z"
   },
   {
    "duration": 70,
    "start_time": "2023-01-20T17:16:59.936Z"
   },
   {
    "duration": 293,
    "start_time": "2023-01-20T17:17:00.007Z"
   },
   {
    "duration": 265,
    "start_time": "2023-01-20T17:17:00.302Z"
   },
   {
    "duration": 317,
    "start_time": "2023-01-20T17:17:00.569Z"
   },
   {
    "duration": 309,
    "start_time": "2023-01-20T17:17:00.888Z"
   },
   {
    "duration": 37,
    "start_time": "2023-01-20T17:17:01.199Z"
   },
   {
    "duration": 77,
    "start_time": "2023-01-20T17:17:01.238Z"
   },
   {
    "duration": 600,
    "start_time": "2023-01-20T17:17:01.317Z"
   },
   {
    "duration": 29,
    "start_time": "2023-01-20T17:17:01.919Z"
   },
   {
    "duration": 70,
    "start_time": "2023-01-20T17:17:01.950Z"
   },
   {
    "duration": 50,
    "start_time": "2023-01-20T17:17:02.024Z"
   },
   {
    "duration": 205,
    "start_time": "2023-01-20T17:17:02.076Z"
   },
   {
    "duration": 44,
    "start_time": "2023-01-20T17:17:02.282Z"
   },
   {
    "duration": 11,
    "start_time": "2023-01-20T17:17:02.336Z"
   },
   {
    "duration": 78,
    "start_time": "2023-01-20T17:17:02.349Z"
   },
   {
    "duration": 273,
    "start_time": "2023-01-20T17:17:02.428Z"
   },
   {
    "duration": 16,
    "start_time": "2023-01-20T17:17:02.703Z"
   },
   {
    "duration": 172,
    "start_time": "2023-01-20T17:17:02.721Z"
   },
   {
    "duration": 7,
    "start_time": "2023-01-20T17:17:02.895Z"
   },
   {
    "duration": 884,
    "start_time": "2023-01-20T17:17:02.904Z"
   },
   {
    "duration": 13,
    "start_time": "2023-01-20T17:17:03.790Z"
   },
   {
    "duration": 156548,
    "start_time": "2023-01-20T17:17:03.805Z"
   },
   {
    "duration": 84,
    "start_time": "2023-01-20T17:19:40.355Z"
   },
   {
    "duration": 261219,
    "start_time": "2023-01-20T17:19:40.441Z"
   },
   {
    "duration": 4,
    "start_time": "2023-01-20T17:24:01.662Z"
   },
   {
    "duration": 140,
    "start_time": "2023-01-20T17:24:01.668Z"
   },
   {
    "duration": 13,
    "start_time": "2023-01-20T17:24:01.810Z"
   },
   {
    "duration": 192,
    "start_time": "2023-01-20T17:24:01.825Z"
   },
   {
    "duration": 17,
    "start_time": "2023-01-20T17:24:02.019Z"
   },
   {
    "duration": 1154,
    "start_time": "2023-01-20T17:24:02.038Z"
   },
   {
    "duration": 4,
    "start_time": "2023-01-20T17:24:03.194Z"
   },
   {
    "duration": 20238,
    "start_time": "2023-01-20T17:24:03.199Z"
   },
   {
    "duration": 97,
    "start_time": "2023-01-20T17:24:23.439Z"
   },
   {
    "duration": 5,
    "start_time": "2023-01-20T17:24:23.538Z"
   },
   {
    "duration": 16,
    "start_time": "2023-01-20T17:24:23.545Z"
   },
   {
    "duration": 157,
    "start_time": "2023-01-20T17:24:23.563Z"
   },
   {
    "duration": 1333,
    "start_time": "2023-01-20T17:24:23.722Z"
   },
   {
    "duration": 3,
    "start_time": "2023-01-20T17:24:25.057Z"
   },
   {
    "duration": 9,
    "start_time": "2023-01-20T17:24:25.062Z"
   },
   {
    "duration": 6,
    "start_time": "2023-01-20T17:24:25.073Z"
   },
   {
    "duration": 13,
    "start_time": "2023-01-20T17:40:22.949Z"
   },
   {
    "duration": 12,
    "start_time": "2023-01-20T17:40:29.900Z"
   }
  ],
  "kernelspec": {
   "display_name": "Python 3 (ipykernel)",
   "language": "python",
   "name": "python3"
  },
  "language_info": {
   "codemirror_mode": {
    "name": "ipython",
    "version": 3
   },
   "file_extension": ".py",
   "mimetype": "text/x-python",
   "name": "python",
   "nbconvert_exporter": "python",
   "pygments_lexer": "ipython3",
   "version": "3.9.13"
  },
  "toc": {
   "base_numbering": 1,
   "nav_menu": {},
   "number_sections": true,
   "sideBar": true,
   "skip_h1_title": true,
   "title_cell": "Table of Contents",
   "title_sidebar": "Contents",
   "toc_cell": false,
   "toc_position": {
    "height": "calc(100% - 180px)",
    "left": "10px",
    "top": "150px",
    "width": "538px"
   },
   "toc_section_display": true,
   "toc_window_display": false
  }
 },
 "nbformat": 4,
 "nbformat_minor": 2
}
